{
 "cells": [
  {
   "cell_type": "markdown",
   "metadata": {
    "application/vnd.databricks.v1+cell": {
     "cellMetadata": {},
     "inputWidgets": {},
     "nuid": "5cf6fecd-ad8a-4a6d-962d-3f407048b18b",
     "showTitle": false,
     "title": ""
    }
   },
   "source": [
    "\n",
    "# 🥉 Bronze\n",
    "\n",
    "**Camada inicial, dados _as is_**\n",
    "\n",
    "Muito importante que dados nessa camada reflitam o banco ou fonte dos dados\n",
    "\n",
    "aqui podemos ter duplicidade em versões de dados que devem ser tratados nas camadas posteriores.\n",
    "Costumo chamar essa camada de \"lake\""
   ]
  },
  {
   "cell_type": "code",
   "execution_count": 0,
   "metadata": {
    "application/vnd.databricks.v1+cell": {
     "cellMetadata": {
      "byteLimit": 2048000,
      "rowLimit": 10000
     },
     "inputWidgets": {},
     "nuid": "ff4d21bc-5299-4c45-b7f4-322c7e238928",
     "showTitle": false,
     "title": ""
    }
   },
   "outputs": [],
   "source": [
    "spark.sql(\"\"\"\n",
    "CREATE DATABASE IF NOT EXISTS\n",
    "    bronze\n",
    "COMMENT \"bronze layer\"\n",
    "          \"\"\")"
   ]
  },
  {
   "cell_type": "markdown",
   "metadata": {
    "application/vnd.databricks.v1+cell": {
     "cellMetadata": {},
     "inputWidgets": {},
     "nuid": "fbf69890-dc65-4d3e-b64f-ac0bb36a12e3",
     "showTitle": false,
     "title": ""
    }
   },
   "source": [
    "\n",
    "# 🥈 Silver\n",
    "\n",
    "**camada de limpeza, normalização e enriquecimento de dados.**\n",
    "\n",
    "e.g., \n",
    " - uppercase\n",
    " - data textual para tipo date\n",
    " - dias em atraso (diferença entre data atual e data de envimento)\n",
    "\n",
    "p.s. embora tenha visto várias implementações distintas em projetos que atuei, prefiro desconsiderar as regras de negócio nessa camada (deixamos para aplicar na camada gold)\n"
   ]
  },
  {
   "cell_type": "code",
   "execution_count": 0,
   "metadata": {
    "application/vnd.databricks.v1+cell": {
     "cellMetadata": {
      "byteLimit": 2048000,
      "rowLimit": 10000
     },
     "inputWidgets": {},
     "nuid": "98874320-16c4-40ed-aa25-b7bd91d63199",
     "showTitle": false,
     "title": ""
    }
   },
   "outputs": [],
   "source": [
    "spark.sql(\"\"\"\n",
    "CREATE DATABASE IF NOT EXISTS\n",
    "    silver\n",
    "COMMENT \"silver layer\"\n",
    "          \"\"\")"
   ]
  },
  {
   "cell_type": "markdown",
   "metadata": {
    "application/vnd.databricks.v1+cell": {
     "cellMetadata": {},
     "inputWidgets": {},
     "nuid": "9905c022-d1cf-431f-b29a-a53f28e94826",
     "showTitle": false,
     "title": ""
    }
   },
   "source": [
    "\n",
    "# 🥇 Gold\n",
    "\n",
    "**camada para aplicação de regras de negócio**\n",
    "\n",
    "e.g.,\n",
    " - junção/união de tabelas\n",
    " - filtro de dados"
   ]
  },
  {
   "cell_type": "code",
   "execution_count": 0,
   "metadata": {
    "application/vnd.databricks.v1+cell": {
     "cellMetadata": {
      "byteLimit": 2048000,
      "rowLimit": 10000
     },
     "inputWidgets": {},
     "nuid": "841cc79b-fa57-43e2-917c-13c35e126e75",
     "showTitle": false,
     "title": ""
    }
   },
   "outputs": [],
   "source": [
    "spark.sql(\"\"\"\n",
    "CREATE DATABASE IF NOT EXISTS\n",
    "    gold\n",
    "COMMENT \"gold layer\"\n",
    "          \"\"\")"
   ]
  }
 ],
 "metadata": {
  "application/vnd.databricks.v1+notebook": {
   "dashboards": [],
   "language": "python",
   "notebookMetadata": {
    "pythonIndentUnit": 4
   },
   "notebookName": "_create_database",
   "widgets": {}
  }
 },
 "nbformat": 4,
 "nbformat_minor": 0
}
