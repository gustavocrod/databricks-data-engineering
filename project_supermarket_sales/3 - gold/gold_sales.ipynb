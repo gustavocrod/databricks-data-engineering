{
 "cells": [
  {
   "cell_type": "code",
   "execution_count": 0,
   "metadata": {
    "application/vnd.databricks.v1+cell": {
     "cellMetadata": {
      "byteLimit": 2048000,
      "rowLimit": 10000
     },
     "inputWidgets": {},
     "nuid": "6cb65a23-02af-44ed-a9d8-8d68e4f41ab4",
     "showTitle": false,
     "title": ""
    }
   },
   "outputs": [
    {
     "output_type": "stream",
     "name": "stdout",
     "output_type": "stream",
     "text": [
      "\u001B[43mNote: you may need to restart the kernel using dbutils.library.restartPython() to use updated packages.\u001B[0m\nRequirement already satisfied: unidecode in /local_disk0/.ephemeral_nfs/envs/pythonEnv-0ff98fd9-3086-4784-b331-359e039c3222/lib/python3.10/site-packages (1.3.8)\n\u001B[43mNote: you may need to restart the kernel using dbutils.library.restartPython() to use updated packages.\u001B[0m\n"
     ]
    }
   ],
   "source": [
    "%run ../../_utils"
   ]
  },
  {
   "cell_type": "code",
   "execution_count": 0,
   "metadata": {
    "application/vnd.databricks.v1+cell": {
     "cellMetadata": {
      "byteLimit": 2048000,
      "rowLimit": 10000
     },
     "inputWidgets": {},
     "nuid": "8bbd51d8-7c94-4d34-8e7c-08f05c97b156",
     "showTitle": false,
     "title": ""
    }
   },
   "outputs": [],
   "source": [
    "from pyspark.sql.functions import count, sum, when"
   ]
  },
  {
   "cell_type": "markdown",
   "metadata": {
    "application/vnd.databricks.v1+cell": {
     "cellMetadata": {
      "byteLimit": 2048000,
      "rowLimit": 10000
     },
     "inputWidgets": {},
     "nuid": "7f0d66cf-5129-457c-bcee-eb885ca00052",
     "showTitle": false,
     "title": ""
    }
   },
   "source": [
    "# Camada GOLD\n",
    "\n",
    "Na camada gold, as limpezas e ajustes já foram feitos, então essa camada é responsável por aplicar regras de negócio, agregações e junções de dados que convirjam para analises.\n",
    "\n",
    "Essa é uma tabela fact que permitirá outras agregações"
   ]
  },
  {
   "cell_type": "code",
   "execution_count": 0,
   "metadata": {
    "application/vnd.databricks.v1+cell": {
     "cellMetadata": {
      "byteLimit": 2048000,
      "rowLimit": 10000
     },
     "inputWidgets": {},
     "nuid": "c3f2d59e-9295-4a87-ab95-a2074c20b0ac",
     "showTitle": false,
     "title": ""
    }
   },
   "outputs": [],
   "source": [
    "tb_name = \"gold.supermarket_sales\"\n",
    "target_location = \"dbfs:/FileStore/delta/gold/supermarket_sales\""
   ]
  },
  {
   "cell_type": "markdown",
   "metadata": {
    "application/vnd.databricks.v1+cell": {
     "cellMetadata": {
      "byteLimit": 2048000,
      "rowLimit": 10000
     },
     "inputWidgets": {},
     "nuid": "d13263e2-706a-4791-a404-edf605d54727",
     "showTitle": false,
     "title": ""
    }
   },
   "source": [
    "## 1 - Data ingestion\n"
   ]
  },
  {
   "cell_type": "code",
   "execution_count": 0,
   "metadata": {
    "application/vnd.databricks.v1+cell": {
     "cellMetadata": {
      "byteLimit": 2048000,
      "rowLimit": 10000
     },
     "inputWidgets": {},
     "nuid": "1e04ccf8-59ff-4dc3-a2df-de93177815d0",
     "showTitle": false,
     "title": ""
    }
   },
   "outputs": [],
   "source": [
    "df = spark.sql(\"select * from silver.supermarket_sales\") # outra maneira de ler\n",
    "# df = spark.read.table(\"silver.supermarket_sales\")"
   ]
  },
  {
   "cell_type": "markdown",
   "metadata": {
    "application/vnd.databricks.v1+cell": {
     "cellMetadata": {
      "byteLimit": 2048000,
      "rowLimit": 10000
     },
     "inputWidgets": {},
     "nuid": "c7ff56d3-2e18-4a99-be64-7b85734b8898",
     "showTitle": false,
     "title": ""
    }
   },
   "source": [
    "\n",
    "## 2 - preparation"
   ]
  },
  {
   "cell_type": "code",
   "execution_count": 0,
   "metadata": {
    "application/vnd.databricks.v1+cell": {
     "cellMetadata": {
      "byteLimit": 2048000,
      "rowLimit": 10000
     },
     "inputWidgets": {},
     "nuid": "7b862a76-aa5b-42d6-9a09-7d21581a06fb",
     "showTitle": false,
     "title": ""
    }
   },
   "outputs": [
    {
     "output_type": "display_data",
     "data": {
      "text/html": [
       "<style scoped>\n",
       "  .table-result-container {\n",
       "    max-height: 300px;\n",
       "    overflow: auto;\n",
       "  }\n",
       "  table, th, td {\n",
       "    border: 1px solid black;\n",
       "    border-collapse: collapse;\n",
       "  }\n",
       "  th, td {\n",
       "    padding: 5px;\n",
       "  }\n",
       "  th {\n",
       "    text-align: left;\n",
       "  }\n",
       "</style><div class='table-result-container'><table class='table-result'><thead style='background-color: white'><tr><th>invoice_id</th><th>branch</th><th>city</th><th>customer_type</th><th>gender</th><th>product_line</th><th>unit_price</th><th>quantity</th><th>tax_5</th><th>total</th><th>date</th><th>payment</th><th>cogs</th><th>gross_margin_percentage</th><th>gross_income</th><th>rating</th><th>sale_time</th><th>month_year</th><th>sale_month</th><th>sale_year</th><th>total_tax_unity</th><th>number_day_of_week</th><th>day_of_week</th><th>weekend</th></tr></thead><tbody><tr><td>750-67-8428</td><td>A</td><td>Yangon</td><td>Member</td><td>Female</td><td>Health and beauty</td><td>74.69</td><td>7</td><td>26.1415</td><td>548.9715</td><td>2019-01-05</td><td>Ewallet</td><td>522.83</td><td>4.761904762</td><td>26.1415</td><td>9.1</td><td>2019-01-05T13:08:00Z</td><td>01-2019</td><td>1</td><td>2019</td><td>3.7345</td><td>7</td><td>Sábado</td><td>true</td></tr><tr><td>226-31-3081</td><td>C</td><td>Naypyitaw</td><td>Normal</td><td>Female</td><td>Electronic accessories</td><td>15.28</td><td>5</td><td>3.82</td><td>80.22</td><td>2019-03-08</td><td>Cash</td><td>76.4</td><td>4.761904762</td><td>3.82</td><td>9.6</td><td>2019-03-08T10:29:00Z</td><td>03-2019</td><td>3</td><td>2019</td><td>0.764</td><td>6</td><td>Sexta-feira</td><td>false</td></tr><tr><td>631-41-3108</td><td>A</td><td>Yangon</td><td>Normal</td><td>Male</td><td>Home and lifestyle</td><td>46.33</td><td>7</td><td>16.2155</td><td>340.5255</td><td>2019-03-03</td><td>Credit card</td><td>324.31</td><td>4.761904762</td><td>16.2155</td><td>7.4</td><td>2019-03-03T13:23:00Z</td><td>03-2019</td><td>3</td><td>2019</td><td>2.3165</td><td>1</td><td>Domingo</td><td>true</td></tr><tr><td>123-19-1176</td><td>A</td><td>Yangon</td><td>Member</td><td>Male</td><td>Health and beauty</td><td>58.22</td><td>8</td><td>23.288</td><td>489.048</td><td>2019-01-27</td><td>Ewallet</td><td>465.76</td><td>4.761904762</td><td>23.288</td><td>8.4</td><td>2019-01-27T20:33:00Z</td><td>01-2019</td><td>1</td><td>2019</td><td>2.911</td><td>1</td><td>Domingo</td><td>true</td></tr><tr><td>373-73-7910</td><td>A</td><td>Yangon</td><td>Normal</td><td>Male</td><td>Sports and travel</td><td>86.31</td><td>7</td><td>30.2085</td><td>634.3785</td><td>2019-02-08</td><td>Ewallet</td><td>604.17</td><td>4.761904762</td><td>30.2085</td><td>5.3</td><td>2019-02-08T10:37:00Z</td><td>02-2019</td><td>2</td><td>2019</td><td>4.3155</td><td>6</td><td>Sexta-feira</td><td>false</td></tr><tr><td>699-14-3026</td><td>C</td><td>Naypyitaw</td><td>Normal</td><td>Male</td><td>Electronic accessories</td><td>85.39</td><td>7</td><td>29.8865</td><td>627.6165</td><td>2019-03-25</td><td>Ewallet</td><td>597.73</td><td>4.761904762</td><td>29.8865</td><td>4.1</td><td>2019-03-25T18:30:00Z</td><td>03-2019</td><td>3</td><td>2019</td><td>4.2695</td><td>2</td><td>Segunda-feira</td><td>false</td></tr><tr><td>355-53-5943</td><td>A</td><td>Yangon</td><td>Member</td><td>Female</td><td>Electronic accessories</td><td>68.84</td><td>6</td><td>20.652</td><td>433.692</td><td>2019-02-25</td><td>Ewallet</td><td>413.04</td><td>4.761904762</td><td>20.652</td><td>5.8</td><td>2019-02-25T14:36:00Z</td><td>02-2019</td><td>2</td><td>2019</td><td>3.442</td><td>2</td><td>Segunda-feira</td><td>false</td></tr><tr><td>315-22-5665</td><td>C</td><td>Naypyitaw</td><td>Normal</td><td>Female</td><td>Home and lifestyle</td><td>73.56</td><td>10</td><td>36.78</td><td>772.38</td><td>2019-02-24</td><td>Ewallet</td><td>735.6</td><td>4.761904762</td><td>36.78</td><td>8.0</td><td>2019-02-24T11:38:00Z</td><td>02-2019</td><td>2</td><td>2019</td><td>3.678</td><td>1</td><td>Domingo</td><td>true</td></tr><tr><td>665-32-9167</td><td>A</td><td>Yangon</td><td>Member</td><td>Female</td><td>Health and beauty</td><td>36.26</td><td>2</td><td>3.626</td><td>76.146</td><td>2019-01-10</td><td>Credit card</td><td>72.52</td><td>4.761904762</td><td>3.626</td><td>7.2</td><td>2019-01-10T17:15:00Z</td><td>01-2019</td><td>1</td><td>2019</td><td>1.813</td><td>5</td><td>Quinta-feira</td><td>false</td></tr><tr><td>692-92-5582</td><td>B</td><td>Mandalay</td><td>Member</td><td>Female</td><td>Food and beverages</td><td>54.84</td><td>3</td><td>8.226</td><td>172.746</td><td>2019-02-20</td><td>Credit card</td><td>164.52</td><td>4.761904762</td><td>8.226</td><td>5.9</td><td>2019-02-20T13:27:00Z</td><td>02-2019</td><td>2</td><td>2019</td><td>2.7420000000000004</td><td>4</td><td>Quarta-feira</td><td>false</td></tr></tbody></table></div>"
      ]
     },
     "metadata": {
      "application/vnd.databricks.v1+output": {
       "addedWidgets": {},
       "aggData": [],
       "aggError": "",
       "aggOverflow": false,
       "aggSchema": [],
       "aggSeriesLimitReached": false,
       "aggType": "",
       "arguments": {},
       "columnCustomDisplayInfos": {},
       "data": [
        [
         "750-67-8428",
         "A",
         "Yangon",
         "Member",
         "Female",
         "Health and beauty",
         74.69,
         7,
         26.1415,
         548.9715,
         "2019-01-05",
         "Ewallet",
         522.83,
         4.761904762,
         26.1415,
         9.1,
         "2019-01-05T13:08:00Z",
         "01-2019",
         1,
         2019,
         3.7345,
         7,
         "Sábado",
         true
        ],
        [
         "226-31-3081",
         "C",
         "Naypyitaw",
         "Normal",
         "Female",
         "Electronic accessories",
         15.28,
         5,
         3.82,
         80.22,
         "2019-03-08",
         "Cash",
         76.4,
         4.761904762,
         3.82,
         9.6,
         "2019-03-08T10:29:00Z",
         "03-2019",
         3,
         2019,
         0.764,
         6,
         "Sexta-feira",
         false
        ],
        [
         "631-41-3108",
         "A",
         "Yangon",
         "Normal",
         "Male",
         "Home and lifestyle",
         46.33,
         7,
         16.2155,
         340.5255,
         "2019-03-03",
         "Credit card",
         324.31,
         4.761904762,
         16.2155,
         7.4,
         "2019-03-03T13:23:00Z",
         "03-2019",
         3,
         2019,
         2.3165,
         1,
         "Domingo",
         true
        ],
        [
         "123-19-1176",
         "A",
         "Yangon",
         "Member",
         "Male",
         "Health and beauty",
         58.22,
         8,
         23.288,
         489.048,
         "2019-01-27",
         "Ewallet",
         465.76,
         4.761904762,
         23.288,
         8.4,
         "2019-01-27T20:33:00Z",
         "01-2019",
         1,
         2019,
         2.911,
         1,
         "Domingo",
         true
        ],
        [
         "373-73-7910",
         "A",
         "Yangon",
         "Normal",
         "Male",
         "Sports and travel",
         86.31,
         7,
         30.2085,
         634.3785,
         "2019-02-08",
         "Ewallet",
         604.17,
         4.761904762,
         30.2085,
         5.3,
         "2019-02-08T10:37:00Z",
         "02-2019",
         2,
         2019,
         4.3155,
         6,
         "Sexta-feira",
         false
        ],
        [
         "699-14-3026",
         "C",
         "Naypyitaw",
         "Normal",
         "Male",
         "Electronic accessories",
         85.39,
         7,
         29.8865,
         627.6165,
         "2019-03-25",
         "Ewallet",
         597.73,
         4.761904762,
         29.8865,
         4.1,
         "2019-03-25T18:30:00Z",
         "03-2019",
         3,
         2019,
         4.2695,
         2,
         "Segunda-feira",
         false
        ],
        [
         "355-53-5943",
         "A",
         "Yangon",
         "Member",
         "Female",
         "Electronic accessories",
         68.84,
         6,
         20.652,
         433.692,
         "2019-02-25",
         "Ewallet",
         413.04,
         4.761904762,
         20.652,
         5.8,
         "2019-02-25T14:36:00Z",
         "02-2019",
         2,
         2019,
         3.442,
         2,
         "Segunda-feira",
         false
        ],
        [
         "315-22-5665",
         "C",
         "Naypyitaw",
         "Normal",
         "Female",
         "Home and lifestyle",
         73.56,
         10,
         36.78,
         772.38,
         "2019-02-24",
         "Ewallet",
         735.6,
         4.761904762,
         36.78,
         8.0,
         "2019-02-24T11:38:00Z",
         "02-2019",
         2,
         2019,
         3.678,
         1,
         "Domingo",
         true
        ],
        [
         "665-32-9167",
         "A",
         "Yangon",
         "Member",
         "Female",
         "Health and beauty",
         36.26,
         2,
         3.626,
         76.146,
         "2019-01-10",
         "Credit card",
         72.52,
         4.761904762,
         3.626,
         7.2,
         "2019-01-10T17:15:00Z",
         "01-2019",
         1,
         2019,
         1.813,
         5,
         "Quinta-feira",
         false
        ],
        [
         "692-92-5582",
         "B",
         "Mandalay",
         "Member",
         "Female",
         "Food and beverages",
         54.84,
         3,
         8.226,
         172.746,
         "2019-02-20",
         "Credit card",
         164.52,
         4.761904762,
         8.226,
         5.9,
         "2019-02-20T13:27:00Z",
         "02-2019",
         2,
         2019,
         2.7420000000000004,
         4,
         "Quarta-feira",
         false
        ]
       ],
       "datasetInfos": [],
       "dbfsResultPath": null,
       "isJsonSchema": true,
       "metadata": {},
       "overflow": false,
       "plotOptions": {
        "customPlotOptions": {},
        "displayType": "table",
        "pivotAggregation": null,
        "pivotColumns": null,
        "xColumns": null,
        "yColumns": null
       },
       "removedWidgets": [],
       "schema": [
        {
         "metadata": "{}",
         "name": "invoice_id",
         "type": "\"string\""
        },
        {
         "metadata": "{}",
         "name": "branch",
         "type": "\"string\""
        },
        {
         "metadata": "{}",
         "name": "city",
         "type": "\"string\""
        },
        {
         "metadata": "{}",
         "name": "customer_type",
         "type": "\"string\""
        },
        {
         "metadata": "{}",
         "name": "gender",
         "type": "\"string\""
        },
        {
         "metadata": "{}",
         "name": "product_line",
         "type": "\"string\""
        },
        {
         "metadata": "{}",
         "name": "unit_price",
         "type": "\"double\""
        },
        {
         "metadata": "{}",
         "name": "quantity",
         "type": "\"long\""
        },
        {
         "metadata": "{}",
         "name": "tax_5",
         "type": "\"double\""
        },
        {
         "metadata": "{}",
         "name": "total",
         "type": "\"double\""
        },
        {
         "metadata": "{}",
         "name": "date",
         "type": "\"date\""
        },
        {
         "metadata": "{}",
         "name": "payment",
         "type": "\"string\""
        },
        {
         "metadata": "{}",
         "name": "cogs",
         "type": "\"double\""
        },
        {
         "metadata": "{}",
         "name": "gross_margin_percentage",
         "type": "\"double\""
        },
        {
         "metadata": "{}",
         "name": "gross_income",
         "type": "\"double\""
        },
        {
         "metadata": "{}",
         "name": "rating",
         "type": "\"double\""
        },
        {
         "metadata": "{}",
         "name": "sale_time",
         "type": "\"timestamp\""
        },
        {
         "metadata": "{}",
         "name": "month_year",
         "type": "\"string\""
        },
        {
         "metadata": "{}",
         "name": "sale_month",
         "type": "\"long\""
        },
        {
         "metadata": "{}",
         "name": "sale_year",
         "type": "\"long\""
        },
        {
         "metadata": "{}",
         "name": "total_tax_unity",
         "type": "\"double\""
        },
        {
         "metadata": "{}",
         "name": "number_day_of_week",
         "type": "\"long\""
        },
        {
         "metadata": "{}",
         "name": "day_of_week",
         "type": "\"string\""
        },
        {
         "metadata": "{}",
         "name": "weekend",
         "type": "\"boolean\""
        }
       ],
       "type": "table"
      }
     },
     "output_type": "display_data"
    }
   ],
   "source": [
    "display(df.take(10))"
   ]
  },
  {
   "cell_type": "markdown",
   "metadata": {
    "application/vnd.databricks.v1+cell": {
     "cellMetadata": {
      "byteLimit": 2048000,
      "rowLimit": 10000
     },
     "inputWidgets": {},
     "nuid": "db5db156-8854-41ea-971a-5e5791469021",
     "showTitle": false,
     "title": ""
    }
   },
   "source": [
    "\n",
    "## Saving data"
   ]
  },
  {
   "cell_type": "code",
   "execution_count": 0,
   "metadata": {
    "application/vnd.databricks.v1+cell": {
     "cellMetadata": {
      "byteLimit": 2048000,
      "rowLimit": 10000
     },
     "inputWidgets": {},
     "nuid": "c65121a3-fffe-41c6-a157-ed0d41505105",
     "showTitle": false,
     "title": ""
    }
   },
   "outputs": [
    {
     "output_type": "stream",
     "name": "stdout",
     "output_type": "stream",
     "text": [
      "[LOG] Saving gold.supermarket_sales delta on dbfs:/FileStore/delta/gold/supermarket_sales... OK!\n"
     ]
    }
   ],
   "source": [
    "save_dataframe(df, format_mode=\"delta\", table_name=tb_name, target_location=target_location)"
   ]
  },
  {
   "cell_type": "markdown",
   "metadata": {
    "application/vnd.databricks.v1+cell": {
     "cellMetadata": {
      "byteLimit": 2048000,
      "rowLimit": 10000
     },
     "inputWidgets": {},
     "nuid": "522fafdb-4470-4b95-899e-2511ce5e94fa",
     "showTitle": false,
     "title": ""
    }
   },
   "source": [
    "\n",
    "## create delta table\n",
    "\n",
    "TODO: implementar UPSERT\n",
    "\n",
    "o upsert serve para não precisar reescrever todos os dados, mas aproveitar do Delta para fazer um MERGE, caso um registro antigo tenha uma nova versão e INSERT para os dados que são novos"
   ]
  },
  {
   "cell_type": "code",
   "execution_count": 0,
   "metadata": {
    "application/vnd.databricks.v1+cell": {
     "cellMetadata": {
      "byteLimit": 2048000,
      "rowLimit": 10000
     },
     "inputWidgets": {},
     "nuid": "2780642c-5698-4af0-b1db-cb1f22aa0419",
     "showTitle": false,
     "title": ""
    }
   },
   "outputs": [
    {
     "output_type": "stream",
     "name": "stdout",
     "output_type": "stream",
     "text": [
      "[LOG] Creating delta table gold.supermarket_sales on dbfs:/FileStore/delta/gold/supermarket_sales... OK!\n"
     ]
    }
   ],
   "source": [
    "create_table(table_name=tb_name, target_location=target_location)"
   ]
  },
  {
   "cell_type": "code",
   "execution_count": 0,
   "metadata": {
    "application/vnd.databricks.v1+cell": {
     "cellMetadata": {
      "byteLimit": 2048000,
      "rowLimit": 10000
     },
     "inputWidgets": {},
     "nuid": "04aede37-4440-4d8d-962e-aa4cd72a44b4",
     "showTitle": false,
     "title": ""
    }
   },
   "outputs": [],
   "source": [
    "# exit para fechar a execução\n",
    "dbutils.notebook.exit(\"OK\")"
   ]
  },
  {
   "cell_type": "code",
   "execution_count": 0,
   "metadata": {
    "application/vnd.databricks.v1+cell": {
     "cellMetadata": {
      "byteLimit": 2048000,
      "implicitDf": true,
      "rowLimit": 10000
     },
     "inputWidgets": {},
     "nuid": "a899dcf0-8408-4e86-bdc0-8d943428daeb",
     "showTitle": false,
     "title": ""
    }
   },
   "outputs": [],
   "source": [
    "%sql\n",
    "\n",
    "select * from gold.supermarket_sales"
   ]
  },
  {
   "cell_type": "code",
   "execution_count": 0,
   "metadata": {
    "application/vnd.databricks.v1+cell": {
     "cellMetadata": {
      "byteLimit": 2048000,
      "rowLimit": 10000
     },
     "inputWidgets": {},
     "nuid": "7d8ccaa3-4052-4b67-8556-0c4a98aebfce",
     "showTitle": false,
     "title": ""
    }
   },
   "outputs": [],
   "source": []
  }
 ],
 "metadata": {
  "application/vnd.databricks.v1+notebook": {
   "dashboards": [],
   "language": "python",
   "notebookMetadata": {
    "mostRecentlyExecutedCommandWithImplicitDF": {
     "commandId": 2365726832918022,
     "dataframes": [
      "_sqldf"
     ]
    },
    "pythonIndentUnit": 4
   },
   "notebookName": "gold_sales",
   "widgets": {}
  }
 },
 "nbformat": 4,
 "nbformat_minor": 0
}
