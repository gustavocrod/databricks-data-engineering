{
 "cells": [
  {
   "cell_type": "code",
   "execution_count": 0,
   "metadata": {
    "application/vnd.databricks.v1+cell": {
     "cellMetadata": {
      "byteLimit": 2048000,
      "rowLimit": 10000
     },
     "inputWidgets": {},
     "nuid": "1967590d-b47e-4c09-ba15-593a8237bc34",
     "showTitle": false,
     "title": ""
    }
   },
   "outputs": [],
   "source": [
    "%run ../../_utils"
   ]
  },
  {
   "cell_type": "markdown",
   "metadata": {
    "application/vnd.databricks.v1+cell": {
     "cellMetadata": {
      "byteLimit": 2048000,
      "rowLimit": 10000
     },
     "inputWidgets": {},
     "nuid": "f9c9b3bb-ae73-4b7b-a340-0732b0f59633",
     "showTitle": false,
     "title": ""
    }
   },
   "source": [
    "# Camada bronze\n",
    "Na camada bronze, nenhuma limpeza ou regra de negócio devem ser aplicadas aos dados.\n",
    "\n",
    "só vamos ler em parquet e salvar em delta.\n",
    "\n",
    "Vamos também utilizar da tabela de controle para termos o milestone da ultima execução (aqui nao será utilizado de fato, mas é interessante justamenete para o UPSERT)"
   ]
  },
  {
   "cell_type": "markdown",
   "metadata": {
    "application/vnd.databricks.v1+cell": {
     "cellMetadata": {},
     "inputWidgets": {},
     "nuid": "ac82b4f5-3b69-45d8-bc83-37a6e25e77ec",
     "showTitle": false,
     "title": ""
    }
   },
   "source": [
    "## 1 - leitura dos dados"
   ]
  },
  {
   "cell_type": "code",
   "execution_count": 0,
   "metadata": {
    "application/vnd.databricks.v1+cell": {
     "cellMetadata": {
      "byteLimit": 2048000,
      "rowLimit": 10000
     },
     "inputWidgets": {},
     "nuid": "699959b8-d227-4fee-85ce-f51471c59194",
     "showTitle": false,
     "title": ""
    }
   },
   "outputs": [],
   "source": [
    "parquet_location = \"/FileStore/parquet/supermarket_sales\"\n",
    "\n",
    "df = spark.read.parquet(parquet_location)"
   ]
  },
  {
   "cell_type": "markdown",
   "metadata": {
    "application/vnd.databricks.v1+cell": {
     "cellMetadata": {},
     "inputWidgets": {},
     "nuid": "c58dbdbe-179f-4d06-8bc2-bc8c43d5f010",
     "showTitle": false,
     "title": ""
    }
   },
   "source": [
    "\n",
    "### teste de armazenamento em delta"
   ]
  },
  {
   "cell_type": "code",
   "execution_count": 0,
   "metadata": {
    "application/vnd.databricks.v1+cell": {
     "cellMetadata": {
      "byteLimit": 2048000,
      "rowLimit": 10000
     },
     "inputWidgets": {},
     "nuid": "9767b48d-2191-4742-a668-01c93775ba0a",
     "showTitle": false,
     "title": ""
    }
   },
   "outputs": [],
   "source": [
    "save_dataframe(\n",
    "    df,\n",
    "    format_mode=\"delta\",\n",
    "    table_name=\"bronze.supermarket_sales\",\n",
    "    target_location=\"dbfs:/delta/bronze/supermarket_sales\",\n",
    ")"
   ]
  },
  {
   "cell_type": "markdown",
   "metadata": {
    "application/vnd.databricks.v1+cell": {
     "cellMetadata": {},
     "inputWidgets": {},
     "nuid": "b133054c-a210-45ae-9161-322f7fd6764b",
     "showTitle": false,
     "title": ""
    }
   },
   "source": [
    "\n",
    "# Camada bronze\n",
    "\n",
    "Na camada bronze, nenhuma limpeza ou regra de negócio devem ser aplicadas aos dados.\n",
    "\n",
    "Porém aqui temos dados que demandam de um pequeno tratamento: nome dos campos.\n",
    "\n",
    "Para armazenarmos em formato delta, precisaremos tratar o nome dos campos. (outros tratamentos devem acontecer na camada subsequente)\n",
    "\n",
    "Para essa limpeza dos dados, utilizamos do método ``fix_df_column_names`` definido em ``_utils``"
   ]
  },
  {
   "cell_type": "code",
   "execution_count": 0,
   "metadata": {
    "application/vnd.databricks.v1+cell": {
     "cellMetadata": {
      "byteLimit": 2048000,
      "rowLimit": 10000
     },
     "inputWidgets": {},
     "nuid": "b38fab6e-a653-4336-910d-5b5fac1923cc",
     "showTitle": false,
     "title": ""
    }
   },
   "outputs": [],
   "source": [
    "df = fix_df_column_names(df)\n",
    "display(df.take(10))"
   ]
  },
  {
   "cell_type": "markdown",
   "metadata": {
    "application/vnd.databricks.v1+cell": {
     "cellMetadata": {},
     "inputWidgets": {},
     "nuid": "087cf930-5fb2-4485-8c4e-594b8c8748d2",
     "showTitle": false,
     "title": ""
    }
   },
   "source": [
    "\n",
    "## Save dataframe"
   ]
  },
  {
   "cell_type": "code",
   "execution_count": 0,
   "metadata": {
    "application/vnd.databricks.v1+cell": {
     "cellMetadata": {
      "byteLimit": 2048000,
      "rowLimit": 10000
     },
     "inputWidgets": {},
     "nuid": "ad7b5231-ed46-457d-a658-bca57092222b",
     "showTitle": false,
     "title": ""
    }
   },
   "outputs": [],
   "source": [
    "tb_name = \"bronze.supermarket_sales\"\n",
    "target_location = \"dbfs:/delta/bronze/supermarket_sales\""
   ]
  },
  {
   "cell_type": "code",
   "execution_count": 0,
   "metadata": {
    "application/vnd.databricks.v1+cell": {
     "cellMetadata": {
      "byteLimit": 2048000,
      "rowLimit": 10000
     },
     "inputWidgets": {},
     "nuid": "e2c18b78-7c14-4948-8cb9-daa39a529c5a",
     "showTitle": false,
     "title": ""
    }
   },
   "outputs": [],
   "source": [
    "save_dataframe(\n",
    "    df,\n",
    "    format_mode=\"delta\",\n",
    "    table_name=tb_name,\n",
    "    target_location=target_location,\n",
    ")"
   ]
  },
  {
   "cell_type": "markdown",
   "metadata": {
    "application/vnd.databricks.v1+cell": {
     "cellMetadata": {},
     "inputWidgets": {},
     "nuid": "307fef32-37a7-4789-a140-127083dd91d8",
     "showTitle": false,
     "title": ""
    }
   },
   "source": [
    "\n",
    "## Criar tabela delta"
   ]
  },
  {
   "cell_type": "code",
   "execution_count": 0,
   "metadata": {
    "application/vnd.databricks.v1+cell": {
     "cellMetadata": {
      "byteLimit": 2048000,
      "rowLimit": 10000
     },
     "inputWidgets": {},
     "nuid": "2a52b278-2985-43e2-802f-89b2ddfb4b18",
     "showTitle": false,
     "title": ""
    }
   },
   "outputs": [],
   "source": [
    "create_table(table_name=tb_name, target_location=target_location)"
   ]
  },
  {
   "cell_type": "code",
   "execution_count": 0,
   "metadata": {
    "application/vnd.databricks.v1+cell": {
     "cellMetadata": {
      "byteLimit": 2048000,
      "rowLimit": 10000
     },
     "inputWidgets": {},
     "nuid": "70b4d770-d506-4784-8c3e-a49e9444c599",
     "showTitle": false,
     "title": ""
    }
   },
   "outputs": [],
   "source": [
    "# para sair do notebook\n",
    "# tudo que rodar após isso será ignorado quando o notebook for executado via workflow\n",
    "dbutils.notebook.exit(\"OK\")"
   ]
  },
  {
   "cell_type": "code",
   "execution_count": 0,
   "metadata": {
    "application/vnd.databricks.v1+cell": {
     "cellMetadata": {
      "byteLimit": 2048000,
      "implicitDf": true,
      "rowLimit": 10000
     },
     "inputWidgets": {},
     "nuid": "4353e4b2-5f0e-478c-ab51-32e098cdb57f",
     "showTitle": false,
     "title": ""
    }
   },
   "outputs": [],
   "source": [
    "%sql\n",
    "\n",
    "select * from bronze.supermarket_sales limit 10"
   ]
  },
  {
   "cell_type": "code",
   "execution_count": 0,
   "metadata": {
    "application/vnd.databricks.v1+cell": {
     "cellMetadata": {},
     "inputWidgets": {},
     "nuid": "78415a3e-739b-4faa-a73a-8722ab6b9cb9",
     "showTitle": false,
     "title": ""
    }
   },
   "outputs": [],
   "source": []
  }
 ],
 "metadata": {
  "application/vnd.databricks.v1+notebook": {
   "dashboards": [],
   "language": "python",
   "notebookMetadata": {
    "mostRecentlyExecutedCommandWithImplicitDF": {
     "commandId": 4240245637786604,
     "dataframes": [
      "_sqldf"
     ]
    },
    "pythonIndentUnit": 4
   },
   "notebookName": "bronze_supermarket_sales",
   "widgets": {}
  }
 },
 "nbformat": 4,
 "nbformat_minor": 0
}
