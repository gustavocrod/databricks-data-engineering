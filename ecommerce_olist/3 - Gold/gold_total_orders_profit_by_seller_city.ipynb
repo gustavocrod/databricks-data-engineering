{
 "cells": [
  {
   "cell_type": "code",
   "execution_count": 0,
   "metadata": {
    "application/vnd.databricks.v1+cell": {
     "cellMetadata": {
      "byteLimit": 2048000,
      "rowLimit": 10000
     },
     "inputWidgets": {},
     "nuid": "b1710e7f-be45-4d2f-ae8b-3f46af28e5b4",
     "showTitle": false,
     "title": ""
    }
   },
   "outputs": [
    {
     "output_type": "stream",
     "name": "stdout",
     "output_type": "stream",
     "text": [
      "\u001B[43mNote: you may need to restart the kernel using dbutils.library.restartPython() to use updated packages.\u001B[0m\nCollecting unidecode\n  Using cached Unidecode-1.3.8-py3-none-any.whl (235 kB)\nInstalling collected packages: unidecode\nSuccessfully installed unidecode-1.3.8\n\u001B[43mNote: you may need to restart the kernel using dbutils.library.restartPython() to use updated packages.\u001B[0m\n"
     ]
    }
   ],
   "source": [
    "%run ../../_utils"
   ]
  },
  {
   "cell_type": "code",
   "execution_count": 0,
   "metadata": {
    "application/vnd.databricks.v1+cell": {
     "cellMetadata": {
      "byteLimit": 2048000,
      "rowLimit": 10000
     },
     "inputWidgets": {},
     "nuid": "e6b5a612-163f-403d-9149-793f110401d7",
     "showTitle": false,
     "title": ""
    }
   },
   "outputs": [],
   "source": [
    "from pyspark.sql.functions import col, sum, count"
   ]
  },
  {
   "cell_type": "markdown",
   "metadata": {
    "application/vnd.databricks.v1+cell": {
     "cellMetadata": {
      "byteLimit": 2048000,
      "rowLimit": 10000
     },
     "inputWidgets": {},
     "nuid": "5f9235ec-ac0c-4f2c-962e-edc87f6e86a1",
     "showTitle": false,
     "title": ""
    }
   },
   "source": [
    "\n",
    "# Camada GOLD\n",
    "\n",
    "Na camada gold, as limpezas e ajustes já foram feitos, então essa camada é responsável por aplicar regras de negócio, agregações e junções de dados que convirjam para analises.\n",
    "\n",
    "Essa é uma tabela sumarizada analítica.\n",
    "\n",
    "O objetivo dela é informar o total de venda bruta por cada vendedor (aqui temos cidade)"
   ]
  },
  {
   "cell_type": "code",
   "execution_count": 0,
   "metadata": {
    "application/vnd.databricks.v1+cell": {
     "cellMetadata": {
      "byteLimit": 2048000,
      "rowLimit": 10000
     },
     "inputWidgets": {},
     "nuid": "3707d12a-f42c-46de-981f-f50750230449",
     "showTitle": false,
     "title": ""
    }
   },
   "outputs": [],
   "source": [
    "tb_name = \"gold.olist_total_orders_profit_by_seller_city\"\n",
    "dataset_location = \"olist_total_orders_profitprofi_dataset\"\n",
    "target_location = f\"dbfs:/FileStore/delta/gold/brazilian_ecommerce/{dataset_location}\""
   ]
  },
  {
   "cell_type": "markdown",
   "metadata": {
    "application/vnd.databricks.v1+cell": {
     "cellMetadata": {
      "byteLimit": 2048000,
      "rowLimit": 10000
     },
     "inputWidgets": {},
     "nuid": "5f3d216e-533d-437a-a6d6-9ab063d7c8cb",
     "showTitle": false,
     "title": ""
    }
   },
   "source": [
    "## 1 - Data ingestion\n"
   ]
  },
  {
   "cell_type": "code",
   "execution_count": 0,
   "metadata": {
    "application/vnd.databricks.v1+cell": {
     "cellMetadata": {
      "byteLimit": 2048000,
      "rowLimit": 10000
     },
     "inputWidgets": {},
     "nuid": "6af57b81-ca1d-4b16-9371-65dbf824d43d",
     "showTitle": false,
     "title": ""
    }
   },
   "outputs": [],
   "source": [
    "df_order_items = spark.read.table(\"silver.olist_order_items\") # temos o seller_id\n",
    "df_sellers = spark.read.table(\"silver.olist_sellers\")"
   ]
  },
  {
   "cell_type": "markdown",
   "metadata": {
    "application/vnd.databricks.v1+cell": {
     "cellMetadata": {
      "byteLimit": 2048000,
      "rowLimit": 10000
     },
     "inputWidgets": {},
     "nuid": "c956a4c8-f3e5-4915-8e7f-93d65c05bff8",
     "showTitle": false,
     "title": ""
    }
   },
   "source": [
    "\n",
    "## 2 - preparation"
   ]
  },
  {
   "cell_type": "code",
   "execution_count": 0,
   "metadata": {
    "application/vnd.databricks.v1+cell": {
     "cellMetadata": {
      "byteLimit": 2048000,
      "rowLimit": 10000
     },
     "inputWidgets": {},
     "nuid": "a2e01b80-b652-46a1-a7f4-b0b4bd140c24",
     "showTitle": false,
     "title": ""
    },
    "jupyter": {
     "outputs_hidden": true
    }
   },
   "outputs": [],
   "source": [
    "df = df_order_items.join(df_sellers, on=['seller_id'], how=\"inner\")"
   ]
  },
  {
   "cell_type": "code",
   "execution_count": 0,
   "metadata": {
    "application/vnd.databricks.v1+cell": {
     "cellMetadata": {
      "byteLimit": 2048000,
      "rowLimit": 10000
     },
     "inputWidgets": {},
     "nuid": "6e2e1780-03e2-4dea-8671-082e240807e2",
     "showTitle": false,
     "title": ""
    }
   },
   "outputs": [],
   "source": [
    "df = df.groupBy(\"seller_city\").agg(\n",
    "    count(\"order_id\").alias(\"total_orders_by_seller_city\"),\n",
    "    sum(\"price\").alias(\"total_items_sell_profit\"), # total de arrecadação bruta por produto vendido\n",
    "    sum(\"freight_value\").alias(\"total_freight_profit\") # total de arrecadação bruta por fretes\n",
    ").withColumn(\"total_profit\", col(\"total_items_sell_profit\") + col(\"total_freight_profit\")) # total arrecadação bruta"
   ]
  },
  {
   "cell_type": "code",
   "execution_count": 0,
   "metadata": {
    "application/vnd.databricks.v1+cell": {
     "cellMetadata": {
      "byteLimit": 2048000,
      "rowLimit": 10000
     },
     "inputWidgets": {},
     "nuid": "62c4f910-a4dc-4315-9906-3e8078e0146a",
     "showTitle": false,
     "title": ""
    }
   },
   "outputs": [
    {
     "output_type": "display_data",
     "data": {
      "text/html": [
       "<style scoped>\n",
       "  .table-result-container {\n",
       "    max-height: 300px;\n",
       "    overflow: auto;\n",
       "  }\n",
       "  table, th, td {\n",
       "    border: 1px solid black;\n",
       "    border-collapse: collapse;\n",
       "  }\n",
       "  th, td {\n",
       "    padding: 5px;\n",
       "  }\n",
       "  th {\n",
       "    text-align: left;\n",
       "  }\n",
       "</style><div class='table-result-container'><table class='table-result'><thead style='background-color: white'><tr><th>seller_city</th><th>total_orders_by_seller_city</th><th>total_items_sell_profit</th><th>total_freight_profit</th><th>total_profit</th></tr></thead><tbody><tr><td>igrejinha</td><td>3</td><td>314.96000000000004</td><td>79.25999999999999</td><td>394.22</td></tr><tr><td>brusque</td><td>393</td><td>47626.850000000115</td><td>10807.520000000008</td><td>58434.370000000126</td></tr><tr><td>buritama</td><td>15</td><td>2575.9000000000005</td><td>341.47</td><td>2917.370000000001</td></tr><tr><td>ipaussu</td><td>74</td><td>7268.0</td><td>1431.3200000000004</td><td>8699.32</td></tr><tr><td>carapicuiba</td><td>214</td><td>21859.62000000002</td><td>3615.1000000000004</td><td>25474.720000000023</td></tr><tr><td>garca</td><td>115</td><td>22979.630000000023</td><td>2612.8700000000003</td><td>25592.500000000022</td></tr><tr><td>sao joao de meriti</td><td>50</td><td>4970.830000000001</td><td>832.7500000000002</td><td>5803.580000000001</td></tr><tr><td>fernando prestes</td><td>3</td><td>86.6</td><td>38.669999999999995</td><td>125.26999999999998</td></tr><tr><td>araras</td><td>46</td><td>10790.85</td><td>912.2500000000002</td><td>11703.1</td></tr><tr><td>nova friburgo</td><td>90</td><td>62579.26000000003</td><td>2673.8599999999988</td><td>65253.12000000003</td></tr></tbody></table></div>"
      ]
     },
     "metadata": {
      "application/vnd.databricks.v1+output": {
       "addedWidgets": {},
       "aggData": [],
       "aggError": "",
       "aggOverflow": false,
       "aggSchema": [],
       "aggSeriesLimitReached": false,
       "aggType": "",
       "arguments": {},
       "columnCustomDisplayInfos": {},
       "data": [
        [
         "igrejinha",
         3,
         314.96000000000004,
         79.25999999999999,
         394.22
        ],
        [
         "brusque",
         393,
         47626.850000000115,
         10807.520000000008,
         58434.370000000126
        ],
        [
         "buritama",
         15,
         2575.9000000000005,
         341.47,
         2917.370000000001
        ],
        [
         "ipaussu",
         74,
         7268.0,
         1431.3200000000004,
         8699.32
        ],
        [
         "carapicuiba",
         214,
         21859.62000000002,
         3615.1000000000004,
         25474.720000000023
        ],
        [
         "garca",
         115,
         22979.630000000023,
         2612.8700000000003,
         25592.500000000022
        ],
        [
         "sao joao de meriti",
         50,
         4970.830000000001,
         832.7500000000002,
         5803.580000000001
        ],
        [
         "fernando prestes",
         3,
         86.6,
         38.669999999999995,
         125.26999999999998
        ],
        [
         "araras",
         46,
         10790.85,
         912.2500000000002,
         11703.1
        ],
        [
         "nova friburgo",
         90,
         62579.26000000003,
         2673.8599999999988,
         65253.12000000003
        ]
       ],
       "datasetInfos": [],
       "dbfsResultPath": null,
       "isJsonSchema": true,
       "metadata": {},
       "overflow": false,
       "plotOptions": {
        "customPlotOptions": {},
        "displayType": "table",
        "pivotAggregation": null,
        "pivotColumns": null,
        "xColumns": null,
        "yColumns": null
       },
       "removedWidgets": [],
       "schema": [
        {
         "metadata": "{}",
         "name": "seller_city",
         "type": "\"string\""
        },
        {
         "metadata": "{}",
         "name": "total_orders_by_seller_city",
         "type": "\"long\""
        },
        {
         "metadata": "{}",
         "name": "total_items_sell_profit",
         "type": "\"double\""
        },
        {
         "metadata": "{}",
         "name": "total_freight_profit",
         "type": "\"double\""
        },
        {
         "metadata": "{}",
         "name": "total_profit",
         "type": "\"double\""
        }
       ],
       "type": "table"
      }
     },
     "output_type": "display_data"
    }
   ],
   "source": [
    "display(df.take(10))"
   ]
  },
  {
   "cell_type": "markdown",
   "metadata": {
    "application/vnd.databricks.v1+cell": {
     "cellMetadata": {
      "byteLimit": 2048000,
      "rowLimit": 10000
     },
     "inputWidgets": {},
     "nuid": "179d0374-6a21-4114-ad59-ee923b817809",
     "showTitle": false,
     "title": ""
    }
   },
   "source": [
    "\n",
    "## Saving data"
   ]
  },
  {
   "cell_type": "code",
   "execution_count": 0,
   "metadata": {
    "application/vnd.databricks.v1+cell": {
     "cellMetadata": {
      "byteLimit": 2048000,
      "rowLimit": 10000
     },
     "inputWidgets": {},
     "nuid": "a82009ed-f82f-4587-b629-fec7876f4760",
     "showTitle": false,
     "title": ""
    }
   },
   "outputs": [
    {
     "output_type": "stream",
     "name": "stdout",
     "output_type": "stream",
     "text": [
      "[LOG] Saving gold.olist_total_orders_profit_by_seller_city delta on dbfs:/FileStore/delta/gold/brazilian_ecommerce/olist_total_orders_profitprofi_dataset... OK!\n"
     ]
    }
   ],
   "source": [
    "save_dataframe(df, format_mode=\"delta\", table_name=tb_name, target_location=target_location)"
   ]
  },
  {
   "cell_type": "markdown",
   "metadata": {
    "application/vnd.databricks.v1+cell": {
     "cellMetadata": {
      "byteLimit": 2048000,
      "rowLimit": 10000
     },
     "inputWidgets": {},
     "nuid": "6b96b521-aee7-459d-85ae-a32a903a7d3e",
     "showTitle": false,
     "title": ""
    }
   },
   "source": [
    "\n",
    "## create delta table"
   ]
  },
  {
   "cell_type": "code",
   "execution_count": 0,
   "metadata": {
    "application/vnd.databricks.v1+cell": {
     "cellMetadata": {
      "byteLimit": 2048000,
      "rowLimit": 10000
     },
     "inputWidgets": {},
     "nuid": "8b2284f0-ce7b-4840-a390-74419b4f36d7",
     "showTitle": false,
     "title": ""
    }
   },
   "outputs": [
    {
     "output_type": "stream",
     "name": "stdout",
     "output_type": "stream",
     "text": [
      "[LOG] Creating delta table gold.olist_total_orders_profit_by_seller_city on dbfs:/FileStore/delta/gold/brazilian_ecommerce/olist_total_orders_profitprofi_dataset... OK!\n"
     ]
    }
   ],
   "source": [
    "create_table(table_name=tb_name, target_location=target_location)"
   ]
  },
  {
   "cell_type": "code",
   "execution_count": 0,
   "metadata": {
    "application/vnd.databricks.v1+cell": {
     "cellMetadata": {
      "byteLimit": 2048000,
      "rowLimit": 10000
     },
     "inputWidgets": {},
     "nuid": "6d750262-c18d-40f0-b749-4b56b374587a",
     "showTitle": false,
     "title": ""
    }
   },
   "outputs": [],
   "source": [
    "# exit para fechar a execução\n",
    "dbutils.notebook.exit(\"OK\")"
   ]
  },
  {
   "cell_type": "code",
   "execution_count": 0,
   "metadata": {
    "application/vnd.databricks.v1+cell": {
     "cellMetadata": {
      "byteLimit": 2048000,
      "implicitDf": true,
      "rowLimit": 10000
     },
     "inputWidgets": {},
     "nuid": "d3e058eb-d93a-4c2d-874f-f0020f7145ac",
     "showTitle": false,
     "title": ""
    }
   },
   "outputs": [
    {
     "output_type": "display_data",
     "data": {
      "text/html": [
       "<style scoped>\n",
       "  .table-result-container {\n",
       "    max-height: 300px;\n",
       "    overflow: auto;\n",
       "  }\n",
       "  table, th, td {\n",
       "    border: 1px solid black;\n",
       "    border-collapse: collapse;\n",
       "  }\n",
       "  th, td {\n",
       "    padding: 5px;\n",
       "  }\n",
       "  th {\n",
       "    text-align: left;\n",
       "  }\n",
       "</style><div class='table-result-container'><table class='table-result'><thead style='background-color: white'><tr><th>seller_city</th><th>total_orders_by_seller_city</th><th>total_items_sell_profit</th><th>total_freight_profit</th><th>total_profit</th></tr></thead><tbody><tr><td>igrejinha</td><td>3</td><td>314.96000000000004</td><td>79.25999999999999</td><td>394.22</td></tr><tr><td>brusque</td><td>393</td><td>47626.850000000115</td><td>10807.520000000008</td><td>58434.370000000126</td></tr><tr><td>buritama</td><td>15</td><td>2575.9000000000005</td><td>341.47</td><td>2917.370000000001</td></tr><tr><td>ipaussu</td><td>74</td><td>7268.0</td><td>1431.3200000000004</td><td>8699.32</td></tr><tr><td>carapicuiba</td><td>214</td><td>21859.62000000002</td><td>3615.1000000000004</td><td>25474.720000000023</td></tr><tr><td>garca</td><td>115</td><td>22979.630000000023</td><td>2612.8700000000003</td><td>25592.500000000022</td></tr><tr><td>sao joao de meriti</td><td>50</td><td>4970.830000000001</td><td>832.7500000000002</td><td>5803.580000000001</td></tr><tr><td>fernando prestes</td><td>3</td><td>86.6</td><td>38.669999999999995</td><td>125.26999999999998</td></tr><tr><td>araras</td><td>46</td><td>10790.85</td><td>912.2500000000002</td><td>11703.1</td></tr><tr><td>nova friburgo</td><td>90</td><td>62579.26000000003</td><td>2673.8599999999988</td><td>65253.12000000003</td></tr></tbody></table></div>"
      ]
     },
     "metadata": {
      "application/vnd.databricks.v1+output": {
       "addedWidgets": {},
       "aggData": [],
       "aggError": "",
       "aggOverflow": false,
       "aggSchema": [],
       "aggSeriesLimitReached": false,
       "aggType": "",
       "arguments": {},
       "columnCustomDisplayInfos": {},
       "data": [
        [
         "igrejinha",
         3,
         314.96000000000004,
         79.25999999999999,
         394.22
        ],
        [
         "brusque",
         393,
         47626.850000000115,
         10807.520000000008,
         58434.370000000126
        ],
        [
         "buritama",
         15,
         2575.9000000000005,
         341.47,
         2917.370000000001
        ],
        [
         "ipaussu",
         74,
         7268.0,
         1431.3200000000004,
         8699.32
        ],
        [
         "carapicuiba",
         214,
         21859.62000000002,
         3615.1000000000004,
         25474.720000000023
        ],
        [
         "garca",
         115,
         22979.630000000023,
         2612.8700000000003,
         25592.500000000022
        ],
        [
         "sao joao de meriti",
         50,
         4970.830000000001,
         832.7500000000002,
         5803.580000000001
        ],
        [
         "fernando prestes",
         3,
         86.6,
         38.669999999999995,
         125.26999999999998
        ],
        [
         "araras",
         46,
         10790.85,
         912.2500000000002,
         11703.1
        ],
        [
         "nova friburgo",
         90,
         62579.26000000003,
         2673.8599999999988,
         65253.12000000003
        ]
       ],
       "datasetInfos": [],
       "dbfsResultPath": null,
       "isJsonSchema": true,
       "metadata": {
        "dataframeName": "_sqldf",
        "executionCount": 17
       },
       "overflow": false,
       "plotOptions": {
        "customPlotOptions": {},
        "displayType": "table",
        "pivotAggregation": null,
        "pivotColumns": null,
        "xColumns": null,
        "yColumns": null
       },
       "removedWidgets": [],
       "schema": [
        {
         "metadata": "{}",
         "name": "seller_city",
         "type": "\"string\""
        },
        {
         "metadata": "{}",
         "name": "total_orders_by_seller_city",
         "type": "\"long\""
        },
        {
         "metadata": "{}",
         "name": "total_items_sell_profit",
         "type": "\"double\""
        },
        {
         "metadata": "{}",
         "name": "total_freight_profit",
         "type": "\"double\""
        },
        {
         "metadata": "{}",
         "name": "total_profit",
         "type": "\"double\""
        }
       ],
       "type": "table"
      }
     },
     "output_type": "display_data"
    }
   ],
   "source": [
    "%sql\n",
    "\n",
    "select * from gold.olist_total_orders_profit_by_seller_city limit 10"
   ]
  },
  {
   "cell_type": "code",
   "execution_count": 0,
   "metadata": {
    "application/vnd.databricks.v1+cell": {
     "cellMetadata": {
      "byteLimit": 2048000,
      "rowLimit": 10000
     },
     "inputWidgets": {},
     "nuid": "f45863da-2a6e-453f-bb3b-27ddf95d994c",
     "showTitle": false,
     "title": ""
    }
   },
   "outputs": [],
   "source": []
  }
 ],
 "metadata": {
  "application/vnd.databricks.v1+notebook": {
   "dashboards": [],
   "language": "python",
   "notebookMetadata": {
    "mostRecentlyExecutedCommandWithImplicitDF": {
     "commandId": 4240245637786527,
     "dataframes": [
      "_sqldf"
     ]
    },
    "pythonIndentUnit": 4
   },
   "notebookName": "gold_total_orders_profit_by_seller_city",
   "widgets": {}
  }
 },
 "nbformat": 4,
 "nbformat_minor": 0
}
