{
 "cells": [
  {
   "cell_type": "code",
   "execution_count": 0,
   "metadata": {
    "application/vnd.databricks.v1+cell": {
     "cellMetadata": {
      "byteLimit": 2048000,
      "rowLimit": 10000
     },
     "inputWidgets": {},
     "nuid": "b1710e7f-be45-4d2f-ae8b-3f46af28e5b4",
     "showTitle": false,
     "title": ""
    }
   },
   "outputs": [],
   "source": [
    "%run ../_utils"
   ]
  },
  {
   "cell_type": "code",
   "execution_count": 0,
   "metadata": {
    "application/vnd.databricks.v1+cell": {
     "cellMetadata": {
      "byteLimit": 2048000,
      "rowLimit": 10000
     },
     "inputWidgets": {},
     "nuid": "e6b5a612-163f-403d-9149-793f110401d7",
     "showTitle": false,
     "title": ""
    }
   },
   "outputs": [],
   "source": [
    "from pyspark.sql.functions import col, count"
   ]
  },
  {
   "cell_type": "markdown",
   "metadata": {
    "application/vnd.databricks.v1+cell": {
     "cellMetadata": {},
     "inputWidgets": {},
     "nuid": "5f9235ec-ac0c-4f2c-962e-edc87f6e86a1",
     "showTitle": false,
     "title": ""
    }
   },
   "source": [
    "\n",
    "# Customers orders\n",
    "\n",
    "Essa é uma tabela de sumarização.\n",
    "\n",
    "O objetivo dela é responder sobre as compras dos clientes.\n",
    "\n",
    "Conseguiríamos responder questões como:\n",
    " - Quantas vendas ocorreram por estado\n",
    " - poderiamos ver as vendas por mes e ano\n",
    " - poderiamos ver dados sobre valores das vendas\n",
    " - dados sobre as entregas, como a relação do dia da compra e atraso na entrega"
   ]
  },
  {
   "cell_type": "code",
   "execution_count": 0,
   "metadata": {
    "application/vnd.databricks.v1+cell": {
     "cellMetadata": {
      "byteLimit": 2048000,
      "rowLimit": 10000
     },
     "inputWidgets": {},
     "nuid": "3707d12a-f42c-46de-981f-f50750230449",
     "showTitle": false,
     "title": ""
    }
   },
   "outputs": [],
   "source": [
    "tb_name = \"olist_gold.customer_orders\"\n",
    "dataset_location = \"olist_customer_ordersdataset\"\n",
    "target_location = f\"dbfs:/FileStore/delta/brazilian_ecommerce/{dataset_location}/gold\""
   ]
  },
  {
   "cell_type": "markdown",
   "metadata": {
    "application/vnd.databricks.v1+cell": {
     "cellMetadata": {},
     "inputWidgets": {},
     "nuid": "5f3d216e-533d-437a-a6d6-9ab063d7c8cb",
     "showTitle": false,
     "title": ""
    }
   },
   "source": [
    "## 1 - Data ingestion\n"
   ]
  },
  {
   "cell_type": "code",
   "execution_count": 0,
   "metadata": {
    "application/vnd.databricks.v1+cell": {
     "cellMetadata": {
      "byteLimit": 2048000,
      "rowLimit": 10000
     },
     "inputWidgets": {},
     "nuid": "6af57b81-ca1d-4b16-9371-65dbf824d43d",
     "showTitle": false,
     "title": ""
    }
   },
   "outputs": [],
   "source": [
    "df_orders = spark.read.table(\"olist_gold.orders\") # leituira da delta table central, orders (ja da propria gold)\n",
    "df_customers = spark.sql(\"select * from olist_silver.customers\") # leitura da delta table, outra maneira"
   ]
  },
  {
   "cell_type": "markdown",
   "metadata": {
    "application/vnd.databricks.v1+cell": {
     "cellMetadata": {},
     "inputWidgets": {},
     "nuid": "c956a4c8-f3e5-4915-8e7f-93d65c05bff8",
     "showTitle": false,
     "title": ""
    }
   },
   "source": [
    "\n",
    "## 2 - preparation"
   ]
  },
  {
   "cell_type": "code",
   "execution_count": 0,
   "metadata": {
    "application/vnd.databricks.v1+cell": {
     "cellMetadata": {
      "byteLimit": 2048000,
      "rowLimit": 10000
     },
     "inputWidgets": {},
     "nuid": "8cc07760-ac16-4aea-a45f-df5ba4cf32ab",
     "showTitle": false,
     "title": ""
    }
   },
   "outputs": [],
   "source": [
    "df = df_orders.join(df_customers, on=\"customer_id\", how=\"left\")"
   ]
  },
  {
   "cell_type": "code",
   "execution_count": 0,
   "metadata": {
    "application/vnd.databricks.v1+cell": {
     "cellMetadata": {
      "byteLimit": 2048000,
      "rowLimit": 10000
     },
     "inputWidgets": {},
     "nuid": "62c4f910-a4dc-4315-9906-3e8078e0146a",
     "showTitle": false,
     "title": ""
    }
   },
   "outputs": [],
   "source": [
    "display(df.take(10))"
   ]
  },
  {
   "cell_type": "markdown",
   "metadata": {
    "application/vnd.databricks.v1+cell": {
     "cellMetadata": {},
     "inputWidgets": {},
     "nuid": "179d0374-6a21-4114-ad59-ee923b817809",
     "showTitle": false,
     "title": ""
    }
   },
   "source": [
    "\n",
    "## Saving data"
   ]
  },
  {
   "cell_type": "code",
   "execution_count": 0,
   "metadata": {
    "application/vnd.databricks.v1+cell": {
     "cellMetadata": {
      "byteLimit": 2048000,
      "rowLimit": 10000
     },
     "inputWidgets": {},
     "nuid": "a82009ed-f82f-4587-b629-fec7876f4760",
     "showTitle": false,
     "title": ""
    }
   },
   "outputs": [],
   "source": [
    "save_dataframe(df, format_mode=\"delta\", table_name=tb_name, target_location=target_location)"
   ]
  },
  {
   "cell_type": "markdown",
   "metadata": {
    "application/vnd.databricks.v1+cell": {
     "cellMetadata": {},
     "inputWidgets": {},
     "nuid": "6b96b521-aee7-459d-85ae-a32a903a7d3e",
     "showTitle": false,
     "title": ""
    }
   },
   "source": [
    "\n",
    "## create delta table\n"
   ]
  },
  {
   "cell_type": "code",
   "execution_count": 0,
   "metadata": {
    "application/vnd.databricks.v1+cell": {
     "cellMetadata": {
      "byteLimit": 2048000,
      "rowLimit": 10000
     },
     "inputWidgets": {},
     "nuid": "8b2284f0-ce7b-4840-a390-74419b4f36d7",
     "showTitle": false,
     "title": ""
    }
   },
   "outputs": [],
   "source": [
    "create_table(table_name=tb_name, target_location=target_location)"
   ]
  },
  {
   "cell_type": "code",
   "execution_count": 0,
   "metadata": {
    "application/vnd.databricks.v1+cell": {
     "cellMetadata": {
      "byteLimit": 2048000,
      "rowLimit": 10000
     },
     "inputWidgets": {},
     "nuid": "6d750262-c18d-40f0-b749-4b56b374587a",
     "showTitle": false,
     "title": ""
    }
   },
   "outputs": [],
   "source": [
    "# exit para fechar a execução\n",
    "dbutils.notebook.exit(\"OK\")"
   ]
  },
  {
   "cell_type": "code",
   "execution_count": 0,
   "metadata": {
    "application/vnd.databricks.v1+cell": {
     "cellMetadata": {
      "byteLimit": 2048000,
      "implicitDf": true,
      "rowLimit": 10000
     },
     "inputWidgets": {},
     "nuid": "d3e058eb-d93a-4c2d-874f-f0020f7145ac",
     "showTitle": false,
     "title": ""
    }
   },
   "outputs": [],
   "source": [
    "%sql\n",
    "\n",
    "select * from olist_gold.orders limit 10"
   ]
  },
  {
   "cell_type": "code",
   "execution_count": 0,
   "metadata": {
    "application/vnd.databricks.v1+cell": {
     "cellMetadata": {
      "byteLimit": 2048000,
      "rowLimit": 10000
     },
     "inputWidgets": {},
     "nuid": "f45863da-2a6e-453f-bb3b-27ddf95d994c",
     "showTitle": false,
     "title": ""
    }
   },
   "outputs": [],
   "source": []
  }
 ],
 "metadata": {
  "application/vnd.databricks.v1+notebook": {
   "dashboards": [],
   "language": "python",
   "notebookMetadata": {
    "mostRecentlyExecutedCommandWithImplicitDF": {
     "commandId": 422770193078643,
     "dataframes": [
      "_sqldf"
     ]
    },
    "pythonIndentUnit": 4
   },
   "notebookName": "gold_customer_orders",
   "widgets": {}
  }
 },
 "nbformat": 4,
 "nbformat_minor": 0
}
