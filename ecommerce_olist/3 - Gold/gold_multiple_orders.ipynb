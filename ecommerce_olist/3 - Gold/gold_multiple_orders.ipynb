{
 "cells": [
  {
   "cell_type": "code",
   "execution_count": 0,
   "metadata": {
    "application/vnd.databricks.v1+cell": {
     "cellMetadata": {
      "byteLimit": 2048000,
      "rowLimit": 10000
     },
     "inputWidgets": {},
     "nuid": "b1710e7f-be45-4d2f-ae8b-3f46af28e5b4",
     "showTitle": false,
     "title": ""
    }
   },
   "outputs": [
    {
     "output_type": "stream",
     "name": "stdout",
     "output_type": "stream",
     "text": [
      "\u001B[43mNote: you may need to restart the kernel using dbutils.library.restartPython() to use updated packages.\u001B[0m\nCollecting unidecode\n  Using cached Unidecode-1.3.8-py3-none-any.whl (235 kB)\nInstalling collected packages: unidecode\nSuccessfully installed unidecode-1.3.8\n\u001B[43mNote: you may need to restart the kernel using dbutils.library.restartPython() to use updated packages.\u001B[0m\n"
     ]
    }
   ],
   "source": [
    "%run ../../_utils"
   ]
  },
  {
   "cell_type": "code",
   "execution_count": 0,
   "metadata": {
    "application/vnd.databricks.v1+cell": {
     "cellMetadata": {
      "byteLimit": 2048000,
      "rowLimit": 10000
     },
     "inputWidgets": {},
     "nuid": "e6b5a612-163f-403d-9149-793f110401d7",
     "showTitle": false,
     "title": ""
    }
   },
   "outputs": [],
   "source": [
    "from pyspark.sql.functions import col, count, when"
   ]
  },
  {
   "cell_type": "markdown",
   "metadata": {
    "application/vnd.databricks.v1+cell": {
     "cellMetadata": {
      "byteLimit": 2048000,
      "rowLimit": 10000
     },
     "inputWidgets": {},
     "nuid": "5f9235ec-ac0c-4f2c-962e-edc87f6e86a1",
     "showTitle": false,
     "title": ""
    }
   },
   "source": [
    "\n",
    "# Camada GOLD\n",
    "\n",
    "Na camada gold, as limpezas e ajustes já foram feitos, então essa camada é responsável por aplicar regras de negócio, agregações e junções de dados que convirjam para analises.\n",
    "\n",
    "Essa é uma tabela sumarizada analítica.\n",
    "\n",
    "O objetivo dela é informar os meses em que tiveram mais pedidos"
   ]
  },
  {
   "cell_type": "code",
   "execution_count": 0,
   "metadata": {
    "application/vnd.databricks.v1+cell": {
     "cellMetadata": {
      "byteLimit": 2048000,
      "rowLimit": 10000
     },
     "inputWidgets": {},
     "nuid": "3707d12a-f42c-46de-981f-f50750230449",
     "showTitle": false,
     "title": ""
    }
   },
   "outputs": [],
   "source": [
    "tb_name = \"gold.olist_multiple_orders\"\n",
    "dataset_location = \"olist_multiple_orders_dataset\"\n",
    "target_location = f\"dbfs:/FileStore/delta/gold/brazilian_ecommerce/{dataset_location}\""
   ]
  },
  {
   "cell_type": "markdown",
   "metadata": {
    "application/vnd.databricks.v1+cell": {
     "cellMetadata": {
      "byteLimit": 2048000,
      "rowLimit": 10000
     },
     "inputWidgets": {},
     "nuid": "5f3d216e-533d-437a-a6d6-9ab063d7c8cb",
     "showTitle": false,
     "title": ""
    }
   },
   "source": [
    "## 1 - Data ingestion\n"
   ]
  },
  {
   "cell_type": "code",
   "execution_count": 0,
   "metadata": {
    "application/vnd.databricks.v1+cell": {
     "cellMetadata": {
      "byteLimit": 2048000,
      "rowLimit": 10000
     },
     "inputWidgets": {},
     "nuid": "6af57b81-ca1d-4b16-9371-65dbf824d43d",
     "showTitle": false,
     "title": ""
    }
   },
   "outputs": [],
   "source": [
    "df = spark.read.table(\"gold.olist_customer_orders\") # leituira da delta table central, orders (ja da propria gold)"
   ]
  },
  {
   "cell_type": "markdown",
   "metadata": {
    "application/vnd.databricks.v1+cell": {
     "cellMetadata": {
      "byteLimit": 2048000,
      "rowLimit": 10000
     },
     "inputWidgets": {},
     "nuid": "c956a4c8-f3e5-4915-8e7f-93d65c05bff8",
     "showTitle": false,
     "title": ""
    }
   },
   "source": [
    "\n",
    "## 2 - preparation"
   ]
  },
  {
   "cell_type": "code",
   "execution_count": 0,
   "metadata": {
    "application/vnd.databricks.v1+cell": {
     "cellMetadata": {
      "byteLimit": 2048000,
      "rowLimit": 10000
     },
     "inputWidgets": {},
     "nuid": "6e2e1780-03e2-4dea-8671-082e240807e2",
     "showTitle": false,
     "title": ""
    }
   },
   "outputs": [],
   "source": [
    "df = df.groupBy(\"customer_unique_id\").agg(\n",
    "    count(\"order_id\").alias(\"total_orders\"),\n",
    ")"
   ]
  },
  {
   "cell_type": "markdown",
   "metadata": {
    "application/vnd.databricks.v1+cell": {
     "cellMetadata": {
      "byteLimit": 2048000,
      "rowLimit": 10000
     },
     "inputWidgets": {},
     "nuid": "59cf648f-1755-4813-9059-337e3179a669",
     "showTitle": false,
     "title": ""
    }
   },
   "source": [
    "\n",
    "# 2.1 multiple_orders?\n",
    "\n",
    "informar se o cliente comprou mais de uma vez"
   ]
  },
  {
   "cell_type": "code",
   "execution_count": 0,
   "metadata": {
    "application/vnd.databricks.v1+cell": {
     "cellMetadata": {
      "byteLimit": 2048000,
      "rowLimit": 10000
     },
     "inputWidgets": {},
     "nuid": "62c4f910-a4dc-4315-9906-3e8078e0146a",
     "showTitle": false,
     "title": ""
    }
   },
   "outputs": [],
   "source": [
    "df = df.withColumn(\"multiple_order\", when(col(\"total_orders\") > 1, True).otherwise(False))"
   ]
  },
  {
   "cell_type": "code",
   "execution_count": 0,
   "metadata": {
    "application/vnd.databricks.v1+cell": {
     "cellMetadata": {
      "byteLimit": 2048000,
      "rowLimit": 10000
     },
     "inputWidgets": {},
     "nuid": "3b985c98-2abd-49a8-a466-ee5bd4ca6950",
     "showTitle": false,
     "title": ""
    }
   },
   "outputs": [
    {
     "output_type": "display_data",
     "data": {
      "text/html": [
       "<style scoped>\n",
       "  .table-result-container {\n",
       "    max-height: 300px;\n",
       "    overflow: auto;\n",
       "  }\n",
       "  table, th, td {\n",
       "    border: 1px solid black;\n",
       "    border-collapse: collapse;\n",
       "  }\n",
       "  th, td {\n",
       "    padding: 5px;\n",
       "  }\n",
       "  th {\n",
       "    text-align: left;\n",
       "  }\n",
       "</style><div class='table-result-container'><table class='table-result'><thead style='background-color: white'><tr><th>customer_unique_id</th><th>total_orders</th><th>multiple_order</th></tr></thead><tbody><tr><td>969cdc8af5b07074766e79c1e6d76c24</td><td>1</td><td>false</td></tr><tr><td>f2a9bc9a1db05c873e1419654f747f9e</td><td>1</td><td>false</td></tr><tr><td>d0c5e56e04e886e73c79b3b71f0d6f0b</td><td>1</td><td>false</td></tr><tr><td>5f03b965e26e79a371d229cfeeb578d7</td><td>1</td><td>false</td></tr><tr><td>14a188558af6cd5bc222ca773d395a7f</td><td>2</td><td>true</td></tr><tr><td>ef1c2fafea5285a4bfb61386bc5e3154</td><td>1</td><td>false</td></tr><tr><td>d339ed835c9d8fd6b1e3c5cb60850bc5</td><td>1</td><td>false</td></tr><tr><td>39d6e50625a51a618c2cf02a026231c1</td><td>1</td><td>false</td></tr><tr><td>8d2fa65d968da66afc05f2e28250c9dc</td><td>1</td><td>false</td></tr><tr><td>d04921557f1cde4963c30a11dfb1719d</td><td>1</td><td>false</td></tr></tbody></table></div>"
      ]
     },
     "metadata": {
      "application/vnd.databricks.v1+output": {
       "addedWidgets": {},
       "aggData": [],
       "aggError": "",
       "aggOverflow": false,
       "aggSchema": [],
       "aggSeriesLimitReached": false,
       "aggType": "",
       "arguments": {},
       "columnCustomDisplayInfos": {},
       "data": [
        [
         "969cdc8af5b07074766e79c1e6d76c24",
         1,
         false
        ],
        [
         "f2a9bc9a1db05c873e1419654f747f9e",
         1,
         false
        ],
        [
         "d0c5e56e04e886e73c79b3b71f0d6f0b",
         1,
         false
        ],
        [
         "5f03b965e26e79a371d229cfeeb578d7",
         1,
         false
        ],
        [
         "14a188558af6cd5bc222ca773d395a7f",
         2,
         true
        ],
        [
         "ef1c2fafea5285a4bfb61386bc5e3154",
         1,
         false
        ],
        [
         "d339ed835c9d8fd6b1e3c5cb60850bc5",
         1,
         false
        ],
        [
         "39d6e50625a51a618c2cf02a026231c1",
         1,
         false
        ],
        [
         "8d2fa65d968da66afc05f2e28250c9dc",
         1,
         false
        ],
        [
         "d04921557f1cde4963c30a11dfb1719d",
         1,
         false
        ]
       ],
       "datasetInfos": [],
       "dbfsResultPath": null,
       "isJsonSchema": true,
       "metadata": {},
       "overflow": false,
       "plotOptions": {
        "customPlotOptions": {},
        "displayType": "table",
        "pivotAggregation": null,
        "pivotColumns": null,
        "xColumns": null,
        "yColumns": null
       },
       "removedWidgets": [],
       "schema": [
        {
         "metadata": "{}",
         "name": "customer_unique_id",
         "type": "\"string\""
        },
        {
         "metadata": "{}",
         "name": "total_orders",
         "type": "\"long\""
        },
        {
         "metadata": "{}",
         "name": "multiple_order",
         "type": "\"boolean\""
        }
       ],
       "type": "table"
      }
     },
     "output_type": "display_data"
    }
   ],
   "source": [
    "display(df.take(10))"
   ]
  },
  {
   "cell_type": "markdown",
   "metadata": {
    "application/vnd.databricks.v1+cell": {
     "cellMetadata": {
      "byteLimit": 2048000,
      "rowLimit": 10000
     },
     "inputWidgets": {},
     "nuid": "179d0374-6a21-4114-ad59-ee923b817809",
     "showTitle": false,
     "title": ""
    }
   },
   "source": [
    "\n",
    "## Saving data"
   ]
  },
  {
   "cell_type": "code",
   "execution_count": 0,
   "metadata": {
    "application/vnd.databricks.v1+cell": {
     "cellMetadata": {
      "byteLimit": 2048000,
      "rowLimit": 10000
     },
     "inputWidgets": {},
     "nuid": "a82009ed-f82f-4587-b629-fec7876f4760",
     "showTitle": false,
     "title": ""
    }
   },
   "outputs": [
    {
     "output_type": "stream",
     "name": "stdout",
     "output_type": "stream",
     "text": [
      "[LOG] Saving gold.olist_multiple_orders delta on dbfs:/FileStore/delta/gold/brazilian_ecommerce/olist_multiple_orders_dataset... OK!\n"
     ]
    }
   ],
   "source": [
    "save_dataframe(df, format_mode=\"delta\", table_name=tb_name, target_location=target_location)"
   ]
  },
  {
   "cell_type": "markdown",
   "metadata": {
    "application/vnd.databricks.v1+cell": {
     "cellMetadata": {
      "byteLimit": 2048000,
      "rowLimit": 10000
     },
     "inputWidgets": {},
     "nuid": "6b96b521-aee7-459d-85ae-a32a903a7d3e",
     "showTitle": false,
     "title": ""
    }
   },
   "source": [
    "\n",
    "## create delta table\n",
    "\n",
    "TODO: implementar UPSERT\n",
    "\n",
    "o upsert serve para não precisar reescrever todos os dados, mas aproveitar do Delta para fazer um MERGE, caso um registro antigo tenha uma nova versão e INSERT para os dados que são novos"
   ]
  },
  {
   "cell_type": "code",
   "execution_count": 0,
   "metadata": {
    "application/vnd.databricks.v1+cell": {
     "cellMetadata": {
      "byteLimit": 2048000,
      "rowLimit": 10000
     },
     "inputWidgets": {},
     "nuid": "8b2284f0-ce7b-4840-a390-74419b4f36d7",
     "showTitle": false,
     "title": ""
    }
   },
   "outputs": [
    {
     "output_type": "stream",
     "name": "stdout",
     "output_type": "stream",
     "text": [
      "[LOG] Creating delta table gold.olist_multiple_orders on dbfs:/FileStore/delta/gold/brazilian_ecommerce/olist_multiple_orders_dataset... OK!\n"
     ]
    }
   ],
   "source": [
    "create_table(table_name=tb_name, target_location=target_location)"
   ]
  },
  {
   "cell_type": "code",
   "execution_count": 0,
   "metadata": {
    "application/vnd.databricks.v1+cell": {
     "cellMetadata": {
      "byteLimit": 2048000,
      "rowLimit": 10000
     },
     "inputWidgets": {},
     "nuid": "6d750262-c18d-40f0-b749-4b56b374587a",
     "showTitle": false,
     "title": ""
    }
   },
   "outputs": [],
   "source": [
    "# exit para fechar a execução\n",
    "dbutils.notebook.exit(\"OK\")"
   ]
  },
  {
   "cell_type": "code",
   "execution_count": 0,
   "metadata": {
    "application/vnd.databricks.v1+cell": {
     "cellMetadata": {
      "byteLimit": 2048000,
      "implicitDf": true,
      "rowLimit": 10000
     },
     "inputWidgets": {},
     "nuid": "d3e058eb-d93a-4c2d-874f-f0020f7145ac",
     "showTitle": false,
     "title": ""
    }
   },
   "outputs": [
    {
     "output_type": "display_data",
     "data": {
      "text/html": [
       "<style scoped>\n",
       "  .table-result-container {\n",
       "    max-height: 300px;\n",
       "    overflow: auto;\n",
       "  }\n",
       "  table, th, td {\n",
       "    border: 1px solid black;\n",
       "    border-collapse: collapse;\n",
       "  }\n",
       "  th, td {\n",
       "    padding: 5px;\n",
       "  }\n",
       "  th {\n",
       "    text-align: left;\n",
       "  }\n",
       "</style><div class='table-result-container'><table class='table-result'><thead style='background-color: white'><tr><th>customer_unique_id</th><th>total_orders</th><th>multiple_order</th></tr></thead><tbody><tr><td>969cdc8af5b07074766e79c1e6d76c24</td><td>1</td><td>false</td></tr><tr><td>f2a9bc9a1db05c873e1419654f747f9e</td><td>1</td><td>false</td></tr><tr><td>d0c5e56e04e886e73c79b3b71f0d6f0b</td><td>1</td><td>false</td></tr><tr><td>5f03b965e26e79a371d229cfeeb578d7</td><td>1</td><td>false</td></tr><tr><td>14a188558af6cd5bc222ca773d395a7f</td><td>2</td><td>true</td></tr><tr><td>ef1c2fafea5285a4bfb61386bc5e3154</td><td>1</td><td>false</td></tr><tr><td>d339ed835c9d8fd6b1e3c5cb60850bc5</td><td>1</td><td>false</td></tr><tr><td>39d6e50625a51a618c2cf02a026231c1</td><td>1</td><td>false</td></tr><tr><td>8d2fa65d968da66afc05f2e28250c9dc</td><td>1</td><td>false</td></tr><tr><td>d04921557f1cde4963c30a11dfb1719d</td><td>1</td><td>false</td></tr></tbody></table></div>"
      ]
     },
     "metadata": {
      "application/vnd.databricks.v1+output": {
       "addedWidgets": {},
       "aggData": [],
       "aggError": "",
       "aggOverflow": false,
       "aggSchema": [],
       "aggSeriesLimitReached": false,
       "aggType": "",
       "arguments": {},
       "columnCustomDisplayInfos": {},
       "data": [
        [
         "969cdc8af5b07074766e79c1e6d76c24",
         1,
         false
        ],
        [
         "f2a9bc9a1db05c873e1419654f747f9e",
         1,
         false
        ],
        [
         "d0c5e56e04e886e73c79b3b71f0d6f0b",
         1,
         false
        ],
        [
         "5f03b965e26e79a371d229cfeeb578d7",
         1,
         false
        ],
        [
         "14a188558af6cd5bc222ca773d395a7f",
         2,
         true
        ],
        [
         "ef1c2fafea5285a4bfb61386bc5e3154",
         1,
         false
        ],
        [
         "d339ed835c9d8fd6b1e3c5cb60850bc5",
         1,
         false
        ],
        [
         "39d6e50625a51a618c2cf02a026231c1",
         1,
         false
        ],
        [
         "8d2fa65d968da66afc05f2e28250c9dc",
         1,
         false
        ],
        [
         "d04921557f1cde4963c30a11dfb1719d",
         1,
         false
        ]
       ],
       "datasetInfos": [],
       "dbfsResultPath": null,
       "isJsonSchema": true,
       "metadata": {
        "dataframeName": "_sqldf",
        "executionCount": 16
       },
       "overflow": false,
       "plotOptions": {
        "customPlotOptions": {},
        "displayType": "table",
        "pivotAggregation": null,
        "pivotColumns": null,
        "xColumns": null,
        "yColumns": null
       },
       "removedWidgets": [],
       "schema": [
        {
         "metadata": "{}",
         "name": "customer_unique_id",
         "type": "\"string\""
        },
        {
         "metadata": "{}",
         "name": "total_orders",
         "type": "\"long\""
        },
        {
         "metadata": "{}",
         "name": "multiple_order",
         "type": "\"boolean\""
        }
       ],
       "type": "table"
      }
     },
     "output_type": "display_data"
    }
   ],
   "source": [
    "%sql\n",
    "\n",
    "select * from gold.olist_multiple_orders limit 10"
   ]
  },
  {
   "cell_type": "code",
   "execution_count": 0,
   "metadata": {
    "application/vnd.databricks.v1+cell": {
     "cellMetadata": {
      "byteLimit": 2048000,
      "rowLimit": 10000
     },
     "inputWidgets": {},
     "nuid": "f45863da-2a6e-453f-bb3b-27ddf95d994c",
     "showTitle": false,
     "title": ""
    }
   },
   "outputs": [],
   "source": []
  }
 ],
 "metadata": {
  "application/vnd.databricks.v1+notebook": {
   "dashboards": [],
   "language": "python",
   "notebookMetadata": {
    "mostRecentlyExecutedCommandWithImplicitDF": {
     "commandId": 4240245637786472,
     "dataframes": [
      "_sqldf"
     ]
    },
    "pythonIndentUnit": 4
   },
   "notebookName": "gold_multiple_orders",
   "widgets": {}
  }
 },
 "nbformat": 4,
 "nbformat_minor": 0
}
