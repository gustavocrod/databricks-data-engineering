{
 "cells": [
  {
   "cell_type": "code",
   "execution_count": 0,
   "metadata": {
    "application/vnd.databricks.v1+cell": {
     "cellMetadata": {
      "byteLimit": 2048000,
      "rowLimit": 10000
     },
     "inputWidgets": {},
     "nuid": "b1710e7f-be45-4d2f-ae8b-3f46af28e5b4",
     "showTitle": false,
     "title": ""
    }
   },
   "outputs": [
    {
     "output_type": "stream",
     "name": "stdout",
     "output_type": "stream",
     "text": [
      "\u001B[43mNote: you may need to restart the kernel using dbutils.library.restartPython() to use updated packages.\u001B[0m\nCollecting unidecode\n  Using cached Unidecode-1.3.8-py3-none-any.whl (235 kB)\nInstalling collected packages: unidecode\nSuccessfully installed unidecode-1.3.8\n\u001B[43mNote: you may need to restart the kernel using dbutils.library.restartPython() to use updated packages.\u001B[0m\n"
     ]
    }
   ],
   "source": [
    "%run ../../_utils"
   ]
  },
  {
   "cell_type": "code",
   "execution_count": 0,
   "metadata": {
    "application/vnd.databricks.v1+cell": {
     "cellMetadata": {
      "byteLimit": 2048000,
      "rowLimit": 10000
     },
     "inputWidgets": {},
     "nuid": "e6b5a612-163f-403d-9149-793f110401d7",
     "showTitle": false,
     "title": ""
    }
   },
   "outputs": [],
   "source": [
    "from pyspark.sql.functions import when, to_date, col, dayofweek, max, collect_set, sum\n",
    "from pyspark.sql.types import StringType, BooleanType"
   ]
  },
  {
   "cell_type": "markdown",
   "metadata": {
    "application/vnd.databricks.v1+cell": {
     "cellMetadata": {
      "byteLimit": 2048000,
      "rowLimit": 10000
     },
     "inputWidgets": {},
     "nuid": "5f9235ec-ac0c-4f2c-962e-edc87f6e86a1",
     "showTitle": false,
     "title": ""
    }
   },
   "source": [
    "\n",
    "# Camada GOLD\n",
    "\n",
    "Na camada gold, as limpezas e ajustes já foram feitos, então essa camada é responsável por aplicar regras de negócio, agregações e junções de dados que convirjam para analises."
   ]
  },
  {
   "cell_type": "code",
   "execution_count": 0,
   "metadata": {
    "application/vnd.databricks.v1+cell": {
     "cellMetadata": {
      "byteLimit": 2048000,
      "rowLimit": 10000
     },
     "inputWidgets": {},
     "nuid": "3707d12a-f42c-46de-981f-f50750230449",
     "showTitle": false,
     "title": ""
    }
   },
   "outputs": [],
   "source": [
    "tb_name = \"gold.olist_orders\"\n",
    "dataset_location = \"olist_orders_dataset\"\n",
    "target_location = f\"dbfs:/FileStore/delta/gold/brazilian_ecommerce/{dataset_location}\""
   ]
  },
  {
   "cell_type": "markdown",
   "metadata": {
    "application/vnd.databricks.v1+cell": {
     "cellMetadata": {
      "byteLimit": 2048000,
      "rowLimit": 10000
     },
     "inputWidgets": {},
     "nuid": "5f3d216e-533d-437a-a6d6-9ab063d7c8cb",
     "showTitle": false,
     "title": ""
    }
   },
   "source": [
    "## 1 - Data ingestion\n",
    "\n",
    "Conforme o schema disponibilizado, iremos agregar os dados em uma big table que permitirá ~quase~ todas as analises subsequentes\n",
    "\n",
    "Apenas para fins de teste, iremos agregar apenas reviews e payments à table \"fact\" orders;\n",
    "Portanto, iremos carregar essas tabelas\n"
   ]
  },
  {
   "cell_type": "code",
   "execution_count": 0,
   "metadata": {
    "application/vnd.databricks.v1+cell": {
     "cellMetadata": {
      "byteLimit": 2048000,
      "rowLimit": 10000
     },
     "inputWidgets": {},
     "nuid": "6af57b81-ca1d-4b16-9371-65dbf824d43d",
     "showTitle": false,
     "title": ""
    }
   },
   "outputs": [],
   "source": [
    "df_orders = spark.read.table(\"silver.olist_orders\") # leituira da delta table central, orders\n",
    "df_order_reviews = spark.read.table(\"silver.olist_order_reviews\") # leituira da delta table \"dim\" reviews\n",
    "df_order_payments = spark.read.table(\"silver.olist_order_payments\") # leituira da delta table \"dim\" payments\n",
    "#df_order_items = spark.sql(\"select * from silver.olist_order_items\") # leitura de outra maneira, da delta table \"dim\" items"
   ]
  },
  {
   "cell_type": "markdown",
   "metadata": {
    "application/vnd.databricks.v1+cell": {
     "cellMetadata": {
      "byteLimit": 2048000,
      "rowLimit": 10000
     },
     "inputWidgets": {},
     "nuid": "c956a4c8-f3e5-4915-8e7f-93d65c05bff8",
     "showTitle": false,
     "title": ""
    }
   },
   "source": [
    "\n",
    "## 2 - preparation"
   ]
  },
  {
   "cell_type": "markdown",
   "metadata": {
    "application/vnd.databricks.v1+cell": {
     "cellMetadata": {
      "byteLimit": 2048000,
      "rowLimit": 10000
     },
     "inputWidgets": {},
     "nuid": "98084d9e-2502-499c-b300-3ea4f04d7ea8",
     "showTitle": false,
     "title": ""
    }
   },
   "source": [
    "\n",
    "### 2.1 order_payments\n",
    "\n",
    "uma order_id pode ter várias formas de pagamento (geralmente vouchs).  cada pagamento gera um registro\n",
    "\n",
    "Então iremos agregar, somando em valor de pagamento e pegando o max payment_sequential"
   ]
  },
  {
   "cell_type": "code",
   "execution_count": 0,
   "metadata": {
    "application/vnd.databricks.v1+cell": {
     "cellMetadata": {
      "byteLimit": 2048000,
      "rowLimit": 10000
     },
     "inputWidgets": {},
     "nuid": "6e2e1780-03e2-4dea-8671-082e240807e2",
     "showTitle": false,
     "title": ""
    }
   },
   "outputs": [],
   "source": [
    "df_order_payments = df_order_payments.groupBy(\"order_id\").agg(\n",
    "    max(\"payment_sequential\").alias(\"total_payment_sequential\"),\n",
    "    sum(\"payment_value\").alias(\"total_payment_value\"),\n",
    "    collect_set(\"payment_type\").alias(\"payment_types\"),\n",
    ")"
   ]
  },
  {
   "cell_type": "markdown",
   "metadata": {
    "application/vnd.databricks.v1+cell": {
     "cellMetadata": {
      "byteLimit": 2048000,
      "rowLimit": 10000
     },
     "inputWidgets": {},
     "nuid": "f67c2055-9942-4c9c-b6f1-53130731bacc",
     "showTitle": false,
     "title": ""
    }
   },
   "source": [
    "\n",
    "### 2.2 order_reviews\n",
    "\n",
    "podemos perceber que existem casos onde existe mais de um review para um mesmo order_id"
   ]
  },
  {
   "cell_type": "markdown",
   "metadata": {
    "application/vnd.databricks.v1+cell": {
     "cellMetadata": {
      "byteLimit": 2048000,
      "rowLimit": 10000
     },
     "inputWidgets": {},
     "nuid": "9a17b7c1-8059-49b2-86a2-be2ac70acceb",
     "showTitle": false,
     "title": ""
    }
   },
   "source": [
    "\n",
    "## 2 - Data Join"
   ]
  },
  {
   "cell_type": "code",
   "execution_count": 0,
   "metadata": {
    "application/vnd.databricks.v1+cell": {
     "cellMetadata": {
      "byteLimit": 2048000,
      "rowLimit": 10000
     },
     "inputWidgets": {},
     "nuid": "276a1ca7-3ca0-40e9-8a9a-09cd9c40a75b",
     "showTitle": false,
     "title": ""
    }
   },
   "outputs": [
    {
     "output_type": "stream",
     "name": "stdout",
     "output_type": "stream",
     "text": [
      "Total de registros ANTES da agregação 99441\n"
     ]
    }
   ],
   "source": [
    "print(f\"Total de registros ANTES da agregação {df_orders.count()}\")"
   ]
  },
  {
   "cell_type": "code",
   "execution_count": 0,
   "metadata": {
    "application/vnd.databricks.v1+cell": {
     "cellMetadata": {
      "byteLimit": 2048000,
      "rowLimit": 10000
     },
     "inputWidgets": {},
     "nuid": "0f0950b4-035a-4753-8788-72db2dddc56d",
     "showTitle": false,
     "title": ""
    }
   },
   "outputs": [],
   "source": [
    "df = (df_orders\n",
    "      .join(df_order_payments, on=['order_id'], how='left')\n",
    "      .join(df_order_reviews, on=['order_id'], how='left'))"
   ]
  },
  {
   "cell_type": "code",
   "execution_count": 0,
   "metadata": {
    "application/vnd.databricks.v1+cell": {
     "cellMetadata": {
      "byteLimit": 2048000,
      "rowLimit": 10000
     },
     "inputWidgets": {},
     "nuid": "ca423846-d988-435b-a96c-5d044964b990",
     "showTitle": false,
     "title": ""
    }
   },
   "outputs": [
    {
     "output_type": "stream",
     "name": "stdout",
     "output_type": "stream",
     "text": [
      "Total de registros DEPOIS da agregação 99992\n"
     ]
    }
   ],
   "source": [
    "print(f\"Total de registros DEPOIS da agregação {df.count()}\")"
   ]
  },
  {
   "cell_type": "code",
   "execution_count": 0,
   "metadata": {
    "application/vnd.databricks.v1+cell": {
     "cellMetadata": {
      "byteLimit": 2048000,
      "rowLimit": 10000
     },
     "inputWidgets": {},
     "nuid": "29f4ff13-779e-4b5a-9ffc-1417ccb436aa",
     "showTitle": false,
     "title": ""
    }
   },
   "outputs": [
    {
     "output_type": "display_data",
     "data": {
      "text/html": [
       "<style scoped>\n",
       "  .table-result-container {\n",
       "    max-height: 300px;\n",
       "    overflow: auto;\n",
       "  }\n",
       "  table, th, td {\n",
       "    border: 1px solid black;\n",
       "    border-collapse: collapse;\n",
       "  }\n",
       "  th, td {\n",
       "    padding: 5px;\n",
       "  }\n",
       "  th {\n",
       "    text-align: left;\n",
       "  }\n",
       "</style><div class='table-result-container'><table class='table-result'><thead style='background-color: white'><tr><th>order_id</th><th>customer_id</th><th>order_status</th><th>order_purchase_timestamp</th><th>order_approved_at</th><th>order_delivered_carrier_date</th><th>order_delivered_customer_date</th><th>order_estimated_delivery_date</th><th>month_year</th><th>order_purchase_month</th><th>order_purchase_year</th><th>minutes_to_approve</th><th>days_to_deliver</th><th>hours_to_deliver</th><th>total_elapsed_days</th><th>total_elapsed_hours</th><th>overdue</th><th>delay_hours</th><th>delay_days</th><th>number_day_of_week</th><th>day_of_week</th><th>weekend</th><th>total_payment_sequential</th><th>total_payment_value</th><th>payment_types</th><th>review_id</th><th>review_score</th><th>review_comment_title</th><th>review_comment_message</th><th>review_creation_date</th><th>review_answer_timestamp</th></tr></thead><tbody><tr><td>e481f51cbdc54678b7cc49136f2d6af7</td><td>9ef432eb6251297304e76186b10a928d</td><td>delivered</td><td>2017-10-02T10:56:33Z</td><td>2017-10-02T11:07:15Z</td><td>2017-10-04T19:55:00Z</td><td>2017-10-10T21:25:13Z</td><td>2017-10-18T00:00:00Z</td><td>10-2017</td><td>10</td><td>2017</td><td>10.7</td><td>6.06</td><td>145.5</td><td>8.44</td><td>202.48</td><td>false</td><td>0.0</td><td>0.0</td><td>2</td><td>Segunda-feira</td><td>false</td><td>3</td><td>38.71</td><td>List(credit_card, voucher)</td><td>a54f0611adc9ed256b57ede6b6eb5114</td><td>4</td><td>null</td><td>Não testei o produto ainda, mas ele veio correto e em boas condições. Apenas a caixa que veio bem amassada e danificada, o que ficará chato, pois se trata de um presente.</td><td>2017-10-11</td><td>2017-10-12T03:43:48Z</td></tr><tr><td>53cdb2fc8bc7dce0b6741e2150273451</td><td>b0830fb4747a6c6d20dea0b8c802d7ef</td><td>delivered</td><td>2018-07-24T20:41:37Z</td><td>2018-07-26T03:24:27Z</td><td>2018-07-26T14:31:00Z</td><td>2018-08-07T15:27:45Z</td><td>2018-08-13T00:00:00Z</td><td>07-2018</td><td>7</td><td>2018</td><td>1842.83</td><td>12.04</td><td>288.95</td><td>13.78</td><td>330.77</td><td>false</td><td>0.0</td><td>0.0</td><td>3</td><td>Terça-feira</td><td>false</td><td>1</td><td>141.46</td><td>List(boleto)</td><td>8d5266042046a06655c8db133d120ba5</td><td>4</td><td>Muito boa a loja</td><td>Muito bom o produto.</td><td>2018-08-08</td><td>2018-08-08T18:37:50Z</td></tr><tr><td>47770eb9100c2d0c44946d9cf07ec65d</td><td>41ce2a54c0b03bf3443c3d931a367089</td><td>delivered</td><td>2018-08-08T08:38:49Z</td><td>2018-08-08T08:55:23Z</td><td>2018-08-08T13:50:00Z</td><td>2018-08-17T18:06:29Z</td><td>2018-09-04T00:00:00Z</td><td>08-2018</td><td>8</td><td>2018</td><td>16.57</td><td>9.18</td><td>220.27</td><td>9.39</td><td>225.46</td><td>false</td><td>0.0</td><td>0.0</td><td>4</td><td>Quarta-feira</td><td>false</td><td>1</td><td>179.12</td><td>List(credit_card)</td><td>e73b67b67587f7644d5bd1a52deb1b01</td><td>5</td><td>null</td><td>null</td><td>2018-08-18</td><td>2018-08-22T19:07:58Z</td></tr><tr><td>949d5b44dbf5de918fe9c16f97b45f8a</td><td>f88197465ea7920adcdbec7375364d82</td><td>delivered</td><td>2017-11-18T19:28:06Z</td><td>2017-11-18T19:45:59Z</td><td>2017-11-22T13:39:59Z</td><td>2017-12-02T00:28:42Z</td><td>2017-12-15T00:00:00Z</td><td>11-2017</td><td>11</td><td>2017</td><td>17.88</td><td>9.45</td><td>226.81</td><td>13.21</td><td>317.01</td><td>false</td><td>0.0</td><td>0.0</td><td>7</td><td>Sábado</td><td>true</td><td>1</td><td>72.2</td><td>List(credit_card)</td><td>359d03e676b3c069f62cadba8dd3f6e8</td><td>5</td><td>null</td><td>O produto foi exatamente o que eu esperava e estava descrito no site e chegou bem antes da data prevista.</td><td>2017-12-03</td><td>2017-12-05T19:21:58Z</td></tr><tr><td>ad21c59c0840e6cb83a9ceb5573f8159</td><td>8ab97904e6daea8866dbdbc4fb7aad2c</td><td>delivered</td><td>2018-02-13T21:18:39Z</td><td>2018-02-13T22:20:29Z</td><td>2018-02-14T19:46:34Z</td><td>2018-02-16T18:17:02Z</td><td>2018-02-26T00:00:00Z</td><td>02-2018</td><td>2</td><td>2018</td><td>61.83</td><td>1.94</td><td>46.51</td><td>2.87</td><td>68.97</td><td>false</td><td>0.0</td><td>0.0</td><td>3</td><td>Terça-feira</td><td>false</td><td>1</td><td>28.62</td><td>List(credit_card)</td><td>e50934924e227544ba8246aeb3770dd4</td><td>5</td><td>null</td><td>null</td><td>2018-02-17</td><td>2018-02-18T13:02:51Z</td></tr><tr><td>a4591c265e18cb1dcee52889e2d8acc3</td><td>503740e9ca751ccdda7ba28e9ab8f608</td><td>delivered</td><td>2017-07-09T21:57:05Z</td><td>2017-07-09T22:10:13Z</td><td>2017-07-11T14:58:04Z</td><td>2017-07-26T10:57:55Z</td><td>2017-08-01T00:00:00Z</td><td>07-2017</td><td>7</td><td>2017</td><td>13.13</td><td>14.83</td><td>356.0</td><td>16.54</td><td>397.01</td><td>false</td><td>0.0</td><td>0.0</td><td>1</td><td>Domingo</td><td>true</td><td>1</td><td>175.26</td><td>List(credit_card)</td><td>89b738e70a1ce346db29a20fb2910161</td><td>4</td><td>null</td><td>null</td><td>2017-07-27</td><td>2017-07-27T22:48:30Z</td></tr><tr><td>136cce7faa42fdb2cefd53fdc79a6098</td><td>ed0271e0b7da060a393796590e7b737a</td><td>invoiced</td><td>2017-04-11T12:22:08Z</td><td>2017-04-13T13:25:17Z</td><td>null</td><td>null</td><td>2017-05-09T00:00:00Z</td><td>04-2017</td><td>4</td><td>2017</td><td>2943.15</td><td>null</td><td>null</td><td>null</td><td>null</td><td>false</td><td>0.0</td><td>0.0</td><td>3</td><td>Terça-feira</td><td>false</td><td>1</td><td>65.95</td><td>List(credit_card)</td><td>e07549ef5311abcc92ba1784b093fb56</td><td>2</td><td>null</td><td>fiquei triste por n ter me atendido.</td><td>2017-05-13</td><td>2017-05-13T20:25:42Z</td></tr><tr><td>6514b8ad8028c9f2cc2374ded245783f</td><td>9bdf08b4b3b52b5526ff42d37d47f222</td><td>delivered</td><td>2017-05-16T13:10:30Z</td><td>2017-05-16T13:22:11Z</td><td>2017-05-22T10:07:46Z</td><td>2017-05-26T12:55:51Z</td><td>2017-06-07T00:00:00Z</td><td>05-2017</td><td>5</td><td>2017</td><td>11.68</td><td>4.12</td><td>98.8</td><td>9.99</td><td>239.76</td><td>false</td><td>0.0</td><td>0.0</td><td>3</td><td>Terça-feira</td><td>false</td><td>1</td><td>75.16</td><td>List(credit_card)</td><td>07d67dd06ed5f88bef11ef6b464e79ae</td><td>5</td><td>null</td><td>null</td><td>2017-05-27</td><td>2017-05-28T02:59:57Z</td></tr><tr><td>76c6e866289321a7c93b82b54852dc33</td><td>f54a9f0e6b351c431402b8461ea51999</td><td>delivered</td><td>2017-01-23T18:29:09Z</td><td>2017-01-25T02:50:47Z</td><td>2017-01-26T14:16:31Z</td><td>2017-02-02T14:08:10Z</td><td>2017-03-06T00:00:00Z</td><td>01-2017</td><td>1</td><td>2017</td><td>1941.63</td><td>6.99</td><td>167.86</td><td>9.82</td><td>235.65</td><td>false</td><td>0.0</td><td>0.0</td><td>2</td><td>Segunda-feira</td><td>false</td><td>1</td><td>35.95</td><td>List(boleto)</td><td>fc4af8aea8ec3f1a3cd181d3d0cadbd5</td><td>1</td><td>null</td><td>null</td><td>2017-02-03</td><td>2017-02-05T01:58:35Z</td></tr><tr><td>e69bfb5eb88e0ed6a785585b27e16dbf</td><td>31ad1d1b63eb9962463f764d4e6e0c9d</td><td>delivered</td><td>2017-07-29T11:55:02Z</td><td>2017-07-29T12:05:32Z</td><td>2017-08-10T19:45:24Z</td><td>2017-08-16T17:14:30Z</td><td>2017-08-23T00:00:00Z</td><td>07-2017</td><td>7</td><td>2017</td><td>10.5</td><td>5.9</td><td>141.49</td><td>18.22</td><td>437.32</td><td>false</td><td>0.0</td><td>0.0</td><td>7</td><td>Sábado</td><td>true</td><td>2</td><td>169.76</td><td>List(voucher, credit_card)</td><td>abc5655186d40772bd6e410420e6a3ed</td><td>5</td><td>null</td><td>null</td><td>2017-08-17</td><td>2017-08-18T01:47:32Z</td></tr></tbody></table></div>"
      ]
     },
     "metadata": {
      "application/vnd.databricks.v1+output": {
       "addedWidgets": {},
       "aggData": [],
       "aggError": "",
       "aggOverflow": false,
       "aggSchema": [],
       "aggSeriesLimitReached": false,
       "aggType": "",
       "arguments": {},
       "columnCustomDisplayInfos": {},
       "data": [
        [
         "e481f51cbdc54678b7cc49136f2d6af7",
         "9ef432eb6251297304e76186b10a928d",
         "delivered",
         "2017-10-02T10:56:33Z",
         "2017-10-02T11:07:15Z",
         "2017-10-04T19:55:00Z",
         "2017-10-10T21:25:13Z",
         "2017-10-18T00:00:00Z",
         "10-2017",
         10,
         2017,
         10.7,
         6.06,
         145.5,
         8.44,
         202.48,
         false,
         0.0,
         0.0,
         2,
         "Segunda-feira",
         false,
         3,
         38.71,
         [
          "credit_card",
          "voucher"
         ],
         "a54f0611adc9ed256b57ede6b6eb5114",
         4,
         null,
         "Não testei o produto ainda, mas ele veio correto e em boas condições. Apenas a caixa que veio bem amassada e danificada, o que ficará chato, pois se trata de um presente.",
         "2017-10-11",
         "2017-10-12T03:43:48Z"
        ],
        [
         "53cdb2fc8bc7dce0b6741e2150273451",
         "b0830fb4747a6c6d20dea0b8c802d7ef",
         "delivered",
         "2018-07-24T20:41:37Z",
         "2018-07-26T03:24:27Z",
         "2018-07-26T14:31:00Z",
         "2018-08-07T15:27:45Z",
         "2018-08-13T00:00:00Z",
         "07-2018",
         7,
         2018,
         1842.83,
         12.04,
         288.95,
         13.78,
         330.77,
         false,
         0.0,
         0.0,
         3,
         "Terça-feira",
         false,
         1,
         141.46,
         [
          "boleto"
         ],
         "8d5266042046a06655c8db133d120ba5",
         4,
         "Muito boa a loja",
         "Muito bom o produto.",
         "2018-08-08",
         "2018-08-08T18:37:50Z"
        ],
        [
         "47770eb9100c2d0c44946d9cf07ec65d",
         "41ce2a54c0b03bf3443c3d931a367089",
         "delivered",
         "2018-08-08T08:38:49Z",
         "2018-08-08T08:55:23Z",
         "2018-08-08T13:50:00Z",
         "2018-08-17T18:06:29Z",
         "2018-09-04T00:00:00Z",
         "08-2018",
         8,
         2018,
         16.57,
         9.18,
         220.27,
         9.39,
         225.46,
         false,
         0.0,
         0.0,
         4,
         "Quarta-feira",
         false,
         1,
         179.12,
         [
          "credit_card"
         ],
         "e73b67b67587f7644d5bd1a52deb1b01",
         5,
         null,
         null,
         "2018-08-18",
         "2018-08-22T19:07:58Z"
        ],
        [
         "949d5b44dbf5de918fe9c16f97b45f8a",
         "f88197465ea7920adcdbec7375364d82",
         "delivered",
         "2017-11-18T19:28:06Z",
         "2017-11-18T19:45:59Z",
         "2017-11-22T13:39:59Z",
         "2017-12-02T00:28:42Z",
         "2017-12-15T00:00:00Z",
         "11-2017",
         11,
         2017,
         17.88,
         9.45,
         226.81,
         13.21,
         317.01,
         false,
         0.0,
         0.0,
         7,
         "Sábado",
         true,
         1,
         72.2,
         [
          "credit_card"
         ],
         "359d03e676b3c069f62cadba8dd3f6e8",
         5,
         null,
         "O produto foi exatamente o que eu esperava e estava descrito no site e chegou bem antes da data prevista.",
         "2017-12-03",
         "2017-12-05T19:21:58Z"
        ],
        [
         "ad21c59c0840e6cb83a9ceb5573f8159",
         "8ab97904e6daea8866dbdbc4fb7aad2c",
         "delivered",
         "2018-02-13T21:18:39Z",
         "2018-02-13T22:20:29Z",
         "2018-02-14T19:46:34Z",
         "2018-02-16T18:17:02Z",
         "2018-02-26T00:00:00Z",
         "02-2018",
         2,
         2018,
         61.83,
         1.94,
         46.51,
         2.87,
         68.97,
         false,
         0.0,
         0.0,
         3,
         "Terça-feira",
         false,
         1,
         28.62,
         [
          "credit_card"
         ],
         "e50934924e227544ba8246aeb3770dd4",
         5,
         null,
         null,
         "2018-02-17",
         "2018-02-18T13:02:51Z"
        ],
        [
         "a4591c265e18cb1dcee52889e2d8acc3",
         "503740e9ca751ccdda7ba28e9ab8f608",
         "delivered",
         "2017-07-09T21:57:05Z",
         "2017-07-09T22:10:13Z",
         "2017-07-11T14:58:04Z",
         "2017-07-26T10:57:55Z",
         "2017-08-01T00:00:00Z",
         "07-2017",
         7,
         2017,
         13.13,
         14.83,
         356.0,
         16.54,
         397.01,
         false,
         0.0,
         0.0,
         1,
         "Domingo",
         true,
         1,
         175.26,
         [
          "credit_card"
         ],
         "89b738e70a1ce346db29a20fb2910161",
         4,
         null,
         null,
         "2017-07-27",
         "2017-07-27T22:48:30Z"
        ],
        [
         "136cce7faa42fdb2cefd53fdc79a6098",
         "ed0271e0b7da060a393796590e7b737a",
         "invoiced",
         "2017-04-11T12:22:08Z",
         "2017-04-13T13:25:17Z",
         null,
         null,
         "2017-05-09T00:00:00Z",
         "04-2017",
         4,
         2017,
         2943.15,
         null,
         null,
         null,
         null,
         false,
         0.0,
         0.0,
         3,
         "Terça-feira",
         false,
         1,
         65.95,
         [
          "credit_card"
         ],
         "e07549ef5311abcc92ba1784b093fb56",
         2,
         null,
         "fiquei triste por n ter me atendido.",
         "2017-05-13",
         "2017-05-13T20:25:42Z"
        ],
        [
         "6514b8ad8028c9f2cc2374ded245783f",
         "9bdf08b4b3b52b5526ff42d37d47f222",
         "delivered",
         "2017-05-16T13:10:30Z",
         "2017-05-16T13:22:11Z",
         "2017-05-22T10:07:46Z",
         "2017-05-26T12:55:51Z",
         "2017-06-07T00:00:00Z",
         "05-2017",
         5,
         2017,
         11.68,
         4.12,
         98.8,
         9.99,
         239.76,
         false,
         0.0,
         0.0,
         3,
         "Terça-feira",
         false,
         1,
         75.16,
         [
          "credit_card"
         ],
         "07d67dd06ed5f88bef11ef6b464e79ae",
         5,
         null,
         null,
         "2017-05-27",
         "2017-05-28T02:59:57Z"
        ],
        [
         "76c6e866289321a7c93b82b54852dc33",
         "f54a9f0e6b351c431402b8461ea51999",
         "delivered",
         "2017-01-23T18:29:09Z",
         "2017-01-25T02:50:47Z",
         "2017-01-26T14:16:31Z",
         "2017-02-02T14:08:10Z",
         "2017-03-06T00:00:00Z",
         "01-2017",
         1,
         2017,
         1941.63,
         6.99,
         167.86,
         9.82,
         235.65,
         false,
         0.0,
         0.0,
         2,
         "Segunda-feira",
         false,
         1,
         35.95,
         [
          "boleto"
         ],
         "fc4af8aea8ec3f1a3cd181d3d0cadbd5",
         1,
         null,
         null,
         "2017-02-03",
         "2017-02-05T01:58:35Z"
        ],
        [
         "e69bfb5eb88e0ed6a785585b27e16dbf",
         "31ad1d1b63eb9962463f764d4e6e0c9d",
         "delivered",
         "2017-07-29T11:55:02Z",
         "2017-07-29T12:05:32Z",
         "2017-08-10T19:45:24Z",
         "2017-08-16T17:14:30Z",
         "2017-08-23T00:00:00Z",
         "07-2017",
         7,
         2017,
         10.5,
         5.9,
         141.49,
         18.22,
         437.32,
         false,
         0.0,
         0.0,
         7,
         "Sábado",
         true,
         2,
         169.76,
         [
          "voucher",
          "credit_card"
         ],
         "abc5655186d40772bd6e410420e6a3ed",
         5,
         null,
         null,
         "2017-08-17",
         "2017-08-18T01:47:32Z"
        ]
       ],
       "datasetInfos": [],
       "dbfsResultPath": null,
       "isJsonSchema": true,
       "metadata": {},
       "overflow": false,
       "plotOptions": {
        "customPlotOptions": {},
        "displayType": "table",
        "pivotAggregation": null,
        "pivotColumns": null,
        "xColumns": null,
        "yColumns": null
       },
       "removedWidgets": [],
       "schema": [
        {
         "metadata": "{}",
         "name": "order_id",
         "type": "\"string\""
        },
        {
         "metadata": "{}",
         "name": "customer_id",
         "type": "\"string\""
        },
        {
         "metadata": "{}",
         "name": "order_status",
         "type": "\"string\""
        },
        {
         "metadata": "{}",
         "name": "order_purchase_timestamp",
         "type": "\"timestamp\""
        },
        {
         "metadata": "{}",
         "name": "order_approved_at",
         "type": "\"timestamp\""
        },
        {
         "metadata": "{}",
         "name": "order_delivered_carrier_date",
         "type": "\"timestamp\""
        },
        {
         "metadata": "{}",
         "name": "order_delivered_customer_date",
         "type": "\"timestamp\""
        },
        {
         "metadata": "{}",
         "name": "order_estimated_delivery_date",
         "type": "\"timestamp\""
        },
        {
         "metadata": "{}",
         "name": "month_year",
         "type": "\"string\""
        },
        {
         "metadata": "{}",
         "name": "order_purchase_month",
         "type": "\"long\""
        },
        {
         "metadata": "{}",
         "name": "order_purchase_year",
         "type": "\"long\""
        },
        {
         "metadata": "{}",
         "name": "minutes_to_approve",
         "type": "\"double\""
        },
        {
         "metadata": "{}",
         "name": "days_to_deliver",
         "type": "\"double\""
        },
        {
         "metadata": "{}",
         "name": "hours_to_deliver",
         "type": "\"double\""
        },
        {
         "metadata": "{}",
         "name": "total_elapsed_days",
         "type": "\"double\""
        },
        {
         "metadata": "{}",
         "name": "total_elapsed_hours",
         "type": "\"double\""
        },
        {
         "metadata": "{}",
         "name": "overdue",
         "type": "\"boolean\""
        },
        {
         "metadata": "{}",
         "name": "delay_hours",
         "type": "\"double\""
        },
        {
         "metadata": "{}",
         "name": "delay_days",
         "type": "\"double\""
        },
        {
         "metadata": "{}",
         "name": "number_day_of_week",
         "type": "\"long\""
        },
        {
         "metadata": "{}",
         "name": "day_of_week",
         "type": "\"string\""
        },
        {
         "metadata": "{}",
         "name": "weekend",
         "type": "\"boolean\""
        },
        {
         "metadata": "{}",
         "name": "total_payment_sequential",
         "type": "\"long\""
        },
        {
         "metadata": "{}",
         "name": "total_payment_value",
         "type": "\"double\""
        },
        {
         "metadata": "{}",
         "name": "payment_types",
         "type": "{\"type\":\"array\",\"elementType\":\"string\",\"containsNull\":true}"
        },
        {
         "metadata": "{}",
         "name": "review_id",
         "type": "\"string\""
        },
        {
         "metadata": "{}",
         "name": "review_score",
         "type": "\"long\""
        },
        {
         "metadata": "{}",
         "name": "review_comment_title",
         "type": "\"string\""
        },
        {
         "metadata": "{}",
         "name": "review_comment_message",
         "type": "\"string\""
        },
        {
         "metadata": "{}",
         "name": "review_creation_date",
         "type": "\"date\""
        },
        {
         "metadata": "{}",
         "name": "review_answer_timestamp",
         "type": "\"timestamp\""
        }
       ],
       "type": "table"
      }
     },
     "output_type": "display_data"
    }
   ],
   "source": [
    "display(df.take(10))"
   ]
  },
  {
   "cell_type": "markdown",
   "metadata": {
    "application/vnd.databricks.v1+cell": {
     "cellMetadata": {
      "byteLimit": 2048000,
      "rowLimit": 10000
     },
     "inputWidgets": {},
     "nuid": "179d0374-6a21-4114-ad59-ee923b817809",
     "showTitle": false,
     "title": ""
    }
   },
   "source": [
    "\n",
    "## Saving data"
   ]
  },
  {
   "cell_type": "code",
   "execution_count": 0,
   "metadata": {
    "application/vnd.databricks.v1+cell": {
     "cellMetadata": {
      "byteLimit": 2048000,
      "rowLimit": 10000
     },
     "inputWidgets": {},
     "nuid": "a82009ed-f82f-4587-b629-fec7876f4760",
     "showTitle": false,
     "title": ""
    }
   },
   "outputs": [
    {
     "output_type": "stream",
     "name": "stdout",
     "output_type": "stream",
     "text": [
      "[LOG] Saving gold.olist_orders delta on dbfs:/FileStore/delta/gold/brazilian_ecommerce/olist_orders_dataset... OK!\n"
     ]
    }
   ],
   "source": [
    "save_dataframe(df, format_mode=\"delta\", table_name=tb_name, target_location=target_location)"
   ]
  },
  {
   "cell_type": "markdown",
   "metadata": {
    "application/vnd.databricks.v1+cell": {
     "cellMetadata": {
      "byteLimit": 2048000,
      "rowLimit": 10000
     },
     "inputWidgets": {},
     "nuid": "6b96b521-aee7-459d-85ae-a32a903a7d3e",
     "showTitle": false,
     "title": ""
    }
   },
   "source": [
    "\n",
    "## create delta table\n",
    "\n",
    "TODO: implementar UPSERT\n",
    "\n",
    "o upsert serve para não precisar reescrever todos os dados, mas aproveitar do Delta para fazer um MERGE, caso um registro antigo tenha uma nova versão e INSERT para os dados que são novos"
   ]
  },
  {
   "cell_type": "code",
   "execution_count": 0,
   "metadata": {
    "application/vnd.databricks.v1+cell": {
     "cellMetadata": {
      "byteLimit": 2048000,
      "rowLimit": 10000
     },
     "inputWidgets": {},
     "nuid": "8b2284f0-ce7b-4840-a390-74419b4f36d7",
     "showTitle": false,
     "title": ""
    }
   },
   "outputs": [
    {
     "output_type": "stream",
     "name": "stdout",
     "output_type": "stream",
     "text": [
      "[LOG] Creating delta table gold.olist_orders on dbfs:/FileStore/delta/gold/brazilian_ecommerce/olist_orders_dataset... OK!\n"
     ]
    }
   ],
   "source": [
    "create_table(table_name=tb_name, target_location=target_location)"
   ]
  },
  {
   "cell_type": "code",
   "execution_count": 0,
   "metadata": {
    "application/vnd.databricks.v1+cell": {
     "cellMetadata": {
      "byteLimit": 2048000,
      "rowLimit": 10000
     },
     "inputWidgets": {},
     "nuid": "6d750262-c18d-40f0-b749-4b56b374587a",
     "showTitle": false,
     "title": ""
    }
   },
   "outputs": [],
   "source": [
    "# exit para fechar a execução\n",
    "dbutils.notebook.exit(\"OK\")"
   ]
  },
  {
   "cell_type": "code",
   "execution_count": 0,
   "metadata": {
    "application/vnd.databricks.v1+cell": {
     "cellMetadata": {
      "byteLimit": 2048000,
      "implicitDf": true,
      "rowLimit": 10000
     },
     "inputWidgets": {},
     "nuid": "d3e058eb-d93a-4c2d-874f-f0020f7145ac",
     "showTitle": false,
     "title": ""
    }
   },
   "outputs": [
    {
     "output_type": "display_data",
     "data": {
      "text/html": [
       "<style scoped>\n",
       "  .table-result-container {\n",
       "    max-height: 300px;\n",
       "    overflow: auto;\n",
       "  }\n",
       "  table, th, td {\n",
       "    border: 1px solid black;\n",
       "    border-collapse: collapse;\n",
       "  }\n",
       "  th, td {\n",
       "    padding: 5px;\n",
       "  }\n",
       "  th {\n",
       "    text-align: left;\n",
       "  }\n",
       "</style><div class='table-result-container'><table class='table-result'><thead style='background-color: white'><tr><th>order_id</th><th>customer_id</th><th>order_status</th><th>order_purchase_timestamp</th><th>order_approved_at</th><th>order_delivered_carrier_date</th><th>order_delivered_customer_date</th><th>order_estimated_delivery_date</th><th>month_year</th><th>order_purchase_month</th><th>order_purchase_year</th><th>minutes_to_approve</th><th>days_to_deliver</th><th>hours_to_deliver</th><th>total_elapsed_days</th><th>total_elapsed_hours</th><th>overdue</th><th>delay_hours</th><th>delay_days</th><th>number_day_of_week</th><th>day_of_week</th><th>weekend</th><th>total_payment_sequential</th><th>total_payment_value</th><th>payment_types</th><th>review_id</th><th>review_score</th><th>review_comment_title</th><th>review_comment_message</th><th>review_creation_date</th><th>review_answer_timestamp</th></tr></thead><tbody><tr><td>e481f51cbdc54678b7cc49136f2d6af7</td><td>9ef432eb6251297304e76186b10a928d</td><td>delivered</td><td>2017-10-02T10:56:33Z</td><td>2017-10-02T11:07:15Z</td><td>2017-10-04T19:55:00Z</td><td>2017-10-10T21:25:13Z</td><td>2017-10-18T00:00:00Z</td><td>10-2017</td><td>10</td><td>2017</td><td>10.7</td><td>6.06</td><td>145.5</td><td>8.44</td><td>202.48</td><td>false</td><td>0.0</td><td>0.0</td><td>2</td><td>Segunda-feira</td><td>false</td><td>3</td><td>38.71</td><td>List(credit_card, voucher)</td><td>a54f0611adc9ed256b57ede6b6eb5114</td><td>4</td><td>null</td><td>Não testei o produto ainda, mas ele veio correto e em boas condições. Apenas a caixa que veio bem amassada e danificada, o que ficará chato, pois se trata de um presente.</td><td>2017-10-11</td><td>2017-10-12T03:43:48Z</td></tr><tr><td>53cdb2fc8bc7dce0b6741e2150273451</td><td>b0830fb4747a6c6d20dea0b8c802d7ef</td><td>delivered</td><td>2018-07-24T20:41:37Z</td><td>2018-07-26T03:24:27Z</td><td>2018-07-26T14:31:00Z</td><td>2018-08-07T15:27:45Z</td><td>2018-08-13T00:00:00Z</td><td>07-2018</td><td>7</td><td>2018</td><td>1842.83</td><td>12.04</td><td>288.95</td><td>13.78</td><td>330.77</td><td>false</td><td>0.0</td><td>0.0</td><td>3</td><td>Terça-feira</td><td>false</td><td>1</td><td>141.46</td><td>List(boleto)</td><td>8d5266042046a06655c8db133d120ba5</td><td>4</td><td>Muito boa a loja</td><td>Muito bom o produto.</td><td>2018-08-08</td><td>2018-08-08T18:37:50Z</td></tr><tr><td>47770eb9100c2d0c44946d9cf07ec65d</td><td>41ce2a54c0b03bf3443c3d931a367089</td><td>delivered</td><td>2018-08-08T08:38:49Z</td><td>2018-08-08T08:55:23Z</td><td>2018-08-08T13:50:00Z</td><td>2018-08-17T18:06:29Z</td><td>2018-09-04T00:00:00Z</td><td>08-2018</td><td>8</td><td>2018</td><td>16.57</td><td>9.18</td><td>220.27</td><td>9.39</td><td>225.46</td><td>false</td><td>0.0</td><td>0.0</td><td>4</td><td>Quarta-feira</td><td>false</td><td>1</td><td>179.12</td><td>List(credit_card)</td><td>e73b67b67587f7644d5bd1a52deb1b01</td><td>5</td><td>null</td><td>null</td><td>2018-08-18</td><td>2018-08-22T19:07:58Z</td></tr><tr><td>949d5b44dbf5de918fe9c16f97b45f8a</td><td>f88197465ea7920adcdbec7375364d82</td><td>delivered</td><td>2017-11-18T19:28:06Z</td><td>2017-11-18T19:45:59Z</td><td>2017-11-22T13:39:59Z</td><td>2017-12-02T00:28:42Z</td><td>2017-12-15T00:00:00Z</td><td>11-2017</td><td>11</td><td>2017</td><td>17.88</td><td>9.45</td><td>226.81</td><td>13.21</td><td>317.01</td><td>false</td><td>0.0</td><td>0.0</td><td>7</td><td>Sábado</td><td>true</td><td>1</td><td>72.2</td><td>List(credit_card)</td><td>359d03e676b3c069f62cadba8dd3f6e8</td><td>5</td><td>null</td><td>O produto foi exatamente o que eu esperava e estava descrito no site e chegou bem antes da data prevista.</td><td>2017-12-03</td><td>2017-12-05T19:21:58Z</td></tr><tr><td>ad21c59c0840e6cb83a9ceb5573f8159</td><td>8ab97904e6daea8866dbdbc4fb7aad2c</td><td>delivered</td><td>2018-02-13T21:18:39Z</td><td>2018-02-13T22:20:29Z</td><td>2018-02-14T19:46:34Z</td><td>2018-02-16T18:17:02Z</td><td>2018-02-26T00:00:00Z</td><td>02-2018</td><td>2</td><td>2018</td><td>61.83</td><td>1.94</td><td>46.51</td><td>2.87</td><td>68.97</td><td>false</td><td>0.0</td><td>0.0</td><td>3</td><td>Terça-feira</td><td>false</td><td>1</td><td>28.62</td><td>List(credit_card)</td><td>e50934924e227544ba8246aeb3770dd4</td><td>5</td><td>null</td><td>null</td><td>2018-02-17</td><td>2018-02-18T13:02:51Z</td></tr><tr><td>a4591c265e18cb1dcee52889e2d8acc3</td><td>503740e9ca751ccdda7ba28e9ab8f608</td><td>delivered</td><td>2017-07-09T21:57:05Z</td><td>2017-07-09T22:10:13Z</td><td>2017-07-11T14:58:04Z</td><td>2017-07-26T10:57:55Z</td><td>2017-08-01T00:00:00Z</td><td>07-2017</td><td>7</td><td>2017</td><td>13.13</td><td>14.83</td><td>356.0</td><td>16.54</td><td>397.01</td><td>false</td><td>0.0</td><td>0.0</td><td>1</td><td>Domingo</td><td>true</td><td>1</td><td>175.26</td><td>List(credit_card)</td><td>89b738e70a1ce346db29a20fb2910161</td><td>4</td><td>null</td><td>null</td><td>2017-07-27</td><td>2017-07-27T22:48:30Z</td></tr><tr><td>136cce7faa42fdb2cefd53fdc79a6098</td><td>ed0271e0b7da060a393796590e7b737a</td><td>invoiced</td><td>2017-04-11T12:22:08Z</td><td>2017-04-13T13:25:17Z</td><td>null</td><td>null</td><td>2017-05-09T00:00:00Z</td><td>04-2017</td><td>4</td><td>2017</td><td>2943.15</td><td>null</td><td>null</td><td>null</td><td>null</td><td>false</td><td>0.0</td><td>0.0</td><td>3</td><td>Terça-feira</td><td>false</td><td>1</td><td>65.95</td><td>List(credit_card)</td><td>e07549ef5311abcc92ba1784b093fb56</td><td>2</td><td>null</td><td>fiquei triste por n ter me atendido.</td><td>2017-05-13</td><td>2017-05-13T20:25:42Z</td></tr><tr><td>6514b8ad8028c9f2cc2374ded245783f</td><td>9bdf08b4b3b52b5526ff42d37d47f222</td><td>delivered</td><td>2017-05-16T13:10:30Z</td><td>2017-05-16T13:22:11Z</td><td>2017-05-22T10:07:46Z</td><td>2017-05-26T12:55:51Z</td><td>2017-06-07T00:00:00Z</td><td>05-2017</td><td>5</td><td>2017</td><td>11.68</td><td>4.12</td><td>98.8</td><td>9.99</td><td>239.76</td><td>false</td><td>0.0</td><td>0.0</td><td>3</td><td>Terça-feira</td><td>false</td><td>1</td><td>75.16</td><td>List(credit_card)</td><td>07d67dd06ed5f88bef11ef6b464e79ae</td><td>5</td><td>null</td><td>null</td><td>2017-05-27</td><td>2017-05-28T02:59:57Z</td></tr><tr><td>76c6e866289321a7c93b82b54852dc33</td><td>f54a9f0e6b351c431402b8461ea51999</td><td>delivered</td><td>2017-01-23T18:29:09Z</td><td>2017-01-25T02:50:47Z</td><td>2017-01-26T14:16:31Z</td><td>2017-02-02T14:08:10Z</td><td>2017-03-06T00:00:00Z</td><td>01-2017</td><td>1</td><td>2017</td><td>1941.63</td><td>6.99</td><td>167.86</td><td>9.82</td><td>235.65</td><td>false</td><td>0.0</td><td>0.0</td><td>2</td><td>Segunda-feira</td><td>false</td><td>1</td><td>35.95</td><td>List(boleto)</td><td>fc4af8aea8ec3f1a3cd181d3d0cadbd5</td><td>1</td><td>null</td><td>null</td><td>2017-02-03</td><td>2017-02-05T01:58:35Z</td></tr><tr><td>e69bfb5eb88e0ed6a785585b27e16dbf</td><td>31ad1d1b63eb9962463f764d4e6e0c9d</td><td>delivered</td><td>2017-07-29T11:55:02Z</td><td>2017-07-29T12:05:32Z</td><td>2017-08-10T19:45:24Z</td><td>2017-08-16T17:14:30Z</td><td>2017-08-23T00:00:00Z</td><td>07-2017</td><td>7</td><td>2017</td><td>10.5</td><td>5.9</td><td>141.49</td><td>18.22</td><td>437.32</td><td>false</td><td>0.0</td><td>0.0</td><td>7</td><td>Sábado</td><td>true</td><td>2</td><td>169.76</td><td>List(voucher, credit_card)</td><td>abc5655186d40772bd6e410420e6a3ed</td><td>5</td><td>null</td><td>null</td><td>2017-08-17</td><td>2017-08-18T01:47:32Z</td></tr></tbody></table></div>"
      ]
     },
     "metadata": {
      "application/vnd.databricks.v1+output": {
       "addedWidgets": {},
       "aggData": [],
       "aggError": "",
       "aggOverflow": false,
       "aggSchema": [],
       "aggSeriesLimitReached": false,
       "aggType": "",
       "arguments": {},
       "columnCustomDisplayInfos": {},
       "data": [
        [
         "e481f51cbdc54678b7cc49136f2d6af7",
         "9ef432eb6251297304e76186b10a928d",
         "delivered",
         "2017-10-02T10:56:33Z",
         "2017-10-02T11:07:15Z",
         "2017-10-04T19:55:00Z",
         "2017-10-10T21:25:13Z",
         "2017-10-18T00:00:00Z",
         "10-2017",
         10,
         2017,
         10.7,
         6.06,
         145.5,
         8.44,
         202.48,
         false,
         0.0,
         0.0,
         2,
         "Segunda-feira",
         false,
         3,
         38.71,
         [
          "credit_card",
          "voucher"
         ],
         "a54f0611adc9ed256b57ede6b6eb5114",
         4,
         null,
         "Não testei o produto ainda, mas ele veio correto e em boas condições. Apenas a caixa que veio bem amassada e danificada, o que ficará chato, pois se trata de um presente.",
         "2017-10-11",
         "2017-10-12T03:43:48Z"
        ],
        [
         "53cdb2fc8bc7dce0b6741e2150273451",
         "b0830fb4747a6c6d20dea0b8c802d7ef",
         "delivered",
         "2018-07-24T20:41:37Z",
         "2018-07-26T03:24:27Z",
         "2018-07-26T14:31:00Z",
         "2018-08-07T15:27:45Z",
         "2018-08-13T00:00:00Z",
         "07-2018",
         7,
         2018,
         1842.83,
         12.04,
         288.95,
         13.78,
         330.77,
         false,
         0.0,
         0.0,
         3,
         "Terça-feira",
         false,
         1,
         141.46,
         [
          "boleto"
         ],
         "8d5266042046a06655c8db133d120ba5",
         4,
         "Muito boa a loja",
         "Muito bom o produto.",
         "2018-08-08",
         "2018-08-08T18:37:50Z"
        ],
        [
         "47770eb9100c2d0c44946d9cf07ec65d",
         "41ce2a54c0b03bf3443c3d931a367089",
         "delivered",
         "2018-08-08T08:38:49Z",
         "2018-08-08T08:55:23Z",
         "2018-08-08T13:50:00Z",
         "2018-08-17T18:06:29Z",
         "2018-09-04T00:00:00Z",
         "08-2018",
         8,
         2018,
         16.57,
         9.18,
         220.27,
         9.39,
         225.46,
         false,
         0.0,
         0.0,
         4,
         "Quarta-feira",
         false,
         1,
         179.12,
         [
          "credit_card"
         ],
         "e73b67b67587f7644d5bd1a52deb1b01",
         5,
         null,
         null,
         "2018-08-18",
         "2018-08-22T19:07:58Z"
        ],
        [
         "949d5b44dbf5de918fe9c16f97b45f8a",
         "f88197465ea7920adcdbec7375364d82",
         "delivered",
         "2017-11-18T19:28:06Z",
         "2017-11-18T19:45:59Z",
         "2017-11-22T13:39:59Z",
         "2017-12-02T00:28:42Z",
         "2017-12-15T00:00:00Z",
         "11-2017",
         11,
         2017,
         17.88,
         9.45,
         226.81,
         13.21,
         317.01,
         false,
         0.0,
         0.0,
         7,
         "Sábado",
         true,
         1,
         72.2,
         [
          "credit_card"
         ],
         "359d03e676b3c069f62cadba8dd3f6e8",
         5,
         null,
         "O produto foi exatamente o que eu esperava e estava descrito no site e chegou bem antes da data prevista.",
         "2017-12-03",
         "2017-12-05T19:21:58Z"
        ],
        [
         "ad21c59c0840e6cb83a9ceb5573f8159",
         "8ab97904e6daea8866dbdbc4fb7aad2c",
         "delivered",
         "2018-02-13T21:18:39Z",
         "2018-02-13T22:20:29Z",
         "2018-02-14T19:46:34Z",
         "2018-02-16T18:17:02Z",
         "2018-02-26T00:00:00Z",
         "02-2018",
         2,
         2018,
         61.83,
         1.94,
         46.51,
         2.87,
         68.97,
         false,
         0.0,
         0.0,
         3,
         "Terça-feira",
         false,
         1,
         28.62,
         [
          "credit_card"
         ],
         "e50934924e227544ba8246aeb3770dd4",
         5,
         null,
         null,
         "2018-02-17",
         "2018-02-18T13:02:51Z"
        ],
        [
         "a4591c265e18cb1dcee52889e2d8acc3",
         "503740e9ca751ccdda7ba28e9ab8f608",
         "delivered",
         "2017-07-09T21:57:05Z",
         "2017-07-09T22:10:13Z",
         "2017-07-11T14:58:04Z",
         "2017-07-26T10:57:55Z",
         "2017-08-01T00:00:00Z",
         "07-2017",
         7,
         2017,
         13.13,
         14.83,
         356.0,
         16.54,
         397.01,
         false,
         0.0,
         0.0,
         1,
         "Domingo",
         true,
         1,
         175.26,
         [
          "credit_card"
         ],
         "89b738e70a1ce346db29a20fb2910161",
         4,
         null,
         null,
         "2017-07-27",
         "2017-07-27T22:48:30Z"
        ],
        [
         "136cce7faa42fdb2cefd53fdc79a6098",
         "ed0271e0b7da060a393796590e7b737a",
         "invoiced",
         "2017-04-11T12:22:08Z",
         "2017-04-13T13:25:17Z",
         null,
         null,
         "2017-05-09T00:00:00Z",
         "04-2017",
         4,
         2017,
         2943.15,
         null,
         null,
         null,
         null,
         false,
         0.0,
         0.0,
         3,
         "Terça-feira",
         false,
         1,
         65.95,
         [
          "credit_card"
         ],
         "e07549ef5311abcc92ba1784b093fb56",
         2,
         null,
         "fiquei triste por n ter me atendido.",
         "2017-05-13",
         "2017-05-13T20:25:42Z"
        ],
        [
         "6514b8ad8028c9f2cc2374ded245783f",
         "9bdf08b4b3b52b5526ff42d37d47f222",
         "delivered",
         "2017-05-16T13:10:30Z",
         "2017-05-16T13:22:11Z",
         "2017-05-22T10:07:46Z",
         "2017-05-26T12:55:51Z",
         "2017-06-07T00:00:00Z",
         "05-2017",
         5,
         2017,
         11.68,
         4.12,
         98.8,
         9.99,
         239.76,
         false,
         0.0,
         0.0,
         3,
         "Terça-feira",
         false,
         1,
         75.16,
         [
          "credit_card"
         ],
         "07d67dd06ed5f88bef11ef6b464e79ae",
         5,
         null,
         null,
         "2017-05-27",
         "2017-05-28T02:59:57Z"
        ],
        [
         "76c6e866289321a7c93b82b54852dc33",
         "f54a9f0e6b351c431402b8461ea51999",
         "delivered",
         "2017-01-23T18:29:09Z",
         "2017-01-25T02:50:47Z",
         "2017-01-26T14:16:31Z",
         "2017-02-02T14:08:10Z",
         "2017-03-06T00:00:00Z",
         "01-2017",
         1,
         2017,
         1941.63,
         6.99,
         167.86,
         9.82,
         235.65,
         false,
         0.0,
         0.0,
         2,
         "Segunda-feira",
         false,
         1,
         35.95,
         [
          "boleto"
         ],
         "fc4af8aea8ec3f1a3cd181d3d0cadbd5",
         1,
         null,
         null,
         "2017-02-03",
         "2017-02-05T01:58:35Z"
        ],
        [
         "e69bfb5eb88e0ed6a785585b27e16dbf",
         "31ad1d1b63eb9962463f764d4e6e0c9d",
         "delivered",
         "2017-07-29T11:55:02Z",
         "2017-07-29T12:05:32Z",
         "2017-08-10T19:45:24Z",
         "2017-08-16T17:14:30Z",
         "2017-08-23T00:00:00Z",
         "07-2017",
         7,
         2017,
         10.5,
         5.9,
         141.49,
         18.22,
         437.32,
         false,
         0.0,
         0.0,
         7,
         "Sábado",
         true,
         2,
         169.76,
         [
          "voucher",
          "credit_card"
         ],
         "abc5655186d40772bd6e410420e6a3ed",
         5,
         null,
         null,
         "2017-08-17",
         "2017-08-18T01:47:32Z"
        ]
       ],
       "datasetInfos": [],
       "dbfsResultPath": null,
       "isJsonSchema": true,
       "metadata": {
        "dataframeName": "_sqldf",
        "executionCount": 19
       },
       "overflow": false,
       "plotOptions": {
        "customPlotOptions": {},
        "displayType": "table",
        "pivotAggregation": null,
        "pivotColumns": null,
        "xColumns": null,
        "yColumns": null
       },
       "removedWidgets": [],
       "schema": [
        {
         "metadata": "{}",
         "name": "order_id",
         "type": "\"string\""
        },
        {
         "metadata": "{}",
         "name": "customer_id",
         "type": "\"string\""
        },
        {
         "metadata": "{}",
         "name": "order_status",
         "type": "\"string\""
        },
        {
         "metadata": "{}",
         "name": "order_purchase_timestamp",
         "type": "\"timestamp\""
        },
        {
         "metadata": "{}",
         "name": "order_approved_at",
         "type": "\"timestamp\""
        },
        {
         "metadata": "{}",
         "name": "order_delivered_carrier_date",
         "type": "\"timestamp\""
        },
        {
         "metadata": "{}",
         "name": "order_delivered_customer_date",
         "type": "\"timestamp\""
        },
        {
         "metadata": "{}",
         "name": "order_estimated_delivery_date",
         "type": "\"timestamp\""
        },
        {
         "metadata": "{}",
         "name": "month_year",
         "type": "\"string\""
        },
        {
         "metadata": "{}",
         "name": "order_purchase_month",
         "type": "\"integer\""
        },
        {
         "metadata": "{}",
         "name": "order_purchase_year",
         "type": "\"integer\""
        },
        {
         "metadata": "{}",
         "name": "minutes_to_approve",
         "type": "\"double\""
        },
        {
         "metadata": "{}",
         "name": "days_to_deliver",
         "type": "\"double\""
        },
        {
         "metadata": "{}",
         "name": "hours_to_deliver",
         "type": "\"double\""
        },
        {
         "metadata": "{}",
         "name": "total_elapsed_days",
         "type": "\"double\""
        },
        {
         "metadata": "{}",
         "name": "total_elapsed_hours",
         "type": "\"double\""
        },
        {
         "metadata": "{}",
         "name": "overdue",
         "type": "\"boolean\""
        },
        {
         "metadata": "{}",
         "name": "delay_hours",
         "type": "\"double\""
        },
        {
         "metadata": "{}",
         "name": "delay_days",
         "type": "\"double\""
        },
        {
         "metadata": "{}",
         "name": "number_day_of_week",
         "type": "\"integer\""
        },
        {
         "metadata": "{}",
         "name": "day_of_week",
         "type": "\"string\""
        },
        {
         "metadata": "{}",
         "name": "weekend",
         "type": "\"boolean\""
        },
        {
         "metadata": "{}",
         "name": "total_payment_sequential",
         "type": "\"integer\""
        },
        {
         "metadata": "{}",
         "name": "total_payment_value",
         "type": "\"double\""
        },
        {
         "metadata": "{}",
         "name": "payment_types",
         "type": "{\"type\":\"array\",\"elementType\":\"string\",\"containsNull\":true}"
        },
        {
         "metadata": "{}",
         "name": "review_id",
         "type": "\"string\""
        },
        {
         "metadata": "{}",
         "name": "review_score",
         "type": "\"integer\""
        },
        {
         "metadata": "{}",
         "name": "review_comment_title",
         "type": "\"string\""
        },
        {
         "metadata": "{}",
         "name": "review_comment_message",
         "type": "\"string\""
        },
        {
         "metadata": "{}",
         "name": "review_creation_date",
         "type": "\"date\""
        },
        {
         "metadata": "{}",
         "name": "review_answer_timestamp",
         "type": "\"timestamp\""
        }
       ],
       "type": "table"
      }
     },
     "output_type": "display_data"
    }
   ],
   "source": [
    "%sql\n",
    "\n",
    "select * from gold.olist_orders limit 10"
   ]
  },
  {
   "cell_type": "code",
   "execution_count": 0,
   "metadata": {
    "application/vnd.databricks.v1+cell": {
     "cellMetadata": {
      "byteLimit": 2048000,
      "rowLimit": 10000
     },
     "inputWidgets": {},
     "nuid": "f45863da-2a6e-453f-bb3b-27ddf95d994c",
     "showTitle": false,
     "title": ""
    }
   },
   "outputs": [],
   "source": []
  }
 ],
 "metadata": {
  "application/vnd.databricks.v1+notebook": {
   "dashboards": [],
   "language": "python",
   "notebookMetadata": {
    "mostRecentlyExecutedCommandWithImplicitDF": {
     "commandId": 4240245637786510,
     "dataframes": [
      "_sqldf"
     ]
    },
    "pythonIndentUnit": 4
   },
   "notebookName": "gold_orders",
   "widgets": {}
  }
 },
 "nbformat": 4,
 "nbformat_minor": 0
}
