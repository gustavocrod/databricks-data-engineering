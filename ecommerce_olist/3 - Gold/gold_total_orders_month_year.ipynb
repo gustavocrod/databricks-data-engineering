{
 "cells": [
  {
   "cell_type": "code",
   "execution_count": 0,
   "metadata": {
    "application/vnd.databricks.v1+cell": {
     "cellMetadata": {
      "byteLimit": 2048000,
      "rowLimit": 10000
     },
     "inputWidgets": {},
     "nuid": "b1710e7f-be45-4d2f-ae8b-3f46af28e5b4",
     "showTitle": false,
     "title": ""
    }
   },
   "outputs": [
    {
     "output_type": "stream",
     "name": "stdout",
     "output_type": "stream",
     "text": [
      "\u001B[43mNote: you may need to restart the kernel using dbutils.library.restartPython() to use updated packages.\u001B[0m\nCollecting unidecode\n  Using cached Unidecode-1.3.8-py3-none-any.whl (235 kB)\nInstalling collected packages: unidecode\nSuccessfully installed unidecode-1.3.8\n\u001B[43mNote: you may need to restart the kernel using dbutils.library.restartPython() to use updated packages.\u001B[0m\n"
     ]
    }
   ],
   "source": [
    "%run ../../_utils"
   ]
  },
  {
   "cell_type": "code",
   "execution_count": 0,
   "metadata": {
    "application/vnd.databricks.v1+cell": {
     "cellMetadata": {
      "byteLimit": 2048000,
      "rowLimit": 10000
     },
     "inputWidgets": {},
     "nuid": "e6b5a612-163f-403d-9149-793f110401d7",
     "showTitle": false,
     "title": ""
    }
   },
   "outputs": [],
   "source": [
    "from pyspark.sql.functions import col, count"
   ]
  },
  {
   "cell_type": "markdown",
   "metadata": {
    "application/vnd.databricks.v1+cell": {
     "cellMetadata": {
      "byteLimit": 2048000,
      "rowLimit": 10000
     },
     "inputWidgets": {},
     "nuid": "5f9235ec-ac0c-4f2c-962e-edc87f6e86a1",
     "showTitle": false,
     "title": ""
    }
   },
   "source": [
    "\n",
    "# Camada GOLD\n",
    "\n",
    "Na camada gold, as limpezas e ajustes já foram feitos, então essa camada é responsável por aplicar regras de negócio, agregações e junções de dados que convirjam para analises.\n",
    "\n",
    "Essa é uma tabela sumarizada analítica.\n",
    "\n",
    "O objetivo dela é informar os meses em que tiveram mais pedidos"
   ]
  },
  {
   "cell_type": "code",
   "execution_count": 0,
   "metadata": {
    "application/vnd.databricks.v1+cell": {
     "cellMetadata": {
      "byteLimit": 2048000,
      "rowLimit": 10000
     },
     "inputWidgets": {},
     "nuid": "3707d12a-f42c-46de-981f-f50750230449",
     "showTitle": false,
     "title": ""
    }
   },
   "outputs": [],
   "source": [
    "tb_name = \"gold.olist_total_orders_month_year\"\n",
    "dataset_location = \"olist_total_orders_dataset\"\n",
    "target_location = f\"dbfs:/FileStore/delta/gold/brazilian_ecommerce/{dataset_location}\""
   ]
  },
  {
   "cell_type": "markdown",
   "metadata": {
    "application/vnd.databricks.v1+cell": {
     "cellMetadata": {
      "byteLimit": 2048000,
      "rowLimit": 10000
     },
     "inputWidgets": {},
     "nuid": "5f3d216e-533d-437a-a6d6-9ab063d7c8cb",
     "showTitle": false,
     "title": ""
    }
   },
   "source": [
    "## 1 - Data ingestion\n"
   ]
  },
  {
   "cell_type": "code",
   "execution_count": 0,
   "metadata": {
    "application/vnd.databricks.v1+cell": {
     "cellMetadata": {
      "byteLimit": 2048000,
      "rowLimit": 10000
     },
     "inputWidgets": {},
     "nuid": "6af57b81-ca1d-4b16-9371-65dbf824d43d",
     "showTitle": false,
     "title": ""
    }
   },
   "outputs": [],
   "source": [
    "df_orders = spark.read.table(\"gold.olist_orders\") # leituira da delta table central, orders (ja da propria gold)"
   ]
  },
  {
   "cell_type": "markdown",
   "metadata": {
    "application/vnd.databricks.v1+cell": {
     "cellMetadata": {
      "byteLimit": 2048000,
      "rowLimit": 10000
     },
     "inputWidgets": {},
     "nuid": "c956a4c8-f3e5-4915-8e7f-93d65c05bff8",
     "showTitle": false,
     "title": ""
    }
   },
   "source": [
    "\n",
    "## 2 - preparation"
   ]
  },
  {
   "cell_type": "code",
   "execution_count": 0,
   "metadata": {
    "application/vnd.databricks.v1+cell": {
     "cellMetadata": {
      "byteLimit": 2048000,
      "rowLimit": 10000
     },
     "inputWidgets": {},
     "nuid": "6e2e1780-03e2-4dea-8671-082e240807e2",
     "showTitle": false,
     "title": ""
    }
   },
   "outputs": [],
   "source": [
    "df = df_orders.groupBy(\"order_purchase_year\", \"order_purchase_month\").agg(\n",
    "    count(\"order_id\").alias(\"total_orders_by_month_year\"),\n",
    ").orderBy(\"order_purchase_year\", \"order_purchase_month\")"
   ]
  },
  {
   "cell_type": "code",
   "execution_count": 0,
   "metadata": {
    "application/vnd.databricks.v1+cell": {
     "cellMetadata": {
      "byteLimit": 2048000,
      "rowLimit": 10000
     },
     "inputWidgets": {},
     "nuid": "62c4f910-a4dc-4315-9906-3e8078e0146a",
     "showTitle": false,
     "title": ""
    }
   },
   "outputs": [
    {
     "output_type": "display_data",
     "data": {
      "text/html": [
       "<style scoped>\n",
       "  .table-result-container {\n",
       "    max-height: 300px;\n",
       "    overflow: auto;\n",
       "  }\n",
       "  table, th, td {\n",
       "    border: 1px solid black;\n",
       "    border-collapse: collapse;\n",
       "  }\n",
       "  th, td {\n",
       "    padding: 5px;\n",
       "  }\n",
       "  th {\n",
       "    text-align: left;\n",
       "  }\n",
       "</style><div class='table-result-container'><table class='table-result'><thead style='background-color: white'><tr><th>order_purchase_year</th><th>order_purchase_month</th><th>total_orders_by_month_year</th></tr></thead><tbody><tr><td>2016</td><td>9</td><td>4</td></tr><tr><td>2016</td><td>10</td><td>326</td></tr><tr><td>2016</td><td>12</td><td>1</td></tr><tr><td>2017</td><td>1</td><td>807</td></tr><tr><td>2017</td><td>2</td><td>1788</td></tr><tr><td>2017</td><td>3</td><td>2697</td></tr><tr><td>2017</td><td>4</td><td>2411</td></tr><tr><td>2017</td><td>5</td><td>3737</td></tr><tr><td>2017</td><td>6</td><td>3277</td></tr><tr><td>2017</td><td>7</td><td>4068</td></tr><tr><td>2017</td><td>8</td><td>4374</td></tr><tr><td>2017</td><td>9</td><td>4311</td></tr><tr><td>2017</td><td>10</td><td>4664</td></tr><tr><td>2017</td><td>11</td><td>7598</td></tr><tr><td>2017</td><td>12</td><td>5699</td></tr><tr><td>2018</td><td>1</td><td>7313</td></tr><tr><td>2018</td><td>2</td><td>6814</td></tr><tr><td>2018</td><td>3</td><td>7250</td></tr><tr><td>2018</td><td>4</td><td>6950</td></tr><tr><td>2018</td><td>5</td><td>6882</td></tr><tr><td>2018</td><td>6</td><td>6173</td></tr><tr><td>2018</td><td>7</td><td>6314</td></tr><tr><td>2018</td><td>8</td><td>6514</td></tr><tr><td>2018</td><td>9</td><td>16</td></tr><tr><td>2018</td><td>10</td><td>4</td></tr></tbody></table></div>"
      ]
     },
     "metadata": {
      "application/vnd.databricks.v1+output": {
       "addedWidgets": {},
       "aggData": [],
       "aggError": "",
       "aggOverflow": false,
       "aggSchema": [],
       "aggSeriesLimitReached": false,
       "aggType": "",
       "arguments": {},
       "columnCustomDisplayInfos": {},
       "data": [
        [
         2016,
         9,
         4
        ],
        [
         2016,
         10,
         326
        ],
        [
         2016,
         12,
         1
        ],
        [
         2017,
         1,
         807
        ],
        [
         2017,
         2,
         1788
        ],
        [
         2017,
         3,
         2697
        ],
        [
         2017,
         4,
         2411
        ],
        [
         2017,
         5,
         3737
        ],
        [
         2017,
         6,
         3277
        ],
        [
         2017,
         7,
         4068
        ],
        [
         2017,
         8,
         4374
        ],
        [
         2017,
         9,
         4311
        ],
        [
         2017,
         10,
         4664
        ],
        [
         2017,
         11,
         7598
        ],
        [
         2017,
         12,
         5699
        ],
        [
         2018,
         1,
         7313
        ],
        [
         2018,
         2,
         6814
        ],
        [
         2018,
         3,
         7250
        ],
        [
         2018,
         4,
         6950
        ],
        [
         2018,
         5,
         6882
        ],
        [
         2018,
         6,
         6173
        ],
        [
         2018,
         7,
         6314
        ],
        [
         2018,
         8,
         6514
        ],
        [
         2018,
         9,
         16
        ],
        [
         2018,
         10,
         4
        ]
       ],
       "datasetInfos": [],
       "dbfsResultPath": null,
       "isJsonSchema": true,
       "metadata": {},
       "overflow": false,
       "plotOptions": {
        "customPlotOptions": {},
        "displayType": "table",
        "pivotAggregation": null,
        "pivotColumns": null,
        "xColumns": null,
        "yColumns": null
       },
       "removedWidgets": [],
       "schema": [
        {
         "metadata": "{}",
         "name": "order_purchase_year",
         "type": "\"integer\""
        },
        {
         "metadata": "{}",
         "name": "order_purchase_month",
         "type": "\"integer\""
        },
        {
         "metadata": "{}",
         "name": "total_orders_by_month_year",
         "type": "\"long\""
        }
       ],
       "type": "table"
      }
     },
     "output_type": "display_data"
    }
   ],
   "source": [
    "display(df)"
   ]
  },
  {
   "cell_type": "markdown",
   "metadata": {
    "application/vnd.databricks.v1+cell": {
     "cellMetadata": {
      "byteLimit": 2048000,
      "rowLimit": 10000
     },
     "inputWidgets": {},
     "nuid": "179d0374-6a21-4114-ad59-ee923b817809",
     "showTitle": false,
     "title": ""
    }
   },
   "source": [
    "\n",
    "## Saving data"
   ]
  },
  {
   "cell_type": "code",
   "execution_count": 0,
   "metadata": {
    "application/vnd.databricks.v1+cell": {
     "cellMetadata": {
      "byteLimit": 2048000,
      "rowLimit": 10000
     },
     "inputWidgets": {},
     "nuid": "a82009ed-f82f-4587-b629-fec7876f4760",
     "showTitle": false,
     "title": ""
    }
   },
   "outputs": [
    {
     "output_type": "stream",
     "name": "stdout",
     "output_type": "stream",
     "text": [
      "[LOG] Saving gold.olist_total_orders_month_year delta on dbfs:/FileStore/delta/gold/brazilian_ecommerce/olist_total_orders_dataset... OK!\n"
     ]
    }
   ],
   "source": [
    "save_dataframe(df, format_mode=\"delta\", table_name=tb_name, target_location=target_location)"
   ]
  },
  {
   "cell_type": "markdown",
   "metadata": {
    "application/vnd.databricks.v1+cell": {
     "cellMetadata": {
      "byteLimit": 2048000,
      "rowLimit": 10000
     },
     "inputWidgets": {},
     "nuid": "6b96b521-aee7-459d-85ae-a32a903a7d3e",
     "showTitle": false,
     "title": ""
    }
   },
   "source": [
    "\n",
    "## create delta table\n",
    "\n",
    "TODO: implementar UPSERT\n",
    "\n",
    "o upsert serve para não precisar reescrever todos os dados, mas aproveitar do Delta para fazer um MERGE, caso um registro antigo tenha uma nova versão e INSERT para os dados que são novos"
   ]
  },
  {
   "cell_type": "code",
   "execution_count": 0,
   "metadata": {
    "application/vnd.databricks.v1+cell": {
     "cellMetadata": {
      "byteLimit": 2048000,
      "rowLimit": 10000
     },
     "inputWidgets": {},
     "nuid": "8b2284f0-ce7b-4840-a390-74419b4f36d7",
     "showTitle": false,
     "title": ""
    }
   },
   "outputs": [
    {
     "output_type": "stream",
     "name": "stdout",
     "output_type": "stream",
     "text": [
      "[LOG] Creating delta table gold.olist_total_orders_month_year on dbfs:/FileStore/delta/gold/brazilian_ecommerce/olist_total_orders_dataset... OK!\n"
     ]
    }
   ],
   "source": [
    "create_table(table_name=tb_name, target_location=target_location)"
   ]
  },
  {
   "cell_type": "code",
   "execution_count": 0,
   "metadata": {
    "application/vnd.databricks.v1+cell": {
     "cellMetadata": {
      "byteLimit": 2048000,
      "rowLimit": 10000
     },
     "inputWidgets": {},
     "nuid": "6d750262-c18d-40f0-b749-4b56b374587a",
     "showTitle": false,
     "title": ""
    }
   },
   "outputs": [],
   "source": [
    "# exit para fechar a execução\n",
    "dbutils.notebook.exit(\"OK\")"
   ]
  },
  {
   "cell_type": "code",
   "execution_count": 0,
   "metadata": {
    "application/vnd.databricks.v1+cell": {
     "cellMetadata": {
      "byteLimit": 2048000,
      "implicitDf": true,
      "rowLimit": 10000
     },
     "inputWidgets": {},
     "nuid": "d3e058eb-d93a-4c2d-874f-f0020f7145ac",
     "showTitle": false,
     "title": ""
    }
   },
   "outputs": [
    {
     "output_type": "display_data",
     "data": {
      "text/html": [
       "<style scoped>\n",
       "  .table-result-container {\n",
       "    max-height: 300px;\n",
       "    overflow: auto;\n",
       "  }\n",
       "  table, th, td {\n",
       "    border: 1px solid black;\n",
       "    border-collapse: collapse;\n",
       "  }\n",
       "  th, td {\n",
       "    padding: 5px;\n",
       "  }\n",
       "  th {\n",
       "    text-align: left;\n",
       "  }\n",
       "</style><div class='table-result-container'><table class='table-result'><thead style='background-color: white'><tr><th>order_purchase_year</th><th>order_purchase_month</th><th>total_orders_by_month_year</th></tr></thead><tbody><tr><td>2016</td><td>9</td><td>4</td></tr><tr><td>2016</td><td>10</td><td>326</td></tr><tr><td>2016</td><td>12</td><td>1</td></tr><tr><td>2017</td><td>1</td><td>807</td></tr><tr><td>2017</td><td>2</td><td>1788</td></tr><tr><td>2017</td><td>3</td><td>2697</td></tr><tr><td>2017</td><td>4</td><td>2411</td></tr><tr><td>2017</td><td>5</td><td>3737</td></tr><tr><td>2017</td><td>6</td><td>3277</td></tr><tr><td>2017</td><td>7</td><td>4068</td></tr><tr><td>2017</td><td>8</td><td>4374</td></tr><tr><td>2017</td><td>9</td><td>4311</td></tr><tr><td>2017</td><td>10</td><td>4664</td></tr><tr><td>2017</td><td>11</td><td>7598</td></tr><tr><td>2017</td><td>12</td><td>5699</td></tr><tr><td>2018</td><td>1</td><td>7313</td></tr><tr><td>2018</td><td>2</td><td>6814</td></tr><tr><td>2018</td><td>3</td><td>7250</td></tr><tr><td>2018</td><td>4</td><td>6950</td></tr><tr><td>2018</td><td>5</td><td>6882</td></tr><tr><td>2018</td><td>6</td><td>6173</td></tr><tr><td>2018</td><td>7</td><td>6314</td></tr><tr><td>2018</td><td>8</td><td>6514</td></tr><tr><td>2018</td><td>9</td><td>16</td></tr><tr><td>2018</td><td>10</td><td>4</td></tr></tbody></table></div>"
      ]
     },
     "metadata": {
      "application/vnd.databricks.v1+output": {
       "addedWidgets": {},
       "aggData": [],
       "aggError": "",
       "aggOverflow": false,
       "aggSchema": [],
       "aggSeriesLimitReached": false,
       "aggType": "",
       "arguments": {},
       "columnCustomDisplayInfos": {},
       "data": [
        [
         2016,
         9,
         4
        ],
        [
         2016,
         10,
         326
        ],
        [
         2016,
         12,
         1
        ],
        [
         2017,
         1,
         807
        ],
        [
         2017,
         2,
         1788
        ],
        [
         2017,
         3,
         2697
        ],
        [
         2017,
         4,
         2411
        ],
        [
         2017,
         5,
         3737
        ],
        [
         2017,
         6,
         3277
        ],
        [
         2017,
         7,
         4068
        ],
        [
         2017,
         8,
         4374
        ],
        [
         2017,
         9,
         4311
        ],
        [
         2017,
         10,
         4664
        ],
        [
         2017,
         11,
         7598
        ],
        [
         2017,
         12,
         5699
        ],
        [
         2018,
         1,
         7313
        ],
        [
         2018,
         2,
         6814
        ],
        [
         2018,
         3,
         7250
        ],
        [
         2018,
         4,
         6950
        ],
        [
         2018,
         5,
         6882
        ],
        [
         2018,
         6,
         6173
        ],
        [
         2018,
         7,
         6314
        ],
        [
         2018,
         8,
         6514
        ],
        [
         2018,
         9,
         16
        ],
        [
         2018,
         10,
         4
        ]
       ],
       "datasetInfos": [],
       "dbfsResultPath": null,
       "isJsonSchema": true,
       "metadata": {
        "dataframeName": "_sqldf",
        "executionCount": 16
       },
       "overflow": false,
       "plotOptions": {
        "customPlotOptions": {},
        "displayType": "table",
        "pivotAggregation": null,
        "pivotColumns": null,
        "xColumns": null,
        "yColumns": null
       },
       "removedWidgets": [],
       "schema": [
        {
         "metadata": "{}",
         "name": "order_purchase_year",
         "type": "\"integer\""
        },
        {
         "metadata": "{}",
         "name": "order_purchase_month",
         "type": "\"integer\""
        },
        {
         "metadata": "{}",
         "name": "total_orders_by_month_year",
         "type": "\"long\""
        }
       ],
       "type": "table"
      }
     },
     "output_type": "display_data"
    }
   ],
   "source": [
    "%sql\n",
    "\n",
    "select * from gold.olist_total_orders_month_year"
   ]
  },
  {
   "cell_type": "code",
   "execution_count": 0,
   "metadata": {
    "application/vnd.databricks.v1+cell": {
     "cellMetadata": {
      "byteLimit": 2048000,
      "rowLimit": 10000
     },
     "inputWidgets": {},
     "nuid": "f45863da-2a6e-453f-bb3b-27ddf95d994c",
     "showTitle": false,
     "title": ""
    }
   },
   "outputs": [],
   "source": []
  }
 ],
 "metadata": {
  "application/vnd.databricks.v1+notebook": {
   "dashboards": [],
   "language": "python",
   "notebookMetadata": {
    "mostRecentlyExecutedCommandWithImplicitDF": {
     "commandId": 4240245637786488,
     "dataframes": [
      "_sqldf"
     ]
    },
    "pythonIndentUnit": 4
   },
   "notebookName": "gold_total_orders_month_year",
   "widgets": {}
  }
 },
 "nbformat": 4,
 "nbformat_minor": 0
}
