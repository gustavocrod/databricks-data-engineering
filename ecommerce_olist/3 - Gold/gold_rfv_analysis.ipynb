{
 "cells": [
  {
   "cell_type": "code",
   "execution_count": 0,
   "metadata": {
    "application/vnd.databricks.v1+cell": {
     "cellMetadata": {
      "byteLimit": 2048000,
      "rowLimit": 10000
     },
     "inputWidgets": {},
     "nuid": "b1710e7f-be45-4d2f-ae8b-3f46af28e5b4",
     "showTitle": false,
     "title": ""
    }
   },
   "outputs": [],
   "source": [
    "%run ../_utils"
   ]
  },
  {
   "cell_type": "code",
   "execution_count": 0,
   "metadata": {
    "application/vnd.databricks.v1+cell": {
     "cellMetadata": {
      "byteLimit": 2048000,
      "rowLimit": 10000
     },
     "inputWidgets": {},
     "nuid": "e6b5a612-163f-403d-9149-793f110401d7",
     "showTitle": false,
     "title": ""
    }
   },
   "outputs": [],
   "source": [
    "from pyspark.sql.functions import (\n",
    "    col,\n",
    "    count,\n",
    "    date_diff,\n",
    "    lit,\n",
    "    min,\n",
    "    count,\n",
    "    sum,\n",
    "    sqrt,\n",
    "    when,\n",
    "    concat\n",
    ")\n",
    "from datetime import date"
   ]
  },
  {
   "cell_type": "markdown",
   "metadata": {
    "application/vnd.databricks.v1+cell": {
     "cellMetadata": {},
     "inputWidgets": {},
     "nuid": "5f9235ec-ac0c-4f2c-962e-edc87f6e86a1",
     "showTitle": false,
     "title": ""
    }
   },
   "source": [
    "\n",
    "# RFV\n",
    "\n",
    "RFV, ou Recency, Frequency, and Value, é uma técnica de análise de dados frequentemente usada em marketing e gerenciamento de clientes para segmentar clientes com base em seu comportamento de compra.\n",
    "\n",
    "Essa abordagem analisa três aspectos principais do comportamento do cliente:\n",
    "\n",
    "- **Recency (Recência):** Refere-se à última vez que um cliente fez uma compra. Geralmente, clientes que fizeram compras recentes são mais propensos a fazer compras futuras do que aqueles que não compraram há muito tempo.\n",
    "- **Frequency (Frequência):** Refere-se à frequência com que um cliente faz compras durante um determinado período de tempo. Clientes que compram com frequência podem ser considerados mais leais e valiosos para a empresa.\n",
    "- **Value (Valor):** Refere-se ao valor monetário total das compras feitas por um cliente durante um determinado período de tempo. Clientes que gastam mais têm um valor de vida do cliente mais alto e podem ser alvos de estratégias de marketing mais agressivas.\n",
    "\n",
    "Ao analisar esses três aspectos juntos, as empresas podem segmentar seus clientes em diferentes grupos com base em seu comportamento de compra e adaptar suas estratégias de marketing e relacionamento com o cliente de acordo. Por exemplo, clientes com alta recência, frequência e valor podem ser segmentados como clientes VIP e receber ofertas exclusivas, enquanto clientes com baixa recência, frequência e valor podem ser alvos de campanhas de reativação.\n",
    "\n",
    "----\n",
    "\n",
    "## Implementação\n",
    "\n",
    " - **1 Calcular a Recency (Recência):** Determinar a última data de compra para cada cliente.\n",
    " - **2 Calcular a Frequency (Frequência):** Contar o número de transações que cada cliente realizou durante um determinado período de tempo.\n",
    " - **3 Calcular o Value (Valor):** Calcular o valor total gasto por cada cliente durante o mesmo período de tempo.\n",
    " - **4 Atribuir Pontuações:** Atribuir pontuações a cada cliente com base nos três aspectos (Recency, Frequency, Value).\n",
    "- **5 Segmentação de Clientes:** Segmentar os clientes com base nas pontuações atribuídas.\n"
   ]
  },
  {
   "cell_type": "code",
   "execution_count": 0,
   "metadata": {
    "application/vnd.databricks.v1+cell": {
     "cellMetadata": {
      "byteLimit": 2048000,
      "rowLimit": 10000
     },
     "inputWidgets": {},
     "nuid": "3707d12a-f42c-46de-981f-f50750230449",
     "showTitle": false,
     "title": ""
    }
   },
   "outputs": [],
   "source": [
    "tb_name = \"olist_gold.customers_rfv\"\n",
    "dataset_location = \"olist_customers_rfv_dataset\"\n",
    "target_location = f\"dbfs:/FileStore/delta/brazilian_ecommerce/{dataset_location}/gold\""
   ]
  },
  {
   "cell_type": "markdown",
   "metadata": {
    "application/vnd.databricks.v1+cell": {
     "cellMetadata": {},
     "inputWidgets": {},
     "nuid": "5f3d216e-533d-437a-a6d6-9ab063d7c8cb",
     "showTitle": false,
     "title": ""
    }
   },
   "source": [
    "## 1 - Data ingestion\n"
   ]
  },
  {
   "cell_type": "code",
   "execution_count": 0,
   "metadata": {
    "application/vnd.databricks.v1+cell": {
     "cellMetadata": {
      "byteLimit": 2048000,
      "rowLimit": 10000
     },
     "inputWidgets": {},
     "nuid": "6af57b81-ca1d-4b16-9371-65dbf824d43d",
     "showTitle": false,
     "title": ""
    }
   },
   "outputs": [],
   "source": [
    "df_customers = spark.sql(\"SELECT customer_id, customer_unique_id, customer_state FROM olist_silver.customers\")\n",
    "\n",
    "df_orders = spark.sql(\"SELECT order_id, customer_id, DATE(order_purchase_timestamp) as order_date FROM olist_silver.orders\")\n",
    "\n",
    "# dados de order items cruzados com products para trazermos a categoria do produto\n",
    "df_order_items =spark.sql(\"\"\"SELECT \n",
    "                          order_id, l.product_id, product_category_name  \n",
    "                          FROM olist_silver.order_items l \n",
    "                          INNER JOIN olist_silver.products r\n",
    "                          ON l.product_id = r.product_id\n",
    "                          \"\"\")\n",
    "\n",
    "df_order_payments = spark.sql(\"SELECT order_id, payment_value FROM olist_silver.order_payments\")"
   ]
  },
  {
   "cell_type": "markdown",
   "metadata": {
    "application/vnd.databricks.v1+cell": {
     "cellMetadata": {},
     "inputWidgets": {},
     "nuid": "c956a4c8-f3e5-4915-8e7f-93d65c05bff8",
     "showTitle": false,
     "title": ""
    }
   },
   "source": [
    "\n",
    "## 2 - preparation"
   ]
  },
  {
   "cell_type": "code",
   "execution_count": 0,
   "metadata": {
    "application/vnd.databricks.v1+cell": {
     "cellMetadata": {
      "byteLimit": 2048000,
      "rowLimit": 10000
     },
     "inputWidgets": {},
     "nuid": "6e2e1780-03e2-4dea-8671-082e240807e2",
     "showTitle": false,
     "title": ""
    }
   },
   "outputs": [],
   "source": [
    "date_pd = df_orders.select(\"order_date\").toPandas()\n",
    "\n",
    "MIN_DATE = date_pd.min()[0]\n",
    "MAX_DATE = date_pd.max()[0]\n",
    "\n",
    "print(f'''\n",
    "Analysis init date: {MIN_DATE}\n",
    " Analysis end date: {MAX_DATE}\n",
    "  Days of analysis: {(MAX_DATE - MIN_DATE).days}\n",
    "''')"
   ]
  },
  {
   "cell_type": "markdown",
   "metadata": {
    "application/vnd.databricks.v1+cell": {
     "cellMetadata": {},
     "inputWidgets": {},
     "nuid": "6f1500a7-3025-4b2a-938b-fa0bc0a1e33c",
     "showTitle": false,
     "title": ""
    }
   },
   "source": [
    "\n",
    "## Joins"
   ]
  },
  {
   "cell_type": "code",
   "execution_count": 0,
   "metadata": {
    "application/vnd.databricks.v1+cell": {
     "cellMetadata": {
      "byteLimit": 2048000,
      "rowLimit": 10000
     },
     "inputWidgets": {},
     "nuid": "62c4f910-a4dc-4315-9906-3e8078e0146a",
     "showTitle": false,
     "title": ""
    }
   },
   "outputs": [],
   "source": [
    "df = (\n",
    "    df_orders\n",
    "    .join(df_order_payments, on=\"order_id\", how=\"left\")\n",
    "    .join(df_customers, on=\"customer_id\", how=\"left\")\n",
    "    .filter(col(\"payment_value\").isNotNull() & col(\"customer_state\").isNotNull())\n",
    "    .withColumn(\"time_since_last_order\", date_diff(lit(MAX_DATE), col(\"order_date\")))\n",
    ")"
   ]
  },
  {
   "cell_type": "markdown",
   "metadata": {
    "application/vnd.databricks.v1+cell": {
     "cellMetadata": {},
     "inputWidgets": {},
     "nuid": "50d80329-798a-4e87-bea7-99cca84d029e",
     "showTitle": false,
     "title": ""
    }
   },
   "source": [
    "\n",
    "### RFV"
   ]
  },
  {
   "cell_type": "code",
   "execution_count": 0,
   "metadata": {
    "application/vnd.databricks.v1+cell": {
     "cellMetadata": {
      "byteLimit": 2048000,
      "rowLimit": 10000
     },
     "inputWidgets": {},
     "nuid": "c64863ef-7df4-4516-ab1c-8f752200880d",
     "showTitle": false,
     "title": ""
    }
   },
   "outputs": [],
   "source": [
    "df = (\n",
    "    df\n",
    "    .groupBy(\"customer_unique_id\")\n",
    "    .agg(\n",
    "        min(\"time_since_last_order\").alias(\"recency\"), # tempo da ultima compra\n",
    "        count(\"order_id\").alias(\"frequency\"), # frequencia de compra\n",
    "        sum(\"payment_value\").alias(\"value\") # valor total de gastos\n",
    "    )\n",
    ")"
   ]
  },
  {
   "cell_type": "code",
   "execution_count": 0,
   "metadata": {
    "application/vnd.databricks.v1+cell": {
     "cellMetadata": {
      "byteLimit": 2048000,
      "rowLimit": 10000
     },
     "inputWidgets": {},
     "nuid": "e684e103-0e7d-4a2c-8eb4-05567a7b721e",
     "showTitle": false,
     "title": ""
    }
   },
   "outputs": [],
   "source": [
    "display(df.take(10))"
   ]
  },
  {
   "cell_type": "markdown",
   "metadata": {
    "application/vnd.databricks.v1+cell": {
     "cellMetadata": {},
     "inputWidgets": {},
     "nuid": "edea5ef9-4e1b-4740-adad-4b350e8271ea",
     "showTitle": false,
     "title": ""
    }
   },
   "source": [
    "\n",
    "## Ranking\n",
    "\n",
    " - **Classificação dos dados de acordo com quartis:** As colunas recency, frequency e value são classificadas de acordo com os quartis 25%, 50% e 75%, respectivamente. Isso significa que estamos dividindo os dados em quatro partes iguais com base em cada métrica.\n",
    " - **Classificação dos tiers com base no score: Os tiers (Bronze, Silver, Gold)** são atribuídos com base nos quartis calculados.\n",
    "\n",
    " O uso de quartis permite uma distribuição equitativa dos clientes em cada tier com base na distribuição dos dados.\n",
    "____\n",
    " **Para melhoria:** O calculo de score deveria ser revisto. Por exemplo, clientes com alta frequência e alto valor são extremamente valiosos, enquanto aqueles com alta recência, mas baixa frequência e valor, podem precisar de mais atenção para aumentar seu engajamento. "
   ]
  },
  {
   "cell_type": "markdown",
   "metadata": {
    "application/vnd.databricks.v1+cell": {
     "cellMetadata": {},
     "inputWidgets": {},
     "nuid": "1f81f43b-53a4-4933-9112-fa653b9af05a",
     "showTitle": false,
     "title": ""
    }
   },
   "source": [
    "\n",
    "### quartiles\n",
    "\n",
    "**Calcular os quartis das métricas RFV:**\n",
    "\n",
    "Utilizamos a função approxQuantile para calcular os quartis das métricas \"recency\" (tempo desde a última compra), \"frequency\" (frequência de compras) e \"value\" (valor total gasto).\n",
    "\n",
    "Os quartis são calculados nos percentis 25%, 50% e 75%, com uma precisão de 0.01.\n",
    "\n",
    "**Extrair os quartis para cada métrica:**\n",
    "Extraimos os quartis calculados para cada métrica (recency, frequency e value) e criamos colunas separados (recency_quartiles, frequency_quartiles e value_quartiles)."
   ]
  },
  {
   "cell_type": "code",
   "execution_count": 0,
   "metadata": {
    "application/vnd.databricks.v1+cell": {
     "cellMetadata": {
      "byteLimit": 2048000,
      "rowLimit": 10000
     },
     "inputWidgets": {},
     "nuid": "716f5eba-2133-4333-8cf9-b3174cc7dcf0",
     "showTitle": false,
     "title": ""
    }
   },
   "outputs": [],
   "source": [
    "# Calcular os quartis das métricas RFV\n",
    "quartiles = df.approxQuantile(\n",
    "    [\"recency\", \"frequency\", \"value\"], [0.25, 0.5, 0.75], 0.01\n",
    ")\n",
    "\n",
    "# Extrair os quartis para cada métrica\n",
    "recency_quartiles = quartiles[0]\n",
    "frequency_quartiles = quartiles[1]\n",
    "value_quartiles = quartiles[2]\n",
    "\n",
    "# Adicionar os quartis como colunas no DataFrame\n",
    "df_rfv = df.withColumn(\"recency_quartile\",\n",
    "                       when(col(\"recency\") <= recency_quartiles[0], \"Q1\")\n",
    "                       .when((col(\"recency\") > recency_quartiles[0]) & (col(\"recency\") <= recency_quartiles[1]), \"Q2\")\n",
    "                       .when((col(\"recency\") > recency_quartiles[1]) & (col(\"recency\") <= recency_quartiles[2]), \"Q3\")\n",
    "                       .otherwise(\"Q4\"))\n",
    "\n",
    "df_rfv = df_rfv.withColumn(\"frequency_quartile\",\n",
    "                            when(col(\"frequency\") <= frequency_quartiles[0], \"Q1\")\n",
    "                            .when((col(\"frequency\") > frequency_quartiles[0]) & (col(\"frequency\") <= frequency_quartiles[1]), \"Q2\")\n",
    "                            .when((col(\"frequency\") > frequency_quartiles[1]) & (col(\"frequency\") <= frequency_quartiles[2]), \"Q3\")\n",
    "                            .otherwise(\"Q4\"))\n",
    "\n",
    "df_rfv = df_rfv.withColumn(\"value_quartile\",\n",
    "                            when(col(\"value\") <= value_quartiles[0], \"Q1\")\n",
    "                            .when((col(\"value\") > value_quartiles[0]) & (col(\"value\") <= value_quartiles[1]), \"Q2\")\n",
    "                            .when((col(\"value\") > value_quartiles[1]) & (col(\"value\") <= value_quartiles[2]), \"Q3\")\n",
    "                            .otherwise(\"Q4\"))"
   ]
  },
  {
   "cell_type": "markdown",
   "metadata": {
    "application/vnd.databricks.v1+cell": {
     "cellMetadata": {},
     "inputWidgets": {},
     "nuid": "a30e9660-1dab-4e48-a2e3-18a44489a3bc",
     "showTitle": false,
     "title": ""
    }
   },
   "source": [
    "\n",
    "### Tier\n",
    "\n",
    "**Classificar os tiers com bas enas frequencias:**\n",
    "\n",
    "- Se a recency for Q1 (melhor), a frequency for Q4 (melhor) e a value for Q4 (melhor), o cliente recebe o tier Gold, indicando o melhor desempenho possível.\n",
    "- Se a recency for Q2 (segunda-melhor), a frequency for Q4 (melhor) e a value for Q3 (segundo-melhor), o cliente também recebe o tier Gold, desepenho medio\n",
    "\n",
    "a frequencia está sendo utilizada como se tivesse maior peso para um tier maior.\n",
    "\n",
    "Para qualquer outro caso, o cliente recebe o tier Bronze, indicando um desempenho abaixo dos níveis de prata e ouro.\n",
    "\n",
    "**Disclaimer** esse cálculo é fictício e não deve ser levado em consideração \"ao pé da letra\". Apenas serve de teste para mostrar a possibilidade de segmentação de clientes para campanhas de marketing, por exemplo."
   ]
  },
  {
   "cell_type": "code",
   "execution_count": 0,
   "metadata": {
    "application/vnd.databricks.v1+cell": {
     "cellMetadata": {
      "byteLimit": 2048000,
      "rowLimit": 10000
     },
     "inputWidgets": {},
     "nuid": "2d4785c0-c8de-4ff7-9f67-49e4f2714940",
     "showTitle": false,
     "title": ""
    }
   },
   "outputs": [],
   "source": [
    "# Classificar os tiers\n",
    "df = df_rfv.withColumn(\"tier\",\n",
    "    when((col(\"recency_quartile\") == \"Q1\") & (col(\"frequency_quartile\") == \"Q4\") & (col(\"value_quartile\") == \"Q4\"), \"Gold\")\n",
    "    .when((col(\"recency_quartile\") == \"Q2\") & (col(\"frequency_quartile\") == \"Q4\") & (col(\"value_quartile\") == \"Q3\"), \"Gold\")\n",
    "    .when((col(\"recency_quartile\") == \"Q2\") & (col(\"frequency_quartile\") == \"Q3\") & (col(\"value_quartile\") == \"Q3\"), \"Silver\")\n",
    "    .when((col(\"recency_quartile\") == \"Q3\") & (col(\"frequency_quartile\") == \"Q3\") & (col(\"value_quartile\") == \"Q2\"), \"Silver\")\n",
    "    .otherwise(\"Bronze\")\n",
    ")"
   ]
  },
  {
   "cell_type": "code",
   "execution_count": 0,
   "metadata": {
    "application/vnd.databricks.v1+cell": {
     "cellMetadata": {
      "byteLimit": 2048000,
      "rowLimit": 10000
     },
     "inputWidgets": {},
     "nuid": "874ec4c9-ae38-4a18-b567-97d81a07e427",
     "showTitle": false,
     "title": ""
    }
   },
   "outputs": [],
   "source": [
    "display(df.take(10))"
   ]
  },
  {
   "cell_type": "markdown",
   "metadata": {
    "application/vnd.databricks.v1+cell": {
     "cellMetadata": {},
     "inputWidgets": {},
     "nuid": "179d0374-6a21-4114-ad59-ee923b817809",
     "showTitle": false,
     "title": ""
    }
   },
   "source": [
    "\n",
    "## Saving data"
   ]
  },
  {
   "cell_type": "code",
   "execution_count": 0,
   "metadata": {
    "application/vnd.databricks.v1+cell": {
     "cellMetadata": {
      "byteLimit": 2048000,
      "rowLimit": 10000
     },
     "inputWidgets": {},
     "nuid": "a82009ed-f82f-4587-b629-fec7876f4760",
     "showTitle": false,
     "title": ""
    }
   },
   "outputs": [],
   "source": [
    "save_dataframe(df, format_mode=\"delta\", table_name=tb_name, target_location=target_location, mode=\"overwrite\")"
   ]
  },
  {
   "cell_type": "markdown",
   "metadata": {
    "application/vnd.databricks.v1+cell": {
     "cellMetadata": {},
     "inputWidgets": {},
     "nuid": "6b96b521-aee7-459d-85ae-a32a903a7d3e",
     "showTitle": false,
     "title": ""
    }
   },
   "source": [
    "\n",
    "## create delta table\n",
    "\n",
    "TODO: implementar UPSERT\n",
    "\n",
    "o upsert serve para não precisar reescrever todos os dados, mas aproveitar do Delta para fazer um MERGE, caso um registro antigo tenha uma nova versão e INSERT para os dados que são novos"
   ]
  },
  {
   "cell_type": "code",
   "execution_count": 0,
   "metadata": {
    "application/vnd.databricks.v1+cell": {
     "cellMetadata": {
      "byteLimit": 2048000,
      "rowLimit": 10000
     },
     "inputWidgets": {},
     "nuid": "8b2284f0-ce7b-4840-a390-74419b4f36d7",
     "showTitle": false,
     "title": ""
    }
   },
   "outputs": [],
   "source": [
    "create_table(table_name=tb_name, target_location=target_location)"
   ]
  },
  {
   "cell_type": "code",
   "execution_count": 0,
   "metadata": {
    "application/vnd.databricks.v1+cell": {
     "cellMetadata": {
      "byteLimit": 2048000,
      "rowLimit": 10000
     },
     "inputWidgets": {},
     "nuid": "6d750262-c18d-40f0-b749-4b56b374587a",
     "showTitle": false,
     "title": ""
    }
   },
   "outputs": [],
   "source": [
    "# exit para fechar a execução\n",
    "dbutils.notebook.exit(\"OK\")"
   ]
  },
  {
   "cell_type": "code",
   "execution_count": 0,
   "metadata": {
    "application/vnd.databricks.v1+cell": {
     "cellMetadata": {
      "byteLimit": 2048000,
      "implicitDf": true,
      "rowLimit": 10000
     },
     "inputWidgets": {},
     "nuid": "d3e058eb-d93a-4c2d-874f-f0020f7145ac",
     "showTitle": false,
     "title": ""
    }
   },
   "outputs": [],
   "source": [
    "%sql\n",
    "\n",
    "select * from olist_gold.customers_rfv limit 10"
   ]
  },
  {
   "cell_type": "code",
   "execution_count": 0,
   "metadata": {
    "application/vnd.databricks.v1+cell": {
     "cellMetadata": {
      "byteLimit": 2048000,
      "rowLimit": 10000
     },
     "inputWidgets": {},
     "nuid": "f45863da-2a6e-453f-bb3b-27ddf95d994c",
     "showTitle": false,
     "title": ""
    }
   },
   "outputs": [],
   "source": []
  }
 ],
 "metadata": {
  "application/vnd.databricks.v1+notebook": {
   "dashboards": [],
   "language": "python",
   "notebookMetadata": {
    "mostRecentlyExecutedCommandWithImplicitDF": {
     "commandId": 3921006855257522,
     "dataframes": [
      "_sqldf"
     ]
    },
    "pythonIndentUnit": 4
   },
   "notebookName": "gold_rfv_analysis",
   "widgets": {}
  }
 },
 "nbformat": 4,
 "nbformat_minor": 0
}
