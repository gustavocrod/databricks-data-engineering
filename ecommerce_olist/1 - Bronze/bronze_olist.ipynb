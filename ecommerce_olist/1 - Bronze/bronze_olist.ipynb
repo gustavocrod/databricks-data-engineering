{
 "cells": [
  {
   "cell_type": "code",
   "execution_count": 0,
   "metadata": {
    "application/vnd.databricks.v1+cell": {
     "cellMetadata": {
      "byteLimit": 2048000,
      "rowLimit": 10000
     },
     "inputWidgets": {},
     "nuid": "2b54bd6a-22f5-45e8-be70-413ca70961b6",
     "showTitle": false,
     "title": ""
    }
   },
   "outputs": [],
   "source": [
    "%run ../_utils"
   ]
  },
  {
   "cell_type": "markdown",
   "metadata": {
    "application/vnd.databricks.v1+cell": {
     "cellMetadata": {},
     "inputWidgets": {},
     "nuid": "9216960a-0f7c-4cd5-8561-5bedddcfb05b",
     "showTitle": false,
     "title": ""
    }
   },
   "source": [
    "\n",
    "# Camada bronze\n",
    "\n",
    "Na camada bronze, nenhuma limpeza ou regra de negócio devem ser aplicadas aos dados.\n",
    "\n",
    "só vamos ler em parquet e salvar em delta.\n",
    "\n",
    "Vamos também utilizar da tabela de controle para termos o milestone da ultima execução (aqui nao será utilizado de fato, mas é interessante justamenete para o UPSERT)"
   ]
  },
  {
   "cell_type": "markdown",
   "metadata": {
    "application/vnd.databricks.v1+cell": {
     "cellMetadata": {},
     "inputWidgets": {},
     "nuid": "6472c87d-92c6-4934-93bc-e382300efec6",
     "showTitle": false,
     "title": ""
    }
   },
   "source": [
    "## 1 - Processamento da camada bronze\n",
    "\n",
    "Aqui vamos adicionar uma estrutura que permite um laço de repetição.\n",
    "\n",
    "O laço será responsável por armazenar os dados e criar tabela delta para cada \"entidade\" definida no diagrama ER"
   ]
  },
  {
   "cell_type": "code",
   "execution_count": 0,
   "metadata": {
    "application/vnd.databricks.v1+cell": {
     "cellMetadata": {
      "byteLimit": 2048000,
      "rowLimit": 10000
     },
     "inputWidgets": {},
     "nuid": "d41cf834-32a3-4d49-ac37-91c906667ac2",
     "showTitle": false,
     "title": ""
    }
   },
   "outputs": [],
   "source": [
    "data = {\n",
    "    \"table_name\": [\n",
    "        \"customers\",\n",
    "        \"orders\",\n",
    "        \"geolocation\",\n",
    "        \"products\",\n",
    "        \"order_items\",\n",
    "        \"sellers\",\n",
    "        \"order_payments\",\n",
    "        \"product_category_name_translation\",\n",
    "        \"order_reviews\",\n",
    "    ],\n",
    "    \"dataset_location\": [\n",
    "        \"olist_customers_dataset\",\n",
    "        \"olist_orders_dataset\",\n",
    "        \"olist_geolocation_dataset\",\n",
    "        \"olist_products_dataset\",\n",
    "        \"olist_order_items_dataset\",\n",
    "        \"olist_sellers_dataset\",\n",
    "        \"olist_order_payments_dataset\",\n",
    "        \"product_category_name_translation\",\n",
    "        \"olist_order_reviews_dataset\",\n",
    "    ],\n",
    "}\n",
    "\n",
    "\n",
    "bronze_tables = list(zip(data[\"table_name\"], data[\"dataset_location\"]))"
   ]
  },
  {
   "cell_type": "markdown",
   "metadata": {
    "application/vnd.databricks.v1+cell": {
     "cellMetadata": {},
     "inputWidgets": {},
     "nuid": "b9a449aa-57fd-40ad-bc49-a0be2b9d36aa",
     "showTitle": false,
     "title": ""
    }
   },
   "source": [
    "\n",
    "## 2 - Persistência\n",
    "\n",
    "Estamos pegando os arquivos em parquet (passo apenas didático), salvando os dados em delta e criando as tabelas delta"
   ]
  },
  {
   "cell_type": "code",
   "execution_count": 0,
   "metadata": {
    "application/vnd.databricks.v1+cell": {
     "cellMetadata": {
      "byteLimit": 2048000,
      "rowLimit": 10000
     },
     "inputWidgets": {},
     "nuid": "68b5aaa5-8304-4385-931a-78e4fe58f49f",
     "showTitle": false,
     "title": ""
    }
   },
   "outputs": [],
   "source": [
    "for table_name, dataset_location in bronze_tables:\n",
    "    # read data\n",
    "    parquet_location = f\"/FileStore/parquet/brazilian_ecommerce/{dataset_location}\"\n",
    "    target_location = f\"dbfs:/delta/brazilian_ecommerce/{dataset_location}/bronze\"\n",
    "\n",
    "    df = spark.read.parquet(parquet_location)\n",
    "    tb_name = f\"olist_bronze.{table_name}\"\n",
    "\n",
    "    save_dataframe(df, format_mode=\"delta\", table_name=tb_name, target_location=target_location)\n",
    "\n",
    "    create_table(table_name=tb_name, target_location=target_location)\n",
    "    \n",
    "    print()"
   ]
  },
  {
   "cell_type": "code",
   "execution_count": 0,
   "metadata": {
    "application/vnd.databricks.v1+cell": {
     "cellMetadata": {
      "byteLimit": 2048000,
      "rowLimit": 10000
     },
     "inputWidgets": {},
     "nuid": "e69c1eff-34a7-4de6-b014-de3789517079",
     "showTitle": false,
     "title": ""
    }
   },
   "outputs": [],
   "source": [
    "dbutils.notebook.exit(\"OK\")"
   ]
  },
  {
   "cell_type": "code",
   "execution_count": 0,
   "metadata": {
    "application/vnd.databricks.v1+cell": {
     "cellMetadata": {
      "byteLimit": 2048000,
      "implicitDf": true,
      "rowLimit": 10000
     },
     "inputWidgets": {},
     "nuid": "efc59834-f2a7-4d34-be7e-360bd44d6f56",
     "showTitle": false,
     "title": ""
    }
   },
   "outputs": [],
   "source": [
    "%sql\n",
    "\n",
    "select count(*) from olist_bronze.order_items"
   ]
  },
  {
   "cell_type": "code",
   "execution_count": 0,
   "metadata": {
    "application/vnd.databricks.v1+cell": {
     "cellMetadata": {
      "byteLimit": 2048000,
      "implicitDf": true,
      "rowLimit": 10000
     },
     "inputWidgets": {},
     "nuid": "57b5d0c0-385f-4648-92cb-eb5f4de7a901",
     "showTitle": false,
     "title": ""
    }
   },
   "outputs": [],
   "source": [
    "%sql\n",
    "\n",
    "select * from olist_bronze.order_items limit 10"
   ]
  },
  {
   "cell_type": "code",
   "execution_count": 0,
   "metadata": {
    "application/vnd.databricks.v1+cell": {
     "cellMetadata": {
      "byteLimit": 2048000,
      "implicitDf": true,
      "rowLimit": 10000
     },
     "inputWidgets": {},
     "nuid": "8ba2049d-c053-484a-88d4-f50046c2220f",
     "showTitle": false,
     "title": ""
    }
   },
   "outputs": [],
   "source": [
    "%sql\n",
    "\n",
    "select * from olist_bronze.order_reviews"
   ]
  },
  {
   "cell_type": "code",
   "execution_count": 0,
   "metadata": {
    "application/vnd.databricks.v1+cell": {
     "cellMetadata": {
      "byteLimit": 2048000,
      "implicitDf": true,
      "rowLimit": 10000
     },
     "inputWidgets": {},
     "nuid": "c960cdac-f0d1-426a-8a5c-b9de2a448b07",
     "showTitle": false,
     "title": ""
    }
   },
   "outputs": [],
   "source": [
    "%sql\n",
    "\n",
    "select * from olist_bronze.sellers"
   ]
  },
  {
   "cell_type": "code",
   "execution_count": 0,
   "metadata": {
    "application/vnd.databricks.v1+cell": {
     "cellMetadata": {
      "byteLimit": 2048000,
      "rowLimit": 10000
     },
     "inputWidgets": {},
     "nuid": "1ac825a4-ad05-4263-942f-f484e7595e7a",
     "showTitle": false,
     "title": ""
    }
   },
   "outputs": [],
   "source": []
  }
 ],
 "metadata": {
  "application/vnd.databricks.v1+notebook": {
   "dashboards": [],
   "language": "python",
   "notebookMetadata": {
    "mostRecentlyExecutedCommandWithImplicitDF": {
     "commandId": 422770193078096,
     "dataframes": [
      "_sqldf"
     ]
    },
    "pythonIndentUnit": 4
   },
   "notebookName": "bronze_olist",
   "widgets": {}
  }
 },
 "nbformat": 4,
 "nbformat_minor": 0
}
