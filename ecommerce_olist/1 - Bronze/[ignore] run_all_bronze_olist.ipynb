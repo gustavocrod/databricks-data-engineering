{
 "cells": [
  {
   "cell_type": "code",
   "execution_count": 0,
   "metadata": {
    "application/vnd.databricks.v1+cell": {
     "cellMetadata": {
      "byteLimit": 2048000,
      "rowLimit": 10000
     },
     "inputWidgets": {},
     "nuid": "26dae2c8-67c6-434e-8491-3c4caf4060ac",
     "showTitle": false,
     "title": ""
    }
   },
   "outputs": [],
   "source": [
    "%run ../_utils"
   ]
  },
  {
   "cell_type": "code",
   "execution_count": 0,
   "metadata": {
    "application/vnd.databricks.v1+cell": {
     "cellMetadata": {
      "byteLimit": 2048000,
      "rowLimit": 10000
     },
     "inputWidgets": {},
     "nuid": "45534f49-0581-484d-83ee-70f271a67afe",
     "showTitle": false,
     "title": ""
    }
   },
   "outputs": [],
   "source": [
    "\n",
    "data = {'table_name': ['customers', 'orders', 'geolocation', 'products', 'order_items', 'sellers', 'order_payments', 'product_category_name_translation', 'order_reviews'],\n",
    "         'dataset_location': ['olist_customers_dataset', 'olist_orders_dataset', 'olist_geolocation_dataset', 'olist_products_dataset', 'olist_sellers_dataset', 'olist_order_payments_dataset', 'product_category_name_translation', 'olist_order_reviews_dataset'],}\n",
    "\n",
    "\n",
    "bronze_tables = list(zip(data['table_name'], data['dataset_location']))"
   ]
  },
  {
   "cell_type": "code",
   "execution_count": 0,
   "metadata": {
    "application/vnd.databricks.v1+cell": {
     "cellMetadata": {
      "byteLimit": 2048000,
      "rowLimit": 10000
     },
     "inputWidgets": {},
     "nuid": "e1f2ee4b-d88e-40df-aaa8-73d6df4209e2",
     "showTitle": false,
     "title": ""
    }
   },
   "outputs": [],
   "source": [
    "for table_name, dataset_location in bronze_tables:\n",
    "    print(f\"running {table_name}\")\n",
    "    dbutils.notebook.run(path=\"./generic_bronze_olist\", timeout_seconds=3600, arguments={'table_name':table_name, 'dataset_location':dataset_location})"
   ]
  },
  {
   "cell_type": "markdown",
   "metadata": {
    "application/vnd.databricks.v1+cell": {
     "cellMetadata": {},
     "inputWidgets": {},
     "nuid": "ee080c78-b1ce-484f-893a-61d902791038",
     "showTitle": false,
     "title": ""
    }
   },
   "source": [
    "\n",
    "Problema com versao do databricks"
   ]
  },
  {
   "cell_type": "code",
   "execution_count": 0,
   "metadata": {
    "application/vnd.databricks.v1+cell": {
     "cellMetadata": {},
     "inputWidgets": {},
     "nuid": "72687bcf-3606-4060-b3f7-fa0d7cbf3ab4",
     "showTitle": false,
     "title": ""
    }
   },
   "outputs": [],
   "source": []
  }
 ],
 "metadata": {
  "application/vnd.databricks.v1+notebook": {
   "dashboards": [],
   "language": "python",
   "notebookMetadata": {
    "pythonIndentUnit": 4
   },
   "notebookName": "[ignore] run_all_bronze_olist",
   "widgets": {}
  }
 },
 "nbformat": 4,
 "nbformat_minor": 0
}
