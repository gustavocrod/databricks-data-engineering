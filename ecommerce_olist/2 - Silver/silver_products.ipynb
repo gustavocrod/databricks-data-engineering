{
 "cells": [
  {
   "cell_type": "code",
   "execution_count": 0,
   "metadata": {
    "application/vnd.databricks.v1+cell": {
     "cellMetadata": {
      "byteLimit": 2048000,
      "rowLimit": 10000
     },
     "inputWidgets": {},
     "nuid": "b1710e7f-be45-4d2f-ae8b-3f46af28e5b4",
     "showTitle": false,
     "title": ""
    }
   },
   "outputs": [
    {
     "output_type": "stream",
     "name": "stdout",
     "output_type": "stream",
     "text": [
      "\u001B[43mNote: you may need to restart the kernel using dbutils.library.restartPython() to use updated packages.\u001B[0m\nCollecting unidecode\n  Using cached Unidecode-1.3.8-py3-none-any.whl (235 kB)\nInstalling collected packages: unidecode\nSuccessfully installed unidecode-1.3.8\n\u001B[43mNote: you may need to restart the kernel using dbutils.library.restartPython() to use updated packages.\u001B[0m\n"
     ]
    }
   ],
   "source": [
    "%run ../../_utils"
   ]
  },
  {
   "cell_type": "code",
   "execution_count": 0,
   "metadata": {
    "application/vnd.databricks.v1+cell": {
     "cellMetadata": {
      "byteLimit": 2048000,
      "rowLimit": 10000
     },
     "inputWidgets": {},
     "nuid": "e6b5a612-163f-403d-9149-793f110401d7",
     "showTitle": false,
     "title": ""
    }
   },
   "outputs": [],
   "source": [
    "from pyspark.sql.functions import when, to_date, col, dayofweek\n",
    "from pyspark.sql.types import StringType, BooleanType"
   ]
  },
  {
   "cell_type": "markdown",
   "metadata": {
    "application/vnd.databricks.v1+cell": {
     "cellMetadata": {
      "byteLimit": 2048000,
      "rowLimit": 10000
     },
     "inputWidgets": {},
     "nuid": "5f9235ec-ac0c-4f2c-962e-edc87f6e86a1",
     "showTitle": false,
     "title": ""
    }
   },
   "source": [
    "\n",
    "# Camada Silver\n",
    "\n",
    "Na camada silver, limpezas e ajustes em dados devem ser aplicados\n",
    "\n",
    "Caso seja possível, enriquecer os dados e extrair dados também deve acontecer nessa camada (minha definição)"
   ]
  },
  {
   "cell_type": "code",
   "execution_count": 0,
   "metadata": {
    "application/vnd.databricks.v1+cell": {
     "cellMetadata": {
      "byteLimit": 2048000,
      "rowLimit": 10000
     },
     "inputWidgets": {},
     "nuid": "3707d12a-f42c-46de-981f-f50750230449",
     "showTitle": false,
     "title": ""
    }
   },
   "outputs": [],
   "source": [
    "tb_name = \"silver.olist_products\"\n",
    "dataset_location = \"olist_products_dataset\"\n",
    "target_location = f\"dbfs:/FileStore/delta/silver/brazilian_ecommerce/{dataset_location}\""
   ]
  },
  {
   "cell_type": "markdown",
   "metadata": {
    "application/vnd.databricks.v1+cell": {
     "cellMetadata": {
      "byteLimit": 2048000,
      "rowLimit": 10000
     },
     "inputWidgets": {},
     "nuid": "5f3d216e-533d-437a-a6d6-9ab063d7c8cb",
     "showTitle": false,
     "title": ""
    }
   },
   "source": [
    "## 1 - Data ingestion"
   ]
  },
  {
   "cell_type": "code",
   "execution_count": 0,
   "metadata": {
    "application/vnd.databricks.v1+cell": {
     "cellMetadata": {
      "byteLimit": 2048000,
      "rowLimit": 10000
     },
     "inputWidgets": {},
     "nuid": "6af57b81-ca1d-4b16-9371-65dbf824d43d",
     "showTitle": false,
     "title": ""
    }
   },
   "outputs": [],
   "source": [
    "df = spark.read.table(\"bronze.olist_products\") # leituira da delta table"
   ]
  },
  {
   "cell_type": "code",
   "execution_count": 0,
   "metadata": {
    "application/vnd.databricks.v1+cell": {
     "cellMetadata": {
      "byteLimit": 2048000,
      "rowLimit": 10000
     },
     "inputWidgets": {},
     "nuid": "68fddec1-e565-461e-a1f9-dcda13b9edbd",
     "showTitle": false,
     "title": ""
    }
   },
   "outputs": [
    {
     "output_type": "stream",
     "name": "stdout",
     "output_type": "stream",
     "text": [
      "root\n |-- product_id: string (nullable = true)\n |-- product_category_name: string (nullable = true)\n |-- product_name_lenght: integer (nullable = true)\n |-- product_description_lenght: integer (nullable = true)\n |-- product_photos_qty: integer (nullable = true)\n |-- product_weight_g: integer (nullable = true)\n |-- product_length_cm: integer (nullable = true)\n |-- product_height_cm: integer (nullable = true)\n |-- product_width_cm: integer (nullable = true)\n\n"
     ]
    }
   ],
   "source": [
    "df.printSchema()"
   ]
  },
  {
   "cell_type": "markdown",
   "metadata": {
    "application/vnd.databricks.v1+cell": {
     "cellMetadata": {
      "byteLimit": 2048000,
      "rowLimit": 10000
     },
     "inputWidgets": {},
     "nuid": "9a17b7c1-8059-49b2-86a2-be2ac70acceb",
     "showTitle": false,
     "title": ""
    }
   },
   "source": [
    "\n",
    "## 2 - Data Cleaning\n",
    "\n",
    "Aqui nessa table os dados já estão limpos e tratados. só iremos armazenar a silver (nao precisa nem do product_category_name_translation)"
   ]
  },
  {
   "cell_type": "markdown",
   "metadata": {
    "application/vnd.databricks.v1+cell": {
     "cellMetadata": {
      "byteLimit": 2048000,
      "rowLimit": 10000
     },
     "inputWidgets": {},
     "nuid": "179d0374-6a21-4114-ad59-ee923b817809",
     "showTitle": false,
     "title": ""
    }
   },
   "source": [
    "\n",
    "## Saving data"
   ]
  },
  {
   "cell_type": "code",
   "execution_count": 0,
   "metadata": {
    "application/vnd.databricks.v1+cell": {
     "cellMetadata": {
      "byteLimit": 2048000,
      "rowLimit": 10000
     },
     "inputWidgets": {},
     "nuid": "a82009ed-f82f-4587-b629-fec7876f4760",
     "showTitle": false,
     "title": ""
    }
   },
   "outputs": [
    {
     "output_type": "stream",
     "name": "stdout",
     "output_type": "stream",
     "text": [
      "[LOG] Saving silver.olist_products delta on dbfs:/FileStore/delta/silver/brazilian_ecommerce/olist_products_dataset... OK!\n"
     ]
    }
   ],
   "source": [
    "save_dataframe(df, format_mode=\"delta\", table_name=tb_name, target_location=target_location)"
   ]
  },
  {
   "cell_type": "markdown",
   "metadata": {
    "application/vnd.databricks.v1+cell": {
     "cellMetadata": {
      "byteLimit": 2048000,
      "rowLimit": 10000
     },
     "inputWidgets": {},
     "nuid": "6b96b521-aee7-459d-85ae-a32a903a7d3e",
     "showTitle": false,
     "title": ""
    }
   },
   "source": [
    "\n",
    "## create delta table\n",
    "\n",
    "TODO: implementar UPSERT\n",
    "\n",
    "o upsert serve para não precisar reescrever todos os dados, mas aproveitar do Delta para fazer um MERGE, caso um registro antigo tenha uma nova versão e INSERT para os dados que são novos"
   ]
  },
  {
   "cell_type": "code",
   "execution_count": 0,
   "metadata": {
    "application/vnd.databricks.v1+cell": {
     "cellMetadata": {
      "byteLimit": 2048000,
      "rowLimit": 10000
     },
     "inputWidgets": {},
     "nuid": "8b2284f0-ce7b-4840-a390-74419b4f36d7",
     "showTitle": false,
     "title": ""
    }
   },
   "outputs": [
    {
     "output_type": "stream",
     "name": "stdout",
     "output_type": "stream",
     "text": [
      "[LOG] Creating delta table silver.olist_products on dbfs:/FileStore/delta/silver/brazilian_ecommerce/olist_products_dataset... OK!\n"
     ]
    }
   ],
   "source": [
    "create_table(table_name=tb_name, target_location=target_location)"
   ]
  },
  {
   "cell_type": "code",
   "execution_count": 0,
   "metadata": {
    "application/vnd.databricks.v1+cell": {
     "cellMetadata": {
      "byteLimit": 2048000,
      "rowLimit": 10000
     },
     "inputWidgets": {},
     "nuid": "36f294b5-92cb-4462-8a2d-b8a0a6659de4",
     "showTitle": false,
     "title": ""
    }
   },
   "outputs": [
    {
     "output_type": "display_data",
     "data": {
      "text/html": [
       "<style scoped>\n",
       "  .table-result-container {\n",
       "    max-height: 300px;\n",
       "    overflow: auto;\n",
       "  }\n",
       "  table, th, td {\n",
       "    border: 1px solid black;\n",
       "    border-collapse: collapse;\n",
       "  }\n",
       "  th, td {\n",
       "    padding: 5px;\n",
       "  }\n",
       "  th {\n",
       "    text-align: left;\n",
       "  }\n",
       "</style><div class='table-result-container'><table class='table-result'><thead style='background-color: white'><tr><th>product_id</th><th>product_category_name</th><th>product_name_lenght</th><th>product_description_lenght</th><th>product_photos_qty</th><th>product_weight_g</th><th>product_length_cm</th><th>product_height_cm</th><th>product_width_cm</th></tr></thead><tbody><tr><td>1e9e8ef04dbcff4541ed26657ea517e5</td><td>perfumaria</td><td>40</td><td>287</td><td>1</td><td>225</td><td>16</td><td>10</td><td>14</td></tr><tr><td>3aa071139cb16b67ca9e5dea641aaa2f</td><td>artes</td><td>44</td><td>276</td><td>1</td><td>1000</td><td>30</td><td>18</td><td>20</td></tr><tr><td>96bd76ec8810374ed1b65e291975717f</td><td>esporte_lazer</td><td>46</td><td>250</td><td>1</td><td>154</td><td>18</td><td>9</td><td>15</td></tr><tr><td>cef67bcfe19066a932b7673e239eb23d</td><td>bebes</td><td>27</td><td>261</td><td>1</td><td>371</td><td>26</td><td>4</td><td>26</td></tr><tr><td>9dc1a7de274444849c219cff195d0b71</td><td>utilidades_domesticas</td><td>37</td><td>402</td><td>4</td><td>625</td><td>20</td><td>17</td><td>13</td></tr><tr><td>41d3672d4792049fa1779bb35283ed13</td><td>instrumentos_musicais</td><td>60</td><td>745</td><td>1</td><td>200</td><td>38</td><td>5</td><td>11</td></tr><tr><td>732bd381ad09e530fe0a5f457d81becb</td><td>cool_stuff</td><td>56</td><td>1272</td><td>4</td><td>18350</td><td>70</td><td>24</td><td>44</td></tr><tr><td>2548af3e6e77a690cf3eb6368e9ab61e</td><td>moveis_decoracao</td><td>56</td><td>184</td><td>2</td><td>900</td><td>40</td><td>8</td><td>40</td></tr><tr><td>37cc742be07708b53a98702e77a21a02</td><td>eletrodomesticos</td><td>57</td><td>163</td><td>1</td><td>400</td><td>27</td><td>13</td><td>17</td></tr><tr><td>8c92109888e8cdf9d66dc7e463025574</td><td>brinquedos</td><td>36</td><td>1156</td><td>1</td><td>600</td><td>17</td><td>10</td><td>12</td></tr></tbody></table></div>"
      ]
     },
     "metadata": {
      "application/vnd.databricks.v1+output": {
       "addedWidgets": {},
       "aggData": [],
       "aggError": "",
       "aggOverflow": false,
       "aggSchema": [],
       "aggSeriesLimitReached": false,
       "aggType": "",
       "arguments": {},
       "columnCustomDisplayInfos": {},
       "data": [
        [
         "1e9e8ef04dbcff4541ed26657ea517e5",
         "perfumaria",
         40,
         287,
         1,
         225,
         16,
         10,
         14
        ],
        [
         "3aa071139cb16b67ca9e5dea641aaa2f",
         "artes",
         44,
         276,
         1,
         1000,
         30,
         18,
         20
        ],
        [
         "96bd76ec8810374ed1b65e291975717f",
         "esporte_lazer",
         46,
         250,
         1,
         154,
         18,
         9,
         15
        ],
        [
         "cef67bcfe19066a932b7673e239eb23d",
         "bebes",
         27,
         261,
         1,
         371,
         26,
         4,
         26
        ],
        [
         "9dc1a7de274444849c219cff195d0b71",
         "utilidades_domesticas",
         37,
         402,
         4,
         625,
         20,
         17,
         13
        ],
        [
         "41d3672d4792049fa1779bb35283ed13",
         "instrumentos_musicais",
         60,
         745,
         1,
         200,
         38,
         5,
         11
        ],
        [
         "732bd381ad09e530fe0a5f457d81becb",
         "cool_stuff",
         56,
         1272,
         4,
         18350,
         70,
         24,
         44
        ],
        [
         "2548af3e6e77a690cf3eb6368e9ab61e",
         "moveis_decoracao",
         56,
         184,
         2,
         900,
         40,
         8,
         40
        ],
        [
         "37cc742be07708b53a98702e77a21a02",
         "eletrodomesticos",
         57,
         163,
         1,
         400,
         27,
         13,
         17
        ],
        [
         "8c92109888e8cdf9d66dc7e463025574",
         "brinquedos",
         36,
         1156,
         1,
         600,
         17,
         10,
         12
        ]
       ],
       "datasetInfos": [],
       "dbfsResultPath": null,
       "isJsonSchema": true,
       "metadata": {},
       "overflow": false,
       "plotOptions": {
        "customPlotOptions": {},
        "displayType": "table",
        "pivotAggregation": null,
        "pivotColumns": null,
        "xColumns": null,
        "yColumns": null
       },
       "removedWidgets": [],
       "schema": [
        {
         "metadata": "{}",
         "name": "product_id",
         "type": "\"string\""
        },
        {
         "metadata": "{}",
         "name": "product_category_name",
         "type": "\"string\""
        },
        {
         "metadata": "{}",
         "name": "product_name_lenght",
         "type": "\"long\""
        },
        {
         "metadata": "{}",
         "name": "product_description_lenght",
         "type": "\"long\""
        },
        {
         "metadata": "{}",
         "name": "product_photos_qty",
         "type": "\"long\""
        },
        {
         "metadata": "{}",
         "name": "product_weight_g",
         "type": "\"long\""
        },
        {
         "metadata": "{}",
         "name": "product_length_cm",
         "type": "\"long\""
        },
        {
         "metadata": "{}",
         "name": "product_height_cm",
         "type": "\"long\""
        },
        {
         "metadata": "{}",
         "name": "product_width_cm",
         "type": "\"long\""
        }
       ],
       "type": "table"
      }
     },
     "output_type": "display_data"
    }
   ],
   "source": [
    "display(df.take(10))"
   ]
  },
  {
   "cell_type": "code",
   "execution_count": 0,
   "metadata": {
    "application/vnd.databricks.v1+cell": {
     "cellMetadata": {
      "byteLimit": 2048000,
      "rowLimit": 10000
     },
     "inputWidgets": {},
     "nuid": "6d750262-c18d-40f0-b749-4b56b374587a",
     "showTitle": false,
     "title": ""
    }
   },
   "outputs": [],
   "source": [
    "# exit para fechar a execução\n",
    "dbutils.notebook.exit(\"OK\")"
   ]
  },
  {
   "cell_type": "code",
   "execution_count": 0,
   "metadata": {
    "application/vnd.databricks.v1+cell": {
     "cellMetadata": {
      "byteLimit": 2048000,
      "implicitDf": true,
      "rowLimit": 10000
     },
     "inputWidgets": {},
     "nuid": "d3e058eb-d93a-4c2d-874f-f0020f7145ac",
     "showTitle": false,
     "title": ""
    }
   },
   "outputs": [
    {
     "output_type": "display_data",
     "data": {
      "text/html": [
       "<style scoped>\n",
       "  .table-result-container {\n",
       "    max-height: 300px;\n",
       "    overflow: auto;\n",
       "  }\n",
       "  table, th, td {\n",
       "    border: 1px solid black;\n",
       "    border-collapse: collapse;\n",
       "  }\n",
       "  th, td {\n",
       "    padding: 5px;\n",
       "  }\n",
       "  th {\n",
       "    text-align: left;\n",
       "  }\n",
       "</style><div class='table-result-container'><table class='table-result'><thead style='background-color: white'><tr><th>product_id</th><th>product_category_name</th><th>product_name_lenght</th><th>product_description_lenght</th><th>product_photos_qty</th><th>product_weight_g</th><th>product_length_cm</th><th>product_height_cm</th><th>product_width_cm</th></tr></thead><tbody><tr><td>1e9e8ef04dbcff4541ed26657ea517e5</td><td>perfumaria</td><td>40</td><td>287</td><td>1</td><td>225</td><td>16</td><td>10</td><td>14</td></tr><tr><td>3aa071139cb16b67ca9e5dea641aaa2f</td><td>artes</td><td>44</td><td>276</td><td>1</td><td>1000</td><td>30</td><td>18</td><td>20</td></tr><tr><td>96bd76ec8810374ed1b65e291975717f</td><td>esporte_lazer</td><td>46</td><td>250</td><td>1</td><td>154</td><td>18</td><td>9</td><td>15</td></tr><tr><td>cef67bcfe19066a932b7673e239eb23d</td><td>bebes</td><td>27</td><td>261</td><td>1</td><td>371</td><td>26</td><td>4</td><td>26</td></tr><tr><td>9dc1a7de274444849c219cff195d0b71</td><td>utilidades_domesticas</td><td>37</td><td>402</td><td>4</td><td>625</td><td>20</td><td>17</td><td>13</td></tr><tr><td>41d3672d4792049fa1779bb35283ed13</td><td>instrumentos_musicais</td><td>60</td><td>745</td><td>1</td><td>200</td><td>38</td><td>5</td><td>11</td></tr><tr><td>732bd381ad09e530fe0a5f457d81becb</td><td>cool_stuff</td><td>56</td><td>1272</td><td>4</td><td>18350</td><td>70</td><td>24</td><td>44</td></tr><tr><td>2548af3e6e77a690cf3eb6368e9ab61e</td><td>moveis_decoracao</td><td>56</td><td>184</td><td>2</td><td>900</td><td>40</td><td>8</td><td>40</td></tr><tr><td>37cc742be07708b53a98702e77a21a02</td><td>eletrodomesticos</td><td>57</td><td>163</td><td>1</td><td>400</td><td>27</td><td>13</td><td>17</td></tr><tr><td>8c92109888e8cdf9d66dc7e463025574</td><td>brinquedos</td><td>36</td><td>1156</td><td>1</td><td>600</td><td>17</td><td>10</td><td>12</td></tr></tbody></table></div>"
      ]
     },
     "metadata": {
      "application/vnd.databricks.v1+output": {
       "addedWidgets": {},
       "aggData": [],
       "aggError": "",
       "aggOverflow": false,
       "aggSchema": [],
       "aggSeriesLimitReached": false,
       "aggType": "",
       "arguments": {},
       "columnCustomDisplayInfos": {},
       "data": [
        [
         "1e9e8ef04dbcff4541ed26657ea517e5",
         "perfumaria",
         40,
         287,
         1,
         225,
         16,
         10,
         14
        ],
        [
         "3aa071139cb16b67ca9e5dea641aaa2f",
         "artes",
         44,
         276,
         1,
         1000,
         30,
         18,
         20
        ],
        [
         "96bd76ec8810374ed1b65e291975717f",
         "esporte_lazer",
         46,
         250,
         1,
         154,
         18,
         9,
         15
        ],
        [
         "cef67bcfe19066a932b7673e239eb23d",
         "bebes",
         27,
         261,
         1,
         371,
         26,
         4,
         26
        ],
        [
         "9dc1a7de274444849c219cff195d0b71",
         "utilidades_domesticas",
         37,
         402,
         4,
         625,
         20,
         17,
         13
        ],
        [
         "41d3672d4792049fa1779bb35283ed13",
         "instrumentos_musicais",
         60,
         745,
         1,
         200,
         38,
         5,
         11
        ],
        [
         "732bd381ad09e530fe0a5f457d81becb",
         "cool_stuff",
         56,
         1272,
         4,
         18350,
         70,
         24,
         44
        ],
        [
         "2548af3e6e77a690cf3eb6368e9ab61e",
         "moveis_decoracao",
         56,
         184,
         2,
         900,
         40,
         8,
         40
        ],
        [
         "37cc742be07708b53a98702e77a21a02",
         "eletrodomesticos",
         57,
         163,
         1,
         400,
         27,
         13,
         17
        ],
        [
         "8c92109888e8cdf9d66dc7e463025574",
         "brinquedos",
         36,
         1156,
         1,
         600,
         17,
         10,
         12
        ]
       ],
       "datasetInfos": [],
       "dbfsResultPath": null,
       "isJsonSchema": true,
       "metadata": {
        "dataframeName": "_sqldf",
        "executionCount": 16
       },
       "overflow": false,
       "plotOptions": {
        "customPlotOptions": {},
        "displayType": "table",
        "pivotAggregation": null,
        "pivotColumns": null,
        "xColumns": null,
        "yColumns": null
       },
       "removedWidgets": [],
       "schema": [
        {
         "metadata": "{}",
         "name": "product_id",
         "type": "\"string\""
        },
        {
         "metadata": "{}",
         "name": "product_category_name",
         "type": "\"string\""
        },
        {
         "metadata": "{}",
         "name": "product_name_lenght",
         "type": "\"integer\""
        },
        {
         "metadata": "{}",
         "name": "product_description_lenght",
         "type": "\"integer\""
        },
        {
         "metadata": "{}",
         "name": "product_photos_qty",
         "type": "\"integer\""
        },
        {
         "metadata": "{}",
         "name": "product_weight_g",
         "type": "\"integer\""
        },
        {
         "metadata": "{}",
         "name": "product_length_cm",
         "type": "\"integer\""
        },
        {
         "metadata": "{}",
         "name": "product_height_cm",
         "type": "\"integer\""
        },
        {
         "metadata": "{}",
         "name": "product_width_cm",
         "type": "\"integer\""
        }
       ],
       "type": "table"
      }
     },
     "output_type": "display_data"
    }
   ],
   "source": [
    "%sql\n",
    "\n",
    "select * from bronze.olist_products limit 10"
   ]
  },
  {
   "cell_type": "code",
   "execution_count": 0,
   "metadata": {
    "application/vnd.databricks.v1+cell": {
     "cellMetadata": {
      "byteLimit": 2048000,
      "rowLimit": 10000
     },
     "inputWidgets": {},
     "nuid": "f45863da-2a6e-453f-bb3b-27ddf95d994c",
     "showTitle": false,
     "title": ""
    }
   },
   "outputs": [],
   "source": []
  }
 ],
 "metadata": {
  "application/vnd.databricks.v1+notebook": {
   "dashboards": [],
   "language": "python",
   "notebookMetadata": {
    "mostRecentlyExecutedCommandWithImplicitDF": {
     "commandId": 4240245637786327,
     "dataframes": [
      "_sqldf"
     ]
    },
    "pythonIndentUnit": 4
   },
   "notebookName": "silver_products",
   "widgets": {}
  }
 },
 "nbformat": 4,
 "nbformat_minor": 0
}
