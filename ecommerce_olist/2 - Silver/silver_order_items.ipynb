{
 "cells": [
  {
   "cell_type": "code",
   "execution_count": 0,
   "metadata": {
    "application/vnd.databricks.v1+cell": {
     "cellMetadata": {
      "byteLimit": 2048000,
      "rowLimit": 10000
     },
     "inputWidgets": {},
     "nuid": "b1710e7f-be45-4d2f-ae8b-3f46af28e5b4",
     "showTitle": false,
     "title": ""
    }
   },
   "outputs": [
    {
     "output_type": "stream",
     "name": "stdout",
     "output_type": "stream",
     "text": [
      "\u001B[43mNote: you may need to restart the kernel using dbutils.library.restartPython() to use updated packages.\u001B[0m\nCollecting unidecode\n  Using cached Unidecode-1.3.8-py3-none-any.whl (235 kB)\nInstalling collected packages: unidecode\nSuccessfully installed unidecode-1.3.8\n\u001B[43mNote: you may need to restart the kernel using dbutils.library.restartPython() to use updated packages.\u001B[0m\n"
     ]
    }
   ],
   "source": [
    "%run ../../_utils"
   ]
  },
  {
   "cell_type": "code",
   "execution_count": 0,
   "metadata": {
    "application/vnd.databricks.v1+cell": {
     "cellMetadata": {
      "byteLimit": 2048000,
      "rowLimit": 10000
     },
     "inputWidgets": {},
     "nuid": "e6b5a612-163f-403d-9149-793f110401d7",
     "showTitle": false,
     "title": ""
    }
   },
   "outputs": [],
   "source": [
    "from pyspark.sql.functions import when, to_date, col, dayofweek\n",
    "from pyspark.sql.types import StringType, BooleanType"
   ]
  },
  {
   "cell_type": "markdown",
   "metadata": {
    "application/vnd.databricks.v1+cell": {
     "cellMetadata": {
      "byteLimit": 2048000,
      "rowLimit": 10000
     },
     "inputWidgets": {},
     "nuid": "5f9235ec-ac0c-4f2c-962e-edc87f6e86a1",
     "showTitle": false,
     "title": ""
    }
   },
   "source": [
    "\n",
    "# Camada Silver\n",
    "\n",
    "Na camada silver, limpezas e ajustes em dados devem ser aplicados\n",
    "\n",
    "Caso seja possível, enriquecer os dados e extrair dados também deve acontecer nessa camada (minha definição)"
   ]
  },
  {
   "cell_type": "code",
   "execution_count": 0,
   "metadata": {
    "application/vnd.databricks.v1+cell": {
     "cellMetadata": {
      "byteLimit": 2048000,
      "rowLimit": 10000
     },
     "inputWidgets": {},
     "nuid": "3707d12a-f42c-46de-981f-f50750230449",
     "showTitle": false,
     "title": ""
    }
   },
   "outputs": [],
   "source": [
    "tb_name = \"silver.olist_order_items\"\n",
    "dataset_location = \"olist_order_items_dataset\"\n",
    "target_location = f\"dbfs:/FileStore/delta/silver/brazilian_ecommerce/{dataset_location}\""
   ]
  },
  {
   "cell_type": "markdown",
   "metadata": {
    "application/vnd.databricks.v1+cell": {
     "cellMetadata": {
      "byteLimit": 2048000,
      "rowLimit": 10000
     },
     "inputWidgets": {},
     "nuid": "5f3d216e-533d-437a-a6d6-9ab063d7c8cb",
     "showTitle": false,
     "title": ""
    }
   },
   "source": [
    "## 1 - Data ingestion"
   ]
  },
  {
   "cell_type": "code",
   "execution_count": 0,
   "metadata": {
    "application/vnd.databricks.v1+cell": {
     "cellMetadata": {
      "byteLimit": 2048000,
      "rowLimit": 10000
     },
     "inputWidgets": {},
     "nuid": "6af57b81-ca1d-4b16-9371-65dbf824d43d",
     "showTitle": false,
     "title": ""
    }
   },
   "outputs": [],
   "source": [
    "df = spark.read.table(\"bronze.olist_order_items\") # leituira da delta table"
   ]
  },
  {
   "cell_type": "code",
   "execution_count": 0,
   "metadata": {
    "application/vnd.databricks.v1+cell": {
     "cellMetadata": {
      "byteLimit": 2048000,
      "rowLimit": 10000
     },
     "inputWidgets": {},
     "nuid": "68fddec1-e565-461e-a1f9-dcda13b9edbd",
     "showTitle": false,
     "title": ""
    }
   },
   "outputs": [
    {
     "output_type": "stream",
     "name": "stdout",
     "output_type": "stream",
     "text": [
      "root\n |-- order_id: string (nullable = true)\n |-- order_item_id: integer (nullable = true)\n |-- product_id: string (nullable = true)\n |-- seller_id: string (nullable = true)\n |-- shipping_limit_date: timestamp (nullable = true)\n |-- price: double (nullable = true)\n |-- freight_value: double (nullable = true)\n\n"
     ]
    }
   ],
   "source": [
    "df.printSchema()"
   ]
  },
  {
   "cell_type": "code",
   "execution_count": 0,
   "metadata": {
    "application/vnd.databricks.v1+cell": {
     "cellMetadata": {
      "byteLimit": 2048000,
      "rowLimit": 10000
     },
     "inputWidgets": {},
     "nuid": "6e2e1780-03e2-4dea-8671-082e240807e2",
     "showTitle": false,
     "title": ""
    }
   },
   "outputs": [
    {
     "output_type": "display_data",
     "data": {
      "text/html": [
       "<style scoped>\n",
       "  .table-result-container {\n",
       "    max-height: 300px;\n",
       "    overflow: auto;\n",
       "  }\n",
       "  table, th, td {\n",
       "    border: 1px solid black;\n",
       "    border-collapse: collapse;\n",
       "  }\n",
       "  th, td {\n",
       "    padding: 5px;\n",
       "  }\n",
       "  th {\n",
       "    text-align: left;\n",
       "  }\n",
       "</style><div class='table-result-container'><table class='table-result'><thead style='background-color: white'><tr><th>order_id</th><th>order_item_id</th><th>product_id</th><th>seller_id</th><th>shipping_limit_date</th><th>price</th><th>freight_value</th></tr></thead><tbody><tr><td>00010242fe8c5a6d1ba2dd792cb16214</td><td>1</td><td>4244733e06e7ecb4970a6e2683c13e61</td><td>48436dade18ac8b2bce089ec2a041202</td><td>2017-09-19T09:45:35Z</td><td>58.9</td><td>13.29</td></tr><tr><td>00018f77f2f0320c557190d7a144bdd3</td><td>1</td><td>e5f2d52b802189ee658865ca93d83a8f</td><td>dd7ddc04e1b6c2c614352b383efe2d36</td><td>2017-05-03T11:05:13Z</td><td>239.9</td><td>19.93</td></tr><tr><td>000229ec398224ef6ca0657da4fc703e</td><td>1</td><td>c777355d18b72b67abbeef9df44fd0fd</td><td>5b51032eddd242adc84c38acab88f23d</td><td>2018-01-18T14:48:30Z</td><td>199.0</td><td>17.87</td></tr><tr><td>00024acbcdf0a6daa1e931b038114c75</td><td>1</td><td>7634da152a4610f1595efa32f14722fc</td><td>9d7a1d34a5052409006425275ba1c2b4</td><td>2018-08-15T10:10:18Z</td><td>12.99</td><td>12.79</td></tr><tr><td>00042b26cf59d7ce69dfabb4e55b4fd9</td><td>1</td><td>ac6c3623068f30de03045865e4e10089</td><td>df560393f3a51e74553ab94004ba5c87</td><td>2017-02-13T13:57:51Z</td><td>199.9</td><td>18.14</td></tr><tr><td>00048cc3ae777c65dbb7d2a0634bc1ea</td><td>1</td><td>ef92defde845ab8450f9d70c526ef70f</td><td>6426d21aca402a131fc0a5d0960a3c90</td><td>2017-05-23T03:55:27Z</td><td>21.9</td><td>12.69</td></tr><tr><td>00054e8431b9d7675808bcb819fb4a32</td><td>1</td><td>8d4f2bb7e93e6710a28f34fa83ee7d28</td><td>7040e82f899a04d1b434b795a43b4617</td><td>2017-12-14T12:10:31Z</td><td>19.9</td><td>11.85</td></tr><tr><td>000576fe39319847cbb9d288c5617fa6</td><td>1</td><td>557d850972a7d6f792fd18ae1400d9b6</td><td>5996cddab893a4652a15592fb58ab8db</td><td>2018-07-10T12:30:45Z</td><td>810.0</td><td>70.75</td></tr><tr><td>0005a1a1728c9d785b8e2b08b904576c</td><td>1</td><td>310ae3c140ff94b03219ad0adc3c778f</td><td>a416b6a846a11724393025641d4edd5e</td><td>2018-03-26T18:31:29Z</td><td>145.95</td><td>11.65</td></tr><tr><td>0005f50442cb953dcd1d21e1fb923495</td><td>1</td><td>4535b0e1091c278dfd193e5a1d63b39f</td><td>ba143b05f0110f0dc71ad71b4466ce92</td><td>2018-07-06T14:10:56Z</td><td>53.99</td><td>11.4</td></tr></tbody></table></div>"
      ]
     },
     "metadata": {
      "application/vnd.databricks.v1+output": {
       "addedWidgets": {},
       "aggData": [],
       "aggError": "",
       "aggOverflow": false,
       "aggSchema": [],
       "aggSeriesLimitReached": false,
       "aggType": "",
       "arguments": {},
       "columnCustomDisplayInfos": {},
       "data": [
        [
         "00010242fe8c5a6d1ba2dd792cb16214",
         1,
         "4244733e06e7ecb4970a6e2683c13e61",
         "48436dade18ac8b2bce089ec2a041202",
         "2017-09-19T09:45:35Z",
         58.9,
         13.29
        ],
        [
         "00018f77f2f0320c557190d7a144bdd3",
         1,
         "e5f2d52b802189ee658865ca93d83a8f",
         "dd7ddc04e1b6c2c614352b383efe2d36",
         "2017-05-03T11:05:13Z",
         239.9,
         19.93
        ],
        [
         "000229ec398224ef6ca0657da4fc703e",
         1,
         "c777355d18b72b67abbeef9df44fd0fd",
         "5b51032eddd242adc84c38acab88f23d",
         "2018-01-18T14:48:30Z",
         199.0,
         17.87
        ],
        [
         "00024acbcdf0a6daa1e931b038114c75",
         1,
         "7634da152a4610f1595efa32f14722fc",
         "9d7a1d34a5052409006425275ba1c2b4",
         "2018-08-15T10:10:18Z",
         12.99,
         12.79
        ],
        [
         "00042b26cf59d7ce69dfabb4e55b4fd9",
         1,
         "ac6c3623068f30de03045865e4e10089",
         "df560393f3a51e74553ab94004ba5c87",
         "2017-02-13T13:57:51Z",
         199.9,
         18.14
        ],
        [
         "00048cc3ae777c65dbb7d2a0634bc1ea",
         1,
         "ef92defde845ab8450f9d70c526ef70f",
         "6426d21aca402a131fc0a5d0960a3c90",
         "2017-05-23T03:55:27Z",
         21.9,
         12.69
        ],
        [
         "00054e8431b9d7675808bcb819fb4a32",
         1,
         "8d4f2bb7e93e6710a28f34fa83ee7d28",
         "7040e82f899a04d1b434b795a43b4617",
         "2017-12-14T12:10:31Z",
         19.9,
         11.85
        ],
        [
         "000576fe39319847cbb9d288c5617fa6",
         1,
         "557d850972a7d6f792fd18ae1400d9b6",
         "5996cddab893a4652a15592fb58ab8db",
         "2018-07-10T12:30:45Z",
         810.0,
         70.75
        ],
        [
         "0005a1a1728c9d785b8e2b08b904576c",
         1,
         "310ae3c140ff94b03219ad0adc3c778f",
         "a416b6a846a11724393025641d4edd5e",
         "2018-03-26T18:31:29Z",
         145.95,
         11.65
        ],
        [
         "0005f50442cb953dcd1d21e1fb923495",
         1,
         "4535b0e1091c278dfd193e5a1d63b39f",
         "ba143b05f0110f0dc71ad71b4466ce92",
         "2018-07-06T14:10:56Z",
         53.99,
         11.4
        ]
       ],
       "datasetInfos": [],
       "dbfsResultPath": null,
       "isJsonSchema": true,
       "metadata": {},
       "overflow": false,
       "plotOptions": {
        "customPlotOptions": {},
        "displayType": "table",
        "pivotAggregation": null,
        "pivotColumns": null,
        "xColumns": null,
        "yColumns": null
       },
       "removedWidgets": [],
       "schema": [
        {
         "metadata": "{}",
         "name": "order_id",
         "type": "\"string\""
        },
        {
         "metadata": "{}",
         "name": "order_item_id",
         "type": "\"long\""
        },
        {
         "metadata": "{}",
         "name": "product_id",
         "type": "\"string\""
        },
        {
         "metadata": "{}",
         "name": "seller_id",
         "type": "\"string\""
        },
        {
         "metadata": "{}",
         "name": "shipping_limit_date",
         "type": "\"timestamp\""
        },
        {
         "metadata": "{}",
         "name": "price",
         "type": "\"double\""
        },
        {
         "metadata": "{}",
         "name": "freight_value",
         "type": "\"double\""
        }
       ],
       "type": "table"
      }
     },
     "output_type": "display_data"
    }
   ],
   "source": [
    "display(df.take(10))"
   ]
  },
  {
   "cell_type": "markdown",
   "metadata": {
    "application/vnd.databricks.v1+cell": {
     "cellMetadata": {
      "byteLimit": 2048000,
      "rowLimit": 10000
     },
     "inputWidgets": {},
     "nuid": "9a17b7c1-8059-49b2-86a2-be2ac70acceb",
     "showTitle": false,
     "title": ""
    }
   },
   "source": [
    "\n",
    "## 2 - Data Munging\n",
    "\n",
    "Aqui nessa table os dados já estão limpos e tratados. Aqui temos a ciencia de que é uma tablea intermediária gerada a partir de um n:n"
   ]
  },
  {
   "cell_type": "markdown",
   "metadata": {
    "application/vnd.databricks.v1+cell": {
     "cellMetadata": {
      "byteLimit": 2048000,
      "rowLimit": 10000
     },
     "inputWidgets": {},
     "nuid": "179d0374-6a21-4114-ad59-ee923b817809",
     "showTitle": false,
     "title": ""
    }
   },
   "source": [
    "\n",
    "## Saving data"
   ]
  },
  {
   "cell_type": "code",
   "execution_count": 0,
   "metadata": {
    "application/vnd.databricks.v1+cell": {
     "cellMetadata": {
      "byteLimit": 2048000,
      "rowLimit": 10000
     },
     "inputWidgets": {},
     "nuid": "a82009ed-f82f-4587-b629-fec7876f4760",
     "showTitle": false,
     "title": ""
    }
   },
   "outputs": [
    {
     "output_type": "stream",
     "name": "stdout",
     "output_type": "stream",
     "text": [
      "[LOG] Saving silver.olist_order_items delta on dbfs:/FileStore/delta/silver/brazilian_ecommerce/olist_order_items_dataset... OK!\n"
     ]
    }
   ],
   "source": [
    "save_dataframe(df, format_mode=\"delta\", table_name=tb_name, target_location=target_location)"
   ]
  },
  {
   "cell_type": "markdown",
   "metadata": {
    "application/vnd.databricks.v1+cell": {
     "cellMetadata": {
      "byteLimit": 2048000,
      "rowLimit": 10000
     },
     "inputWidgets": {},
     "nuid": "6b96b521-aee7-459d-85ae-a32a903a7d3e",
     "showTitle": false,
     "title": ""
    }
   },
   "source": [
    "\n",
    "## create delta table\n",
    "\n",
    "TODO: implementar UPSERT\n",
    "\n",
    "o upsert serve para não precisar reescrever todos os dados, mas aproveitar do Delta para fazer um MERGE, caso um registro antigo tenha uma nova versão e INSERT para os dados que são novos"
   ]
  },
  {
   "cell_type": "code",
   "execution_count": 0,
   "metadata": {
    "application/vnd.databricks.v1+cell": {
     "cellMetadata": {
      "byteLimit": 2048000,
      "rowLimit": 10000
     },
     "inputWidgets": {},
     "nuid": "8b2284f0-ce7b-4840-a390-74419b4f36d7",
     "showTitle": false,
     "title": ""
    }
   },
   "outputs": [
    {
     "output_type": "stream",
     "name": "stdout",
     "output_type": "stream",
     "text": [
      "[LOG] Creating delta table silver.olist_order_items on dbfs:/FileStore/delta/silver/brazilian_ecommerce/olist_order_items_dataset... OK!\n"
     ]
    }
   ],
   "source": [
    "create_table(tb_name, target_location)"
   ]
  },
  {
   "cell_type": "code",
   "execution_count": 0,
   "metadata": {
    "application/vnd.databricks.v1+cell": {
     "cellMetadata": {
      "byteLimit": 2048000,
      "rowLimit": 10000
     },
     "inputWidgets": {},
     "nuid": "6d750262-c18d-40f0-b749-4b56b374587a",
     "showTitle": false,
     "title": ""
    }
   },
   "outputs": [],
   "source": [
    "# exit para fechar a execução\n",
    "dbutils.notebook.exit(\"OK\")"
   ]
  },
  {
   "cell_type": "code",
   "execution_count": 0,
   "metadata": {
    "application/vnd.databricks.v1+cell": {
     "cellMetadata": {
      "byteLimit": 2048000,
      "implicitDf": true,
      "rowLimit": 10000
     },
     "inputWidgets": {},
     "nuid": "d3e058eb-d93a-4c2d-874f-f0020f7145ac",
     "showTitle": false,
     "title": ""
    }
   },
   "outputs": [
    {
     "output_type": "display_data",
     "data": {
      "text/html": [
       "<style scoped>\n",
       "  .table-result-container {\n",
       "    max-height: 300px;\n",
       "    overflow: auto;\n",
       "  }\n",
       "  table, th, td {\n",
       "    border: 1px solid black;\n",
       "    border-collapse: collapse;\n",
       "  }\n",
       "  th, td {\n",
       "    padding: 5px;\n",
       "  }\n",
       "  th {\n",
       "    text-align: left;\n",
       "  }\n",
       "</style><div class='table-result-container'><table class='table-result'><thead style='background-color: white'><tr><th>order_id</th><th>order_item_id</th><th>product_id</th><th>seller_id</th><th>shipping_limit_date</th><th>price</th><th>freight_value</th></tr></thead><tbody><tr><td>00010242fe8c5a6d1ba2dd792cb16214</td><td>1</td><td>4244733e06e7ecb4970a6e2683c13e61</td><td>48436dade18ac8b2bce089ec2a041202</td><td>2017-09-19T09:45:35Z</td><td>58.9</td><td>13.29</td></tr><tr><td>00018f77f2f0320c557190d7a144bdd3</td><td>1</td><td>e5f2d52b802189ee658865ca93d83a8f</td><td>dd7ddc04e1b6c2c614352b383efe2d36</td><td>2017-05-03T11:05:13Z</td><td>239.9</td><td>19.93</td></tr><tr><td>000229ec398224ef6ca0657da4fc703e</td><td>1</td><td>c777355d18b72b67abbeef9df44fd0fd</td><td>5b51032eddd242adc84c38acab88f23d</td><td>2018-01-18T14:48:30Z</td><td>199.0</td><td>17.87</td></tr><tr><td>00024acbcdf0a6daa1e931b038114c75</td><td>1</td><td>7634da152a4610f1595efa32f14722fc</td><td>9d7a1d34a5052409006425275ba1c2b4</td><td>2018-08-15T10:10:18Z</td><td>12.99</td><td>12.79</td></tr><tr><td>00042b26cf59d7ce69dfabb4e55b4fd9</td><td>1</td><td>ac6c3623068f30de03045865e4e10089</td><td>df560393f3a51e74553ab94004ba5c87</td><td>2017-02-13T13:57:51Z</td><td>199.9</td><td>18.14</td></tr><tr><td>00048cc3ae777c65dbb7d2a0634bc1ea</td><td>1</td><td>ef92defde845ab8450f9d70c526ef70f</td><td>6426d21aca402a131fc0a5d0960a3c90</td><td>2017-05-23T03:55:27Z</td><td>21.9</td><td>12.69</td></tr><tr><td>00054e8431b9d7675808bcb819fb4a32</td><td>1</td><td>8d4f2bb7e93e6710a28f34fa83ee7d28</td><td>7040e82f899a04d1b434b795a43b4617</td><td>2017-12-14T12:10:31Z</td><td>19.9</td><td>11.85</td></tr><tr><td>000576fe39319847cbb9d288c5617fa6</td><td>1</td><td>557d850972a7d6f792fd18ae1400d9b6</td><td>5996cddab893a4652a15592fb58ab8db</td><td>2018-07-10T12:30:45Z</td><td>810.0</td><td>70.75</td></tr><tr><td>0005a1a1728c9d785b8e2b08b904576c</td><td>1</td><td>310ae3c140ff94b03219ad0adc3c778f</td><td>a416b6a846a11724393025641d4edd5e</td><td>2018-03-26T18:31:29Z</td><td>145.95</td><td>11.65</td></tr><tr><td>0005f50442cb953dcd1d21e1fb923495</td><td>1</td><td>4535b0e1091c278dfd193e5a1d63b39f</td><td>ba143b05f0110f0dc71ad71b4466ce92</td><td>2018-07-06T14:10:56Z</td><td>53.99</td><td>11.4</td></tr></tbody></table></div>"
      ]
     },
     "metadata": {
      "application/vnd.databricks.v1+output": {
       "addedWidgets": {},
       "aggData": [],
       "aggError": "",
       "aggOverflow": false,
       "aggSchema": [],
       "aggSeriesLimitReached": false,
       "aggType": "",
       "arguments": {},
       "columnCustomDisplayInfos": {},
       "data": [
        [
         "00010242fe8c5a6d1ba2dd792cb16214",
         1,
         "4244733e06e7ecb4970a6e2683c13e61",
         "48436dade18ac8b2bce089ec2a041202",
         "2017-09-19T09:45:35Z",
         58.9,
         13.29
        ],
        [
         "00018f77f2f0320c557190d7a144bdd3",
         1,
         "e5f2d52b802189ee658865ca93d83a8f",
         "dd7ddc04e1b6c2c614352b383efe2d36",
         "2017-05-03T11:05:13Z",
         239.9,
         19.93
        ],
        [
         "000229ec398224ef6ca0657da4fc703e",
         1,
         "c777355d18b72b67abbeef9df44fd0fd",
         "5b51032eddd242adc84c38acab88f23d",
         "2018-01-18T14:48:30Z",
         199.0,
         17.87
        ],
        [
         "00024acbcdf0a6daa1e931b038114c75",
         1,
         "7634da152a4610f1595efa32f14722fc",
         "9d7a1d34a5052409006425275ba1c2b4",
         "2018-08-15T10:10:18Z",
         12.99,
         12.79
        ],
        [
         "00042b26cf59d7ce69dfabb4e55b4fd9",
         1,
         "ac6c3623068f30de03045865e4e10089",
         "df560393f3a51e74553ab94004ba5c87",
         "2017-02-13T13:57:51Z",
         199.9,
         18.14
        ],
        [
         "00048cc3ae777c65dbb7d2a0634bc1ea",
         1,
         "ef92defde845ab8450f9d70c526ef70f",
         "6426d21aca402a131fc0a5d0960a3c90",
         "2017-05-23T03:55:27Z",
         21.9,
         12.69
        ],
        [
         "00054e8431b9d7675808bcb819fb4a32",
         1,
         "8d4f2bb7e93e6710a28f34fa83ee7d28",
         "7040e82f899a04d1b434b795a43b4617",
         "2017-12-14T12:10:31Z",
         19.9,
         11.85
        ],
        [
         "000576fe39319847cbb9d288c5617fa6",
         1,
         "557d850972a7d6f792fd18ae1400d9b6",
         "5996cddab893a4652a15592fb58ab8db",
         "2018-07-10T12:30:45Z",
         810.0,
         70.75
        ],
        [
         "0005a1a1728c9d785b8e2b08b904576c",
         1,
         "310ae3c140ff94b03219ad0adc3c778f",
         "a416b6a846a11724393025641d4edd5e",
         "2018-03-26T18:31:29Z",
         145.95,
         11.65
        ],
        [
         "0005f50442cb953dcd1d21e1fb923495",
         1,
         "4535b0e1091c278dfd193e5a1d63b39f",
         "ba143b05f0110f0dc71ad71b4466ce92",
         "2018-07-06T14:10:56Z",
         53.99,
         11.4
        ]
       ],
       "datasetInfos": [],
       "dbfsResultPath": null,
       "isJsonSchema": true,
       "metadata": {
        "dataframeName": "_sqldf",
        "executionCount": 16
       },
       "overflow": false,
       "plotOptions": {
        "customPlotOptions": {},
        "displayType": "table",
        "pivotAggregation": null,
        "pivotColumns": null,
        "xColumns": null,
        "yColumns": null
       },
       "removedWidgets": [],
       "schema": [
        {
         "metadata": "{}",
         "name": "order_id",
         "type": "\"string\""
        },
        {
         "metadata": "{}",
         "name": "order_item_id",
         "type": "\"integer\""
        },
        {
         "metadata": "{}",
         "name": "product_id",
         "type": "\"string\""
        },
        {
         "metadata": "{}",
         "name": "seller_id",
         "type": "\"string\""
        },
        {
         "metadata": "{}",
         "name": "shipping_limit_date",
         "type": "\"timestamp\""
        },
        {
         "metadata": "{}",
         "name": "price",
         "type": "\"double\""
        },
        {
         "metadata": "{}",
         "name": "freight_value",
         "type": "\"double\""
        }
       ],
       "type": "table"
      }
     },
     "output_type": "display_data"
    }
   ],
   "source": [
    "%sql\n",
    "select\n",
    "  *\n",
    "from\n",
    "  silver.olist_order_items\n",
    "limit\n",
    "  10"
   ]
  },
  {
   "cell_type": "code",
   "execution_count": 0,
   "metadata": {
    "application/vnd.databricks.v1+cell": {
     "cellMetadata": {
      "byteLimit": 2048000,
      "rowLimit": 10000
     },
     "inputWidgets": {},
     "nuid": "f45863da-2a6e-453f-bb3b-27ddf95d994c",
     "showTitle": false,
     "title": ""
    }
   },
   "outputs": [],
   "source": []
  }
 ],
 "metadata": {
  "application/vnd.databricks.v1+notebook": {
   "dashboards": [],
   "language": "python",
   "notebookMetadata": {
    "mostRecentlyExecutedCommandWithImplicitDF": {
     "commandId": 4240245637786410,
     "dataframes": [
      "_sqldf"
     ]
    },
    "pythonIndentUnit": 4
   },
   "notebookName": "silver_order_items",
   "widgets": {}
  }
 },
 "nbformat": 4,
 "nbformat_minor": 0
}
