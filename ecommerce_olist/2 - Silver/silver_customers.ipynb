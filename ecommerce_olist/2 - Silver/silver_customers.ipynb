{
 "cells": [
  {
   "cell_type": "code",
   "execution_count": 0,
   "metadata": {
    "application/vnd.databricks.v1+cell": {
     "cellMetadata": {
      "byteLimit": 2048000,
      "rowLimit": 10000
     },
     "inputWidgets": {},
     "nuid": "b1710e7f-be45-4d2f-ae8b-3f46af28e5b4",
     "showTitle": false,
     "title": ""
    }
   },
   "outputs": [
    {
     "output_type": "stream",
     "name": "stdout",
     "output_type": "stream",
     "text": [
      "\u001B[43mNote: you may need to restart the kernel using dbutils.library.restartPython() to use updated packages.\u001B[0m\nCollecting unidecode\n  Using cached Unidecode-1.3.8-py3-none-any.whl (235 kB)\nInstalling collected packages: unidecode\nSuccessfully installed unidecode-1.3.8\n\u001B[43mNote: you may need to restart the kernel using dbutils.library.restartPython() to use updated packages.\u001B[0m\n"
     ]
    }
   ],
   "source": [
    "%run ../../_utils"
   ]
  },
  {
   "cell_type": "code",
   "execution_count": 0,
   "metadata": {
    "application/vnd.databricks.v1+cell": {
     "cellMetadata": {
      "byteLimit": 2048000,
      "rowLimit": 10000
     },
     "inputWidgets": {},
     "nuid": "e6b5a612-163f-403d-9149-793f110401d7",
     "showTitle": false,
     "title": ""
    }
   },
   "outputs": [],
   "source": [
    "from pyspark.sql.functions import when, to_date, col, dayofweek\n",
    "from pyspark.sql.types import StringType, BooleanType"
   ]
  },
  {
   "cell_type": "markdown",
   "metadata": {
    "application/vnd.databricks.v1+cell": {
     "cellMetadata": {
      "byteLimit": 2048000,
      "rowLimit": 10000
     },
     "inputWidgets": {},
     "nuid": "5f9235ec-ac0c-4f2c-962e-edc87f6e86a1",
     "showTitle": false,
     "title": ""
    }
   },
   "source": [
    "\n",
    "# Camada Silver\n",
    "\n",
    "Na camada silver, limpezas e ajustes em dados devem ser aplicados\n",
    "\n",
    "Caso seja possível, enriquecer os dados e extrair dados também deve acontecer nessa camada (minha definição)"
   ]
  },
  {
   "cell_type": "code",
   "execution_count": 0,
   "metadata": {
    "application/vnd.databricks.v1+cell": {
     "cellMetadata": {
      "byteLimit": 2048000,
      "rowLimit": 10000
     },
     "inputWidgets": {},
     "nuid": "3707d12a-f42c-46de-981f-f50750230449",
     "showTitle": false,
     "title": ""
    }
   },
   "outputs": [],
   "source": [
    "tb_name = \"silver.olist_customers\"\n",
    "dataset_location = \"olist_customers_dataset\"\n",
    "target_location = f\"dbfs:/FileStore/delta/silver/brazilian_ecommerce/{dataset_location}\""
   ]
  },
  {
   "cell_type": "markdown",
   "metadata": {
    "application/vnd.databricks.v1+cell": {
     "cellMetadata": {
      "byteLimit": 2048000,
      "rowLimit": 10000
     },
     "inputWidgets": {},
     "nuid": "5f3d216e-533d-437a-a6d6-9ab063d7c8cb",
     "showTitle": false,
     "title": ""
    }
   },
   "source": [
    "## 1 - Data ingestion"
   ]
  },
  {
   "cell_type": "code",
   "execution_count": 0,
   "metadata": {
    "application/vnd.databricks.v1+cell": {
     "cellMetadata": {
      "byteLimit": 2048000,
      "rowLimit": 10000
     },
     "inputWidgets": {},
     "nuid": "6af57b81-ca1d-4b16-9371-65dbf824d43d",
     "showTitle": false,
     "title": ""
    }
   },
   "outputs": [],
   "source": [
    "df = spark.read.table(\"bronze.olist_customers\") # leituira da delta table"
   ]
  },
  {
   "cell_type": "code",
   "execution_count": 0,
   "metadata": {
    "application/vnd.databricks.v1+cell": {
     "cellMetadata": {
      "byteLimit": 2048000,
      "rowLimit": 10000
     },
     "inputWidgets": {},
     "nuid": "68fddec1-e565-461e-a1f9-dcda13b9edbd",
     "showTitle": false,
     "title": ""
    }
   },
   "outputs": [
    {
     "output_type": "stream",
     "name": "stdout",
     "output_type": "stream",
     "text": [
      "root\n |-- customer_id: string (nullable = true)\n |-- customer_unique_id: string (nullable = true)\n |-- customer_zip_code_prefix: integer (nullable = true)\n |-- customer_city: string (nullable = true)\n |-- customer_state: string (nullable = true)\n\n"
     ]
    }
   ],
   "source": [
    "df.printSchema()"
   ]
  },
  {
   "cell_type": "code",
   "execution_count": 0,
   "metadata": {
    "application/vnd.databricks.v1+cell": {
     "cellMetadata": {
      "byteLimit": 2048000,
      "rowLimit": 10000
     },
     "inputWidgets": {},
     "nuid": "6e2e1780-03e2-4dea-8671-082e240807e2",
     "showTitle": false,
     "title": ""
    }
   },
   "outputs": [
    {
     "output_type": "display_data",
     "data": {
      "text/html": [
       "<style scoped>\n",
       "  .table-result-container {\n",
       "    max-height: 300px;\n",
       "    overflow: auto;\n",
       "  }\n",
       "  table, th, td {\n",
       "    border: 1px solid black;\n",
       "    border-collapse: collapse;\n",
       "  }\n",
       "  th, td {\n",
       "    padding: 5px;\n",
       "  }\n",
       "  th {\n",
       "    text-align: left;\n",
       "  }\n",
       "</style><div class='table-result-container'><table class='table-result'><thead style='background-color: white'><tr><th>customer_id</th><th>customer_unique_id</th><th>customer_zip_code_prefix</th><th>customer_city</th><th>customer_state</th></tr></thead><tbody><tr><td>06b8999e2fba1a1fbc88172c00ba8bc7</td><td>861eff4711a542e4b93843c6dd7febb0</td><td>14409</td><td>franca</td><td>SP</td></tr><tr><td>18955e83d337fd6b2def6b18a428ac77</td><td>290c77bc529b7ac935b93aa66c333dc3</td><td>9790</td><td>sao bernardo do campo</td><td>SP</td></tr><tr><td>4e7b3e00288586ebd08712fdd0374a03</td><td>060e732b5b29e8181a18229c7b0b2b5e</td><td>1151</td><td>sao paulo</td><td>SP</td></tr><tr><td>b2b6027bc5c5109e529d4dc6358b12c3</td><td>259dac757896d24d7702b9acbbff3f3c</td><td>8775</td><td>mogi das cruzes</td><td>SP</td></tr><tr><td>4f2d8ab171c80ec8364f7c12e35b23ad</td><td>345ecd01c38d18a9036ed96c73b8d066</td><td>13056</td><td>campinas</td><td>SP</td></tr><tr><td>879864dab9bc3047522c92c82e1212b8</td><td>4c93744516667ad3b8f1fb645a3116a4</td><td>89254</td><td>jaragua do sul</td><td>SC</td></tr><tr><td>fd826e7cf63160e536e0908c76c3f441</td><td>addec96d2e059c80c30fe6871d30d177</td><td>4534</td><td>sao paulo</td><td>SP</td></tr><tr><td>5e274e7a0c3809e14aba7ad5aae0d407</td><td>57b2a98a409812fe9618067b6b8ebe4f</td><td>35182</td><td>timoteo</td><td>MG</td></tr><tr><td>5adf08e34b2e993982a47070956c5c65</td><td>1175e95fb47ddff9de6b2b06188f7e0d</td><td>81560</td><td>curitiba</td><td>PR</td></tr><tr><td>4b7139f34592b3a31687243a302fa75b</td><td>9afe194fb833f79e300e37e580171f22</td><td>30575</td><td>belo horizonte</td><td>MG</td></tr></tbody></table></div>"
      ]
     },
     "metadata": {
      "application/vnd.databricks.v1+output": {
       "addedWidgets": {},
       "aggData": [],
       "aggError": "",
       "aggOverflow": false,
       "aggSchema": [],
       "aggSeriesLimitReached": false,
       "aggType": "",
       "arguments": {},
       "columnCustomDisplayInfos": {},
       "data": [
        [
         "06b8999e2fba1a1fbc88172c00ba8bc7",
         "861eff4711a542e4b93843c6dd7febb0",
         14409,
         "franca",
         "SP"
        ],
        [
         "18955e83d337fd6b2def6b18a428ac77",
         "290c77bc529b7ac935b93aa66c333dc3",
         9790,
         "sao bernardo do campo",
         "SP"
        ],
        [
         "4e7b3e00288586ebd08712fdd0374a03",
         "060e732b5b29e8181a18229c7b0b2b5e",
         1151,
         "sao paulo",
         "SP"
        ],
        [
         "b2b6027bc5c5109e529d4dc6358b12c3",
         "259dac757896d24d7702b9acbbff3f3c",
         8775,
         "mogi das cruzes",
         "SP"
        ],
        [
         "4f2d8ab171c80ec8364f7c12e35b23ad",
         "345ecd01c38d18a9036ed96c73b8d066",
         13056,
         "campinas",
         "SP"
        ],
        [
         "879864dab9bc3047522c92c82e1212b8",
         "4c93744516667ad3b8f1fb645a3116a4",
         89254,
         "jaragua do sul",
         "SC"
        ],
        [
         "fd826e7cf63160e536e0908c76c3f441",
         "addec96d2e059c80c30fe6871d30d177",
         4534,
         "sao paulo",
         "SP"
        ],
        [
         "5e274e7a0c3809e14aba7ad5aae0d407",
         "57b2a98a409812fe9618067b6b8ebe4f",
         35182,
         "timoteo",
         "MG"
        ],
        [
         "5adf08e34b2e993982a47070956c5c65",
         "1175e95fb47ddff9de6b2b06188f7e0d",
         81560,
         "curitiba",
         "PR"
        ],
        [
         "4b7139f34592b3a31687243a302fa75b",
         "9afe194fb833f79e300e37e580171f22",
         30575,
         "belo horizonte",
         "MG"
        ]
       ],
       "datasetInfos": [],
       "dbfsResultPath": null,
       "isJsonSchema": true,
       "metadata": {},
       "overflow": false,
       "plotOptions": {
        "customPlotOptions": {},
        "displayType": "table",
        "pivotAggregation": null,
        "pivotColumns": null,
        "xColumns": null,
        "yColumns": null
       },
       "removedWidgets": [],
       "schema": [
        {
         "metadata": "{}",
         "name": "customer_id",
         "type": "\"string\""
        },
        {
         "metadata": "{}",
         "name": "customer_unique_id",
         "type": "\"string\""
        },
        {
         "metadata": "{}",
         "name": "customer_zip_code_prefix",
         "type": "\"long\""
        },
        {
         "metadata": "{}",
         "name": "customer_city",
         "type": "\"string\""
        },
        {
         "metadata": "{}",
         "name": "customer_state",
         "type": "\"string\""
        }
       ],
       "type": "table"
      }
     },
     "output_type": "display_data"
    }
   ],
   "source": [
    "display(df.take(10))"
   ]
  },
  {
   "cell_type": "markdown",
   "metadata": {
    "application/vnd.databricks.v1+cell": {
     "cellMetadata": {
      "byteLimit": 2048000,
      "rowLimit": 10000
     },
     "inputWidgets": {},
     "nuid": "9a17b7c1-8059-49b2-86a2-be2ac70acceb",
     "showTitle": false,
     "title": ""
    }
   },
   "source": [
    "\n",
    "## 2 - Data Cleaning\n",
    "\n",
    "Aqui nessa table os dados já estão limpos e tratados. Somente iremos armazenar e criar a delta table"
   ]
  },
  {
   "cell_type": "markdown",
   "metadata": {
    "application/vnd.databricks.v1+cell": {
     "cellMetadata": {
      "byteLimit": 2048000,
      "rowLimit": 10000
     },
     "inputWidgets": {},
     "nuid": "179d0374-6a21-4114-ad59-ee923b817809",
     "showTitle": false,
     "title": ""
    }
   },
   "source": [
    "\n",
    "## Saving data"
   ]
  },
  {
   "cell_type": "code",
   "execution_count": 0,
   "metadata": {
    "application/vnd.databricks.v1+cell": {
     "cellMetadata": {
      "byteLimit": 2048000,
      "rowLimit": 10000
     },
     "inputWidgets": {},
     "nuid": "a82009ed-f82f-4587-b629-fec7876f4760",
     "showTitle": false,
     "title": ""
    }
   },
   "outputs": [
    {
     "output_type": "stream",
     "name": "stdout",
     "output_type": "stream",
     "text": [
      "[LOG] Saving silver.olist_customers delta on dbfs:/FileStore/delta/silver/brazilian_ecommerce/olist_customers_dataset... OK!\n"
     ]
    }
   ],
   "source": [
    "save_dataframe(\n",
    "    df, format_mode=\"delta\", table_name=tb_name, target_location=target_location\n",
    ")"
   ]
  },
  {
   "cell_type": "markdown",
   "metadata": {
    "application/vnd.databricks.v1+cell": {
     "cellMetadata": {
      "byteLimit": 2048000,
      "rowLimit": 10000
     },
     "inputWidgets": {},
     "nuid": "6b96b521-aee7-459d-85ae-a32a903a7d3e",
     "showTitle": false,
     "title": ""
    }
   },
   "source": [
    "\n",
    "## create delta table\n",
    "\n",
    "TODO: implementar UPSERT\n",
    "\n",
    "o upsert serve para não precisar reescrever todos os dados, mas aproveitar do Delta para fazer um MERGE, caso um registro antigo tenha uma nova versão e INSERT para os dados que são novos"
   ]
  },
  {
   "cell_type": "code",
   "execution_count": 0,
   "metadata": {
    "application/vnd.databricks.v1+cell": {
     "cellMetadata": {
      "byteLimit": 2048000,
      "rowLimit": 10000
     },
     "inputWidgets": {},
     "nuid": "8b2284f0-ce7b-4840-a390-74419b4f36d7",
     "showTitle": false,
     "title": ""
    }
   },
   "outputs": [
    {
     "output_type": "stream",
     "name": "stdout",
     "output_type": "stream",
     "text": [
      "[LOG] Creating delta table silver.olist_customers on dbfs:/FileStore/delta/silver/brazilian_ecommerce/olist_customers_dataset... OK!\n"
     ]
    }
   ],
   "source": [
    "create_table(table_name=tb_name, target_location=target_location)"
   ]
  },
  {
   "cell_type": "code",
   "execution_count": 0,
   "metadata": {
    "application/vnd.databricks.v1+cell": {
     "cellMetadata": {
      "byteLimit": 2048000,
      "rowLimit": 10000
     },
     "inputWidgets": {},
     "nuid": "6d750262-c18d-40f0-b749-4b56b374587a",
     "showTitle": false,
     "title": ""
    }
   },
   "outputs": [],
   "source": [
    "# exit para fechar a execução\n",
    "dbutils.notebook.exit(\"OK\")"
   ]
  },
  {
   "cell_type": "code",
   "execution_count": 0,
   "metadata": {
    "application/vnd.databricks.v1+cell": {
     "cellMetadata": {
      "byteLimit": 2048000,
      "implicitDf": true,
      "rowLimit": 10000
     },
     "inputWidgets": {},
     "nuid": "d3e058eb-d93a-4c2d-874f-f0020f7145ac",
     "showTitle": false,
     "title": ""
    }
   },
   "outputs": [
    {
     "output_type": "display_data",
     "data": {
      "text/html": [
       "<style scoped>\n",
       "  .table-result-container {\n",
       "    max-height: 300px;\n",
       "    overflow: auto;\n",
       "  }\n",
       "  table, th, td {\n",
       "    border: 1px solid black;\n",
       "    border-collapse: collapse;\n",
       "  }\n",
       "  th, td {\n",
       "    padding: 5px;\n",
       "  }\n",
       "  th {\n",
       "    text-align: left;\n",
       "  }\n",
       "</style><div class='table-result-container'><table class='table-result'><thead style='background-color: white'><tr><th>customer_id</th><th>customer_unique_id</th><th>customer_zip_code_prefix</th><th>customer_city</th><th>customer_state</th></tr></thead><tbody><tr><td>06b8999e2fba1a1fbc88172c00ba8bc7</td><td>861eff4711a542e4b93843c6dd7febb0</td><td>14409</td><td>franca</td><td>SP</td></tr><tr><td>18955e83d337fd6b2def6b18a428ac77</td><td>290c77bc529b7ac935b93aa66c333dc3</td><td>9790</td><td>sao bernardo do campo</td><td>SP</td></tr><tr><td>4e7b3e00288586ebd08712fdd0374a03</td><td>060e732b5b29e8181a18229c7b0b2b5e</td><td>1151</td><td>sao paulo</td><td>SP</td></tr><tr><td>b2b6027bc5c5109e529d4dc6358b12c3</td><td>259dac757896d24d7702b9acbbff3f3c</td><td>8775</td><td>mogi das cruzes</td><td>SP</td></tr><tr><td>4f2d8ab171c80ec8364f7c12e35b23ad</td><td>345ecd01c38d18a9036ed96c73b8d066</td><td>13056</td><td>campinas</td><td>SP</td></tr><tr><td>879864dab9bc3047522c92c82e1212b8</td><td>4c93744516667ad3b8f1fb645a3116a4</td><td>89254</td><td>jaragua do sul</td><td>SC</td></tr><tr><td>fd826e7cf63160e536e0908c76c3f441</td><td>addec96d2e059c80c30fe6871d30d177</td><td>4534</td><td>sao paulo</td><td>SP</td></tr><tr><td>5e274e7a0c3809e14aba7ad5aae0d407</td><td>57b2a98a409812fe9618067b6b8ebe4f</td><td>35182</td><td>timoteo</td><td>MG</td></tr><tr><td>5adf08e34b2e993982a47070956c5c65</td><td>1175e95fb47ddff9de6b2b06188f7e0d</td><td>81560</td><td>curitiba</td><td>PR</td></tr><tr><td>4b7139f34592b3a31687243a302fa75b</td><td>9afe194fb833f79e300e37e580171f22</td><td>30575</td><td>belo horizonte</td><td>MG</td></tr></tbody></table></div>"
      ]
     },
     "metadata": {
      "application/vnd.databricks.v1+output": {
       "addedWidgets": {},
       "aggData": [],
       "aggError": "",
       "aggOverflow": false,
       "aggSchema": [],
       "aggSeriesLimitReached": false,
       "aggType": "",
       "arguments": {},
       "columnCustomDisplayInfos": {},
       "data": [
        [
         "06b8999e2fba1a1fbc88172c00ba8bc7",
         "861eff4711a542e4b93843c6dd7febb0",
         14409,
         "franca",
         "SP"
        ],
        [
         "18955e83d337fd6b2def6b18a428ac77",
         "290c77bc529b7ac935b93aa66c333dc3",
         9790,
         "sao bernardo do campo",
         "SP"
        ],
        [
         "4e7b3e00288586ebd08712fdd0374a03",
         "060e732b5b29e8181a18229c7b0b2b5e",
         1151,
         "sao paulo",
         "SP"
        ],
        [
         "b2b6027bc5c5109e529d4dc6358b12c3",
         "259dac757896d24d7702b9acbbff3f3c",
         8775,
         "mogi das cruzes",
         "SP"
        ],
        [
         "4f2d8ab171c80ec8364f7c12e35b23ad",
         "345ecd01c38d18a9036ed96c73b8d066",
         13056,
         "campinas",
         "SP"
        ],
        [
         "879864dab9bc3047522c92c82e1212b8",
         "4c93744516667ad3b8f1fb645a3116a4",
         89254,
         "jaragua do sul",
         "SC"
        ],
        [
         "fd826e7cf63160e536e0908c76c3f441",
         "addec96d2e059c80c30fe6871d30d177",
         4534,
         "sao paulo",
         "SP"
        ],
        [
         "5e274e7a0c3809e14aba7ad5aae0d407",
         "57b2a98a409812fe9618067b6b8ebe4f",
         35182,
         "timoteo",
         "MG"
        ],
        [
         "5adf08e34b2e993982a47070956c5c65",
         "1175e95fb47ddff9de6b2b06188f7e0d",
         81560,
         "curitiba",
         "PR"
        ],
        [
         "4b7139f34592b3a31687243a302fa75b",
         "9afe194fb833f79e300e37e580171f22",
         30575,
         "belo horizonte",
         "MG"
        ]
       ],
       "datasetInfos": [],
       "dbfsResultPath": null,
       "isJsonSchema": true,
       "metadata": {
        "dataframeName": "_sqldf",
        "executionCount": 18
       },
       "overflow": false,
       "plotOptions": {
        "customPlotOptions": {},
        "displayType": "table",
        "pivotAggregation": null,
        "pivotColumns": null,
        "xColumns": null,
        "yColumns": null
       },
       "removedWidgets": [],
       "schema": [
        {
         "metadata": "{}",
         "name": "customer_id",
         "type": "\"string\""
        },
        {
         "metadata": "{}",
         "name": "customer_unique_id",
         "type": "\"string\""
        },
        {
         "metadata": "{}",
         "name": "customer_zip_code_prefix",
         "type": "\"integer\""
        },
        {
         "metadata": "{}",
         "name": "customer_city",
         "type": "\"string\""
        },
        {
         "metadata": "{}",
         "name": "customer_state",
         "type": "\"string\""
        }
       ],
       "type": "table"
      }
     },
     "output_type": "display_data"
    }
   ],
   "source": [
    "%sql\n",
    "\n",
    "select * from silver.olist_customers limit 10"
   ]
  },
  {
   "cell_type": "code",
   "execution_count": 0,
   "metadata": {
    "application/vnd.databricks.v1+cell": {
     "cellMetadata": {
      "byteLimit": 2048000,
      "rowLimit": 10000
     },
     "inputWidgets": {},
     "nuid": "f45863da-2a6e-453f-bb3b-27ddf95d994c",
     "showTitle": false,
     "title": ""
    }
   },
   "outputs": [],
   "source": []
  }
 ],
 "metadata": {
  "application/vnd.databricks.v1+notebook": {
   "dashboards": [],
   "language": "python",
   "notebookMetadata": {
    "mostRecentlyExecutedCommandWithImplicitDF": {
     "commandId": 4240245637786288,
     "dataframes": [
      "_sqldf"
     ]
    },
    "pythonIndentUnit": 4
   },
   "notebookName": "silver_customers",
   "widgets": {}
  }
 },
 "nbformat": 4,
 "nbformat_minor": 0
}
