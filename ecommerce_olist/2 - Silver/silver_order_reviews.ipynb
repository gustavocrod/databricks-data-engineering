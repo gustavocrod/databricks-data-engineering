{
 "cells": [
  {
   "cell_type": "code",
   "execution_count": 0,
   "metadata": {
    "application/vnd.databricks.v1+cell": {
     "cellMetadata": {
      "byteLimit": 2048000,
      "rowLimit": 10000
     },
     "inputWidgets": {},
     "nuid": "b1710e7f-be45-4d2f-ae8b-3f46af28e5b4",
     "showTitle": false,
     "title": ""
    }
   },
   "outputs": [
    {
     "output_type": "stream",
     "name": "stdout",
     "output_type": "stream",
     "text": [
      "\u001B[43mNote: you may need to restart the kernel using dbutils.library.restartPython() to use updated packages.\u001B[0m\nCollecting unidecode\n  Using cached Unidecode-1.3.8-py3-none-any.whl (235 kB)\nInstalling collected packages: unidecode\nSuccessfully installed unidecode-1.3.8\n\u001B[43mNote: you may need to restart the kernel using dbutils.library.restartPython() to use updated packages.\u001B[0m\n"
     ]
    }
   ],
   "source": [
    "%run ../../_utils"
   ]
  },
  {
   "cell_type": "code",
   "execution_count": 0,
   "metadata": {
    "application/vnd.databricks.v1+cell": {
     "cellMetadata": {
      "byteLimit": 2048000,
      "rowLimit": 10000
     },
     "inputWidgets": {},
     "nuid": "e6b5a612-163f-403d-9149-793f110401d7",
     "showTitle": false,
     "title": ""
    }
   },
   "outputs": [],
   "source": [
    "from pyspark.sql.functions import when, to_date, col, dayofweek\n",
    "from pyspark.sql.types import StringType, BooleanType"
   ]
  },
  {
   "cell_type": "markdown",
   "metadata": {
    "application/vnd.databricks.v1+cell": {
     "cellMetadata": {
      "byteLimit": 2048000,
      "rowLimit": 10000
     },
     "inputWidgets": {},
     "nuid": "5f9235ec-ac0c-4f2c-962e-edc87f6e86a1",
     "showTitle": false,
     "title": ""
    }
   },
   "source": [
    "\n",
    "# Camada Silver\n",
    "\n",
    "Na camada silver, limpezas e ajustes em dados devem ser aplicados\n",
    "\n",
    "Caso seja possível, enriquecer os dados e extrair dados também deve acontecer nessa camada (minha definição)"
   ]
  },
  {
   "cell_type": "code",
   "execution_count": 0,
   "metadata": {
    "application/vnd.databricks.v1+cell": {
     "cellMetadata": {
      "byteLimit": 2048000,
      "rowLimit": 10000
     },
     "inputWidgets": {},
     "nuid": "3707d12a-f42c-46de-981f-f50750230449",
     "showTitle": false,
     "title": ""
    }
   },
   "outputs": [],
   "source": [
    "tb_name = \"silver.olist_order_reviews\"\n",
    "dataset_location = \"olist_order_reviews_dataset\"\n",
    "target_location = f\"dbfs:/FileStore/delta/silver/brazilian_ecommerce/{dataset_location}\""
   ]
  },
  {
   "cell_type": "markdown",
   "metadata": {
    "application/vnd.databricks.v1+cell": {
     "cellMetadata": {
      "byteLimit": 2048000,
      "rowLimit": 10000
     },
     "inputWidgets": {},
     "nuid": "5f3d216e-533d-437a-a6d6-9ab063d7c8cb",
     "showTitle": false,
     "title": ""
    }
   },
   "source": [
    "## 1 - Data ingestion"
   ]
  },
  {
   "cell_type": "code",
   "execution_count": 0,
   "metadata": {
    "application/vnd.databricks.v1+cell": {
     "cellMetadata": {
      "byteLimit": 2048000,
      "rowLimit": 10000
     },
     "inputWidgets": {},
     "nuid": "6af57b81-ca1d-4b16-9371-65dbf824d43d",
     "showTitle": false,
     "title": ""
    }
   },
   "outputs": [],
   "source": [
    "df = spark.read.table(\"bronze.olist_order_reviews\") # leituira da delta table"
   ]
  },
  {
   "cell_type": "code",
   "execution_count": 0,
   "metadata": {
    "application/vnd.databricks.v1+cell": {
     "cellMetadata": {
      "byteLimit": 2048000,
      "rowLimit": 10000
     },
     "inputWidgets": {},
     "nuid": "68fddec1-e565-461e-a1f9-dcda13b9edbd",
     "showTitle": false,
     "title": ""
    }
   },
   "outputs": [
    {
     "output_type": "stream",
     "name": "stdout",
     "output_type": "stream",
     "text": [
      "root\n |-- review_id: string (nullable = true)\n |-- order_id: string (nullable = true)\n |-- review_score: integer (nullable = true)\n |-- review_comment_title: string (nullable = true)\n |-- review_comment_message: string (nullable = true)\n |-- review_creation_date: timestamp (nullable = true)\n |-- review_answer_timestamp: timestamp (nullable = true)\n\n"
     ]
    }
   ],
   "source": [
    "df.printSchema()"
   ]
  },
  {
   "cell_type": "code",
   "execution_count": 0,
   "metadata": {
    "application/vnd.databricks.v1+cell": {
     "cellMetadata": {
      "byteLimit": 2048000,
      "rowLimit": 10000
     },
     "inputWidgets": {},
     "nuid": "6e2e1780-03e2-4dea-8671-082e240807e2",
     "showTitle": false,
     "title": ""
    }
   },
   "outputs": [
    {
     "output_type": "display_data",
     "data": {
      "text/html": [
       "<style scoped>\n",
       "  .table-result-container {\n",
       "    max-height: 300px;\n",
       "    overflow: auto;\n",
       "  }\n",
       "  table, th, td {\n",
       "    border: 1px solid black;\n",
       "    border-collapse: collapse;\n",
       "  }\n",
       "  th, td {\n",
       "    padding: 5px;\n",
       "  }\n",
       "  th {\n",
       "    text-align: left;\n",
       "  }\n",
       "</style><div class='table-result-container'><table class='table-result'><thead style='background-color: white'><tr><th>review_id</th><th>order_id</th><th>review_score</th><th>review_comment_title</th><th>review_comment_message</th><th>review_creation_date</th><th>review_answer_timestamp</th></tr></thead><tbody><tr><td>7bc2406110b926393aa56f80a40eba40</td><td>73fc7af87114b39712e6da79b0a377eb</td><td>4</td><td>null</td><td>null</td><td>2018-01-18T00:00:00Z</td><td>2018-01-18T21:46:59Z</td></tr><tr><td>80e641a11e56f04c1ad469d5645fdfde</td><td>a548910a1c6147796b98fdf73dbeba33</td><td>5</td><td>null</td><td>null</td><td>2018-03-10T00:00:00Z</td><td>2018-03-11T03:05:13Z</td></tr><tr><td>228ce5500dc1d8e020d8d1322874b6f0</td><td>f9e4b658b201a9f2ecdecbb34bed034b</td><td>5</td><td>null</td><td>null</td><td>2018-02-17T00:00:00Z</td><td>2018-02-18T14:36:24Z</td></tr><tr><td>e64fb393e7b32834bb789ff8bb30750e</td><td>658677c97b385a9be170737859d3511b</td><td>5</td><td>null</td><td>Recebi bem antes do prazo estipulado.</td><td>2017-04-21T00:00:00Z</td><td>2017-04-21T22:02:06Z</td></tr><tr><td>f7c4243c7fe1938f181bec41a392bdeb</td><td>8e6bfb81e283fa7e4f11123a3fb894f1</td><td>5</td><td>null</td><td>Parabéns lojas lannister adorei comprar pela Internet seguro e prático Parabéns a todos feliz Páscoa</td><td>2018-03-01T00:00:00Z</td><td>2018-03-02T10:26:53Z</td></tr><tr><td>15197aa66ff4d0650b5434f1b46cda19</td><td>b18dcdf73be66366873cd26c5724d1dc</td><td>1</td><td>null</td><td>null</td><td>2018-04-13T00:00:00Z</td><td>2018-04-16T00:39:37Z</td></tr><tr><td>07f9bee5d1b850860defd761afa7ff16</td><td>e48aa0d2dcec3a2e87348811bcfdf22b</td><td>5</td><td>null</td><td>null</td><td>2017-07-16T00:00:00Z</td><td>2017-07-18T19:30:34Z</td></tr><tr><td>7c6400515c67679fbee952a7525281ef</td><td>c31a859e34e3adac22f376954e19b39d</td><td>5</td><td>null</td><td>null</td><td>2018-08-14T00:00:00Z</td><td>2018-08-14T21:36:06Z</td></tr><tr><td>a3f6f7f6f433de0aefbb97da197c554c</td><td>9c214ac970e84273583ab523dfafd09b</td><td>5</td><td>null</td><td>null</td><td>2017-05-17T00:00:00Z</td><td>2017-05-18T12:05:37Z</td></tr><tr><td>8670d52e15e00043ae7de4c01cc2fe06</td><td>b9bf720beb4ab3728760088589c62129</td><td>4</td><td>recomendo</td><td>aparelho eficiente. no site a marca do aparelho esta impresso como 3desinfector e ao chegar esta com outro nome...atualizar com a marca correta uma vez que é o mesmo aparelho</td><td>2018-05-22T00:00:00Z</td><td>2018-05-23T16:45:47Z</td></tr></tbody></table></div>"
      ]
     },
     "metadata": {
      "application/vnd.databricks.v1+output": {
       "addedWidgets": {},
       "aggData": [],
       "aggError": "",
       "aggOverflow": false,
       "aggSchema": [],
       "aggSeriesLimitReached": false,
       "aggType": "",
       "arguments": {},
       "columnCustomDisplayInfos": {},
       "data": [
        [
         "7bc2406110b926393aa56f80a40eba40",
         "73fc7af87114b39712e6da79b0a377eb",
         4,
         null,
         null,
         "2018-01-18T00:00:00Z",
         "2018-01-18T21:46:59Z"
        ],
        [
         "80e641a11e56f04c1ad469d5645fdfde",
         "a548910a1c6147796b98fdf73dbeba33",
         5,
         null,
         null,
         "2018-03-10T00:00:00Z",
         "2018-03-11T03:05:13Z"
        ],
        [
         "228ce5500dc1d8e020d8d1322874b6f0",
         "f9e4b658b201a9f2ecdecbb34bed034b",
         5,
         null,
         null,
         "2018-02-17T00:00:00Z",
         "2018-02-18T14:36:24Z"
        ],
        [
         "e64fb393e7b32834bb789ff8bb30750e",
         "658677c97b385a9be170737859d3511b",
         5,
         null,
         "Recebi bem antes do prazo estipulado.",
         "2017-04-21T00:00:00Z",
         "2017-04-21T22:02:06Z"
        ],
        [
         "f7c4243c7fe1938f181bec41a392bdeb",
         "8e6bfb81e283fa7e4f11123a3fb894f1",
         5,
         null,
         "Parabéns lojas lannister adorei comprar pela Internet seguro e prático Parabéns a todos feliz Páscoa",
         "2018-03-01T00:00:00Z",
         "2018-03-02T10:26:53Z"
        ],
        [
         "15197aa66ff4d0650b5434f1b46cda19",
         "b18dcdf73be66366873cd26c5724d1dc",
         1,
         null,
         null,
         "2018-04-13T00:00:00Z",
         "2018-04-16T00:39:37Z"
        ],
        [
         "07f9bee5d1b850860defd761afa7ff16",
         "e48aa0d2dcec3a2e87348811bcfdf22b",
         5,
         null,
         null,
         "2017-07-16T00:00:00Z",
         "2017-07-18T19:30:34Z"
        ],
        [
         "7c6400515c67679fbee952a7525281ef",
         "c31a859e34e3adac22f376954e19b39d",
         5,
         null,
         null,
         "2018-08-14T00:00:00Z",
         "2018-08-14T21:36:06Z"
        ],
        [
         "a3f6f7f6f433de0aefbb97da197c554c",
         "9c214ac970e84273583ab523dfafd09b",
         5,
         null,
         null,
         "2017-05-17T00:00:00Z",
         "2017-05-18T12:05:37Z"
        ],
        [
         "8670d52e15e00043ae7de4c01cc2fe06",
         "b9bf720beb4ab3728760088589c62129",
         4,
         "recomendo",
         "aparelho eficiente. no site a marca do aparelho esta impresso como 3desinfector e ao chegar esta com outro nome...atualizar com a marca correta uma vez que é o mesmo aparelho",
         "2018-05-22T00:00:00Z",
         "2018-05-23T16:45:47Z"
        ]
       ],
       "datasetInfos": [],
       "dbfsResultPath": null,
       "isJsonSchema": true,
       "metadata": {},
       "overflow": false,
       "plotOptions": {
        "customPlotOptions": {},
        "displayType": "table",
        "pivotAggregation": null,
        "pivotColumns": null,
        "xColumns": null,
        "yColumns": null
       },
       "removedWidgets": [],
       "schema": [
        {
         "metadata": "{}",
         "name": "review_id",
         "type": "\"string\""
        },
        {
         "metadata": "{}",
         "name": "order_id",
         "type": "\"string\""
        },
        {
         "metadata": "{}",
         "name": "review_score",
         "type": "\"long\""
        },
        {
         "metadata": "{}",
         "name": "review_comment_title",
         "type": "\"string\""
        },
        {
         "metadata": "{}",
         "name": "review_comment_message",
         "type": "\"string\""
        },
        {
         "metadata": "{}",
         "name": "review_creation_date",
         "type": "\"timestamp\""
        },
        {
         "metadata": "{}",
         "name": "review_answer_timestamp",
         "type": "\"timestamp\""
        }
       ],
       "type": "table"
      }
     },
     "output_type": "display_data"
    }
   ],
   "source": [
    "display(df.take(10))"
   ]
  },
  {
   "cell_type": "markdown",
   "metadata": {
    "application/vnd.databricks.v1+cell": {
     "cellMetadata": {
      "byteLimit": 2048000,
      "rowLimit": 10000
     },
     "inputWidgets": {},
     "nuid": "9a17b7c1-8059-49b2-86a2-be2ac70acceb",
     "showTitle": false,
     "title": ""
    }
   },
   "source": [
    "\n",
    "## 2 - Data Cleaning\n",
    "\n",
    "Aqui nessa table os dados já estão limpos e tratados. Só iremos converter um campo que deveria ser date, para date e escrever na camada silver\n"
   ]
  },
  {
   "cell_type": "code",
   "execution_count": 0,
   "metadata": {
    "application/vnd.databricks.v1+cell": {
     "cellMetadata": {
      "byteLimit": 2048000,
      "rowLimit": 10000
     },
     "inputWidgets": {},
     "nuid": "004f6df0-14f3-42ac-922d-68f4ce686db9",
     "showTitle": false,
     "title": ""
    }
   },
   "outputs": [],
   "source": [
    "df = df.withColumn(\"review_creation_date\", col(\"review_creation_date\").cast(\"date\"))"
   ]
  },
  {
   "cell_type": "code",
   "execution_count": 0,
   "metadata": {
    "application/vnd.databricks.v1+cell": {
     "cellMetadata": {
      "byteLimit": 2048000,
      "rowLimit": 10000
     },
     "inputWidgets": {},
     "nuid": "942512ce-8bda-4a00-927d-8831abe951d8",
     "showTitle": false,
     "title": ""
    }
   },
   "outputs": [
    {
     "output_type": "stream",
     "name": "stdout",
     "output_type": "stream",
     "text": [
      "root\n |-- review_id: string (nullable = true)\n |-- order_id: string (nullable = true)\n |-- review_score: integer (nullable = true)\n |-- review_comment_title: string (nullable = true)\n |-- review_comment_message: string (nullable = true)\n |-- review_creation_date: date (nullable = true)\n |-- review_answer_timestamp: timestamp (nullable = true)\n\n"
     ]
    }
   ],
   "source": [
    "df.printSchema()"
   ]
  },
  {
   "cell_type": "markdown",
   "metadata": {
    "application/vnd.databricks.v1+cell": {
     "cellMetadata": {
      "byteLimit": 2048000,
      "rowLimit": 10000
     },
     "inputWidgets": {},
     "nuid": "179d0374-6a21-4114-ad59-ee923b817809",
     "showTitle": false,
     "title": ""
    }
   },
   "source": [
    "\n",
    "## Saving data"
   ]
  },
  {
   "cell_type": "code",
   "execution_count": 0,
   "metadata": {
    "application/vnd.databricks.v1+cell": {
     "cellMetadata": {
      "byteLimit": 2048000,
      "rowLimit": 10000
     },
     "inputWidgets": {},
     "nuid": "a82009ed-f82f-4587-b629-fec7876f4760",
     "showTitle": false,
     "title": ""
    }
   },
   "outputs": [
    {
     "output_type": "stream",
     "name": "stdout",
     "output_type": "stream",
     "text": [
      "[LOG] Saving silver.olist_order_reviews delta on dbfs:/FileStore/delta/silver/brazilian_ecommerce/olist_order_reviews_dataset... OK!\n"
     ]
    }
   ],
   "source": [
    "save_dataframe(df, format_mode=\"delta\", table_name=tb_name, target_location=target_location)"
   ]
  },
  {
   "cell_type": "markdown",
   "metadata": {
    "application/vnd.databricks.v1+cell": {
     "cellMetadata": {
      "byteLimit": 2048000,
      "rowLimit": 10000
     },
     "inputWidgets": {},
     "nuid": "6b96b521-aee7-459d-85ae-a32a903a7d3e",
     "showTitle": false,
     "title": ""
    }
   },
   "source": [
    "\n",
    "## create delta table\n",
    "\n",
    "TODO: implementar UPSERT\n",
    "\n",
    "o upsert serve para não precisar reescrever todos os dados, mas aproveitar do Delta para fazer um MERGE, caso um registro antigo tenha uma nova versão e INSERT para os dados que são novos"
   ]
  },
  {
   "cell_type": "code",
   "execution_count": 0,
   "metadata": {
    "application/vnd.databricks.v1+cell": {
     "cellMetadata": {
      "byteLimit": 2048000,
      "rowLimit": 10000
     },
     "inputWidgets": {},
     "nuid": "8b2284f0-ce7b-4840-a390-74419b4f36d7",
     "showTitle": false,
     "title": ""
    }
   },
   "outputs": [
    {
     "output_type": "stream",
     "name": "stdout",
     "output_type": "stream",
     "text": [
      "[LOG] Creating delta table silver.olist_order_reviews on dbfs:/FileStore/delta/silver/brazilian_ecommerce/olist_order_reviews_dataset... OK!\n"
     ]
    }
   ],
   "source": [
    "create_table(table_name=tb_name, target_location=target_location)"
   ]
  },
  {
   "cell_type": "code",
   "execution_count": 0,
   "metadata": {
    "application/vnd.databricks.v1+cell": {
     "cellMetadata": {
      "byteLimit": 2048000,
      "rowLimit": 10000
     },
     "inputWidgets": {},
     "nuid": "6d750262-c18d-40f0-b749-4b56b374587a",
     "showTitle": false,
     "title": ""
    }
   },
   "outputs": [],
   "source": [
    "# exit para fechar a execução\n",
    "dbutils.notebook.exit(\"OK\")"
   ]
  },
  {
   "cell_type": "code",
   "execution_count": 0,
   "metadata": {
    "application/vnd.databricks.v1+cell": {
     "cellMetadata": {
      "byteLimit": 2048000,
      "implicitDf": true,
      "rowLimit": 10000
     },
     "inputWidgets": {},
     "nuid": "d3e058eb-d93a-4c2d-874f-f0020f7145ac",
     "showTitle": false,
     "title": ""
    }
   },
   "outputs": [
    {
     "output_type": "display_data",
     "data": {
      "text/html": [
       "<style scoped>\n",
       "  .table-result-container {\n",
       "    max-height: 300px;\n",
       "    overflow: auto;\n",
       "  }\n",
       "  table, th, td {\n",
       "    border: 1px solid black;\n",
       "    border-collapse: collapse;\n",
       "  }\n",
       "  th, td {\n",
       "    padding: 5px;\n",
       "  }\n",
       "  th {\n",
       "    text-align: left;\n",
       "  }\n",
       "</style><div class='table-result-container'><table class='table-result'><thead style='background-color: white'><tr><th>review_id</th><th>order_id</th><th>review_score</th><th>review_comment_title</th><th>review_comment_message</th><th>review_creation_date</th><th>review_answer_timestamp</th></tr></thead><tbody><tr><td>7bc2406110b926393aa56f80a40eba40</td><td>73fc7af87114b39712e6da79b0a377eb</td><td>4</td><td>null</td><td>null</td><td>2018-01-18</td><td>2018-01-18T21:46:59Z</td></tr><tr><td>80e641a11e56f04c1ad469d5645fdfde</td><td>a548910a1c6147796b98fdf73dbeba33</td><td>5</td><td>null</td><td>null</td><td>2018-03-10</td><td>2018-03-11T03:05:13Z</td></tr><tr><td>228ce5500dc1d8e020d8d1322874b6f0</td><td>f9e4b658b201a9f2ecdecbb34bed034b</td><td>5</td><td>null</td><td>null</td><td>2018-02-17</td><td>2018-02-18T14:36:24Z</td></tr><tr><td>e64fb393e7b32834bb789ff8bb30750e</td><td>658677c97b385a9be170737859d3511b</td><td>5</td><td>null</td><td>Recebi bem antes do prazo estipulado.</td><td>2017-04-21</td><td>2017-04-21T22:02:06Z</td></tr><tr><td>f7c4243c7fe1938f181bec41a392bdeb</td><td>8e6bfb81e283fa7e4f11123a3fb894f1</td><td>5</td><td>null</td><td>Parabéns lojas lannister adorei comprar pela Internet seguro e prático Parabéns a todos feliz Páscoa</td><td>2018-03-01</td><td>2018-03-02T10:26:53Z</td></tr><tr><td>15197aa66ff4d0650b5434f1b46cda19</td><td>b18dcdf73be66366873cd26c5724d1dc</td><td>1</td><td>null</td><td>null</td><td>2018-04-13</td><td>2018-04-16T00:39:37Z</td></tr><tr><td>07f9bee5d1b850860defd761afa7ff16</td><td>e48aa0d2dcec3a2e87348811bcfdf22b</td><td>5</td><td>null</td><td>null</td><td>2017-07-16</td><td>2017-07-18T19:30:34Z</td></tr><tr><td>7c6400515c67679fbee952a7525281ef</td><td>c31a859e34e3adac22f376954e19b39d</td><td>5</td><td>null</td><td>null</td><td>2018-08-14</td><td>2018-08-14T21:36:06Z</td></tr><tr><td>a3f6f7f6f433de0aefbb97da197c554c</td><td>9c214ac970e84273583ab523dfafd09b</td><td>5</td><td>null</td><td>null</td><td>2017-05-17</td><td>2017-05-18T12:05:37Z</td></tr><tr><td>8670d52e15e00043ae7de4c01cc2fe06</td><td>b9bf720beb4ab3728760088589c62129</td><td>4</td><td>recomendo</td><td>aparelho eficiente. no site a marca do aparelho esta impresso como 3desinfector e ao chegar esta com outro nome...atualizar com a marca correta uma vez que é o mesmo aparelho</td><td>2018-05-22</td><td>2018-05-23T16:45:47Z</td></tr></tbody></table></div>"
      ]
     },
     "metadata": {
      "application/vnd.databricks.v1+output": {
       "addedWidgets": {},
       "aggData": [],
       "aggError": "",
       "aggOverflow": false,
       "aggSchema": [],
       "aggSeriesLimitReached": false,
       "aggType": "",
       "arguments": {},
       "columnCustomDisplayInfos": {},
       "data": [
        [
         "7bc2406110b926393aa56f80a40eba40",
         "73fc7af87114b39712e6da79b0a377eb",
         4,
         null,
         null,
         "2018-01-18",
         "2018-01-18T21:46:59Z"
        ],
        [
         "80e641a11e56f04c1ad469d5645fdfde",
         "a548910a1c6147796b98fdf73dbeba33",
         5,
         null,
         null,
         "2018-03-10",
         "2018-03-11T03:05:13Z"
        ],
        [
         "228ce5500dc1d8e020d8d1322874b6f0",
         "f9e4b658b201a9f2ecdecbb34bed034b",
         5,
         null,
         null,
         "2018-02-17",
         "2018-02-18T14:36:24Z"
        ],
        [
         "e64fb393e7b32834bb789ff8bb30750e",
         "658677c97b385a9be170737859d3511b",
         5,
         null,
         "Recebi bem antes do prazo estipulado.",
         "2017-04-21",
         "2017-04-21T22:02:06Z"
        ],
        [
         "f7c4243c7fe1938f181bec41a392bdeb",
         "8e6bfb81e283fa7e4f11123a3fb894f1",
         5,
         null,
         "Parabéns lojas lannister adorei comprar pela Internet seguro e prático Parabéns a todos feliz Páscoa",
         "2018-03-01",
         "2018-03-02T10:26:53Z"
        ],
        [
         "15197aa66ff4d0650b5434f1b46cda19",
         "b18dcdf73be66366873cd26c5724d1dc",
         1,
         null,
         null,
         "2018-04-13",
         "2018-04-16T00:39:37Z"
        ],
        [
         "07f9bee5d1b850860defd761afa7ff16",
         "e48aa0d2dcec3a2e87348811bcfdf22b",
         5,
         null,
         null,
         "2017-07-16",
         "2017-07-18T19:30:34Z"
        ],
        [
         "7c6400515c67679fbee952a7525281ef",
         "c31a859e34e3adac22f376954e19b39d",
         5,
         null,
         null,
         "2018-08-14",
         "2018-08-14T21:36:06Z"
        ],
        [
         "a3f6f7f6f433de0aefbb97da197c554c",
         "9c214ac970e84273583ab523dfafd09b",
         5,
         null,
         null,
         "2017-05-17",
         "2017-05-18T12:05:37Z"
        ],
        [
         "8670d52e15e00043ae7de4c01cc2fe06",
         "b9bf720beb4ab3728760088589c62129",
         4,
         "recomendo",
         "aparelho eficiente. no site a marca do aparelho esta impresso como 3desinfector e ao chegar esta com outro nome...atualizar com a marca correta uma vez que é o mesmo aparelho",
         "2018-05-22",
         "2018-05-23T16:45:47Z"
        ]
       ],
       "datasetInfos": [],
       "dbfsResultPath": null,
       "isJsonSchema": true,
       "metadata": {
        "dataframeName": "_sqldf",
        "executionCount": 23
       },
       "overflow": false,
       "plotOptions": {
        "customPlotOptions": {},
        "displayType": "table",
        "pivotAggregation": null,
        "pivotColumns": null,
        "xColumns": null,
        "yColumns": null
       },
       "removedWidgets": [],
       "schema": [
        {
         "metadata": "{}",
         "name": "review_id",
         "type": "\"string\""
        },
        {
         "metadata": "{}",
         "name": "order_id",
         "type": "\"string\""
        },
        {
         "metadata": "{}",
         "name": "review_score",
         "type": "\"integer\""
        },
        {
         "metadata": "{}",
         "name": "review_comment_title",
         "type": "\"string\""
        },
        {
         "metadata": "{}",
         "name": "review_comment_message",
         "type": "\"string\""
        },
        {
         "metadata": "{}",
         "name": "review_creation_date",
         "type": "\"date\""
        },
        {
         "metadata": "{}",
         "name": "review_answer_timestamp",
         "type": "\"timestamp\""
        }
       ],
       "type": "table"
      }
     },
     "output_type": "display_data"
    }
   ],
   "source": [
    "%sql\n",
    "\n",
    "select * from silver.olist_order_reviews limit 10"
   ]
  },
  {
   "cell_type": "code",
   "execution_count": 0,
   "metadata": {
    "application/vnd.databricks.v1+cell": {
     "cellMetadata": {
      "byteLimit": 2048000,
      "rowLimit": 10000
     },
     "inputWidgets": {},
     "nuid": "f45863da-2a6e-453f-bb3b-27ddf95d994c",
     "showTitle": false,
     "title": ""
    }
   },
   "outputs": [],
   "source": []
  }
 ],
 "metadata": {
  "application/vnd.databricks.v1+notebook": {
   "dashboards": [],
   "language": "python",
   "notebookMetadata": {
    "mostRecentlyExecutedCommandWithImplicitDF": {
     "commandId": 4240245637786374,
     "dataframes": [
      "_sqldf"
     ]
    },
    "pythonIndentUnit": 4
   },
   "notebookName": "silver_order_reviews",
   "widgets": {}
  }
 },
 "nbformat": 4,
 "nbformat_minor": 0
}
