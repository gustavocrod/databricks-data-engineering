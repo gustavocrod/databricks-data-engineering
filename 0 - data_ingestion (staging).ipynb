{
 "cells": [
  {
   "cell_type": "markdown",
   "metadata": {
    "application/vnd.databricks.v1+cell": {
     "cellMetadata": {},
     "inputWidgets": {},
     "nuid": "c691abea-1837-48bc-87d0-7b516b36c58f",
     "showTitle": false,
     "title": ""
    }
   },
   "source": [
    "\n",
    "# 🗃️ Brazilian ecommerce olist\n",
    "\n",
    "Este é um conjunto de dados públicos de comércio eletrônico brasileiro das compras feitas na loja Olist. O conjunto de dados contém informações de 100 mil pedidos de 2016 a 2018 feitos em vários marketplaces no Brasil. Suas características permitem visualizar um pedido em várias dimensões: desde o status do pedido, preço, pagamento e desempenho de frete até a localização do cliente, atributos do produto e, finalmente, avaliações escritas pelos clientes. Também disponibilizamos um conjunto de dados de geolocalização que relaciona os códigos postais brasileiros às coordenadas lat/long.\n",
    "\n",
    "Estes são dados comerciais reais, foram anonimizados, e as referências às empresas e parceiros no texto de revisão foram substituídas pelos nomes das grandes casas de Game of Thrones."
   ]
  },
  {
   "cell_type": "code",
   "execution_count": 0,
   "metadata": {
    "application/vnd.databricks.v1+cell": {
     "cellMetadata": {
      "byteLimit": 2048000,
      "rowLimit": 10000
     },
     "inputWidgets": {},
     "nuid": "220709b5-2836-47d5-b066-f2fee7637cce",
     "showTitle": false,
     "title": ""
    }
   },
   "outputs": [],
   "source": [
    "%run ../_utils"
   ]
  },
  {
   "cell_type": "code",
   "execution_count": 0,
   "metadata": {
    "application/vnd.databricks.v1+cell": {
     "cellMetadata": {},
     "inputWidgets": {},
     "nuid": "f298be3b-c3fd-4b76-9743-bc51ef693606",
     "showTitle": false,
     "title": ""
    }
   },
   "outputs": [],
   "source": [
    "%run ../_create_database"
   ]
  },
  {
   "cell_type": "markdown",
   "metadata": {
    "application/vnd.databricks.v1+cell": {
     "cellMetadata": {},
     "inputWidgets": {},
     "nuid": "6d490eeb-e5b6-4b8f-9312-9bd7bc0290e2",
     "showTitle": false,
     "title": ""
    }
   },
   "source": [
    "\n",
    "## dependency"
   ]
  },
  {
   "cell_type": "code",
   "execution_count": 0,
   "metadata": {
    "application/vnd.databricks.v1+cell": {
     "cellMetadata": {},
     "inputWidgets": {},
     "nuid": "8e5ac790-27a6-4a72-ac6d-f6acbec4efd8",
     "showTitle": false,
     "title": ""
    }
   },
   "outputs": [],
   "source": [
    "!pip install opendatasets"
   ]
  },
  {
   "cell_type": "markdown",
   "metadata": {
    "application/vnd.databricks.v1+cell": {
     "cellMetadata": {},
     "inputWidgets": {},
     "nuid": "11db10ff-adb5-41e7-aef8-7003d5aa2bf3",
     "showTitle": false,
     "title": ""
    }
   },
   "source": [
    "\n",
    "## download dataset from kaggle\n",
    "\n",
    "O dataset escolhido foi o [Brazilian E-Commerce Public Dataset by Olist](https://www.kaggle.com/datasets/olistbr/brazilian-ecommerces)\n",
    "\n",
    "Como é um dataset estático (ou quase 100%), não faz sentido adicionar upsert e tampouco streaming.\n",
    "\n",
    "Mas aqui poderíamos utilizar do AutoLoader, ou até mesmo de alguma ferramenta com CDC, como airbyte\n",
    "\n",
    "Nossa staging não precisaria existir (apenas caso fossem dados vindos por airbyte, por exemplo). Mas vou criar aqui apenas para exemplificar, pois irei salvar a staging em parquet. Depois disso, todas as camadas serão em Delta"
   ]
  },
  {
   "cell_type": "code",
   "execution_count": 0,
   "metadata": {
    "application/vnd.databricks.v1+cell": {
     "cellMetadata": {},
     "inputWidgets": {},
     "nuid": "16f04099-e659-486c-886c-a6e2c47de387",
     "showTitle": false,
     "title": ""
    }
   },
   "outputs": [],
   "source": [
    "import opendatasets as od\n",
    "od.download(\"https://www.kaggle.com/datasets/olistbr/brazilian-ecommerce\", data_dir=\"/FileStore/datasets/\") # foi para file:/"
   ]
  },
  {
   "cell_type": "markdown",
   "metadata": {
    "application/vnd.databricks.v1+cell": {
     "cellMetadata": {},
     "inputWidgets": {},
     "nuid": "68d8d71a-be87-472e-8dd4-7bb25497ec94",
     "showTitle": false,
     "title": ""
    }
   },
   "source": [
    "\n",
    "os arquivos foram salvos em `/FileStore/dataset/brazilian-ecommerce/olist_*.csv``"
   ]
  },
  {
   "cell_type": "markdown",
   "metadata": {
    "application/vnd.databricks.v1+cell": {
     "cellMetadata": {},
     "inputWidgets": {},
     "nuid": "f60e0bb0-ad6e-4520-a5a7-4acb8e791a64",
     "showTitle": false,
     "title": ""
    }
   },
   "source": [
    "\n",
    "## Carregando o arquivo .csv para spark dataframe\n",
    "\n",
    "aqui o .od fez eu usar o workspace files. [mais detalhes aqui](https://docs.databricks.com/en/files/index.html)"
   ]
  },
  {
   "cell_type": "code",
   "execution_count": 0,
   "metadata": {
    "application/vnd.databricks.v1+cell": {
     "cellMetadata": {},
     "inputWidgets": {},
     "nuid": "7389b35f-11a3-4c0f-8c0f-eb2172569856",
     "showTitle": false,
     "title": ""
    }
   },
   "outputs": [],
   "source": [
    "df = (\n",
    "    spark.read.format(\"csv\")\n",
    "    .options(header=\"true\", inferSchema=True)\n",
    "    .load(\"file:/FileStore/datasets/brazilian-ecommerce/olist_customers_dataset.csv\")\n",
    ")"
   ]
  },
  {
   "cell_type": "markdown",
   "metadata": {
    "application/vnd.databricks.v1+cell": {
     "cellMetadata": {},
     "inputWidgets": {},
     "nuid": "271334de-a8ac-45e0-af4b-eea7e53b2022",
     "showTitle": false,
     "title": ""
    }
   },
   "source": [
    "\n",
    "## 🔎 First exploratory data analysis (mini descriptive)"
   ]
  },
  {
   "cell_type": "code",
   "execution_count": 0,
   "metadata": {
    "application/vnd.databricks.v1+cell": {
     "cellMetadata": {},
     "inputWidgets": {},
     "nuid": "2a1b28ea-6e46-4790-8500-a72c47bc4bf2",
     "showTitle": false,
     "title": ""
    }
   },
   "outputs": [],
   "source": [
    "display(df)"
   ]
  },
  {
   "cell_type": "code",
   "execution_count": 0,
   "metadata": {
    "application/vnd.databricks.v1+cell": {
     "cellMetadata": {},
     "inputWidgets": {},
     "nuid": "0afb8382-bce8-4ac1-b274-bf33bcaf6f1c",
     "showTitle": false,
     "title": ""
    }
   },
   "outputs": [],
   "source": [
    "print(f\"Total de linhas: {df.count()}\")"
   ]
  },
  {
   "cell_type": "markdown",
   "metadata": {
    "application/vnd.databricks.v1+cell": {
     "cellMetadata": {},
     "inputWidgets": {},
     "nuid": "5964b1b2-716f-43b1-84df-10bfcce31ca2",
     "showTitle": false,
     "title": ""
    }
   },
   "source": [
    "\n",
    "Data set central. Deve ser usado com o uma especie de \"tabela fato\"\n",
    "### schema\n",
    "image"
   ]
  },
  {
   "cell_type": "code",
   "execution_count": 0,
   "metadata": {
    "application/vnd.databricks.v1+cell": {
     "cellMetadata": {},
     "inputWidgets": {},
     "nuid": "f0aad8ac-e3c4-4f83-a67a-96de6df92442",
     "showTitle": false,
     "title": ""
    }
   },
   "outputs": [],
   "source": [
    "df.printSchema()"
   ]
  },
  {
   "cell_type": "markdown",
   "metadata": {
    "application/vnd.databricks.v1+cell": {
     "cellMetadata": {},
     "inputWidgets": {},
     "nuid": "5890917c-08c1-4a50-9edd-f7350b198b2e",
     "showTitle": false,
     "title": ""
    }
   },
   "source": [
    "\n",
    "## Saving data\n",
    "\n",
    "salvando todos os .csv no dbf em arquivo parquet\n",
    "\n",
    "Nossa staging poderia ser um S3 (aws) ou blob storage, mas vai ser diretamente no dbfs mesmo"
   ]
  },
  {
   "cell_type": "code",
   "execution_count": 0,
   "metadata": {
    "application/vnd.databricks.v1+cell": {
     "cellMetadata": {},
     "inputWidgets": {},
     "nuid": "b1ccef97-358c-4b37-abc3-cd1e38c3be99",
     "showTitle": false,
     "title": ""
    }
   },
   "outputs": [],
   "source": [
    "files = [\n",
    "    \"olist_customers_dataset\",\n",
    "    \"olist_orders_dataset\",\n",
    "    \"olist_geolocation_dataset\",\n",
    "    \"olist_products_dataset\",\n",
    "    \"olist_order_items_dataset\",\n",
    "    \"olist_sellers_dataset\",\n",
    "    \"olist_order_payments_dataset\",\n",
    "    \"product_category_name_translation\",\n",
    "    \"olist_order_reviews_dataset\",\n",
    "]"
   ]
  },
  {
   "cell_type": "code",
   "execution_count": 0,
   "metadata": {
    "application/vnd.databricks.v1+cell": {
     "cellMetadata": {},
     "inputWidgets": {},
     "nuid": "04bd87a9-02e5-469e-8574-24e81de07dde",
     "showTitle": false,
     "title": ""
    }
   },
   "outputs": [],
   "source": [
    "for file_name in files:\n",
    "    # multiline é preciso por conta principalmente dos reviews. pois tem  \\n\n",
    "    df = (\n",
    "        spark.read.format(\"csv\")\n",
    "        .options(header=\"true\", inferSchema=True, multiLine=True, quote='\"', escape='\"')\n",
    "        .load(f\"file:/FileStore/datasets/brazilian-ecommerce/{file_name}.csv\")\n",
    "    )\n",
    "\n",
    "    save_dataframe(\n",
    "        df,\n",
    "        format_mode=\"parquet\",\n",
    "        target_location=f\"dbfs:/FileStore/parquet/brazilian_ecommerce/{file_name}\",\n",
    "    )"
   ]
  },
  {
   "cell_type": "markdown",
   "metadata": {
    "application/vnd.databricks.v1+cell": {
     "cellMetadata": {},
     "inputWidgets": {},
     "nuid": "9d502746-e5e8-43fb-bc5d-3531289c13c1",
     "showTitle": false,
     "title": ""
    }
   },
   "source": [
    "\n",
    "Aqui utilizamos de algumas options para leitura do csv\n",
    "\n",
    "```\n",
    ".option(\"quote\", \"\\\"\") # para que o delimitador de string seja \"\n",
    ".option(\"header\", True) # para que a primeira linha do csv seja lida como header\n",
    ".option(\"inferSchema\", True) # para que infira o schema automaticamente\n",
    ".option(\"multiLine\", True) # para casos onde tem quebra de linha no texto\n",
    ".option(\"escape\", \"\\\"\") # para ignorar aspas duplas dentro de uma string (principalmente nos reviews)\n",
    "\n",
    "```"
   ]
  },
  {
   "cell_type": "code",
   "execution_count": 0,
   "metadata": {
    "application/vnd.databricks.v1+cell": {
     "cellMetadata": {},
     "inputWidgets": {},
     "nuid": "0b1c8c34-0dda-432a-977c-7285bb462d55",
     "showTitle": false,
     "title": ""
    }
   },
   "outputs": [],
   "source": [
    "%fs ls '/FileStore/parquet/brazilian_ecommerce/'"
   ]
  },
  {
   "cell_type": "code",
   "execution_count": 0,
   "metadata": {
    "application/vnd.databricks.v1+cell": {
     "cellMetadata": {},
     "inputWidgets": {},
     "nuid": "3907c435-f269-4fe5-a476-ff93d1596389",
     "showTitle": false,
     "title": ""
    }
   },
   "outputs": [],
   "source": [
    "dbutils.notebook.exit(\"OK\")"
   ]
  },
  {
   "cell_type": "markdown",
   "metadata": {
    "application/vnd.databricks.v1+cell": {
     "cellMetadata": {},
     "inputWidgets": {},
     "nuid": "7db6d138-f14e-405b-b099-0be2d47afdd4",
     "showTitle": false,
     "title": ""
    }
   },
   "source": [
    "\n",
    "#### test"
   ]
  },
  {
   "cell_type": "code",
   "execution_count": 0,
   "metadata": {
    "application/vnd.databricks.v1+cell": {
     "cellMetadata": {},
     "inputWidgets": {},
     "nuid": "bd6b45dd-36a0-4513-88af-51243f45d001",
     "showTitle": false,
     "title": ""
    }
   },
   "outputs": [],
   "source": [
    "display(spark.read.parquet('/FileStore/parquet/brazilian_ecommerce/olist_order_reviews_dataset/'))"
   ]
  },
  {
   "cell_type": "code",
   "execution_count": 0,
   "metadata": {
    "application/vnd.databricks.v1+cell": {
     "cellMetadata": {},
     "inputWidgets": {},
     "nuid": "cbefd059-0717-4152-9838-cf9a74a18602",
     "showTitle": false,
     "title": ""
    }
   },
   "outputs": [],
   "source": []
  }
 ],
 "metadata": {
  "application/vnd.databricks.v1+notebook": {
   "dashboards": [],
   "language": "python",
   "notebookMetadata": {
    "pythonIndentUnit": 4
   },
   "notebookName": "0 - data_ingestion (staging)",
   "widgets": {}
  }
 },
 "nbformat": 4,
 "nbformat_minor": 0
}
