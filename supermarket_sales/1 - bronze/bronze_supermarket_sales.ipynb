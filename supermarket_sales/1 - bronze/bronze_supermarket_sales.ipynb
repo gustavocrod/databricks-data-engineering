{
 "cells": [
  {
   "cell_type": "code",
   "execution_count": 0,
   "metadata": {
    "application/vnd.databricks.v1+cell": {
     "cellMetadata": {
      "byteLimit": 2048000,
      "rowLimit": 10000
     },
     "inputWidgets": {},
     "nuid": "1967590d-b47e-4c09-ba15-593a8237bc34",
     "showTitle": false,
     "title": ""
    }
   },
   "outputs": [
    {
     "output_type": "stream",
     "name": "stdout",
     "output_type": "stream",
     "text": [
      "\u001B[43mNote: you may need to restart the kernel using dbutils.library.restartPython() to use updated packages.\u001B[0m\nRequirement already satisfied: unidecode in /local_disk0/.ephemeral_nfs/envs/pythonEnv-121da581-e08a-4899-9cd1-9a7557fd4de3/lib/python3.10/site-packages (1.3.8)\n\u001B[43mNote: you may need to restart the kernel using dbutils.library.restartPython() to use updated packages.\u001B[0m\n"
     ]
    }
   ],
   "source": [
    "%run ../../_utils"
   ]
  },
  {
   "cell_type": "markdown",
   "metadata": {
    "application/vnd.databricks.v1+cell": {
     "cellMetadata": {
      "byteLimit": 2048000,
      "rowLimit": 10000
     },
     "inputWidgets": {},
     "nuid": "f9c9b3bb-ae73-4b7b-a340-0732b0f59633",
     "showTitle": false,
     "title": ""
    }
   },
   "source": [
    "# Camada bronze\n",
    "Na camada bronze, nenhuma limpeza ou regra de negócio devem ser aplicadas aos dados.\n",
    "\n",
    "só vamos ler em parquet e salvar em delta.\n",
    "\n",
    "Vamos também utilizar da tabela de controle para termos o milestone da ultima execução (aqui nao será utilizado de fato, mas é interessante justamenete para o UPSERT)"
   ]
  },
  {
   "cell_type": "markdown",
   "metadata": {
    "application/vnd.databricks.v1+cell": {
     "cellMetadata": {},
     "inputWidgets": {},
     "nuid": "ac82b4f5-3b69-45d8-bc83-37a6e25e77ec",
     "showTitle": false,
     "title": ""
    }
   },
   "source": [
    "## 1 - leitura dos dados"
   ]
  },
  {
   "cell_type": "code",
   "execution_count": 0,
   "metadata": {
    "application/vnd.databricks.v1+cell": {
     "cellMetadata": {
      "byteLimit": 2048000,
      "rowLimit": 10000
     },
     "inputWidgets": {},
     "nuid": "699959b8-d227-4fee-85ce-f51471c59194",
     "showTitle": false,
     "title": ""
    }
   },
   "outputs": [],
   "source": [
    "parquet_location = \"/FileStore/parquet/supermarket_sales\"\n",
    "\n",
    "df = spark.read.parquet(parquet_location)"
   ]
  },
  {
   "cell_type": "markdown",
   "metadata": {
    "application/vnd.databricks.v1+cell": {
     "cellMetadata": {},
     "inputWidgets": {},
     "nuid": "c58dbdbe-179f-4d06-8bc2-bc8c43d5f010",
     "showTitle": false,
     "title": ""
    }
   },
   "source": [
    "\n",
    "### teste de armazenamento em delta"
   ]
  },
  {
   "cell_type": "code",
   "execution_count": 0,
   "metadata": {
    "application/vnd.databricks.v1+cell": {
     "cellMetadata": {
      "byteLimit": 2048000,
      "rowLimit": 10000
     },
     "inputWidgets": {},
     "nuid": "9767b48d-2191-4742-a668-01c93775ba0a",
     "showTitle": false,
     "title": ""
    }
   },
   "outputs": [],
   "source": [
    "save_dataframe(\n",
    "    df,\n",
    "    format_mode=\"delta\",\n",
    "    table_name=\"bronze.supermarket_sales\",\n",
    "    target_location=\"dbfs:/delta/bronze/supermarket_sales\",\n",
    ")"
   ]
  },
  {
   "cell_type": "markdown",
   "metadata": {
    "application/vnd.databricks.v1+cell": {
     "cellMetadata": {},
     "inputWidgets": {},
     "nuid": "b133054c-a210-45ae-9161-322f7fd6764b",
     "showTitle": false,
     "title": ""
    }
   },
   "source": [
    "\n",
    "# Camada bronze\n",
    "\n",
    "Na camada bronze, nenhuma limpeza ou regra de negócio devem ser aplicadas aos dados.\n",
    "\n",
    "Porém aqui temos dados que demandam de um pequeno tratamento: nome dos campos.\n",
    "\n",
    "Para armazenarmos em formato delta, precisaremos tratar o nome dos campos. (outros tratamentos devem acontecer na camada subsequente)\n",
    "\n",
    "Para essa limpeza dos dados, utilizamos do método ``fix_df_column_names`` definido em ``_utils``"
   ]
  },
  {
   "cell_type": "code",
   "execution_count": 0,
   "metadata": {
    "application/vnd.databricks.v1+cell": {
     "cellMetadata": {
      "byteLimit": 2048000,
      "rowLimit": 10000
     },
     "inputWidgets": {},
     "nuid": "b38fab6e-a653-4336-910d-5b5fac1923cc",
     "showTitle": false,
     "title": ""
    }
   },
   "outputs": [
    {
     "output_type": "display_data",
     "data": {
      "text/html": [
       "<style scoped>\n",
       "  .table-result-container {\n",
       "    max-height: 300px;\n",
       "    overflow: auto;\n",
       "  }\n",
       "  table, th, td {\n",
       "    border: 1px solid black;\n",
       "    border-collapse: collapse;\n",
       "  }\n",
       "  th, td {\n",
       "    padding: 5px;\n",
       "  }\n",
       "  th {\n",
       "    text-align: left;\n",
       "  }\n",
       "</style><div class='table-result-container'><table class='table-result'><thead style='background-color: white'><tr><th>invoice_id</th><th>branch</th><th>city</th><th>customer_type</th><th>gender</th><th>product_line</th><th>unit_price</th><th>quantity</th><th>tax_5</th><th>total</th><th>date</th><th>time</th><th>payment</th><th>cogs</th><th>gross_margin_percentage</th><th>gross_income</th><th>rating</th></tr></thead><tbody><tr><td>750-67-8428</td><td>A</td><td>Yangon</td><td>Member</td><td>Female</td><td>Health and beauty</td><td>74.69</td><td>7</td><td>26.1415</td><td>548.9715</td><td>2019-01-05</td><td>2024-05-13T13:08:00Z</td><td>Ewallet</td><td>522.83</td><td>4.761904762</td><td>26.1415</td><td>9.1</td></tr><tr><td>226-31-3081</td><td>C</td><td>Naypyitaw</td><td>Normal</td><td>Female</td><td>Electronic accessories</td><td>15.28</td><td>5</td><td>3.82</td><td>80.22</td><td>2019-03-08</td><td>2024-05-13T10:29:00Z</td><td>Cash</td><td>76.4</td><td>4.761904762</td><td>3.82</td><td>9.6</td></tr><tr><td>631-41-3108</td><td>A</td><td>Yangon</td><td>Normal</td><td>Male</td><td>Home and lifestyle</td><td>46.33</td><td>7</td><td>16.2155</td><td>340.5255</td><td>2019-03-03</td><td>2024-05-13T13:23:00Z</td><td>Credit card</td><td>324.31</td><td>4.761904762</td><td>16.2155</td><td>7.4</td></tr><tr><td>123-19-1176</td><td>A</td><td>Yangon</td><td>Member</td><td>Male</td><td>Health and beauty</td><td>58.22</td><td>8</td><td>23.288</td><td>489.048</td><td>2019-01-27</td><td>2024-05-13T20:33:00Z</td><td>Ewallet</td><td>465.76</td><td>4.761904762</td><td>23.288</td><td>8.4</td></tr><tr><td>373-73-7910</td><td>A</td><td>Yangon</td><td>Normal</td><td>Male</td><td>Sports and travel</td><td>86.31</td><td>7</td><td>30.2085</td><td>634.3785</td><td>2019-02-08</td><td>2024-05-13T10:37:00Z</td><td>Ewallet</td><td>604.17</td><td>4.761904762</td><td>30.2085</td><td>5.3</td></tr><tr><td>699-14-3026</td><td>C</td><td>Naypyitaw</td><td>Normal</td><td>Male</td><td>Electronic accessories</td><td>85.39</td><td>7</td><td>29.8865</td><td>627.6165</td><td>2019-03-25</td><td>2024-05-13T18:30:00Z</td><td>Ewallet</td><td>597.73</td><td>4.761904762</td><td>29.8865</td><td>4.1</td></tr><tr><td>355-53-5943</td><td>A</td><td>Yangon</td><td>Member</td><td>Female</td><td>Electronic accessories</td><td>68.84</td><td>6</td><td>20.652</td><td>433.692</td><td>2019-02-25</td><td>2024-05-13T14:36:00Z</td><td>Ewallet</td><td>413.04</td><td>4.761904762</td><td>20.652</td><td>5.8</td></tr><tr><td>315-22-5665</td><td>C</td><td>Naypyitaw</td><td>Normal</td><td>Female</td><td>Home and lifestyle</td><td>73.56</td><td>10</td><td>36.78</td><td>772.38</td><td>2019-02-24</td><td>2024-05-13T11:38:00Z</td><td>Ewallet</td><td>735.6</td><td>4.761904762</td><td>36.78</td><td>8.0</td></tr><tr><td>665-32-9167</td><td>A</td><td>Yangon</td><td>Member</td><td>Female</td><td>Health and beauty</td><td>36.26</td><td>2</td><td>3.626</td><td>76.146</td><td>2019-01-10</td><td>2024-05-13T17:15:00Z</td><td>Credit card</td><td>72.52</td><td>4.761904762</td><td>3.626</td><td>7.2</td></tr><tr><td>692-92-5582</td><td>B</td><td>Mandalay</td><td>Member</td><td>Female</td><td>Food and beverages</td><td>54.84</td><td>3</td><td>8.226</td><td>172.746</td><td>2019-02-20</td><td>2024-05-13T13:27:00Z</td><td>Credit card</td><td>164.52</td><td>4.761904762</td><td>8.226</td><td>5.9</td></tr></tbody></table></div>"
      ]
     },
     "metadata": {
      "application/vnd.databricks.v1+output": {
       "addedWidgets": {},
       "aggData": [],
       "aggError": "",
       "aggOverflow": false,
       "aggSchema": [],
       "aggSeriesLimitReached": false,
       "aggType": "",
       "arguments": {},
       "columnCustomDisplayInfos": {},
       "data": [
        [
         "750-67-8428",
         "A",
         "Yangon",
         "Member",
         "Female",
         "Health and beauty",
         74.69,
         7,
         26.1415,
         548.9715,
         "2019-01-05",
         "2024-05-13T13:08:00Z",
         "Ewallet",
         522.83,
         4.761904762,
         26.1415,
         9.1
        ],
        [
         "226-31-3081",
         "C",
         "Naypyitaw",
         "Normal",
         "Female",
         "Electronic accessories",
         15.28,
         5,
         3.82,
         80.22,
         "2019-03-08",
         "2024-05-13T10:29:00Z",
         "Cash",
         76.4,
         4.761904762,
         3.82,
         9.6
        ],
        [
         "631-41-3108",
         "A",
         "Yangon",
         "Normal",
         "Male",
         "Home and lifestyle",
         46.33,
         7,
         16.2155,
         340.5255,
         "2019-03-03",
         "2024-05-13T13:23:00Z",
         "Credit card",
         324.31,
         4.761904762,
         16.2155,
         7.4
        ],
        [
         "123-19-1176",
         "A",
         "Yangon",
         "Member",
         "Male",
         "Health and beauty",
         58.22,
         8,
         23.288,
         489.048,
         "2019-01-27",
         "2024-05-13T20:33:00Z",
         "Ewallet",
         465.76,
         4.761904762,
         23.288,
         8.4
        ],
        [
         "373-73-7910",
         "A",
         "Yangon",
         "Normal",
         "Male",
         "Sports and travel",
         86.31,
         7,
         30.2085,
         634.3785,
         "2019-02-08",
         "2024-05-13T10:37:00Z",
         "Ewallet",
         604.17,
         4.761904762,
         30.2085,
         5.3
        ],
        [
         "699-14-3026",
         "C",
         "Naypyitaw",
         "Normal",
         "Male",
         "Electronic accessories",
         85.39,
         7,
         29.8865,
         627.6165,
         "2019-03-25",
         "2024-05-13T18:30:00Z",
         "Ewallet",
         597.73,
         4.761904762,
         29.8865,
         4.1
        ],
        [
         "355-53-5943",
         "A",
         "Yangon",
         "Member",
         "Female",
         "Electronic accessories",
         68.84,
         6,
         20.652,
         433.692,
         "2019-02-25",
         "2024-05-13T14:36:00Z",
         "Ewallet",
         413.04,
         4.761904762,
         20.652,
         5.8
        ],
        [
         "315-22-5665",
         "C",
         "Naypyitaw",
         "Normal",
         "Female",
         "Home and lifestyle",
         73.56,
         10,
         36.78,
         772.38,
         "2019-02-24",
         "2024-05-13T11:38:00Z",
         "Ewallet",
         735.6,
         4.761904762,
         36.78,
         8.0
        ],
        [
         "665-32-9167",
         "A",
         "Yangon",
         "Member",
         "Female",
         "Health and beauty",
         36.26,
         2,
         3.626,
         76.146,
         "2019-01-10",
         "2024-05-13T17:15:00Z",
         "Credit card",
         72.52,
         4.761904762,
         3.626,
         7.2
        ],
        [
         "692-92-5582",
         "B",
         "Mandalay",
         "Member",
         "Female",
         "Food and beverages",
         54.84,
         3,
         8.226,
         172.746,
         "2019-02-20",
         "2024-05-13T13:27:00Z",
         "Credit card",
         164.52,
         4.761904762,
         8.226,
         5.9
        ]
       ],
       "datasetInfos": [],
       "dbfsResultPath": null,
       "isJsonSchema": true,
       "metadata": {},
       "overflow": false,
       "plotOptions": {
        "customPlotOptions": {},
        "displayType": "table",
        "pivotAggregation": null,
        "pivotColumns": null,
        "xColumns": null,
        "yColumns": null
       },
       "removedWidgets": [],
       "schema": [
        {
         "metadata": "{}",
         "name": "invoice_id",
         "type": "\"string\""
        },
        {
         "metadata": "{}",
         "name": "branch",
         "type": "\"string\""
        },
        {
         "metadata": "{}",
         "name": "city",
         "type": "\"string\""
        },
        {
         "metadata": "{}",
         "name": "customer_type",
         "type": "\"string\""
        },
        {
         "metadata": "{}",
         "name": "gender",
         "type": "\"string\""
        },
        {
         "metadata": "{}",
         "name": "product_line",
         "type": "\"string\""
        },
        {
         "metadata": "{}",
         "name": "unit_price",
         "type": "\"double\""
        },
        {
         "metadata": "{}",
         "name": "quantity",
         "type": "\"long\""
        },
        {
         "metadata": "{}",
         "name": "tax_5",
         "type": "\"double\""
        },
        {
         "metadata": "{}",
         "name": "total",
         "type": "\"double\""
        },
        {
         "metadata": "{}",
         "name": "date",
         "type": "\"date\""
        },
        {
         "metadata": "{}",
         "name": "time",
         "type": "\"timestamp\""
        },
        {
         "metadata": "{}",
         "name": "payment",
         "type": "\"string\""
        },
        {
         "metadata": "{}",
         "name": "cogs",
         "type": "\"double\""
        },
        {
         "metadata": "{}",
         "name": "gross_margin_percentage",
         "type": "\"double\""
        },
        {
         "metadata": "{}",
         "name": "gross_income",
         "type": "\"double\""
        },
        {
         "metadata": "{}",
         "name": "rating",
         "type": "\"double\""
        }
       ],
       "type": "table"
      }
     },
     "output_type": "display_data"
    }
   ],
   "source": [
    "df = fix_df_column_names(df)\n",
    "display(df.take(10))"
   ]
  },
  {
   "cell_type": "markdown",
   "metadata": {
    "application/vnd.databricks.v1+cell": {
     "cellMetadata": {},
     "inputWidgets": {},
     "nuid": "087cf930-5fb2-4485-8c4e-594b8c8748d2",
     "showTitle": false,
     "title": ""
    }
   },
   "source": [
    "\n",
    "## Save dataframe"
   ]
  },
  {
   "cell_type": "code",
   "execution_count": 0,
   "metadata": {
    "application/vnd.databricks.v1+cell": {
     "cellMetadata": {
      "byteLimit": 2048000,
      "rowLimit": 10000
     },
     "inputWidgets": {},
     "nuid": "ad7b5231-ed46-457d-a658-bca57092222b",
     "showTitle": false,
     "title": ""
    }
   },
   "outputs": [],
   "source": [
    "tb_name = \"bronze.supermarket_sales\"\n",
    "target_location = \"dbfs:/delta/bronze/supermarket_sales\""
   ]
  },
  {
   "cell_type": "code",
   "execution_count": 0,
   "metadata": {
    "application/vnd.databricks.v1+cell": {
     "cellMetadata": {
      "byteLimit": 2048000,
      "rowLimit": 10000
     },
     "inputWidgets": {},
     "nuid": "e2c18b78-7c14-4948-8cb9-daa39a529c5a",
     "showTitle": false,
     "title": ""
    }
   },
   "outputs": [
    {
     "output_type": "stream",
     "name": "stdout",
     "output_type": "stream",
     "text": [
      "[LOG] Saving bronze.supermarket_sales delta on dbfs:/delta/bronze/supermarket_sales... OK!\n"
     ]
    }
   ],
   "source": [
    "save_dataframe(\n",
    "    df,\n",
    "    format_mode=\"delta\",\n",
    "    table_name=tb_name,\n",
    "    target_location=target_location,\n",
    ")"
   ]
  },
  {
   "cell_type": "markdown",
   "metadata": {
    "application/vnd.databricks.v1+cell": {
     "cellMetadata": {},
     "inputWidgets": {},
     "nuid": "307fef32-37a7-4789-a140-127083dd91d8",
     "showTitle": false,
     "title": ""
    }
   },
   "source": [
    "\n",
    "## Criar tabela delta"
   ]
  },
  {
   "cell_type": "code",
   "execution_count": 0,
   "metadata": {
    "application/vnd.databricks.v1+cell": {
     "cellMetadata": {
      "byteLimit": 2048000,
      "rowLimit": 10000
     },
     "inputWidgets": {},
     "nuid": "2a52b278-2985-43e2-802f-89b2ddfb4b18",
     "showTitle": false,
     "title": ""
    }
   },
   "outputs": [
    {
     "output_type": "stream",
     "name": "stdout",
     "output_type": "stream",
     "text": [
      "[LOG] Creating delta table bronze.supermarket_sales on dbfs:/delta/bronze/supermarket_sales... OK!\n"
     ]
    }
   ],
   "source": [
    "create_table(table_name=tb_name, target_location=target_location)"
   ]
  },
  {
   "cell_type": "code",
   "execution_count": 0,
   "metadata": {
    "application/vnd.databricks.v1+cell": {
     "cellMetadata": {
      "byteLimit": 2048000,
      "rowLimit": 10000
     },
     "inputWidgets": {},
     "nuid": "70b4d770-d506-4784-8c3e-a49e9444c599",
     "showTitle": false,
     "title": ""
    }
   },
   "outputs": [],
   "source": [
    "# para sair do notebook\n",
    "# tudo que rodar após isso será ignorado quando o notebook for executado via workflow\n",
    "dbutils.notebook.exit(\"OK\")"
   ]
  },
  {
   "cell_type": "code",
   "execution_count": 0,
   "metadata": {
    "application/vnd.databricks.v1+cell": {
     "cellMetadata": {
      "byteLimit": 2048000,
      "implicitDf": true,
      "rowLimit": 10000
     },
     "inputWidgets": {},
     "nuid": "4353e4b2-5f0e-478c-ab51-32e098cdb57f",
     "showTitle": false,
     "title": ""
    }
   },
   "outputs": [
    {
     "output_type": "display_data",
     "data": {
      "text/html": [
       "<style scoped>\n",
       "  .table-result-container {\n",
       "    max-height: 300px;\n",
       "    overflow: auto;\n",
       "  }\n",
       "  table, th, td {\n",
       "    border: 1px solid black;\n",
       "    border-collapse: collapse;\n",
       "  }\n",
       "  th, td {\n",
       "    padding: 5px;\n",
       "  }\n",
       "  th {\n",
       "    text-align: left;\n",
       "  }\n",
       "</style><div class='table-result-container'><table class='table-result'><thead style='background-color: white'><tr><th>invoice_id</th><th>branch</th><th>city</th><th>customer_type</th><th>gender</th><th>product_line</th><th>unit_price</th><th>quantity</th><th>tax_5</th><th>total</th><th>date</th><th>time</th><th>payment</th><th>cogs</th><th>gross_margin_percentage</th><th>gross_income</th><th>rating</th></tr></thead><tbody><tr><td>750-67-8428</td><td>A</td><td>Yangon</td><td>Member</td><td>Female</td><td>Health and beauty</td><td>74.69</td><td>7</td><td>26.1415</td><td>548.9715</td><td>2019-01-05</td><td>2024-05-13T13:08:00Z</td><td>Ewallet</td><td>522.83</td><td>4.761904762</td><td>26.1415</td><td>9.1</td></tr><tr><td>226-31-3081</td><td>C</td><td>Naypyitaw</td><td>Normal</td><td>Female</td><td>Electronic accessories</td><td>15.28</td><td>5</td><td>3.82</td><td>80.22</td><td>2019-03-08</td><td>2024-05-13T10:29:00Z</td><td>Cash</td><td>76.4</td><td>4.761904762</td><td>3.82</td><td>9.6</td></tr><tr><td>631-41-3108</td><td>A</td><td>Yangon</td><td>Normal</td><td>Male</td><td>Home and lifestyle</td><td>46.33</td><td>7</td><td>16.2155</td><td>340.5255</td><td>2019-03-03</td><td>2024-05-13T13:23:00Z</td><td>Credit card</td><td>324.31</td><td>4.761904762</td><td>16.2155</td><td>7.4</td></tr><tr><td>123-19-1176</td><td>A</td><td>Yangon</td><td>Member</td><td>Male</td><td>Health and beauty</td><td>58.22</td><td>8</td><td>23.288</td><td>489.048</td><td>2019-01-27</td><td>2024-05-13T20:33:00Z</td><td>Ewallet</td><td>465.76</td><td>4.761904762</td><td>23.288</td><td>8.4</td></tr><tr><td>373-73-7910</td><td>A</td><td>Yangon</td><td>Normal</td><td>Male</td><td>Sports and travel</td><td>86.31</td><td>7</td><td>30.2085</td><td>634.3785</td><td>2019-02-08</td><td>2024-05-13T10:37:00Z</td><td>Ewallet</td><td>604.17</td><td>4.761904762</td><td>30.2085</td><td>5.3</td></tr><tr><td>699-14-3026</td><td>C</td><td>Naypyitaw</td><td>Normal</td><td>Male</td><td>Electronic accessories</td><td>85.39</td><td>7</td><td>29.8865</td><td>627.6165</td><td>2019-03-25</td><td>2024-05-13T18:30:00Z</td><td>Ewallet</td><td>597.73</td><td>4.761904762</td><td>29.8865</td><td>4.1</td></tr><tr><td>355-53-5943</td><td>A</td><td>Yangon</td><td>Member</td><td>Female</td><td>Electronic accessories</td><td>68.84</td><td>6</td><td>20.652</td><td>433.692</td><td>2019-02-25</td><td>2024-05-13T14:36:00Z</td><td>Ewallet</td><td>413.04</td><td>4.761904762</td><td>20.652</td><td>5.8</td></tr><tr><td>315-22-5665</td><td>C</td><td>Naypyitaw</td><td>Normal</td><td>Female</td><td>Home and lifestyle</td><td>73.56</td><td>10</td><td>36.78</td><td>772.38</td><td>2019-02-24</td><td>2024-05-13T11:38:00Z</td><td>Ewallet</td><td>735.6</td><td>4.761904762</td><td>36.78</td><td>8.0</td></tr><tr><td>665-32-9167</td><td>A</td><td>Yangon</td><td>Member</td><td>Female</td><td>Health and beauty</td><td>36.26</td><td>2</td><td>3.626</td><td>76.146</td><td>2019-01-10</td><td>2024-05-13T17:15:00Z</td><td>Credit card</td><td>72.52</td><td>4.761904762</td><td>3.626</td><td>7.2</td></tr><tr><td>692-92-5582</td><td>B</td><td>Mandalay</td><td>Member</td><td>Female</td><td>Food and beverages</td><td>54.84</td><td>3</td><td>8.226</td><td>172.746</td><td>2019-02-20</td><td>2024-05-13T13:27:00Z</td><td>Credit card</td><td>164.52</td><td>4.761904762</td><td>8.226</td><td>5.9</td></tr></tbody></table></div>"
      ]
     },
     "metadata": {
      "application/vnd.databricks.v1+output": {
       "addedWidgets": {},
       "aggData": [],
       "aggError": "",
       "aggOverflow": false,
       "aggSchema": [],
       "aggSeriesLimitReached": false,
       "aggType": "",
       "arguments": {},
       "columnCustomDisplayInfos": {},
       "data": [
        [
         "750-67-8428",
         "A",
         "Yangon",
         "Member",
         "Female",
         "Health and beauty",
         74.69,
         7,
         26.1415,
         548.9715,
         "2019-01-05",
         "2024-05-13T13:08:00Z",
         "Ewallet",
         522.83,
         4.761904762,
         26.1415,
         9.1
        ],
        [
         "226-31-3081",
         "C",
         "Naypyitaw",
         "Normal",
         "Female",
         "Electronic accessories",
         15.28,
         5,
         3.82,
         80.22,
         "2019-03-08",
         "2024-05-13T10:29:00Z",
         "Cash",
         76.4,
         4.761904762,
         3.82,
         9.6
        ],
        [
         "631-41-3108",
         "A",
         "Yangon",
         "Normal",
         "Male",
         "Home and lifestyle",
         46.33,
         7,
         16.2155,
         340.5255,
         "2019-03-03",
         "2024-05-13T13:23:00Z",
         "Credit card",
         324.31,
         4.761904762,
         16.2155,
         7.4
        ],
        [
         "123-19-1176",
         "A",
         "Yangon",
         "Member",
         "Male",
         "Health and beauty",
         58.22,
         8,
         23.288,
         489.048,
         "2019-01-27",
         "2024-05-13T20:33:00Z",
         "Ewallet",
         465.76,
         4.761904762,
         23.288,
         8.4
        ],
        [
         "373-73-7910",
         "A",
         "Yangon",
         "Normal",
         "Male",
         "Sports and travel",
         86.31,
         7,
         30.2085,
         634.3785,
         "2019-02-08",
         "2024-05-13T10:37:00Z",
         "Ewallet",
         604.17,
         4.761904762,
         30.2085,
         5.3
        ],
        [
         "699-14-3026",
         "C",
         "Naypyitaw",
         "Normal",
         "Male",
         "Electronic accessories",
         85.39,
         7,
         29.8865,
         627.6165,
         "2019-03-25",
         "2024-05-13T18:30:00Z",
         "Ewallet",
         597.73,
         4.761904762,
         29.8865,
         4.1
        ],
        [
         "355-53-5943",
         "A",
         "Yangon",
         "Member",
         "Female",
         "Electronic accessories",
         68.84,
         6,
         20.652,
         433.692,
         "2019-02-25",
         "2024-05-13T14:36:00Z",
         "Ewallet",
         413.04,
         4.761904762,
         20.652,
         5.8
        ],
        [
         "315-22-5665",
         "C",
         "Naypyitaw",
         "Normal",
         "Female",
         "Home and lifestyle",
         73.56,
         10,
         36.78,
         772.38,
         "2019-02-24",
         "2024-05-13T11:38:00Z",
         "Ewallet",
         735.6,
         4.761904762,
         36.78,
         8.0
        ],
        [
         "665-32-9167",
         "A",
         "Yangon",
         "Member",
         "Female",
         "Health and beauty",
         36.26,
         2,
         3.626,
         76.146,
         "2019-01-10",
         "2024-05-13T17:15:00Z",
         "Credit card",
         72.52,
         4.761904762,
         3.626,
         7.2
        ],
        [
         "692-92-5582",
         "B",
         "Mandalay",
         "Member",
         "Female",
         "Food and beverages",
         54.84,
         3,
         8.226,
         172.746,
         "2019-02-20",
         "2024-05-13T13:27:00Z",
         "Credit card",
         164.52,
         4.761904762,
         8.226,
         5.9
        ]
       ],
       "datasetInfos": [],
       "dbfsResultPath": null,
       "isJsonSchema": true,
       "metadata": {
        "dataframeName": "_sqldf",
        "executionCount": 24
       },
       "overflow": false,
       "plotOptions": {
        "customPlotOptions": {},
        "displayType": "table",
        "pivotAggregation": null,
        "pivotColumns": null,
        "xColumns": null,
        "yColumns": null
       },
       "removedWidgets": [],
       "schema": [
        {
         "metadata": "{}",
         "name": "invoice_id",
         "type": "\"string\""
        },
        {
         "metadata": "{}",
         "name": "branch",
         "type": "\"string\""
        },
        {
         "metadata": "{}",
         "name": "city",
         "type": "\"string\""
        },
        {
         "metadata": "{}",
         "name": "customer_type",
         "type": "\"string\""
        },
        {
         "metadata": "{}",
         "name": "gender",
         "type": "\"string\""
        },
        {
         "metadata": "{}",
         "name": "product_line",
         "type": "\"string\""
        },
        {
         "metadata": "{}",
         "name": "unit_price",
         "type": "\"double\""
        },
        {
         "metadata": "{}",
         "name": "quantity",
         "type": "\"integer\""
        },
        {
         "metadata": "{}",
         "name": "tax_5",
         "type": "\"double\""
        },
        {
         "metadata": "{}",
         "name": "total",
         "type": "\"double\""
        },
        {
         "metadata": "{\"__detected_date_formats\":\"M/d/yyyy\"}",
         "name": "date",
         "type": "\"date\""
        },
        {
         "metadata": "{}",
         "name": "time",
         "type": "\"timestamp\""
        },
        {
         "metadata": "{}",
         "name": "payment",
         "type": "\"string\""
        },
        {
         "metadata": "{}",
         "name": "cogs",
         "type": "\"double\""
        },
        {
         "metadata": "{}",
         "name": "gross_margin_percentage",
         "type": "\"double\""
        },
        {
         "metadata": "{}",
         "name": "gross_income",
         "type": "\"double\""
        },
        {
         "metadata": "{}",
         "name": "rating",
         "type": "\"double\""
        }
       ],
       "type": "table"
      }
     },
     "output_type": "display_data"
    }
   ],
   "source": [
    "%sql\n",
    "\n",
    "select * from bronze.supermarket_sales limit 10"
   ]
  },
  {
   "cell_type": "code",
   "execution_count": 0,
   "metadata": {
    "application/vnd.databricks.v1+cell": {
     "cellMetadata": {},
     "inputWidgets": {},
     "nuid": "78415a3e-739b-4faa-a73a-8722ab6b9cb9",
     "showTitle": false,
     "title": ""
    }
   },
   "outputs": [],
   "source": []
  }
 ],
 "metadata": {
  "application/vnd.databricks.v1+notebook": {
   "dashboards": [],
   "language": "python",
   "notebookMetadata": {
    "mostRecentlyExecutedCommandWithImplicitDF": {
     "commandId": 4240245637786604,
     "dataframes": [
      "_sqldf"
     ]
    },
    "pythonIndentUnit": 4
   },
   "notebookName": "bronze_supermarket_sales",
   "widgets": {}
  }
 },
 "nbformat": 4,
 "nbformat_minor": 0
}
