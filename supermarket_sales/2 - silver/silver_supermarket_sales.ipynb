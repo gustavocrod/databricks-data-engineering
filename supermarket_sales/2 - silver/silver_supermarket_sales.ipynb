{
 "cells": [
  {
   "cell_type": "code",
   "execution_count": 0,
   "metadata": {
    "application/vnd.databricks.v1+cell": {
     "cellMetadata": {
      "byteLimit": 2048000,
      "rowLimit": 10000
     },
     "inputWidgets": {},
     "nuid": "24088d38-e56c-470c-8597-ee8e756ff1c3",
     "showTitle": false,
     "title": ""
    }
   },
   "outputs": [
    {
     "output_type": "stream",
     "name": "stdout",
     "output_type": "stream",
     "text": [
      "\u001B[43mNote: you may need to restart the kernel using dbutils.library.restartPython() to use updated packages.\u001B[0m\nRequirement already satisfied: unidecode in /local_disk0/.ephemeral_nfs/envs/pythonEnv-560735ca-d9a1-4826-b346-531968f990cb/lib/python3.10/site-packages (1.3.8)\n\u001B[43mNote: you may need to restart the kernel using dbutils.library.restartPython() to use updated packages.\u001B[0m\n"
     ]
    }
   ],
   "source": [
    "%run ../../_utils"
   ]
  },
  {
   "cell_type": "code",
   "execution_count": 0,
   "metadata": {
    "application/vnd.databricks.v1+cell": {
     "cellMetadata": {
      "byteLimit": 2048000,
      "rowLimit": 10000
     },
     "inputWidgets": {},
     "nuid": "66496b9b-610f-4059-bbc6-0343ec6039ae",
     "showTitle": false,
     "title": ""
    }
   },
   "outputs": [],
   "source": [
    "from pyspark.sql.functions import hour, minute, second, concat, lit, date_format, dayofweek, when\n",
    "from pyspark.sql.types import StringType"
   ]
  },
  {
   "cell_type": "markdown",
   "metadata": {
    "application/vnd.databricks.v1+cell": {
     "cellMetadata": {
      "byteLimit": 2048000,
      "rowLimit": 10000
     },
     "inputWidgets": {},
     "nuid": "b16de0de-365e-4394-94c7-c52a88f5eb5c",
     "showTitle": false,
     "title": ""
    }
   },
   "source": [
    "\n",
    "# Camada Silver\n",
    "\n",
    "Na camada silver, limpezas e ajustes em dados devem ser aplicados\n",
    "\n",
    "Caso seja possível, enriquecer os dados e extrair dados também deve acontecer nessa camada"
   ]
  },
  {
   "cell_type": "code",
   "execution_count": 0,
   "metadata": {
    "application/vnd.databricks.v1+cell": {
     "cellMetadata": {
      "byteLimit": 2048000,
      "rowLimit": 10000
     },
     "inputWidgets": {},
     "nuid": "720864c5-5f92-4f97-86a4-d702ead96b63",
     "showTitle": false,
     "title": ""
    }
   },
   "outputs": [],
   "source": [
    "tb_name = \"silver.supermarket_sales\"\n",
    "target_location = \"dbfs:/delta/silver/supermarket_sales\""
   ]
  },
  {
   "cell_type": "markdown",
   "metadata": {
    "application/vnd.databricks.v1+cell": {
     "cellMetadata": {
      "byteLimit": 2048000,
      "rowLimit": 10000
     },
     "inputWidgets": {},
     "nuid": "4de19ac2-b05a-45e2-9760-61eecc128e9a",
     "showTitle": false,
     "title": ""
    }
   },
   "source": [
    "## 1 - Data ingestion"
   ]
  },
  {
   "cell_type": "code",
   "execution_count": 0,
   "metadata": {
    "application/vnd.databricks.v1+cell": {
     "cellMetadata": {
      "byteLimit": 2048000,
      "rowLimit": 10000
     },
     "inputWidgets": {},
     "nuid": "1418c6ea-6e08-4bfc-bf2e-1e37b716e49c",
     "showTitle": false,
     "title": ""
    }
   },
   "outputs": [],
   "source": [
    "df = spark.read.table(\"bronze.supermarket_sales\") # leituira da delta table"
   ]
  },
  {
   "cell_type": "code",
   "execution_count": 0,
   "metadata": {
    "application/vnd.databricks.v1+cell": {
     "cellMetadata": {
      "byteLimit": 2048000,
      "rowLimit": 10000
     },
     "inputWidgets": {},
     "nuid": "ee2bec15-ea71-4efa-832b-64bb70450e8a",
     "showTitle": false,
     "title": ""
    }
   },
   "outputs": [
    {
     "output_type": "stream",
     "name": "stdout",
     "output_type": "stream",
     "text": [
      "root\n |-- invoice_id: string (nullable = true)\n |-- branch: string (nullable = true)\n |-- city: string (nullable = true)\n |-- customer_type: string (nullable = true)\n |-- gender: string (nullable = true)\n |-- product_line: string (nullable = true)\n |-- unit_price: double (nullable = true)\n |-- quantity: integer (nullable = true)\n |-- tax_5: double (nullable = true)\n |-- total: double (nullable = true)\n |-- date: date (nullable = true)\n |-- time: timestamp (nullable = true)\n |-- payment: string (nullable = true)\n |-- cogs: double (nullable = true)\n |-- gross_margin_percentage: double (nullable = true)\n |-- gross_income: double (nullable = true)\n |-- rating: double (nullable = true)\n\n"
     ]
    }
   ],
   "source": [
    "df.printSchema()"
   ]
  },
  {
   "cell_type": "code",
   "execution_count": 0,
   "metadata": {
    "application/vnd.databricks.v1+cell": {
     "cellMetadata": {
      "byteLimit": 2048000,
      "rowLimit": 10000
     },
     "inputWidgets": {},
     "nuid": "5250c8b5-39f9-43c4-a427-6d0e5706f6ca",
     "showTitle": false,
     "title": ""
    }
   },
   "outputs": [
    {
     "output_type": "display_data",
     "data": {
      "text/html": [
       "<style scoped>\n",
       "  .table-result-container {\n",
       "    max-height: 300px;\n",
       "    overflow: auto;\n",
       "  }\n",
       "  table, th, td {\n",
       "    border: 1px solid black;\n",
       "    border-collapse: collapse;\n",
       "  }\n",
       "  th, td {\n",
       "    padding: 5px;\n",
       "  }\n",
       "  th {\n",
       "    text-align: left;\n",
       "  }\n",
       "</style><div class='table-result-container'><table class='table-result'><thead style='background-color: white'><tr><th>invoice_id</th><th>branch</th><th>city</th><th>customer_type</th><th>gender</th><th>product_line</th><th>unit_price</th><th>quantity</th><th>tax_5</th><th>total</th><th>date</th><th>time</th><th>payment</th><th>cogs</th><th>gross_margin_percentage</th><th>gross_income</th><th>rating</th></tr></thead><tbody><tr><td>750-67-8428</td><td>A</td><td>Yangon</td><td>Member</td><td>Female</td><td>Health and beauty</td><td>74.69</td><td>7</td><td>26.1415</td><td>548.9715</td><td>2019-01-05</td><td>2024-05-13T13:08:00Z</td><td>Ewallet</td><td>522.83</td><td>4.761904762</td><td>26.1415</td><td>9.1</td></tr><tr><td>226-31-3081</td><td>C</td><td>Naypyitaw</td><td>Normal</td><td>Female</td><td>Electronic accessories</td><td>15.28</td><td>5</td><td>3.82</td><td>80.22</td><td>2019-03-08</td><td>2024-05-13T10:29:00Z</td><td>Cash</td><td>76.4</td><td>4.761904762</td><td>3.82</td><td>9.6</td></tr><tr><td>631-41-3108</td><td>A</td><td>Yangon</td><td>Normal</td><td>Male</td><td>Home and lifestyle</td><td>46.33</td><td>7</td><td>16.2155</td><td>340.5255</td><td>2019-03-03</td><td>2024-05-13T13:23:00Z</td><td>Credit card</td><td>324.31</td><td>4.761904762</td><td>16.2155</td><td>7.4</td></tr><tr><td>123-19-1176</td><td>A</td><td>Yangon</td><td>Member</td><td>Male</td><td>Health and beauty</td><td>58.22</td><td>8</td><td>23.288</td><td>489.048</td><td>2019-01-27</td><td>2024-05-13T20:33:00Z</td><td>Ewallet</td><td>465.76</td><td>4.761904762</td><td>23.288</td><td>8.4</td></tr><tr><td>373-73-7910</td><td>A</td><td>Yangon</td><td>Normal</td><td>Male</td><td>Sports and travel</td><td>86.31</td><td>7</td><td>30.2085</td><td>634.3785</td><td>2019-02-08</td><td>2024-05-13T10:37:00Z</td><td>Ewallet</td><td>604.17</td><td>4.761904762</td><td>30.2085</td><td>5.3</td></tr><tr><td>699-14-3026</td><td>C</td><td>Naypyitaw</td><td>Normal</td><td>Male</td><td>Electronic accessories</td><td>85.39</td><td>7</td><td>29.8865</td><td>627.6165</td><td>2019-03-25</td><td>2024-05-13T18:30:00Z</td><td>Ewallet</td><td>597.73</td><td>4.761904762</td><td>29.8865</td><td>4.1</td></tr><tr><td>355-53-5943</td><td>A</td><td>Yangon</td><td>Member</td><td>Female</td><td>Electronic accessories</td><td>68.84</td><td>6</td><td>20.652</td><td>433.692</td><td>2019-02-25</td><td>2024-05-13T14:36:00Z</td><td>Ewallet</td><td>413.04</td><td>4.761904762</td><td>20.652</td><td>5.8</td></tr><tr><td>315-22-5665</td><td>C</td><td>Naypyitaw</td><td>Normal</td><td>Female</td><td>Home and lifestyle</td><td>73.56</td><td>10</td><td>36.78</td><td>772.38</td><td>2019-02-24</td><td>2024-05-13T11:38:00Z</td><td>Ewallet</td><td>735.6</td><td>4.761904762</td><td>36.78</td><td>8.0</td></tr><tr><td>665-32-9167</td><td>A</td><td>Yangon</td><td>Member</td><td>Female</td><td>Health and beauty</td><td>36.26</td><td>2</td><td>3.626</td><td>76.146</td><td>2019-01-10</td><td>2024-05-13T17:15:00Z</td><td>Credit card</td><td>72.52</td><td>4.761904762</td><td>3.626</td><td>7.2</td></tr><tr><td>692-92-5582</td><td>B</td><td>Mandalay</td><td>Member</td><td>Female</td><td>Food and beverages</td><td>54.84</td><td>3</td><td>8.226</td><td>172.746</td><td>2019-02-20</td><td>2024-05-13T13:27:00Z</td><td>Credit card</td><td>164.52</td><td>4.761904762</td><td>8.226</td><td>5.9</td></tr></tbody></table></div>"
      ]
     },
     "metadata": {
      "application/vnd.databricks.v1+output": {
       "addedWidgets": {},
       "aggData": [],
       "aggError": "",
       "aggOverflow": false,
       "aggSchema": [],
       "aggSeriesLimitReached": false,
       "aggType": "",
       "arguments": {},
       "columnCustomDisplayInfos": {},
       "data": [
        [
         "750-67-8428",
         "A",
         "Yangon",
         "Member",
         "Female",
         "Health and beauty",
         74.69,
         7,
         26.1415,
         548.9715,
         "2019-01-05",
         "2024-05-13T13:08:00Z",
         "Ewallet",
         522.83,
         4.761904762,
         26.1415,
         9.1
        ],
        [
         "226-31-3081",
         "C",
         "Naypyitaw",
         "Normal",
         "Female",
         "Electronic accessories",
         15.28,
         5,
         3.82,
         80.22,
         "2019-03-08",
         "2024-05-13T10:29:00Z",
         "Cash",
         76.4,
         4.761904762,
         3.82,
         9.6
        ],
        [
         "631-41-3108",
         "A",
         "Yangon",
         "Normal",
         "Male",
         "Home and lifestyle",
         46.33,
         7,
         16.2155,
         340.5255,
         "2019-03-03",
         "2024-05-13T13:23:00Z",
         "Credit card",
         324.31,
         4.761904762,
         16.2155,
         7.4
        ],
        [
         "123-19-1176",
         "A",
         "Yangon",
         "Member",
         "Male",
         "Health and beauty",
         58.22,
         8,
         23.288,
         489.048,
         "2019-01-27",
         "2024-05-13T20:33:00Z",
         "Ewallet",
         465.76,
         4.761904762,
         23.288,
         8.4
        ],
        [
         "373-73-7910",
         "A",
         "Yangon",
         "Normal",
         "Male",
         "Sports and travel",
         86.31,
         7,
         30.2085,
         634.3785,
         "2019-02-08",
         "2024-05-13T10:37:00Z",
         "Ewallet",
         604.17,
         4.761904762,
         30.2085,
         5.3
        ],
        [
         "699-14-3026",
         "C",
         "Naypyitaw",
         "Normal",
         "Male",
         "Electronic accessories",
         85.39,
         7,
         29.8865,
         627.6165,
         "2019-03-25",
         "2024-05-13T18:30:00Z",
         "Ewallet",
         597.73,
         4.761904762,
         29.8865,
         4.1
        ],
        [
         "355-53-5943",
         "A",
         "Yangon",
         "Member",
         "Female",
         "Electronic accessories",
         68.84,
         6,
         20.652,
         433.692,
         "2019-02-25",
         "2024-05-13T14:36:00Z",
         "Ewallet",
         413.04,
         4.761904762,
         20.652,
         5.8
        ],
        [
         "315-22-5665",
         "C",
         "Naypyitaw",
         "Normal",
         "Female",
         "Home and lifestyle",
         73.56,
         10,
         36.78,
         772.38,
         "2019-02-24",
         "2024-05-13T11:38:00Z",
         "Ewallet",
         735.6,
         4.761904762,
         36.78,
         8.0
        ],
        [
         "665-32-9167",
         "A",
         "Yangon",
         "Member",
         "Female",
         "Health and beauty",
         36.26,
         2,
         3.626,
         76.146,
         "2019-01-10",
         "2024-05-13T17:15:00Z",
         "Credit card",
         72.52,
         4.761904762,
         3.626,
         7.2
        ],
        [
         "692-92-5582",
         "B",
         "Mandalay",
         "Member",
         "Female",
         "Food and beverages",
         54.84,
         3,
         8.226,
         172.746,
         "2019-02-20",
         "2024-05-13T13:27:00Z",
         "Credit card",
         164.52,
         4.761904762,
         8.226,
         5.9
        ]
       ],
       "datasetInfos": [],
       "dbfsResultPath": null,
       "isJsonSchema": true,
       "metadata": {},
       "overflow": false,
       "plotOptions": {
        "customPlotOptions": {},
        "displayType": "table",
        "pivotAggregation": null,
        "pivotColumns": null,
        "xColumns": null,
        "yColumns": null
       },
       "removedWidgets": [],
       "schema": [
        {
         "metadata": "{}",
         "name": "invoice_id",
         "type": "\"string\""
        },
        {
         "metadata": "{}",
         "name": "branch",
         "type": "\"string\""
        },
        {
         "metadata": "{}",
         "name": "city",
         "type": "\"string\""
        },
        {
         "metadata": "{}",
         "name": "customer_type",
         "type": "\"string\""
        },
        {
         "metadata": "{}",
         "name": "gender",
         "type": "\"string\""
        },
        {
         "metadata": "{}",
         "name": "product_line",
         "type": "\"string\""
        },
        {
         "metadata": "{}",
         "name": "unit_price",
         "type": "\"double\""
        },
        {
         "metadata": "{}",
         "name": "quantity",
         "type": "\"long\""
        },
        {
         "metadata": "{}",
         "name": "tax_5",
         "type": "\"double\""
        },
        {
         "metadata": "{}",
         "name": "total",
         "type": "\"double\""
        },
        {
         "metadata": "{}",
         "name": "date",
         "type": "\"date\""
        },
        {
         "metadata": "{}",
         "name": "time",
         "type": "\"timestamp\""
        },
        {
         "metadata": "{}",
         "name": "payment",
         "type": "\"string\""
        },
        {
         "metadata": "{}",
         "name": "cogs",
         "type": "\"double\""
        },
        {
         "metadata": "{}",
         "name": "gross_margin_percentage",
         "type": "\"double\""
        },
        {
         "metadata": "{}",
         "name": "gross_income",
         "type": "\"double\""
        },
        {
         "metadata": "{}",
         "name": "rating",
         "type": "\"double\""
        }
       ],
       "type": "table"
      }
     },
     "output_type": "display_data"
    }
   ],
   "source": [
    "display(df.take(10))"
   ]
  },
  {
   "cell_type": "markdown",
   "metadata": {
    "application/vnd.databricks.v1+cell": {
     "cellMetadata": {
      "byteLimit": 2048000,
      "rowLimit": 10000
     },
     "inputWidgets": {},
     "nuid": "9f152a10-12a2-47db-aa11-7fdb4499f64b",
     "showTitle": false,
     "title": ""
    }
   },
   "source": [
    "\n",
    "## 2 - Data Munging\n",
    "\n",
    "Processo de limpeza e normalizações necessárias\n",
    "\n",
    "Como esses dados já são bem tratados, vamos apenas corrigir o campo \"time\" para conter a data e verificar a possibilidade de criação de algum outro campo (como campo timestamp ao unir date e time)"
   ]
  },
  {
   "cell_type": "markdown",
   "metadata": {
    "application/vnd.databricks.v1+cell": {
     "cellMetadata": {
      "byteLimit": 2048000,
      "rowLimit": 10000
     },
     "inputWidgets": {},
     "nuid": "ba12075d-494b-43f9-9947-aaf8e2864c1f",
     "showTitle": false,
     "title": ""
    }
   },
   "source": [
    "\n",
    "### timestamp da venda\n",
    "\n",
    "Juntar a data/hora do campo \"time\" e unir com o campo \"date\""
   ]
  },
  {
   "cell_type": "code",
   "execution_count": 0,
   "metadata": {
    "application/vnd.databricks.v1+cell": {
     "cellMetadata": {
      "byteLimit": 2048000,
      "rowLimit": 10000
     },
     "inputWidgets": {},
     "nuid": "59f4d466-e9e3-40ad-abef-d80bb61a1aec",
     "showTitle": false,
     "title": ""
    }
   },
   "outputs": [],
   "source": [
    "\n",
    "# Extrair a hora, minutos e segundos\n",
    "df = df.withColumns({\"hora\": hour(col(\"time\")), \n",
    "                     \"minuto\": minute(col(\"time\")),\n",
    "                     \"segundo\": second(col(\"time\"))}) # withColumns eu nao costumo usar, mas vi no linkedin e vim testar rs\n",
    "\n",
    "# concatenação da data com a hora, minutos e segundos, além dos literais T, : e Z para formar string de timestamp\n",
    "df = df.withColumn(\"sale_time\", \n",
    "                   concat(\n",
    "                       col(\"date\").cast(StringType()), lit(\"T\"),\n",
    "                       col(\"hora\").cast(StringType()), lit(\":\"),\n",
    "                       col(\"minuto\").cast(StringType()), lit(\":\"),\n",
    "                       col(\"segundo\").cast(StringType()), lit(\"Z\")\n",
    "                   ).cast(\"timestamp\")) # cast para timestamp\n",
    "\n",
    "# drop de campos intermediarios\n",
    "df = df.drop(\"time\",\"hora\", \"minuto\", \"segundo\")"
   ]
  },
  {
   "cell_type": "markdown",
   "metadata": {
    "application/vnd.databricks.v1+cell": {
     "cellMetadata": {
      "byteLimit": 2048000,
      "rowLimit": 10000
     },
     "inputWidgets": {},
     "nuid": "635d498e-3761-4311-afd2-a3f2b0ecb039",
     "showTitle": false,
     "title": ""
    }
   },
   "source": [
    "\n",
    "### mes/ano da venda\n",
    "\n",
    "Campo desse tipo ajuda para calcular vendas mensais"
   ]
  },
  {
   "cell_type": "code",
   "execution_count": 0,
   "metadata": {
    "application/vnd.databricks.v1+cell": {
     "cellMetadata": {
      "byteLimit": 2048000,
      "rowLimit": 10000
     },
     "inputWidgets": {},
     "nuid": "e3f9fff4-fa22-465e-a5be-340aaf73a721",
     "showTitle": false,
     "title": ""
    }
   },
   "outputs": [],
   "source": [
    "df = df.withColumn(\"month_year\", date_format(\"date\", \"MM-yyy\"))"
   ]
  },
  {
   "cell_type": "markdown",
   "metadata": {
    "application/vnd.databricks.v1+cell": {
     "cellMetadata": {
      "byteLimit": 2048000,
      "rowLimit": 10000
     },
     "inputWidgets": {},
     "nuid": "9312b86f-231e-461c-9a21-6d76bbbaea47",
     "showTitle": false,
     "title": ""
    }
   },
   "source": [
    "\n",
    "### taxa por unidade\n",
    "\n",
    "um campo apenas para manipulação de dados,\n",
    "mas será apenas o total de taxa (5%) divididos pela quantidade vendida. tendo assim a taxa unitaria"
   ]
  },
  {
   "cell_type": "code",
   "execution_count": 0,
   "metadata": {
    "application/vnd.databricks.v1+cell": {
     "cellMetadata": {
      "byteLimit": 2048000,
      "rowLimit": 10000
     },
     "inputWidgets": {},
     "nuid": "b7ff6159-9029-49dc-bd0a-a056db6ff19a",
     "showTitle": false,
     "title": ""
    }
   },
   "outputs": [],
   "source": [
    "df = df.withColumn(\"total_tax_unity\", col(\"tax_5\")/col(\"quantity\"))"
   ]
  },
  {
   "cell_type": "markdown",
   "metadata": {
    "application/vnd.databricks.v1+cell": {
     "cellMetadata": {
      "byteLimit": 2048000,
      "rowLimit": 10000
     },
     "inputWidgets": {},
     "nuid": "ed7de05a-8871-4f76-acb5-5395d2c17e12",
     "showTitle": false,
     "title": ""
    }
   },
   "source": [
    "### Dia da semana (numero e descrição)"
   ]
  },
  {
   "cell_type": "code",
   "execution_count": 0,
   "metadata": {
    "application/vnd.databricks.v1+cell": {
     "cellMetadata": {
      "byteLimit": 2048000,
      "rowLimit": 10000
     },
     "inputWidgets": {},
     "nuid": "c02b3abd-8b03-4c98-b088-11f71892d730",
     "showTitle": false,
     "title": ""
    }
   },
   "outputs": [],
   "source": [
    "df = df.withColumn(\"number_day_of_week\", dayofweek(col(\"date\")))\n",
    "\n",
    "# Traduzir os números do dia da semana para o português\n",
    "df = df.withColumn(\n",
    "    \"day_of_week\",\n",
    "    when(df[\"number_day_of_week\"] == 1, \"Domingo\")\n",
    "    .when(df[\"number_day_of_week\"] == 2, \"Segunda-feira\")\n",
    "    .when(df[\"number_day_of_week\"] == 3, \"Terça-feira\")\n",
    "    .when(df[\"number_day_of_week\"] == 4, \"Quarta-feira\")\n",
    "    .when(df[\"number_day_of_week\"] == 5, \"Quinta-feira\")\n",
    "    .when(df[\"number_day_of_week\"] == 6, \"Sexta-feira\")\n",
    "    .when(df[\"number_day_of_week\"] == 7, \"Sábado\"),\n",
    ")"
   ]
  },
  {
   "cell_type": "markdown",
   "metadata": {
    "application/vnd.databricks.v1+cell": {
     "cellMetadata": {
      "byteLimit": 2048000,
      "rowLimit": 10000
     },
     "inputWidgets": {},
     "nuid": "39c6c41d-2d0a-42cf-912d-f1cb6f9b2531",
     "showTitle": false,
     "title": ""
    }
   },
   "source": [
    "\n",
    "### weekend?\n",
    "\n",
    "criar um campo para informar se a data é um fim de semana (não faz muito sentido, mas vamos supor que foi uma regra de negócio)"
   ]
  },
  {
   "cell_type": "code",
   "execution_count": 0,
   "metadata": {
    "application/vnd.databricks.v1+cell": {
     "cellMetadata": {
      "byteLimit": 2048000,
      "rowLimit": 10000
     },
     "inputWidgets": {},
     "nuid": "d6ae1b6b-7359-4c3d-82cd-32c9cbf21e01",
     "showTitle": false,
     "title": ""
    }
   },
   "outputs": [],
   "source": [
    "df = df.withColumn(\n",
    "    \"weekend\",\n",
    "    when(col(\"day_of_week\").isin([\"Sábado\", \"Domingo\"]), True).otherwise(False),\n",
    ")"
   ]
  },
  {
   "cell_type": "code",
   "execution_count": 0,
   "metadata": {
    "application/vnd.databricks.v1+cell": {
     "cellMetadata": {
      "byteLimit": 2048000,
      "rowLimit": 10000
     },
     "inputWidgets": {},
     "nuid": "e83c8774-b0d8-4d2d-8d50-5438a1aa4280",
     "showTitle": false,
     "title": ""
    }
   },
   "outputs": [
    {
     "output_type": "display_data",
     "data": {
      "text/html": [
       "<style scoped>\n",
       "  .table-result-container {\n",
       "    max-height: 300px;\n",
       "    overflow: auto;\n",
       "  }\n",
       "  table, th, td {\n",
       "    border: 1px solid black;\n",
       "    border-collapse: collapse;\n",
       "  }\n",
       "  th, td {\n",
       "    padding: 5px;\n",
       "  }\n",
       "  th {\n",
       "    text-align: left;\n",
       "  }\n",
       "</style><div class='table-result-container'><table class='table-result'><thead style='background-color: white'><tr><th>invoice_id</th><th>branch</th><th>city</th><th>customer_type</th><th>gender</th><th>product_line</th><th>unit_price</th><th>quantity</th><th>tax_5</th><th>total</th><th>date</th><th>payment</th><th>cogs</th><th>gross_margin_percentage</th><th>gross_income</th><th>rating</th><th>sale_time</th><th>month_year</th><th>total_tax_unity</th><th>number_day_of_week</th><th>day_of_week</th><th>weekend</th></tr></thead><tbody><tr><td>750-67-8428</td><td>A</td><td>Yangon</td><td>Member</td><td>Female</td><td>Health and beauty</td><td>74.69</td><td>7</td><td>26.1415</td><td>548.9715</td><td>2019-01-05</td><td>Ewallet</td><td>522.83</td><td>4.761904762</td><td>26.1415</td><td>9.1</td><td>2019-01-05T13:08:00Z</td><td>01-2019</td><td>3.7345</td><td>7</td><td>Sábado</td><td>true</td></tr><tr><td>226-31-3081</td><td>C</td><td>Naypyitaw</td><td>Normal</td><td>Female</td><td>Electronic accessories</td><td>15.28</td><td>5</td><td>3.82</td><td>80.22</td><td>2019-03-08</td><td>Cash</td><td>76.4</td><td>4.761904762</td><td>3.82</td><td>9.6</td><td>2019-03-08T10:29:00Z</td><td>03-2019</td><td>0.764</td><td>6</td><td>Sexta-feira</td><td>false</td></tr><tr><td>631-41-3108</td><td>A</td><td>Yangon</td><td>Normal</td><td>Male</td><td>Home and lifestyle</td><td>46.33</td><td>7</td><td>16.2155</td><td>340.5255</td><td>2019-03-03</td><td>Credit card</td><td>324.31</td><td>4.761904762</td><td>16.2155</td><td>7.4</td><td>2019-03-03T13:23:00Z</td><td>03-2019</td><td>2.3165</td><td>1</td><td>Domingo</td><td>true</td></tr><tr><td>123-19-1176</td><td>A</td><td>Yangon</td><td>Member</td><td>Male</td><td>Health and beauty</td><td>58.22</td><td>8</td><td>23.288</td><td>489.048</td><td>2019-01-27</td><td>Ewallet</td><td>465.76</td><td>4.761904762</td><td>23.288</td><td>8.4</td><td>2019-01-27T20:33:00Z</td><td>01-2019</td><td>2.911</td><td>1</td><td>Domingo</td><td>true</td></tr><tr><td>373-73-7910</td><td>A</td><td>Yangon</td><td>Normal</td><td>Male</td><td>Sports and travel</td><td>86.31</td><td>7</td><td>30.2085</td><td>634.3785</td><td>2019-02-08</td><td>Ewallet</td><td>604.17</td><td>4.761904762</td><td>30.2085</td><td>5.3</td><td>2019-02-08T10:37:00Z</td><td>02-2019</td><td>4.3155</td><td>6</td><td>Sexta-feira</td><td>false</td></tr><tr><td>699-14-3026</td><td>C</td><td>Naypyitaw</td><td>Normal</td><td>Male</td><td>Electronic accessories</td><td>85.39</td><td>7</td><td>29.8865</td><td>627.6165</td><td>2019-03-25</td><td>Ewallet</td><td>597.73</td><td>4.761904762</td><td>29.8865</td><td>4.1</td><td>2019-03-25T18:30:00Z</td><td>03-2019</td><td>4.2695</td><td>2</td><td>Segunda-feira</td><td>false</td></tr><tr><td>355-53-5943</td><td>A</td><td>Yangon</td><td>Member</td><td>Female</td><td>Electronic accessories</td><td>68.84</td><td>6</td><td>20.652</td><td>433.692</td><td>2019-02-25</td><td>Ewallet</td><td>413.04</td><td>4.761904762</td><td>20.652</td><td>5.8</td><td>2019-02-25T14:36:00Z</td><td>02-2019</td><td>3.442</td><td>2</td><td>Segunda-feira</td><td>false</td></tr><tr><td>315-22-5665</td><td>C</td><td>Naypyitaw</td><td>Normal</td><td>Female</td><td>Home and lifestyle</td><td>73.56</td><td>10</td><td>36.78</td><td>772.38</td><td>2019-02-24</td><td>Ewallet</td><td>735.6</td><td>4.761904762</td><td>36.78</td><td>8.0</td><td>2019-02-24T11:38:00Z</td><td>02-2019</td><td>3.678</td><td>1</td><td>Domingo</td><td>true</td></tr><tr><td>665-32-9167</td><td>A</td><td>Yangon</td><td>Member</td><td>Female</td><td>Health and beauty</td><td>36.26</td><td>2</td><td>3.626</td><td>76.146</td><td>2019-01-10</td><td>Credit card</td><td>72.52</td><td>4.761904762</td><td>3.626</td><td>7.2</td><td>2019-01-10T17:15:00Z</td><td>01-2019</td><td>1.813</td><td>5</td><td>Quinta-feira</td><td>false</td></tr><tr><td>692-92-5582</td><td>B</td><td>Mandalay</td><td>Member</td><td>Female</td><td>Food and beverages</td><td>54.84</td><td>3</td><td>8.226</td><td>172.746</td><td>2019-02-20</td><td>Credit card</td><td>164.52</td><td>4.761904762</td><td>8.226</td><td>5.9</td><td>2019-02-20T13:27:00Z</td><td>02-2019</td><td>2.7420000000000004</td><td>4</td><td>Quarta-feira</td><td>false</td></tr></tbody></table></div>"
      ]
     },
     "metadata": {
      "application/vnd.databricks.v1+output": {
       "addedWidgets": {},
       "aggData": [],
       "aggError": "",
       "aggOverflow": false,
       "aggSchema": [],
       "aggSeriesLimitReached": false,
       "aggType": "",
       "arguments": {},
       "columnCustomDisplayInfos": {},
       "data": [
        [
         "750-67-8428",
         "A",
         "Yangon",
         "Member",
         "Female",
         "Health and beauty",
         74.69,
         7,
         26.1415,
         548.9715,
         "2019-01-05",
         "Ewallet",
         522.83,
         4.761904762,
         26.1415,
         9.1,
         "2019-01-05T13:08:00Z",
         "01-2019",
         3.7345,
         7,
         "Sábado",
         true
        ],
        [
         "226-31-3081",
         "C",
         "Naypyitaw",
         "Normal",
         "Female",
         "Electronic accessories",
         15.28,
         5,
         3.82,
         80.22,
         "2019-03-08",
         "Cash",
         76.4,
         4.761904762,
         3.82,
         9.6,
         "2019-03-08T10:29:00Z",
         "03-2019",
         0.764,
         6,
         "Sexta-feira",
         false
        ],
        [
         "631-41-3108",
         "A",
         "Yangon",
         "Normal",
         "Male",
         "Home and lifestyle",
         46.33,
         7,
         16.2155,
         340.5255,
         "2019-03-03",
         "Credit card",
         324.31,
         4.761904762,
         16.2155,
         7.4,
         "2019-03-03T13:23:00Z",
         "03-2019",
         2.3165,
         1,
         "Domingo",
         true
        ],
        [
         "123-19-1176",
         "A",
         "Yangon",
         "Member",
         "Male",
         "Health and beauty",
         58.22,
         8,
         23.288,
         489.048,
         "2019-01-27",
         "Ewallet",
         465.76,
         4.761904762,
         23.288,
         8.4,
         "2019-01-27T20:33:00Z",
         "01-2019",
         2.911,
         1,
         "Domingo",
         true
        ],
        [
         "373-73-7910",
         "A",
         "Yangon",
         "Normal",
         "Male",
         "Sports and travel",
         86.31,
         7,
         30.2085,
         634.3785,
         "2019-02-08",
         "Ewallet",
         604.17,
         4.761904762,
         30.2085,
         5.3,
         "2019-02-08T10:37:00Z",
         "02-2019",
         4.3155,
         6,
         "Sexta-feira",
         false
        ],
        [
         "699-14-3026",
         "C",
         "Naypyitaw",
         "Normal",
         "Male",
         "Electronic accessories",
         85.39,
         7,
         29.8865,
         627.6165,
         "2019-03-25",
         "Ewallet",
         597.73,
         4.761904762,
         29.8865,
         4.1,
         "2019-03-25T18:30:00Z",
         "03-2019",
         4.2695,
         2,
         "Segunda-feira",
         false
        ],
        [
         "355-53-5943",
         "A",
         "Yangon",
         "Member",
         "Female",
         "Electronic accessories",
         68.84,
         6,
         20.652,
         433.692,
         "2019-02-25",
         "Ewallet",
         413.04,
         4.761904762,
         20.652,
         5.8,
         "2019-02-25T14:36:00Z",
         "02-2019",
         3.442,
         2,
         "Segunda-feira",
         false
        ],
        [
         "315-22-5665",
         "C",
         "Naypyitaw",
         "Normal",
         "Female",
         "Home and lifestyle",
         73.56,
         10,
         36.78,
         772.38,
         "2019-02-24",
         "Ewallet",
         735.6,
         4.761904762,
         36.78,
         8.0,
         "2019-02-24T11:38:00Z",
         "02-2019",
         3.678,
         1,
         "Domingo",
         true
        ],
        [
         "665-32-9167",
         "A",
         "Yangon",
         "Member",
         "Female",
         "Health and beauty",
         36.26,
         2,
         3.626,
         76.146,
         "2019-01-10",
         "Credit card",
         72.52,
         4.761904762,
         3.626,
         7.2,
         "2019-01-10T17:15:00Z",
         "01-2019",
         1.813,
         5,
         "Quinta-feira",
         false
        ],
        [
         "692-92-5582",
         "B",
         "Mandalay",
         "Member",
         "Female",
         "Food and beverages",
         54.84,
         3,
         8.226,
         172.746,
         "2019-02-20",
         "Credit card",
         164.52,
         4.761904762,
         8.226,
         5.9,
         "2019-02-20T13:27:00Z",
         "02-2019",
         2.7420000000000004,
         4,
         "Quarta-feira",
         false
        ]
       ],
       "datasetInfos": [],
       "dbfsResultPath": null,
       "isJsonSchema": true,
       "metadata": {},
       "overflow": false,
       "plotOptions": {
        "customPlotOptions": {},
        "displayType": "table",
        "pivotAggregation": null,
        "pivotColumns": null,
        "xColumns": null,
        "yColumns": null
       },
       "removedWidgets": [],
       "schema": [
        {
         "metadata": "{}",
         "name": "invoice_id",
         "type": "\"string\""
        },
        {
         "metadata": "{}",
         "name": "branch",
         "type": "\"string\""
        },
        {
         "metadata": "{}",
         "name": "city",
         "type": "\"string\""
        },
        {
         "metadata": "{}",
         "name": "customer_type",
         "type": "\"string\""
        },
        {
         "metadata": "{}",
         "name": "gender",
         "type": "\"string\""
        },
        {
         "metadata": "{}",
         "name": "product_line",
         "type": "\"string\""
        },
        {
         "metadata": "{}",
         "name": "unit_price",
         "type": "\"double\""
        },
        {
         "metadata": "{}",
         "name": "quantity",
         "type": "\"long\""
        },
        {
         "metadata": "{}",
         "name": "tax_5",
         "type": "\"double\""
        },
        {
         "metadata": "{}",
         "name": "total",
         "type": "\"double\""
        },
        {
         "metadata": "{}",
         "name": "date",
         "type": "\"date\""
        },
        {
         "metadata": "{}",
         "name": "payment",
         "type": "\"string\""
        },
        {
         "metadata": "{}",
         "name": "cogs",
         "type": "\"double\""
        },
        {
         "metadata": "{}",
         "name": "gross_margin_percentage",
         "type": "\"double\""
        },
        {
         "metadata": "{}",
         "name": "gross_income",
         "type": "\"double\""
        },
        {
         "metadata": "{}",
         "name": "rating",
         "type": "\"double\""
        },
        {
         "metadata": "{}",
         "name": "sale_time",
         "type": "\"timestamp\""
        },
        {
         "metadata": "{}",
         "name": "month_year",
         "type": "\"string\""
        },
        {
         "metadata": "{}",
         "name": "total_tax_unity",
         "type": "\"double\""
        },
        {
         "metadata": "{}",
         "name": "number_day_of_week",
         "type": "\"long\""
        },
        {
         "metadata": "{}",
         "name": "day_of_week",
         "type": "\"string\""
        },
        {
         "metadata": "{}",
         "name": "weekend",
         "type": "\"boolean\""
        }
       ],
       "type": "table"
      }
     },
     "output_type": "display_data"
    }
   ],
   "source": [
    "display(df.take(10))"
   ]
  },
  {
   "cell_type": "markdown",
   "metadata": {
    "application/vnd.databricks.v1+cell": {
     "cellMetadata": {
      "byteLimit": 2048000,
      "rowLimit": 10000
     },
     "inputWidgets": {},
     "nuid": "d101dbed-c734-4506-8155-971ad97bf563",
     "showTitle": false,
     "title": ""
    }
   },
   "source": [
    "\n",
    "belezura!\n",
    "\n",
    "Limpamos um cadim, enriquecemos e transformamos algumas coisas e temos nosso dataset preparado para analises (até preditiva e prescritiva -> mas aí tem que fazer um pouco mais de cleanings e etc)"
   ]
  },
  {
   "cell_type": "markdown",
   "metadata": {
    "application/vnd.databricks.v1+cell": {
     "cellMetadata": {
      "byteLimit": 2048000,
      "rowLimit": 10000
     },
     "inputWidgets": {},
     "nuid": "02ee1fa1-b1dd-4c6f-a1ce-576ab5766b90",
     "showTitle": false,
     "title": ""
    }
   },
   "source": [
    "\n",
    "## Saving data"
   ]
  },
  {
   "cell_type": "code",
   "execution_count": 0,
   "metadata": {
    "application/vnd.databricks.v1+cell": {
     "cellMetadata": {
      "byteLimit": 2048000,
      "rowLimit": 10000
     },
     "inputWidgets": {},
     "nuid": "a1430309-2c03-42fe-9961-d395c70efc7b",
     "showTitle": false,
     "title": ""
    }
   },
   "outputs": [],
   "source": [
    "tb_name = 'silver.supermarket_sales'\n",
    "target_location = '/FileStore/delta/supermarket_sales/silver'"
   ]
  },
  {
   "cell_type": "code",
   "execution_count": 0,
   "metadata": {
    "application/vnd.databricks.v1+cell": {
     "cellMetadata": {
      "byteLimit": 2048000,
      "rowLimit": 10000
     },
     "inputWidgets": {},
     "nuid": "65395fd6-b78b-46bc-9f4a-c054d9e4752a",
     "showTitle": false,
     "title": ""
    }
   },
   "outputs": [
    {
     "output_type": "stream",
     "name": "stdout",
     "output_type": "stream",
     "text": [
      "[LOG] Saving None delta on /FileStore/delta/supermarket_sales/silver... OK!\n"
     ]
    }
   ],
   "source": [
    "save_dataframe(df, \"delta\", target_location=target_location)"
   ]
  },
  {
   "cell_type": "markdown",
   "metadata": {
    "application/vnd.databricks.v1+cell": {
     "cellMetadata": {
      "byteLimit": 2048000,
      "rowLimit": 10000
     },
     "inputWidgets": {},
     "nuid": "364c0377-b808-40cb-a6c2-2dbe24acb496",
     "showTitle": false,
     "title": ""
    }
   },
   "source": [
    "\n",
    "## create delta table\n",
    "\n",
    "TODO: implementar UPSERT\n",
    "\n",
    "o upsert serve para não precisar reescrever todos os dados, mas aproveitar do Delta para fazer um MERGE, caso um registro antigo tenha uma nova versão e INSERT para os dados que são novos"
   ]
  },
  {
   "cell_type": "code",
   "execution_count": 0,
   "metadata": {
    "application/vnd.databricks.v1+cell": {
     "cellMetadata": {
      "byteLimit": 2048000,
      "rowLimit": 10000
     },
     "inputWidgets": {},
     "nuid": "aba5f321-eb15-47cf-ae6c-67b8d939313e",
     "showTitle": false,
     "title": ""
    }
   },
   "outputs": [
    {
     "output_type": "stream",
     "name": "stdout",
     "output_type": "stream",
     "text": [
      "[LOG] Creating delta table silver.supermarket_sales on /FileStore/delta/supermarket_sales/silver... OK!\n"
     ]
    }
   ],
   "source": [
    "create_table(tb_name, target_location)"
   ]
  },
  {
   "cell_type": "code",
   "execution_count": 0,
   "metadata": {
    "application/vnd.databricks.v1+cell": {
     "cellMetadata": {
      "byteLimit": 2048000,
      "rowLimit": 10000
     },
     "inputWidgets": {},
     "nuid": "06773b95-c6de-43f7-afe3-0c48342bdc05",
     "showTitle": false,
     "title": ""
    }
   },
   "outputs": [],
   "source": [
    "# exit para fechar a execução\n",
    "dbutils.notebook.exit(\"OK\")"
   ]
  },
  {
   "cell_type": "code",
   "execution_count": 0,
   "metadata": {
    "application/vnd.databricks.v1+cell": {
     "cellMetadata": {
      "byteLimit": 2048000,
      "implicitDf": true,
      "rowLimit": 10000
     },
     "inputWidgets": {},
     "nuid": "a2349d0b-2584-4629-be54-142b53a5ee54",
     "showTitle": false,
     "title": ""
    }
   },
   "outputs": [
    {
     "output_type": "display_data",
     "data": {
      "text/html": [
       "<style scoped>\n",
       "  .table-result-container {\n",
       "    max-height: 300px;\n",
       "    overflow: auto;\n",
       "  }\n",
       "  table, th, td {\n",
       "    border: 1px solid black;\n",
       "    border-collapse: collapse;\n",
       "  }\n",
       "  th, td {\n",
       "    padding: 5px;\n",
       "  }\n",
       "  th {\n",
       "    text-align: left;\n",
       "  }\n",
       "</style><div class='table-result-container'><table class='table-result'><thead style='background-color: white'><tr><th>invoice_id</th><th>branch</th><th>city</th><th>customer_type</th><th>gender</th><th>product_line</th><th>unit_price</th><th>quantity</th><th>tax_5</th><th>total</th><th>date</th><th>payment</th><th>cogs</th><th>gross_margin_percentage</th><th>gross_income</th><th>rating</th><th>sale_time</th><th>month_year</th><th>total_tax_unity</th><th>number_day_of_week</th><th>day_of_week</th><th>weekend</th></tr></thead><tbody><tr><td>750-67-8428</td><td>A</td><td>Yangon</td><td>Member</td><td>Female</td><td>Health and beauty</td><td>74.69</td><td>7</td><td>26.1415</td><td>548.9715</td><td>2019-01-05</td><td>Ewallet</td><td>522.83</td><td>4.761904762</td><td>26.1415</td><td>9.1</td><td>2019-01-05T13:08:00Z</td><td>01-2019</td><td>3.7345</td><td>7</td><td>Sábado</td><td>true</td></tr><tr><td>226-31-3081</td><td>C</td><td>Naypyitaw</td><td>Normal</td><td>Female</td><td>Electronic accessories</td><td>15.28</td><td>5</td><td>3.82</td><td>80.22</td><td>2019-03-08</td><td>Cash</td><td>76.4</td><td>4.761904762</td><td>3.82</td><td>9.6</td><td>2019-03-08T10:29:00Z</td><td>03-2019</td><td>0.764</td><td>6</td><td>Sexta-feira</td><td>false</td></tr><tr><td>631-41-3108</td><td>A</td><td>Yangon</td><td>Normal</td><td>Male</td><td>Home and lifestyle</td><td>46.33</td><td>7</td><td>16.2155</td><td>340.5255</td><td>2019-03-03</td><td>Credit card</td><td>324.31</td><td>4.761904762</td><td>16.2155</td><td>7.4</td><td>2019-03-03T13:23:00Z</td><td>03-2019</td><td>2.3165</td><td>1</td><td>Domingo</td><td>true</td></tr><tr><td>123-19-1176</td><td>A</td><td>Yangon</td><td>Member</td><td>Male</td><td>Health and beauty</td><td>58.22</td><td>8</td><td>23.288</td><td>489.048</td><td>2019-01-27</td><td>Ewallet</td><td>465.76</td><td>4.761904762</td><td>23.288</td><td>8.4</td><td>2019-01-27T20:33:00Z</td><td>01-2019</td><td>2.911</td><td>1</td><td>Domingo</td><td>true</td></tr><tr><td>373-73-7910</td><td>A</td><td>Yangon</td><td>Normal</td><td>Male</td><td>Sports and travel</td><td>86.31</td><td>7</td><td>30.2085</td><td>634.3785</td><td>2019-02-08</td><td>Ewallet</td><td>604.17</td><td>4.761904762</td><td>30.2085</td><td>5.3</td><td>2019-02-08T10:37:00Z</td><td>02-2019</td><td>4.3155</td><td>6</td><td>Sexta-feira</td><td>false</td></tr><tr><td>699-14-3026</td><td>C</td><td>Naypyitaw</td><td>Normal</td><td>Male</td><td>Electronic accessories</td><td>85.39</td><td>7</td><td>29.8865</td><td>627.6165</td><td>2019-03-25</td><td>Ewallet</td><td>597.73</td><td>4.761904762</td><td>29.8865</td><td>4.1</td><td>2019-03-25T18:30:00Z</td><td>03-2019</td><td>4.2695</td><td>2</td><td>Segunda-feira</td><td>false</td></tr><tr><td>355-53-5943</td><td>A</td><td>Yangon</td><td>Member</td><td>Female</td><td>Electronic accessories</td><td>68.84</td><td>6</td><td>20.652</td><td>433.692</td><td>2019-02-25</td><td>Ewallet</td><td>413.04</td><td>4.761904762</td><td>20.652</td><td>5.8</td><td>2019-02-25T14:36:00Z</td><td>02-2019</td><td>3.442</td><td>2</td><td>Segunda-feira</td><td>false</td></tr><tr><td>315-22-5665</td><td>C</td><td>Naypyitaw</td><td>Normal</td><td>Female</td><td>Home and lifestyle</td><td>73.56</td><td>10</td><td>36.78</td><td>772.38</td><td>2019-02-24</td><td>Ewallet</td><td>735.6</td><td>4.761904762</td><td>36.78</td><td>8.0</td><td>2019-02-24T11:38:00Z</td><td>02-2019</td><td>3.678</td><td>1</td><td>Domingo</td><td>true</td></tr><tr><td>665-32-9167</td><td>A</td><td>Yangon</td><td>Member</td><td>Female</td><td>Health and beauty</td><td>36.26</td><td>2</td><td>3.626</td><td>76.146</td><td>2019-01-10</td><td>Credit card</td><td>72.52</td><td>4.761904762</td><td>3.626</td><td>7.2</td><td>2019-01-10T17:15:00Z</td><td>01-2019</td><td>1.813</td><td>5</td><td>Quinta-feira</td><td>false</td></tr><tr><td>692-92-5582</td><td>B</td><td>Mandalay</td><td>Member</td><td>Female</td><td>Food and beverages</td><td>54.84</td><td>3</td><td>8.226</td><td>172.746</td><td>2019-02-20</td><td>Credit card</td><td>164.52</td><td>4.761904762</td><td>8.226</td><td>5.9</td><td>2019-02-20T13:27:00Z</td><td>02-2019</td><td>2.7420000000000004</td><td>4</td><td>Quarta-feira</td><td>false</td></tr></tbody></table></div>"
      ]
     },
     "metadata": {
      "application/vnd.databricks.v1+output": {
       "addedWidgets": {},
       "aggData": [],
       "aggError": "",
       "aggOverflow": false,
       "aggSchema": [],
       "aggSeriesLimitReached": false,
       "aggType": "",
       "arguments": {},
       "columnCustomDisplayInfos": {},
       "data": [
        [
         "750-67-8428",
         "A",
         "Yangon",
         "Member",
         "Female",
         "Health and beauty",
         74.69,
         7,
         26.1415,
         548.9715,
         "2019-01-05",
         "Ewallet",
         522.83,
         4.761904762,
         26.1415,
         9.1,
         "2019-01-05T13:08:00Z",
         "01-2019",
         3.7345,
         7,
         "Sábado",
         true
        ],
        [
         "226-31-3081",
         "C",
         "Naypyitaw",
         "Normal",
         "Female",
         "Electronic accessories",
         15.28,
         5,
         3.82,
         80.22,
         "2019-03-08",
         "Cash",
         76.4,
         4.761904762,
         3.82,
         9.6,
         "2019-03-08T10:29:00Z",
         "03-2019",
         0.764,
         6,
         "Sexta-feira",
         false
        ],
        [
         "631-41-3108",
         "A",
         "Yangon",
         "Normal",
         "Male",
         "Home and lifestyle",
         46.33,
         7,
         16.2155,
         340.5255,
         "2019-03-03",
         "Credit card",
         324.31,
         4.761904762,
         16.2155,
         7.4,
         "2019-03-03T13:23:00Z",
         "03-2019",
         2.3165,
         1,
         "Domingo",
         true
        ],
        [
         "123-19-1176",
         "A",
         "Yangon",
         "Member",
         "Male",
         "Health and beauty",
         58.22,
         8,
         23.288,
         489.048,
         "2019-01-27",
         "Ewallet",
         465.76,
         4.761904762,
         23.288,
         8.4,
         "2019-01-27T20:33:00Z",
         "01-2019",
         2.911,
         1,
         "Domingo",
         true
        ],
        [
         "373-73-7910",
         "A",
         "Yangon",
         "Normal",
         "Male",
         "Sports and travel",
         86.31,
         7,
         30.2085,
         634.3785,
         "2019-02-08",
         "Ewallet",
         604.17,
         4.761904762,
         30.2085,
         5.3,
         "2019-02-08T10:37:00Z",
         "02-2019",
         4.3155,
         6,
         "Sexta-feira",
         false
        ],
        [
         "699-14-3026",
         "C",
         "Naypyitaw",
         "Normal",
         "Male",
         "Electronic accessories",
         85.39,
         7,
         29.8865,
         627.6165,
         "2019-03-25",
         "Ewallet",
         597.73,
         4.761904762,
         29.8865,
         4.1,
         "2019-03-25T18:30:00Z",
         "03-2019",
         4.2695,
         2,
         "Segunda-feira",
         false
        ],
        [
         "355-53-5943",
         "A",
         "Yangon",
         "Member",
         "Female",
         "Electronic accessories",
         68.84,
         6,
         20.652,
         433.692,
         "2019-02-25",
         "Ewallet",
         413.04,
         4.761904762,
         20.652,
         5.8,
         "2019-02-25T14:36:00Z",
         "02-2019",
         3.442,
         2,
         "Segunda-feira",
         false
        ],
        [
         "315-22-5665",
         "C",
         "Naypyitaw",
         "Normal",
         "Female",
         "Home and lifestyle",
         73.56,
         10,
         36.78,
         772.38,
         "2019-02-24",
         "Ewallet",
         735.6,
         4.761904762,
         36.78,
         8.0,
         "2019-02-24T11:38:00Z",
         "02-2019",
         3.678,
         1,
         "Domingo",
         true
        ],
        [
         "665-32-9167",
         "A",
         "Yangon",
         "Member",
         "Female",
         "Health and beauty",
         36.26,
         2,
         3.626,
         76.146,
         "2019-01-10",
         "Credit card",
         72.52,
         4.761904762,
         3.626,
         7.2,
         "2019-01-10T17:15:00Z",
         "01-2019",
         1.813,
         5,
         "Quinta-feira",
         false
        ],
        [
         "692-92-5582",
         "B",
         "Mandalay",
         "Member",
         "Female",
         "Food and beverages",
         54.84,
         3,
         8.226,
         172.746,
         "2019-02-20",
         "Credit card",
         164.52,
         4.761904762,
         8.226,
         5.9,
         "2019-02-20T13:27:00Z",
         "02-2019",
         2.7420000000000004,
         4,
         "Quarta-feira",
         false
        ]
       ],
       "datasetInfos": [],
       "dbfsResultPath": null,
       "isJsonSchema": true,
       "metadata": {
        "dataframeName": "_sqldf",
        "executionCount": 34
       },
       "overflow": false,
       "plotOptions": {
        "customPlotOptions": {},
        "displayType": "table",
        "pivotAggregation": null,
        "pivotColumns": null,
        "xColumns": null,
        "yColumns": null
       },
       "removedWidgets": [],
       "schema": [
        {
         "metadata": "{}",
         "name": "invoice_id",
         "type": "\"string\""
        },
        {
         "metadata": "{}",
         "name": "branch",
         "type": "\"string\""
        },
        {
         "metadata": "{}",
         "name": "city",
         "type": "\"string\""
        },
        {
         "metadata": "{}",
         "name": "customer_type",
         "type": "\"string\""
        },
        {
         "metadata": "{}",
         "name": "gender",
         "type": "\"string\""
        },
        {
         "metadata": "{}",
         "name": "product_line",
         "type": "\"string\""
        },
        {
         "metadata": "{}",
         "name": "unit_price",
         "type": "\"double\""
        },
        {
         "metadata": "{}",
         "name": "quantity",
         "type": "\"integer\""
        },
        {
         "metadata": "{}",
         "name": "tax_5",
         "type": "\"double\""
        },
        {
         "metadata": "{}",
         "name": "total",
         "type": "\"double\""
        },
        {
         "metadata": "{\"__detected_date_formats\":\"M/d/yyyy\"}",
         "name": "date",
         "type": "\"date\""
        },
        {
         "metadata": "{}",
         "name": "payment",
         "type": "\"string\""
        },
        {
         "metadata": "{}",
         "name": "cogs",
         "type": "\"double\""
        },
        {
         "metadata": "{}",
         "name": "gross_margin_percentage",
         "type": "\"double\""
        },
        {
         "metadata": "{}",
         "name": "gross_income",
         "type": "\"double\""
        },
        {
         "metadata": "{}",
         "name": "rating",
         "type": "\"double\""
        },
        {
         "metadata": "{}",
         "name": "sale_time",
         "type": "\"timestamp\""
        },
        {
         "metadata": "{}",
         "name": "month_year",
         "type": "\"string\""
        },
        {
         "metadata": "{}",
         "name": "total_tax_unity",
         "type": "\"double\""
        },
        {
         "metadata": "{}",
         "name": "number_day_of_week",
         "type": "\"integer\""
        },
        {
         "metadata": "{}",
         "name": "day_of_week",
         "type": "\"string\""
        },
        {
         "metadata": "{}",
         "name": "weekend",
         "type": "\"boolean\""
        }
       ],
       "type": "table"
      }
     },
     "output_type": "display_data"
    }
   ],
   "source": [
    "%sql\n",
    "select\n",
    "  *\n",
    "from\n",
    "  silver.supermarket_sales\n",
    "limit\n",
    "  10"
   ]
  },
  {
   "cell_type": "code",
   "execution_count": 0,
   "metadata": {
    "application/vnd.databricks.v1+cell": {
     "cellMetadata": {
      "byteLimit": 2048000,
      "rowLimit": 10000
     },
     "inputWidgets": {},
     "nuid": "61ff1870-fa6f-478d-a799-bbeea6490638",
     "showTitle": false,
     "title": ""
    }
   },
   "outputs": [],
   "source": []
  }
 ],
 "metadata": {
  "application/vnd.databricks.v1+notebook": {
   "dashboards": [],
   "language": "python",
   "notebookMetadata": {
    "mostRecentlyExecutedCommandWithImplicitDF": {
     "commandId": 4240245637786628,
     "dataframes": [
      "_sqldf"
     ]
    },
    "pythonIndentUnit": 4
   },
   "notebookName": "silver_supermarket_sales",
   "widgets": {}
  }
 },
 "nbformat": 4,
 "nbformat_minor": 0
}
