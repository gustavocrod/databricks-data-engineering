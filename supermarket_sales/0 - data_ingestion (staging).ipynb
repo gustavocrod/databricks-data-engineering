{
 "cells": [
  {
   "cell_type": "markdown",
   "metadata": {
    "application/vnd.databricks.v1+cell": {
     "cellMetadata": {},
     "inputWidgets": {},
     "nuid": "30790e46-a603-4735-958f-fc9e247c4769",
     "showTitle": false,
     "title": ""
    }
   },
   "source": [
    "\n",
    "# 🗃️ Supermaket sales"
   ]
  },
  {
   "cell_type": "code",
   "execution_count": 0,
   "metadata": {
    "application/vnd.databricks.v1+cell": {
     "cellMetadata": {
      "byteLimit": 2048000,
      "rowLimit": 10000
     },
     "inputWidgets": {},
     "nuid": "3d9f6a0a-cc43-4ffb-b34a-12a67bd439f4",
     "showTitle": false,
     "title": ""
    }
   },
   "outputs": [
    {
     "output_type": "stream",
     "name": "stdout",
     "output_type": "stream",
     "text": [
      "\u001B[43mNote: you may need to restart the kernel using dbutils.library.restartPython() to use updated packages.\u001B[0m\nCollecting unidecode\n  Using cached Unidecode-1.3.8-py3-none-any.whl (235 kB)\nInstalling collected packages: unidecode\nSuccessfully installed unidecode-1.3.8\n\u001B[43mNote: you may need to restart the kernel using dbutils.library.restartPython() to use updated packages.\u001B[0m\n"
     ]
    }
   ],
   "source": [
    "%run ../_utils"
   ]
  },
  {
   "cell_type": "markdown",
   "metadata": {
    "application/vnd.databricks.v1+cell": {
     "cellMetadata": {},
     "inputWidgets": {},
     "nuid": "aebc1af8-3391-4d54-9c17-9a77802c21af",
     "showTitle": false,
     "title": ""
    }
   },
   "source": [
    "\n",
    "## dependency"
   ]
  },
  {
   "cell_type": "code",
   "execution_count": 0,
   "metadata": {
    "application/vnd.databricks.v1+cell": {
     "cellMetadata": {
      "byteLimit": 2048000,
      "rowLimit": 10000
     },
     "inputWidgets": {},
     "nuid": "c61fbc5d-0898-45bf-89b8-0b9127aed390",
     "showTitle": false,
     "title": ""
    }
   },
   "outputs": [
    {
     "output_type": "stream",
     "name": "stdout",
     "output_type": "stream",
     "text": [
      "\u001B[43mNote: you may need to restart the kernel using dbutils.library.restartPython() to use updated packages.\u001B[0m\nCollecting opendatasets\n  Downloading opendatasets-0.1.22-py3-none-any.whl (15 kB)\nRequirement already satisfied: click in /databricks/python3/lib/python3.10/site-packages (from opendatasets) (8.0.4)\nRequirement already satisfied: tqdm in /databricks/python3/lib/python3.10/site-packages (from opendatasets) (4.64.1)\nCollecting kaggle\n  Downloading kaggle-1.6.12.tar.gz (79 kB)\n     ━━━━━━━━━━━━━━━━━━━━━━━━━━━━━━━━━━━━━━━━ 79.7/79.7 kB 1.9 MB/s eta 0:00:00\n  Preparing metadata (setup.py): started\n  Preparing metadata (setup.py): finished with status 'done'\nRequirement already satisfied: six>=1.10 in /usr/lib/python3/dist-packages (from kaggle->opendatasets) (1.16.0)\nCollecting certifi>=2023.7.22\n  Downloading certifi-2024.2.2-py3-none-any.whl (163 kB)\n     ━━━━━━━━━━━━━━━━━━━━━━━━━━━━━━━━━━━━━━ 163.8/163.8 kB 10.8 MB/s eta 0:00:00\nRequirement already satisfied: python-dateutil in /databricks/python3/lib/python3.10/site-packages (from kaggle->opendatasets) (2.8.2)\nRequirement already satisfied: requests in /databricks/python3/lib/python3.10/site-packages (from kaggle->opendatasets) (2.28.1)\nCollecting python-slugify\n  Downloading python_slugify-8.0.4-py2.py3-none-any.whl (10 kB)\nRequirement already satisfied: urllib3 in /databricks/python3/lib/python3.10/site-packages (from kaggle->opendatasets) (1.26.14)\nRequirement already satisfied: bleach in /databricks/python3/lib/python3.10/site-packages (from kaggle->opendatasets) (4.1.0)\nRequirement already satisfied: webencodings in /databricks/python3/lib/python3.10/site-packages (from bleach->kaggle->opendatasets) (0.5.1)\nRequirement already satisfied: packaging in /databricks/python3/lib/python3.10/site-packages (from bleach->kaggle->opendatasets) (23.2)\nCollecting text-unidecode>=1.3\n  Downloading text_unidecode-1.3-py2.py3-none-any.whl (78 kB)\n     ━━━━━━━━━━━━━━━━━━━━━━━━━━━━━━━━━━━━━━━━ 78.2/78.2 kB 10.5 MB/s eta 0:00:00\nRequirement already satisfied: idna<4,>=2.5 in /databricks/python3/lib/python3.10/site-packages (from requests->kaggle->opendatasets) (3.4)\nRequirement already satisfied: charset-normalizer<3,>=2 in /databricks/python3/lib/python3.10/site-packages (from requests->kaggle->opendatasets) (2.0.4)\nBuilding wheels for collected packages: kaggle\n  Building wheel for kaggle (setup.py): started\n  Building wheel for kaggle (setup.py): finished with status 'done'\n  Created wheel for kaggle: filename=kaggle-1.6.12-py3-none-any.whl size=102975 sha256=d029fdd0a170139db179f728b986966afd5e3efac9b46ad04bd9ce9c07665ece\n  Stored in directory: /root/.cache/pip/wheels/58/88/6f/7902bde01c79e67b25087a1d62e5b4ba59a9e8bd7676c3fb07\nSuccessfully built kaggle\nInstalling collected packages: text-unidecode, python-slugify, certifi, kaggle, opendatasets\n  Attempting uninstall: certifi\n    Found existing installation: certifi 2022.12.7\n    Not uninstalling certifi at /databricks/python3/lib/python3.10/site-packages, outside environment /local_disk0/.ephemeral_nfs/envs/pythonEnv-7c9c2378-f2bb-42f3-adfc-ffe54fef615a\n    Can't uninstall 'certifi'. No files were found to uninstall.\nERROR: pip's dependency resolver does not currently take into account all the packages that are installed. This behaviour is the source of the following dependency conflicts.\ndatabricks-feature-engineering 0.2.1 requires pyspark<4,>=3.1.2, which is not installed.\nSuccessfully installed certifi-2024.2.2 kaggle-1.6.12 opendatasets-0.1.22 python-slugify-8.0.4 text-unidecode-1.3\n\u001B[43mNote: you may need to restart the kernel using dbutils.library.restartPython() to use updated packages.\u001B[0m\n"
     ]
    }
   ],
   "source": [
    "!pip install opendatasets"
   ]
  },
  {
   "cell_type": "code",
   "execution_count": 0,
   "metadata": {
    "application/vnd.databricks.v1+cell": {
     "cellMetadata": {
      "byteLimit": 2048000,
      "rowLimit": 10000
     },
     "inputWidgets": {},
     "nuid": "49e47196-c45a-4aae-aa4b-078fe649e8e5",
     "showTitle": false,
     "title": ""
    }
   },
   "outputs": [
    {
     "output_type": "execute_result",
     "data": {
      "text/plain": [
       "DataFrame[]"
      ]
     },
     "execution_count": 8,
     "metadata": {},
     "output_type": "execute_result"
    },
    {
     "output_type": "execute_result",
     "data": {
      "text/plain": [
       "DataFrame[]"
      ]
     },
     "execution_count": 9,
     "metadata": {},
     "output_type": "execute_result"
    },
    {
     "output_type": "execute_result",
     "data": {
      "text/plain": [
       "DataFrame[]"
      ]
     },
     "execution_count": 10,
     "metadata": {},
     "output_type": "execute_result"
    }
   ],
   "source": [
    "%run ../_create_database"
   ]
  },
  {
   "cell_type": "markdown",
   "metadata": {
    "application/vnd.databricks.v1+cell": {
     "cellMetadata": {},
     "inputWidgets": {},
     "nuid": "aa0dde8a-fa7a-4290-8ab4-162ff13ddfdd",
     "showTitle": false,
     "title": ""
    }
   },
   "source": [
    "\n",
    "## download dataset from kaggle\n",
    "\n",
    "O dataset escolhido foi o [Supermarket sales](https://www.kaggle.com/datasets/aungpyaeap/supermarket-sales)\n",
    "\n",
    "Como é um dataset estático, não faz sentido adicionar upsert e tampouco streaming. Mas conforme o padrão dos dados (adicional de horario de venda), na vida real poderia fazer sentido pelo menos um minibatch para ingestão dos dados"
   ]
  },
  {
   "cell_type": "code",
   "execution_count": 0,
   "metadata": {
    "application/vnd.databricks.v1+cell": {
     "cellMetadata": {
      "byteLimit": 2048000,
      "rowLimit": 10000
     },
     "inputWidgets": {},
     "nuid": "390a650d-c2e9-4167-b3b4-e07cae361f99",
     "showTitle": false,
     "title": ""
    }
   },
   "outputs": [
    {
     "output_type": "stream",
     "name": "stdout",
     "output_type": "stream",
     "text": [
      "Dataset URL: https://www.kaggle.com/datasets/aungpyaeap/supermarket-sales\nDownloading supermarket-sales.zip to /FileStore/datasets/supermarket-sales\n"
     ]
    },
    {
     "output_type": "stream",
     "name": "stderr",
     "output_type": "stream",
     "text": [
      "\r  0%|          | 0.00/35.9k [00:00<?, ?B/s]\r100%|██████████| 35.9k/35.9k [00:00<00:00, 332kB/s]\r100%|██████████| 35.9k/35.9k [00:00<00:00, 328kB/s]"
     ]
    },
    {
     "output_type": "stream",
     "name": "stdout",
     "output_type": "stream",
     "text": [
      "\n"
     ]
    },
    {
     "output_type": "stream",
     "name": "stderr",
     "output_type": "stream",
     "text": [
      "\n"
     ]
    }
   ],
   "source": [
    "import opendatasets as od\n",
    "od.download(\"https://www.kaggle.com/datasets/aungpyaeap/supermarket-sales\", data_dir=\"/FileStore/datasets/\") # foi para file:/"
   ]
  },
  {
   "cell_type": "code",
   "execution_count": 0,
   "metadata": {
    "application/vnd.databricks.v1+cell": {
     "cellMetadata": {
      "byteLimit": 2048000,
      "rowLimit": 10000
     },
     "inputWidgets": {},
     "nuid": "1792196a-d8d9-4b01-ba9c-43d9764aa62b",
     "showTitle": false,
     "title": ""
    }
   },
   "outputs": [
    {
     "output_type": "display_data",
     "data": {
      "text/html": [
       "<style scoped>\n",
       "  .table-result-container {\n",
       "    max-height: 300px;\n",
       "    overflow: auto;\n",
       "  }\n",
       "  table, th, td {\n",
       "    border: 1px solid black;\n",
       "    border-collapse: collapse;\n",
       "  }\n",
       "  th, td {\n",
       "    padding: 5px;\n",
       "  }\n",
       "  th {\n",
       "    text-align: left;\n",
       "  }\n",
       "</style><div class='table-result-container'><table class='table-result'><thead style='background-color: white'><tr><th>path</th><th>name</th><th>size</th><th>modificationTime</th></tr></thead><tbody><tr><td>file:/FileStore/datasets/supermarket-sales/supermarket_sales - Sheet1.csv</td><td>supermarket_sales - Sheet1.csv</td><td>131528</td><td>1715630237365</td></tr></tbody></table></div>"
      ]
     },
     "metadata": {
      "application/vnd.databricks.v1+output": {
       "addedWidgets": {},
       "aggData": [],
       "aggError": "",
       "aggOverflow": false,
       "aggSchema": [],
       "aggSeriesLimitReached": false,
       "aggType": "",
       "arguments": {},
       "columnCustomDisplayInfos": {},
       "data": [
        [
         "file:/FileStore/datasets/supermarket-sales/supermarket_sales - Sheet1.csv",
         "supermarket_sales - Sheet1.csv",
         131528,
         1715630237365
        ]
       ],
       "datasetInfos": [],
       "dbfsResultPath": null,
       "isJsonSchema": true,
       "metadata": {
        "isDbfsCommandResult": false
       },
       "overflow": false,
       "plotOptions": {
        "customPlotOptions": {},
        "displayType": "table",
        "pivotAggregation": null,
        "pivotColumns": null,
        "xColumns": null,
        "yColumns": null
       },
       "removedWidgets": [],
       "schema": [
        {
         "metadata": "{}",
         "name": "path",
         "type": "\"string\""
        },
        {
         "metadata": "{}",
         "name": "name",
         "type": "\"string\""
        },
        {
         "metadata": "{}",
         "name": "size",
         "type": "\"long\""
        },
        {
         "metadata": "{}",
         "name": "modificationTime",
         "type": "\"long\""
        }
       ],
       "type": "table"
      }
     },
     "output_type": "display_data"
    }
   ],
   "source": [
    "%fs ls file:/FileStore/datasets/supermarket-sales"
   ]
  },
  {
   "cell_type": "markdown",
   "metadata": {
    "application/vnd.databricks.v1+cell": {
     "cellMetadata": {},
     "inputWidgets": {},
     "nuid": "99f037aa-0d1c-47bd-937f-7653a1dccc96",
     "showTitle": false,
     "title": ""
    }
   },
   "source": [
    "\n",
    "o arquivo foi salvo em `file:/FileStore/datasets/supermarket-sales/supermarket_sales - Sheet1.csv``"
   ]
  },
  {
   "cell_type": "markdown",
   "metadata": {
    "application/vnd.databricks.v1+cell": {
     "cellMetadata": {},
     "inputWidgets": {},
     "nuid": "25c2455a-8fe6-4ce2-be1f-95c60c070754",
     "showTitle": false,
     "title": ""
    }
   },
   "source": [
    "\n",
    "## Carregando o arquivo .csv para spark dataframe\n",
    "\n",
    "aqui o .od fez eu usar o workspace files. [mais detalhes aqui](https://docs.databricks.com/en/files/index.html)"
   ]
  },
  {
   "cell_type": "code",
   "execution_count": 0,
   "metadata": {
    "application/vnd.databricks.v1+cell": {
     "cellMetadata": {
      "byteLimit": 2048000,
      "rowLimit": 10000
     },
     "inputWidgets": {},
     "nuid": "36caa19b-37c5-4b2e-b28e-923b135469b6",
     "showTitle": false,
     "title": ""
    }
   },
   "outputs": [],
   "source": [
    "df = (\n",
    "    spark.read.format(\"csv\")\n",
    "    .options(header=\"true\", inferSchema=True)\n",
    "    .load(\"file:/FileStore/datasets/supermarket-sales/supermarket_sales - Sheet1.csv\")\n",
    ")"
   ]
  },
  {
   "cell_type": "markdown",
   "metadata": {
    "application/vnd.databricks.v1+cell": {
     "cellMetadata": {},
     "inputWidgets": {},
     "nuid": "237003a8-08cf-4191-aa1a-d9d25f069185",
     "showTitle": false,
     "title": ""
    }
   },
   "source": [
    "\n",
    "## 🔎 First exploratory data analysis (descriptive)"
   ]
  },
  {
   "cell_type": "code",
   "execution_count": 0,
   "metadata": {
    "application/vnd.databricks.v1+cell": {
     "cellMetadata": {
      "byteLimit": 2048000,
      "rowLimit": 10000
     },
     "inputWidgets": {},
     "nuid": "94cae8f6-073d-4e90-9903-4d6d5573ab86",
     "showTitle": false,
     "title": ""
    }
   },
   "outputs": [
    {
     "output_type": "display_data",
     "data": {
      "text/html": [
       "<style scoped>\n",
       "  .table-result-container {\n",
       "    max-height: 300px;\n",
       "    overflow: auto;\n",
       "  }\n",
       "  table, th, td {\n",
       "    border: 1px solid black;\n",
       "    border-collapse: collapse;\n",
       "  }\n",
       "  th, td {\n",
       "    padding: 5px;\n",
       "  }\n",
       "  th {\n",
       "    text-align: left;\n",
       "  }\n",
       "</style><div class='table-result-container'><table class='table-result'><thead style='background-color: white'><tr><th>Invoice ID</th><th>Branch</th><th>City</th><th>Customer type</th><th>Gender</th><th>Product line</th><th>Unit price</th><th>Quantity</th><th>Tax 5%</th><th>Total</th><th>Date</th><th>Time</th><th>Payment</th><th>cogs</th><th>gross margin percentage</th><th>gross income</th><th>Rating</th></tr></thead><tbody><tr><td>750-67-8428</td><td>A</td><td>Yangon</td><td>Member</td><td>Female</td><td>Health and beauty</td><td>74.69</td><td>7</td><td>26.1415</td><td>548.9715</td><td>2019-01-05</td><td>2024-05-13T13:08:00Z</td><td>Ewallet</td><td>522.83</td><td>4.761904762</td><td>26.1415</td><td>9.1</td></tr><tr><td>226-31-3081</td><td>C</td><td>Naypyitaw</td><td>Normal</td><td>Female</td><td>Electronic accessories</td><td>15.28</td><td>5</td><td>3.82</td><td>80.22</td><td>2019-03-08</td><td>2024-05-13T10:29:00Z</td><td>Cash</td><td>76.4</td><td>4.761904762</td><td>3.82</td><td>9.6</td></tr><tr><td>631-41-3108</td><td>A</td><td>Yangon</td><td>Normal</td><td>Male</td><td>Home and lifestyle</td><td>46.33</td><td>7</td><td>16.2155</td><td>340.5255</td><td>2019-03-03</td><td>2024-05-13T13:23:00Z</td><td>Credit card</td><td>324.31</td><td>4.761904762</td><td>16.2155</td><td>7.4</td></tr><tr><td>123-19-1176</td><td>A</td><td>Yangon</td><td>Member</td><td>Male</td><td>Health and beauty</td><td>58.22</td><td>8</td><td>23.288</td><td>489.048</td><td>2019-01-27</td><td>2024-05-13T20:33:00Z</td><td>Ewallet</td><td>465.76</td><td>4.761904762</td><td>23.288</td><td>8.4</td></tr><tr><td>373-73-7910</td><td>A</td><td>Yangon</td><td>Normal</td><td>Male</td><td>Sports and travel</td><td>86.31</td><td>7</td><td>30.2085</td><td>634.3785</td><td>2019-02-08</td><td>2024-05-13T10:37:00Z</td><td>Ewallet</td><td>604.17</td><td>4.761904762</td><td>30.2085</td><td>5.3</td></tr><tr><td>699-14-3026</td><td>C</td><td>Naypyitaw</td><td>Normal</td><td>Male</td><td>Electronic accessories</td><td>85.39</td><td>7</td><td>29.8865</td><td>627.6165</td><td>2019-03-25</td><td>2024-05-13T18:30:00Z</td><td>Ewallet</td><td>597.73</td><td>4.761904762</td><td>29.8865</td><td>4.1</td></tr><tr><td>355-53-5943</td><td>A</td><td>Yangon</td><td>Member</td><td>Female</td><td>Electronic accessories</td><td>68.84</td><td>6</td><td>20.652</td><td>433.692</td><td>2019-02-25</td><td>2024-05-13T14:36:00Z</td><td>Ewallet</td><td>413.04</td><td>4.761904762</td><td>20.652</td><td>5.8</td></tr><tr><td>315-22-5665</td><td>C</td><td>Naypyitaw</td><td>Normal</td><td>Female</td><td>Home and lifestyle</td><td>73.56</td><td>10</td><td>36.78</td><td>772.38</td><td>2019-02-24</td><td>2024-05-13T11:38:00Z</td><td>Ewallet</td><td>735.6</td><td>4.761904762</td><td>36.78</td><td>8.0</td></tr><tr><td>665-32-9167</td><td>A</td><td>Yangon</td><td>Member</td><td>Female</td><td>Health and beauty</td><td>36.26</td><td>2</td><td>3.626</td><td>76.146</td><td>2019-01-10</td><td>2024-05-13T17:15:00Z</td><td>Credit card</td><td>72.52</td><td>4.761904762</td><td>3.626</td><td>7.2</td></tr><tr><td>692-92-5582</td><td>B</td><td>Mandalay</td><td>Member</td><td>Female</td><td>Food and beverages</td><td>54.84</td><td>3</td><td>8.226</td><td>172.746</td><td>2019-02-20</td><td>2024-05-13T13:27:00Z</td><td>Credit card</td><td>164.52</td><td>4.761904762</td><td>8.226</td><td>5.9</td></tr></tbody></table></div>"
      ]
     },
     "metadata": {
      "application/vnd.databricks.v1+output": {
       "addedWidgets": {},
       "aggData": [],
       "aggError": "",
       "aggOverflow": false,
       "aggSchema": [],
       "aggSeriesLimitReached": false,
       "aggType": "",
       "arguments": {},
       "columnCustomDisplayInfos": {},
       "data": [
        [
         "750-67-8428",
         "A",
         "Yangon",
         "Member",
         "Female",
         "Health and beauty",
         74.69,
         7,
         26.1415,
         548.9715,
         "2019-01-05",
         "2024-05-13T13:08:00Z",
         "Ewallet",
         522.83,
         4.761904762,
         26.1415,
         9.1
        ],
        [
         "226-31-3081",
         "C",
         "Naypyitaw",
         "Normal",
         "Female",
         "Electronic accessories",
         15.28,
         5,
         3.82,
         80.22,
         "2019-03-08",
         "2024-05-13T10:29:00Z",
         "Cash",
         76.4,
         4.761904762,
         3.82,
         9.6
        ],
        [
         "631-41-3108",
         "A",
         "Yangon",
         "Normal",
         "Male",
         "Home and lifestyle",
         46.33,
         7,
         16.2155,
         340.5255,
         "2019-03-03",
         "2024-05-13T13:23:00Z",
         "Credit card",
         324.31,
         4.761904762,
         16.2155,
         7.4
        ],
        [
         "123-19-1176",
         "A",
         "Yangon",
         "Member",
         "Male",
         "Health and beauty",
         58.22,
         8,
         23.288,
         489.048,
         "2019-01-27",
         "2024-05-13T20:33:00Z",
         "Ewallet",
         465.76,
         4.761904762,
         23.288,
         8.4
        ],
        [
         "373-73-7910",
         "A",
         "Yangon",
         "Normal",
         "Male",
         "Sports and travel",
         86.31,
         7,
         30.2085,
         634.3785,
         "2019-02-08",
         "2024-05-13T10:37:00Z",
         "Ewallet",
         604.17,
         4.761904762,
         30.2085,
         5.3
        ],
        [
         "699-14-3026",
         "C",
         "Naypyitaw",
         "Normal",
         "Male",
         "Electronic accessories",
         85.39,
         7,
         29.8865,
         627.6165,
         "2019-03-25",
         "2024-05-13T18:30:00Z",
         "Ewallet",
         597.73,
         4.761904762,
         29.8865,
         4.1
        ],
        [
         "355-53-5943",
         "A",
         "Yangon",
         "Member",
         "Female",
         "Electronic accessories",
         68.84,
         6,
         20.652,
         433.692,
         "2019-02-25",
         "2024-05-13T14:36:00Z",
         "Ewallet",
         413.04,
         4.761904762,
         20.652,
         5.8
        ],
        [
         "315-22-5665",
         "C",
         "Naypyitaw",
         "Normal",
         "Female",
         "Home and lifestyle",
         73.56,
         10,
         36.78,
         772.38,
         "2019-02-24",
         "2024-05-13T11:38:00Z",
         "Ewallet",
         735.6,
         4.761904762,
         36.78,
         8.0
        ],
        [
         "665-32-9167",
         "A",
         "Yangon",
         "Member",
         "Female",
         "Health and beauty",
         36.26,
         2,
         3.626,
         76.146,
         "2019-01-10",
         "2024-05-13T17:15:00Z",
         "Credit card",
         72.52,
         4.761904762,
         3.626,
         7.2
        ],
        [
         "692-92-5582",
         "B",
         "Mandalay",
         "Member",
         "Female",
         "Food and beverages",
         54.84,
         3,
         8.226,
         172.746,
         "2019-02-20",
         "2024-05-13T13:27:00Z",
         "Credit card",
         164.52,
         4.761904762,
         8.226,
         5.9
        ]
       ],
       "datasetInfos": [],
       "dbfsResultPath": null,
       "isJsonSchema": true,
       "metadata": {},
       "overflow": false,
       "plotOptions": {
        "customPlotOptions": {},
        "displayType": "table",
        "pivotAggregation": null,
        "pivotColumns": null,
        "xColumns": null,
        "yColumns": null
       },
       "removedWidgets": [],
       "schema": [
        {
         "metadata": "{}",
         "name": "Invoice ID",
         "type": "\"string\""
        },
        {
         "metadata": "{}",
         "name": "Branch",
         "type": "\"string\""
        },
        {
         "metadata": "{}",
         "name": "City",
         "type": "\"string\""
        },
        {
         "metadata": "{}",
         "name": "Customer type",
         "type": "\"string\""
        },
        {
         "metadata": "{}",
         "name": "Gender",
         "type": "\"string\""
        },
        {
         "metadata": "{}",
         "name": "Product line",
         "type": "\"string\""
        },
        {
         "metadata": "{}",
         "name": "Unit price",
         "type": "\"double\""
        },
        {
         "metadata": "{}",
         "name": "Quantity",
         "type": "\"long\""
        },
        {
         "metadata": "{}",
         "name": "Tax 5%",
         "type": "\"double\""
        },
        {
         "metadata": "{}",
         "name": "Total",
         "type": "\"double\""
        },
        {
         "metadata": "{}",
         "name": "Date",
         "type": "\"date\""
        },
        {
         "metadata": "{}",
         "name": "Time",
         "type": "\"timestamp\""
        },
        {
         "metadata": "{}",
         "name": "Payment",
         "type": "\"string\""
        },
        {
         "metadata": "{}",
         "name": "cogs",
         "type": "\"double\""
        },
        {
         "metadata": "{}",
         "name": "gross margin percentage",
         "type": "\"double\""
        },
        {
         "metadata": "{}",
         "name": "gross income",
         "type": "\"double\""
        },
        {
         "metadata": "{}",
         "name": "Rating",
         "type": "\"double\""
        }
       ],
       "type": "table"
      }
     },
     "output_type": "display_data"
    }
   ],
   "source": [
    "display(df.take(10))"
   ]
  },
  {
   "cell_type": "code",
   "execution_count": 0,
   "metadata": {
    "application/vnd.databricks.v1+cell": {
     "cellMetadata": {
      "byteLimit": 2048000,
      "rowLimit": 10000
     },
     "inputWidgets": {},
     "nuid": "d6f52af4-01ae-4e38-a7cc-bdf79bb0b642",
     "showTitle": false,
     "title": ""
    }
   },
   "outputs": [
    {
     "output_type": "stream",
     "name": "stdout",
     "output_type": "stream",
     "text": [
      "Total de linhas: 1000\n"
     ]
    }
   ],
   "source": [
    "print(f\"Total de linhas: {df.count()}\")"
   ]
  },
  {
   "cell_type": "code",
   "execution_count": 0,
   "metadata": {
    "application/vnd.databricks.v1+cell": {
     "cellMetadata": {
      "byteLimit": 2048000,
      "rowLimit": 10000
     },
     "inputWidgets": {},
     "nuid": "900acba8-fea5-4873-b537-74109c0368d1",
     "showTitle": false,
     "title": ""
    }
   },
   "outputs": [
    {
     "output_type": "stream",
     "name": "stdout",
     "output_type": "stream",
     "text": [
      "root\n |-- Invoice ID: string (nullable = true)\n |-- Branch: string (nullable = true)\n |-- City: string (nullable = true)\n |-- Customer type: string (nullable = true)\n |-- Gender: string (nullable = true)\n |-- Product line: string (nullable = true)\n |-- Unit price: double (nullable = true)\n |-- Quantity: integer (nullable = true)\n |-- Tax 5%: double (nullable = true)\n |-- Total: double (nullable = true)\n |-- Date: date (nullable = true)\n |-- Time: timestamp (nullable = true)\n |-- Payment: string (nullable = true)\n |-- cogs: double (nullable = true)\n |-- gross margin percentage: double (nullable = true)\n |-- gross income: double (nullable = true)\n |-- Rating: double (nullable = true)\n\n"
     ]
    }
   ],
   "source": [
    "df.printSchema()"
   ]
  },
  {
   "cell_type": "markdown",
   "metadata": {
    "application/vnd.databricks.v1+cell": {
     "cellMetadata": {},
     "inputWidgets": {},
     "nuid": "52369779-dcfe-4e3a-8870-8f71dd775476",
     "showTitle": false,
     "title": ""
    }
   },
   "source": [
    "\n",
    "O conjunto de dados é um dos registros históricos de vendas de uma empresa de supermercados, que foi registrado em 3 filiais diferentes ao longo de 3 meses. \n",
    "\n",
    "### schema\n",
    " - ``Invoice`` ID: Número de identificação da fatura de venda gerado pelo computador\n",
    " - ``Branch``: Filial do supermercado (3 filiais disponíveis identificadas por A, B e C).\n",
    " - ``City``: Localização dos supermercados\n",
    " - ``Customer`` type: Tipo de clientes, registrados como _Member_ para clientes que usam cartão de membro e Normal para aqueles sem cartão de membro.\n",
    " - ``Gender``: Tipo de gênero do cliente\n",
    " - ``Product`` line: Grupos de categorização geral de itens - Acessórios eletrônicos, Acessórios de moda, Alimentos e bebidas, Saúde e beleza, Casa e estilo de vida, Esportes e viagens\n",
    " - ``Unit price``: Preço de cada produto em USD ($)\n",
    " - ``Quantity``: Número de produtos comprados pelo cliente\n",
    " - ``Tax 5%``: Taxa de imposto de 5% para clientes que compraram\n",
    " - ``Total``: Preço total incluindo impostos\n",
    " - ``Date``: Data da compra (Registro disponível de janeiro de 2019 a março de 2019)\n",
    " - ``Time``: timestamp bugado, Hora da compra (das 10h às 21h)\n",
    " - ``Payment``: Método de pagamento usado pelo cliente na compra (3 métodos estão disponíveis - Dinheiro, Cartão de crédito e Ewallet)\n",
    " - ``cogs``: Custo dos bens vendidos\n",
    " - ``gross margin percentage``: Porcentagem de margem bruta\n",
    " - ``gross income``: Renda bruta\n",
    " - ``Rating``: Classificação de estratificação do cliente em sua experiência de compra geral (Em uma escala de 1 a 10)"
   ]
  },
  {
   "cell_type": "markdown",
   "metadata": {
    "application/vnd.databricks.v1+cell": {
     "cellMetadata": {},
     "inputWidgets": {},
     "nuid": "7c78a5db-df7e-4d11-834b-b37d9b97fde0",
     "showTitle": false,
     "title": ""
    }
   },
   "source": [
    "\n",
    "## Saving data\n",
    "\n",
    "salvando todos os .csv no dbf em arquivo parquet\n",
    "\n",
    "Nossa staging poderia ser um S3 (aws) ou blob storage, mas vai ser diretamente no dbfs mesmo"
   ]
  },
  {
   "cell_type": "code",
   "execution_count": 0,
   "metadata": {
    "application/vnd.databricks.v1+cell": {
     "cellMetadata": {
      "byteLimit": 2048000,
      "rowLimit": 10000
     },
     "inputWidgets": {},
     "nuid": "d0d68f53-9077-4f21-8c15-583e450ac0f1",
     "showTitle": false,
     "title": ""
    }
   },
   "outputs": [],
   "source": [
    "file_name = \"supermarket_sales\""
   ]
  },
  {
   "cell_type": "code",
   "execution_count": 0,
   "metadata": {
    "application/vnd.databricks.v1+cell": {
     "cellMetadata": {
      "byteLimit": 2048000,
      "rowLimit": 10000
     },
     "inputWidgets": {},
     "nuid": "2f261d5b-3ff5-4928-80c5-ae7bffedcf37",
     "showTitle": false,
     "title": ""
    }
   },
   "outputs": [
    {
     "output_type": "stream",
     "name": "stdout",
     "output_type": "stream",
     "text": [
      "[LOG] Saving supermarket_sales parquet on dbfs:/FileStore/parquet/supermarket_sales/... OK!\n"
     ]
    }
   ],
   "source": [
    "save_dataframe(\n",
    "    df,\n",
    "    format_mode=\"parquet\",\n",
    "    target_location=f\"dbfs:/FileStore/parquet/supermarket_sales/\",\n",
    "    table_name=file_name\n",
    ")"
   ]
  },
  {
   "cell_type": "code",
   "execution_count": 0,
   "metadata": {
    "application/vnd.databricks.v1+cell": {
     "cellMetadata": {
      "byteLimit": 2048000,
      "rowLimit": 10000
     },
     "inputWidgets": {},
     "nuid": "7d311b8a-1568-41a9-b716-a1682e034fcc",
     "showTitle": false,
     "title": ""
    }
   },
   "outputs": [
    {
     "output_type": "display_data",
     "data": {
      "text/html": [
       "<style scoped>\n",
       "  .table-result-container {\n",
       "    max-height: 300px;\n",
       "    overflow: auto;\n",
       "  }\n",
       "  table, th, td {\n",
       "    border: 1px solid black;\n",
       "    border-collapse: collapse;\n",
       "  }\n",
       "  th, td {\n",
       "    padding: 5px;\n",
       "  }\n",
       "  th {\n",
       "    text-align: left;\n",
       "  }\n",
       "</style><div class='table-result-container'><table class='table-result'><thead style='background-color: white'><tr><th>path</th><th>name</th><th>size</th><th>modificationTime</th></tr></thead><tbody><tr><td>dbfs:/FileStore/parquet/supermarket_sales/_SUCCESS</td><td>_SUCCESS</td><td>0</td><td>1715630826000</td></tr><tr><td>dbfs:/FileStore/parquet/supermarket_sales/_committed_7481708366168257622</td><td>_committed_7481708366168257622</td><td>123</td><td>1715630826000</td></tr><tr><td>dbfs:/FileStore/parquet/supermarket_sales/_started_7481708366168257622</td><td>_started_7481708366168257622</td><td>0</td><td>1715630826000</td></tr><tr><td>dbfs:/FileStore/parquet/supermarket_sales/part-00000-tid-7481708366168257622-53dacee5-5446-42f1-9c5a-41a0d00de06f-23-1-c000.snappy.parquet</td><td>part-00000-tid-7481708366168257622-53dacee5-5446-42f1-9c5a-41a0d00de06f-23-1-c000.snappy.parquet</td><td>50430</td><td>1715630826000</td></tr></tbody></table></div>"
      ]
     },
     "metadata": {
      "application/vnd.databricks.v1+output": {
       "addedWidgets": {},
       "aggData": [],
       "aggError": "",
       "aggOverflow": false,
       "aggSchema": [],
       "aggSeriesLimitReached": false,
       "aggType": "",
       "arguments": {},
       "columnCustomDisplayInfos": {},
       "data": [
        [
         "dbfs:/FileStore/parquet/supermarket_sales/_SUCCESS",
         "_SUCCESS",
         0,
         1715630826000
        ],
        [
         "dbfs:/FileStore/parquet/supermarket_sales/_committed_7481708366168257622",
         "_committed_7481708366168257622",
         123,
         1715630826000
        ],
        [
         "dbfs:/FileStore/parquet/supermarket_sales/_started_7481708366168257622",
         "_started_7481708366168257622",
         0,
         1715630826000
        ],
        [
         "dbfs:/FileStore/parquet/supermarket_sales/part-00000-tid-7481708366168257622-53dacee5-5446-42f1-9c5a-41a0d00de06f-23-1-c000.snappy.parquet",
         "part-00000-tid-7481708366168257622-53dacee5-5446-42f1-9c5a-41a0d00de06f-23-1-c000.snappy.parquet",
         50430,
         1715630826000
        ]
       ],
       "datasetInfos": [],
       "dbfsResultPath": null,
       "isJsonSchema": true,
       "metadata": {
        "isDbfsCommandResult": false
       },
       "overflow": false,
       "plotOptions": {
        "customPlotOptions": {},
        "displayType": "table",
        "pivotAggregation": null,
        "pivotColumns": null,
        "xColumns": null,
        "yColumns": null
       },
       "removedWidgets": [],
       "schema": [
        {
         "metadata": "{}",
         "name": "path",
         "type": "\"string\""
        },
        {
         "metadata": "{}",
         "name": "name",
         "type": "\"string\""
        },
        {
         "metadata": "{}",
         "name": "size",
         "type": "\"long\""
        },
        {
         "metadata": "{}",
         "name": "modificationTime",
         "type": "\"long\""
        }
       ],
       "type": "table"
      }
     },
     "output_type": "display_data"
    }
   ],
   "source": [
    "%fs ls '/FileStore/parquet/supermarket_sales/'"
   ]
  },
  {
   "cell_type": "code",
   "execution_count": 0,
   "metadata": {
    "application/vnd.databricks.v1+cell": {
     "cellMetadata": {},
     "inputWidgets": {},
     "nuid": "10bc50ee-fa19-4b79-97fa-cdccaba0d646",
     "showTitle": false,
     "title": ""
    }
   },
   "outputs": [],
   "source": [
    "dbutils.notebook.exit(\"OK\")"
   ]
  },
  {
   "cell_type": "markdown",
   "metadata": {
    "application/vnd.databricks.v1+cell": {
     "cellMetadata": {},
     "inputWidgets": {},
     "nuid": "4d0227ef-189b-47e5-9014-31e024a67bcf",
     "showTitle": false,
     "title": ""
    }
   },
   "source": [
    "\n",
    "#### test"
   ]
  },
  {
   "cell_type": "code",
   "execution_count": 0,
   "metadata": {
    "application/vnd.databricks.v1+cell": {
     "cellMetadata": {
      "byteLimit": 2048000,
      "rowLimit": 10000
     },
     "inputWidgets": {},
     "nuid": "477f65ee-361c-4e6b-9bc1-dff6eb5af9a7",
     "showTitle": false,
     "title": ""
    }
   },
   "outputs": [
    {
     "output_type": "display_data",
     "data": {
      "text/html": [
       "<style scoped>\n",
       "  .table-result-container {\n",
       "    max-height: 300px;\n",
       "    overflow: auto;\n",
       "  }\n",
       "  table, th, td {\n",
       "    border: 1px solid black;\n",
       "    border-collapse: collapse;\n",
       "  }\n",
       "  th, td {\n",
       "    padding: 5px;\n",
       "  }\n",
       "  th {\n",
       "    text-align: left;\n",
       "  }\n",
       "</style><div class='table-result-container'><table class='table-result'><thead style='background-color: white'><tr><th>Invoice ID</th><th>Branch</th><th>City</th><th>Customer type</th><th>Gender</th><th>Product line</th><th>Unit price</th><th>Quantity</th><th>Tax 5%</th><th>Total</th><th>Date</th><th>Time</th><th>Payment</th><th>cogs</th><th>gross margin percentage</th><th>gross income</th><th>Rating</th></tr></thead><tbody><tr><td>750-67-8428</td><td>A</td><td>Yangon</td><td>Member</td><td>Female</td><td>Health and beauty</td><td>74.69</td><td>7</td><td>26.1415</td><td>548.9715</td><td>2019-01-05</td><td>2024-05-13T13:08:00Z</td><td>Ewallet</td><td>522.83</td><td>4.761904762</td><td>26.1415</td><td>9.1</td></tr><tr><td>226-31-3081</td><td>C</td><td>Naypyitaw</td><td>Normal</td><td>Female</td><td>Electronic accessories</td><td>15.28</td><td>5</td><td>3.82</td><td>80.22</td><td>2019-03-08</td><td>2024-05-13T10:29:00Z</td><td>Cash</td><td>76.4</td><td>4.761904762</td><td>3.82</td><td>9.6</td></tr><tr><td>631-41-3108</td><td>A</td><td>Yangon</td><td>Normal</td><td>Male</td><td>Home and lifestyle</td><td>46.33</td><td>7</td><td>16.2155</td><td>340.5255</td><td>2019-03-03</td><td>2024-05-13T13:23:00Z</td><td>Credit card</td><td>324.31</td><td>4.761904762</td><td>16.2155</td><td>7.4</td></tr><tr><td>123-19-1176</td><td>A</td><td>Yangon</td><td>Member</td><td>Male</td><td>Health and beauty</td><td>58.22</td><td>8</td><td>23.288</td><td>489.048</td><td>2019-01-27</td><td>2024-05-13T20:33:00Z</td><td>Ewallet</td><td>465.76</td><td>4.761904762</td><td>23.288</td><td>8.4</td></tr><tr><td>373-73-7910</td><td>A</td><td>Yangon</td><td>Normal</td><td>Male</td><td>Sports and travel</td><td>86.31</td><td>7</td><td>30.2085</td><td>634.3785</td><td>2019-02-08</td><td>2024-05-13T10:37:00Z</td><td>Ewallet</td><td>604.17</td><td>4.761904762</td><td>30.2085</td><td>5.3</td></tr><tr><td>699-14-3026</td><td>C</td><td>Naypyitaw</td><td>Normal</td><td>Male</td><td>Electronic accessories</td><td>85.39</td><td>7</td><td>29.8865</td><td>627.6165</td><td>2019-03-25</td><td>2024-05-13T18:30:00Z</td><td>Ewallet</td><td>597.73</td><td>4.761904762</td><td>29.8865</td><td>4.1</td></tr><tr><td>355-53-5943</td><td>A</td><td>Yangon</td><td>Member</td><td>Female</td><td>Electronic accessories</td><td>68.84</td><td>6</td><td>20.652</td><td>433.692</td><td>2019-02-25</td><td>2024-05-13T14:36:00Z</td><td>Ewallet</td><td>413.04</td><td>4.761904762</td><td>20.652</td><td>5.8</td></tr><tr><td>315-22-5665</td><td>C</td><td>Naypyitaw</td><td>Normal</td><td>Female</td><td>Home and lifestyle</td><td>73.56</td><td>10</td><td>36.78</td><td>772.38</td><td>2019-02-24</td><td>2024-05-13T11:38:00Z</td><td>Ewallet</td><td>735.6</td><td>4.761904762</td><td>36.78</td><td>8.0</td></tr><tr><td>665-32-9167</td><td>A</td><td>Yangon</td><td>Member</td><td>Female</td><td>Health and beauty</td><td>36.26</td><td>2</td><td>3.626</td><td>76.146</td><td>2019-01-10</td><td>2024-05-13T17:15:00Z</td><td>Credit card</td><td>72.52</td><td>4.761904762</td><td>3.626</td><td>7.2</td></tr><tr><td>692-92-5582</td><td>B</td><td>Mandalay</td><td>Member</td><td>Female</td><td>Food and beverages</td><td>54.84</td><td>3</td><td>8.226</td><td>172.746</td><td>2019-02-20</td><td>2024-05-13T13:27:00Z</td><td>Credit card</td><td>164.52</td><td>4.761904762</td><td>8.226</td><td>5.9</td></tr></tbody></table></div>"
      ]
     },
     "metadata": {
      "application/vnd.databricks.v1+output": {
       "addedWidgets": {},
       "aggData": [],
       "aggError": "",
       "aggOverflow": false,
       "aggSchema": [],
       "aggSeriesLimitReached": false,
       "aggType": "",
       "arguments": {},
       "columnCustomDisplayInfos": {},
       "data": [
        [
         "750-67-8428",
         "A",
         "Yangon",
         "Member",
         "Female",
         "Health and beauty",
         74.69,
         7,
         26.1415,
         548.9715,
         "2019-01-05",
         "2024-05-13T13:08:00Z",
         "Ewallet",
         522.83,
         4.761904762,
         26.1415,
         9.1
        ],
        [
         "226-31-3081",
         "C",
         "Naypyitaw",
         "Normal",
         "Female",
         "Electronic accessories",
         15.28,
         5,
         3.82,
         80.22,
         "2019-03-08",
         "2024-05-13T10:29:00Z",
         "Cash",
         76.4,
         4.761904762,
         3.82,
         9.6
        ],
        [
         "631-41-3108",
         "A",
         "Yangon",
         "Normal",
         "Male",
         "Home and lifestyle",
         46.33,
         7,
         16.2155,
         340.5255,
         "2019-03-03",
         "2024-05-13T13:23:00Z",
         "Credit card",
         324.31,
         4.761904762,
         16.2155,
         7.4
        ],
        [
         "123-19-1176",
         "A",
         "Yangon",
         "Member",
         "Male",
         "Health and beauty",
         58.22,
         8,
         23.288,
         489.048,
         "2019-01-27",
         "2024-05-13T20:33:00Z",
         "Ewallet",
         465.76,
         4.761904762,
         23.288,
         8.4
        ],
        [
         "373-73-7910",
         "A",
         "Yangon",
         "Normal",
         "Male",
         "Sports and travel",
         86.31,
         7,
         30.2085,
         634.3785,
         "2019-02-08",
         "2024-05-13T10:37:00Z",
         "Ewallet",
         604.17,
         4.761904762,
         30.2085,
         5.3
        ],
        [
         "699-14-3026",
         "C",
         "Naypyitaw",
         "Normal",
         "Male",
         "Electronic accessories",
         85.39,
         7,
         29.8865,
         627.6165,
         "2019-03-25",
         "2024-05-13T18:30:00Z",
         "Ewallet",
         597.73,
         4.761904762,
         29.8865,
         4.1
        ],
        [
         "355-53-5943",
         "A",
         "Yangon",
         "Member",
         "Female",
         "Electronic accessories",
         68.84,
         6,
         20.652,
         433.692,
         "2019-02-25",
         "2024-05-13T14:36:00Z",
         "Ewallet",
         413.04,
         4.761904762,
         20.652,
         5.8
        ],
        [
         "315-22-5665",
         "C",
         "Naypyitaw",
         "Normal",
         "Female",
         "Home and lifestyle",
         73.56,
         10,
         36.78,
         772.38,
         "2019-02-24",
         "2024-05-13T11:38:00Z",
         "Ewallet",
         735.6,
         4.761904762,
         36.78,
         8.0
        ],
        [
         "665-32-9167",
         "A",
         "Yangon",
         "Member",
         "Female",
         "Health and beauty",
         36.26,
         2,
         3.626,
         76.146,
         "2019-01-10",
         "2024-05-13T17:15:00Z",
         "Credit card",
         72.52,
         4.761904762,
         3.626,
         7.2
        ],
        [
         "692-92-5582",
         "B",
         "Mandalay",
         "Member",
         "Female",
         "Food and beverages",
         54.84,
         3,
         8.226,
         172.746,
         "2019-02-20",
         "2024-05-13T13:27:00Z",
         "Credit card",
         164.52,
         4.761904762,
         8.226,
         5.9
        ]
       ],
       "datasetInfos": [],
       "dbfsResultPath": null,
       "isJsonSchema": true,
       "metadata": {},
       "overflow": false,
       "plotOptions": {
        "customPlotOptions": {},
        "displayType": "table",
        "pivotAggregation": null,
        "pivotColumns": null,
        "xColumns": null,
        "yColumns": null
       },
       "removedWidgets": [],
       "schema": [
        {
         "metadata": "{}",
         "name": "Invoice ID",
         "type": "\"string\""
        },
        {
         "metadata": "{}",
         "name": "Branch",
         "type": "\"string\""
        },
        {
         "metadata": "{}",
         "name": "City",
         "type": "\"string\""
        },
        {
         "metadata": "{}",
         "name": "Customer type",
         "type": "\"string\""
        },
        {
         "metadata": "{}",
         "name": "Gender",
         "type": "\"string\""
        },
        {
         "metadata": "{}",
         "name": "Product line",
         "type": "\"string\""
        },
        {
         "metadata": "{}",
         "name": "Unit price",
         "type": "\"double\""
        },
        {
         "metadata": "{}",
         "name": "Quantity",
         "type": "\"long\""
        },
        {
         "metadata": "{}",
         "name": "Tax 5%",
         "type": "\"double\""
        },
        {
         "metadata": "{}",
         "name": "Total",
         "type": "\"double\""
        },
        {
         "metadata": "{}",
         "name": "Date",
         "type": "\"date\""
        },
        {
         "metadata": "{}",
         "name": "Time",
         "type": "\"timestamp\""
        },
        {
         "metadata": "{}",
         "name": "Payment",
         "type": "\"string\""
        },
        {
         "metadata": "{}",
         "name": "cogs",
         "type": "\"double\""
        },
        {
         "metadata": "{}",
         "name": "gross margin percentage",
         "type": "\"double\""
        },
        {
         "metadata": "{}",
         "name": "gross income",
         "type": "\"double\""
        },
        {
         "metadata": "{}",
         "name": "Rating",
         "type": "\"double\""
        }
       ],
       "type": "table"
      }
     },
     "output_type": "display_data"
    }
   ],
   "source": [
    "display(spark.read.parquet(\"dbfs:/FileStore/parquet/supermarket_sales/\").take(10))"
   ]
  },
  {
   "cell_type": "code",
   "execution_count": 0,
   "metadata": {
    "application/vnd.databricks.v1+cell": {
     "cellMetadata": {},
     "inputWidgets": {},
     "nuid": "c66bcb63-0f03-44b7-8260-f9f8b3bbdb25",
     "showTitle": false,
     "title": ""
    }
   },
   "outputs": [],
   "source": []
  }
 ],
 "metadata": {
  "application/vnd.databricks.v1+notebook": {
   "dashboards": [],
   "language": "python",
   "notebookMetadata": {
    "mostRecentlyExecutedCommandWithImplicitDF": {
     "commandId": 4240245637786660,
     "dataframes": [
      "_sqldf"
     ]
    },
    "pythonIndentUnit": 4
   },
   "notebookName": "0 - data_ingestion (staging)",
   "widgets": {}
  }
 },
 "nbformat": 4,
 "nbformat_minor": 0
}
