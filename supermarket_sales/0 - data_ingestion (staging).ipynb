{
 "cells": [
  {
   "cell_type": "markdown",
   "metadata": {
    "application/vnd.databricks.v1+cell": {
     "cellMetadata": {},
     "inputWidgets": {},
     "nuid": "30790e46-a603-4735-958f-fc9e247c4769",
     "showTitle": false,
     "title": ""
    }
   },
   "source": [
    "\n",
    "# 🗃️ Supermaket sales"
   ]
  },
  {
   "cell_type": "code",
   "execution_count": 0,
   "metadata": {
    "application/vnd.databricks.v1+cell": {
     "cellMetadata": {
      "byteLimit": 2048000,
      "rowLimit": 10000
     },
     "inputWidgets": {},
     "nuid": "3d9f6a0a-cc43-4ffb-b34a-12a67bd439f4",
     "showTitle": false,
     "title": ""
    }
   },
   "outputs": [],
   "source": [
    "%run ../_utils"
   ]
  },
  {
   "cell_type": "markdown",
   "metadata": {
    "application/vnd.databricks.v1+cell": {
     "cellMetadata": {},
     "inputWidgets": {},
     "nuid": "aebc1af8-3391-4d54-9c17-9a77802c21af",
     "showTitle": false,
     "title": ""
    }
   },
   "source": [
    "\n",
    "## dependency"
   ]
  },
  {
   "cell_type": "code",
   "execution_count": 0,
   "metadata": {
    "application/vnd.databricks.v1+cell": {
     "cellMetadata": {
      "byteLimit": 2048000,
      "rowLimit": 10000
     },
     "inputWidgets": {},
     "nuid": "c61fbc5d-0898-45bf-89b8-0b9127aed390",
     "showTitle": false,
     "title": ""
    }
   },
   "outputs": [],
   "source": [
    "!pip install opendatasets"
   ]
  },
  {
   "cell_type": "code",
   "execution_count": 0,
   "metadata": {
    "application/vnd.databricks.v1+cell": {
     "cellMetadata": {
      "byteLimit": 2048000,
      "rowLimit": 10000
     },
     "inputWidgets": {},
     "nuid": "49e47196-c45a-4aae-aa4b-078fe649e8e5",
     "showTitle": false,
     "title": ""
    }
   },
   "outputs": [],
   "source": [
    "%run ../_create_database"
   ]
  },
  {
   "cell_type": "markdown",
   "metadata": {
    "application/vnd.databricks.v1+cell": {
     "cellMetadata": {},
     "inputWidgets": {},
     "nuid": "aa0dde8a-fa7a-4290-8ab4-162ff13ddfdd",
     "showTitle": false,
     "title": ""
    }
   },
   "source": [
    "\n",
    "## download dataset from kaggle\n",
    "\n",
    "O dataset escolhido foi o [Supermarket sales](https://www.kaggle.com/datasets/aungpyaeap/supermarket-sales)\n",
    "\n",
    "Como é um dataset estático, não faz sentido adicionar upsert e tampouco streaming. Mas conforme o padrão dos dados (adicional de horario de venda), na vida real poderia fazer sentido pelo menos um minibatch para ingestão dos dados"
   ]
  },
  {
   "cell_type": "code",
   "execution_count": 0,
   "metadata": {
    "application/vnd.databricks.v1+cell": {
     "cellMetadata": {
      "byteLimit": 2048000,
      "rowLimit": 10000
     },
     "inputWidgets": {},
     "nuid": "390a650d-c2e9-4167-b3b4-e07cae361f99",
     "showTitle": false,
     "title": ""
    }
   },
   "outputs": [],
   "source": [
    "import opendatasets as od\n",
    "od.download(\"https://www.kaggle.com/datasets/aungpyaeap/supermarket-sales\", data_dir=\"/FileStore/datasets/\") # foi para file:/"
   ]
  },
  {
   "cell_type": "code",
   "execution_count": 0,
   "metadata": {
    "application/vnd.databricks.v1+cell": {
     "cellMetadata": {
      "byteLimit": 2048000,
      "rowLimit": 10000
     },
     "inputWidgets": {},
     "nuid": "1792196a-d8d9-4b01-ba9c-43d9764aa62b",
     "showTitle": false,
     "title": ""
    }
   },
   "outputs": [],
   "source": [
    "%fs ls file:/FileStore/datasets/supermarket-sales"
   ]
  },
  {
   "cell_type": "markdown",
   "metadata": {
    "application/vnd.databricks.v1+cell": {
     "cellMetadata": {},
     "inputWidgets": {},
     "nuid": "99f037aa-0d1c-47bd-937f-7653a1dccc96",
     "showTitle": false,
     "title": ""
    }
   },
   "source": [
    "\n",
    "o arquivo foi salvo em `file:/FileStore/datasets/supermarket-sales/supermarket_sales - Sheet1.csv``"
   ]
  },
  {
   "cell_type": "markdown",
   "metadata": {
    "application/vnd.databricks.v1+cell": {
     "cellMetadata": {},
     "inputWidgets": {},
     "nuid": "25c2455a-8fe6-4ce2-be1f-95c60c070754",
     "showTitle": false,
     "title": ""
    }
   },
   "source": [
    "\n",
    "## Carregando o arquivo .csv para spark dataframe\n",
    "\n",
    "aqui o .od fez eu usar o workspace files. [mais detalhes aqui](https://docs.databricks.com/en/files/index.html)"
   ]
  },
  {
   "cell_type": "code",
   "execution_count": 0,
   "metadata": {
    "application/vnd.databricks.v1+cell": {
     "cellMetadata": {
      "byteLimit": 2048000,
      "rowLimit": 10000
     },
     "inputWidgets": {},
     "nuid": "36caa19b-37c5-4b2e-b28e-923b135469b6",
     "showTitle": false,
     "title": ""
    }
   },
   "outputs": [],
   "source": [
    "df = (\n",
    "    spark.read.format(\"csv\")\n",
    "    .options(header=\"true\", inferSchema=True)\n",
    "    .load(\"file:/FileStore/datasets/supermarket-sales/supermarket_sales - Sheet1.csv\")\n",
    ")"
   ]
  },
  {
   "cell_type": "markdown",
   "metadata": {
    "application/vnd.databricks.v1+cell": {
     "cellMetadata": {},
     "inputWidgets": {},
     "nuid": "237003a8-08cf-4191-aa1a-d9d25f069185",
     "showTitle": false,
     "title": ""
    }
   },
   "source": [
    "\n",
    "## 🔎 First exploratory data analysis (descriptive)"
   ]
  },
  {
   "cell_type": "code",
   "execution_count": 0,
   "metadata": {
    "application/vnd.databricks.v1+cell": {
     "cellMetadata": {
      "byteLimit": 2048000,
      "rowLimit": 10000
     },
     "inputWidgets": {},
     "nuid": "94cae8f6-073d-4e90-9903-4d6d5573ab86",
     "showTitle": false,
     "title": ""
    }
   },
   "outputs": [],
   "source": [
    "display(df.take(10))"
   ]
  },
  {
   "cell_type": "code",
   "execution_count": 0,
   "metadata": {
    "application/vnd.databricks.v1+cell": {
     "cellMetadata": {
      "byteLimit": 2048000,
      "rowLimit": 10000
     },
     "inputWidgets": {},
     "nuid": "d6f52af4-01ae-4e38-a7cc-bdf79bb0b642",
     "showTitle": false,
     "title": ""
    }
   },
   "outputs": [],
   "source": [
    "print(f\"Total de linhas: {df.count()}\")"
   ]
  },
  {
   "cell_type": "code",
   "execution_count": 0,
   "metadata": {
    "application/vnd.databricks.v1+cell": {
     "cellMetadata": {
      "byteLimit": 2048000,
      "rowLimit": 10000
     },
     "inputWidgets": {},
     "nuid": "900acba8-fea5-4873-b537-74109c0368d1",
     "showTitle": false,
     "title": ""
    }
   },
   "outputs": [],
   "source": [
    "df.printSchema()"
   ]
  },
  {
   "cell_type": "markdown",
   "metadata": {
    "application/vnd.databricks.v1+cell": {
     "cellMetadata": {},
     "inputWidgets": {},
     "nuid": "52369779-dcfe-4e3a-8870-8f71dd775476",
     "showTitle": false,
     "title": ""
    }
   },
   "source": [
    "\n",
    "O conjunto de dados é um dos registros históricos de vendas de uma empresa de supermercados, que foi registrado em 3 filiais diferentes ao longo de 3 meses. \n",
    "\n",
    "### schema\n",
    " - ``Invoice`` ID: Número de identificação da fatura de venda gerado pelo computador\n",
    " - ``Branch``: Filial do supermercado (3 filiais disponíveis identificadas por A, B e C).\n",
    " - ``City``: Localização dos supermercados\n",
    " - ``Customer`` type: Tipo de clientes, registrados como _Member_ para clientes que usam cartão de membro e Normal para aqueles sem cartão de membro.\n",
    " - ``Gender``: Tipo de gênero do cliente\n",
    " - ``Product`` line: Grupos de categorização geral de itens - Acessórios eletrônicos, Acessórios de moda, Alimentos e bebidas, Saúde e beleza, Casa e estilo de vida, Esportes e viagens\n",
    " - ``Unit price``: Preço de cada produto em USD ($)\n",
    " - ``Quantity``: Número de produtos comprados pelo cliente\n",
    " - ``Tax 5%``: Taxa de imposto de 5% para clientes que compraram\n",
    " - ``Total``: Preço total incluindo impostos\n",
    " - ``Date``: Data da compra (Registro disponível de janeiro de 2019 a março de 2019)\n",
    " - ``Time``: timestamp bugado, Hora da compra (das 10h às 21h)\n",
    " - ``Payment``: Método de pagamento usado pelo cliente na compra (3 métodos estão disponíveis - Dinheiro, Cartão de crédito e Ewallet)\n",
    " - ``cogs``: Custo dos bens vendidos\n",
    " - ``gross margin percentage``: Porcentagem de margem bruta\n",
    " - ``gross income``: Renda bruta\n",
    " - ``Rating``: Classificação de estratificação do cliente em sua experiência de compra geral (Em uma escala de 1 a 10)"
   ]
  },
  {
   "cell_type": "markdown",
   "metadata": {
    "application/vnd.databricks.v1+cell": {
     "cellMetadata": {},
     "inputWidgets": {},
     "nuid": "7c78a5db-df7e-4d11-834b-b37d9b97fde0",
     "showTitle": false,
     "title": ""
    }
   },
   "source": [
    "\n",
    "## Saving data\n",
    "\n",
    "salvando todos os .csv no dbf em arquivo parquet\n",
    "\n",
    "Nossa staging poderia ser um S3 (aws) ou blob storage, mas vai ser diretamente no dbfs mesmo"
   ]
  },
  {
   "cell_type": "code",
   "execution_count": 0,
   "metadata": {
    "application/vnd.databricks.v1+cell": {
     "cellMetadata": {
      "byteLimit": 2048000,
      "rowLimit": 10000
     },
     "inputWidgets": {},
     "nuid": "d0d68f53-9077-4f21-8c15-583e450ac0f1",
     "showTitle": false,
     "title": ""
    }
   },
   "outputs": [],
   "source": [
    "file_name = \"supermarket_sales\""
   ]
  },
  {
   "cell_type": "code",
   "execution_count": 0,
   "metadata": {
    "application/vnd.databricks.v1+cell": {
     "cellMetadata": {
      "byteLimit": 2048000,
      "rowLimit": 10000
     },
     "inputWidgets": {},
     "nuid": "2f261d5b-3ff5-4928-80c5-ae7bffedcf37",
     "showTitle": false,
     "title": ""
    }
   },
   "outputs": [],
   "source": [
    "save_dataframe(\n",
    "    df,\n",
    "    format_mode=\"parquet\",\n",
    "    target_location=f\"dbfs:/FileStore/parquet/supermarket_sales/\",\n",
    "    table_name=file_name\n",
    ")"
   ]
  },
  {
   "cell_type": "code",
   "execution_count": 0,
   "metadata": {
    "application/vnd.databricks.v1+cell": {
     "cellMetadata": {
      "byteLimit": 2048000,
      "rowLimit": 10000
     },
     "inputWidgets": {},
     "nuid": "7d311b8a-1568-41a9-b716-a1682e034fcc",
     "showTitle": false,
     "title": ""
    }
   },
   "outputs": [],
   "source": [
    "%fs ls '/FileStore/parquet/supermarket_sales/'"
   ]
  },
  {
   "cell_type": "code",
   "execution_count": 0,
   "metadata": {
    "application/vnd.databricks.v1+cell": {
     "cellMetadata": {},
     "inputWidgets": {},
     "nuid": "10bc50ee-fa19-4b79-97fa-cdccaba0d646",
     "showTitle": false,
     "title": ""
    }
   },
   "outputs": [],
   "source": [
    "dbutils.notebook.exit(\"OK\")"
   ]
  },
  {
   "cell_type": "markdown",
   "metadata": {
    "application/vnd.databricks.v1+cell": {
     "cellMetadata": {},
     "inputWidgets": {},
     "nuid": "4d0227ef-189b-47e5-9014-31e024a67bcf",
     "showTitle": false,
     "title": ""
    }
   },
   "source": [
    "\n",
    "#### test"
   ]
  },
  {
   "cell_type": "code",
   "execution_count": 0,
   "metadata": {
    "application/vnd.databricks.v1+cell": {
     "cellMetadata": {
      "byteLimit": 2048000,
      "rowLimit": 10000
     },
     "inputWidgets": {},
     "nuid": "477f65ee-361c-4e6b-9bc1-dff6eb5af9a7",
     "showTitle": false,
     "title": ""
    }
   },
   "outputs": [],
   "source": [
    "display(spark.read.parquet(\"dbfs:/FileStore/parquet/supermarket_sales/\").take(10))"
   ]
  },
  {
   "cell_type": "code",
   "execution_count": 0,
   "metadata": {
    "application/vnd.databricks.v1+cell": {
     "cellMetadata": {},
     "inputWidgets": {},
     "nuid": "c66bcb63-0f03-44b7-8260-f9f8b3bbdb25",
     "showTitle": false,
     "title": ""
    }
   },
   "outputs": [],
   "source": []
  }
 ],
 "metadata": {
  "application/vnd.databricks.v1+notebook": {
   "dashboards": [],
   "language": "python",
   "notebookMetadata": {
    "mostRecentlyExecutedCommandWithImplicitDF": {
     "commandId": 4240245637786660,
     "dataframes": [
      "_sqldf"
     ]
    },
    "pythonIndentUnit": 4
   },
   "notebookName": "0 - data_ingestion (staging)",
   "widgets": {}
  }
 },
 "nbformat": 4,
 "nbformat_minor": 0
}
