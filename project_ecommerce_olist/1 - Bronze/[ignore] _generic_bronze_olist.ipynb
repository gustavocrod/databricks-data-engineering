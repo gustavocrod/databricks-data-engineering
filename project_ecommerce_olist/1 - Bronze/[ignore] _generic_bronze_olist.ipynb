{
 "cells": [
  {
   "cell_type": "code",
   "execution_count": 0,
   "metadata": {
    "application/vnd.databricks.v1+cell": {
     "cellMetadata": {
      "byteLimit": 2048000,
      "rowLimit": 10000
     },
     "inputWidgets": {},
     "nuid": "2b54bd6a-22f5-45e8-be70-413ca70961b6",
     "showTitle": false,
     "title": ""
    }
   },
   "outputs": [],
   "source": [
    "%run ../_utils"
   ]
  },
  {
   "cell_type": "code",
   "execution_count": 0,
   "metadata": {
    "application/vnd.databricks.v1+cell": {
     "cellMetadata": {
      "byteLimit": 2048000,
      "rowLimit": 10000
     },
     "inputWidgets": {},
     "nuid": "23ebc8b0-fcc9-445b-91ad-ae6854500bb3",
     "showTitle": false,
     "title": ""
    }
   },
   "outputs": [],
   "source": [
    "import datetime"
   ]
  },
  {
   "cell_type": "code",
   "execution_count": 0,
   "metadata": {
    "application/vnd.databricks.v1+cell": {
     "cellMetadata": {
      "byteLimit": 2048000,
      "rowLimit": 10000
     },
     "inputWidgets": {},
     "nuid": "c98fb817-a91e-48f3-b1ba-5c056728c52c",
     "showTitle": false,
     "title": ""
    }
   },
   "outputs": [],
   "source": [
    "# widgets para debugar\n",
    "# e parametros para receber do 'orquestrador' da camada bronze\n",
    "table_name = dbutils.widgets.get(\"table_name\")\n",
    "dataset_location = dbutils.widgets.get(\"dataset_location\")"
   ]
  },
  {
   "cell_type": "markdown",
   "metadata": {
    "application/vnd.databricks.v1+cell": {
     "cellMetadata": {},
     "inputWidgets": {},
     "nuid": "9216960a-0f7c-4cd5-8561-5bedddcfb05b",
     "showTitle": false,
     "title": ""
    }
   },
   "source": [
    "\n",
    "# Camada bronze\n",
    "\n",
    "Na camada bronze, nenhuma limpeza ou regra de negócio devem ser aplicadas aos dados.\n",
    "\n",
    "só vamos ler em parquet e salvar em delta.\n",
    "\n",
    "Vamos também utilizar da tabela de controle para termos o milestone da ultima execução (aqui nao será utilizado de fato, mas é interessante justamenete para o UPSERT)"
   ]
  },
  {
   "cell_type": "markdown",
   "metadata": {
    "application/vnd.databricks.v1+cell": {
     "cellMetadata": {},
     "inputWidgets": {},
     "nuid": "6472c87d-92c6-4934-93bc-e382300efec6",
     "showTitle": false,
     "title": ""
    }
   },
   "source": [
    "## 1 - leitura dos dados"
   ]
  },
  {
   "cell_type": "code",
   "execution_count": 0,
   "metadata": {
    "application/vnd.databricks.v1+cell": {
     "cellMetadata": {
      "byteLimit": 2048000,
      "rowLimit": 10000
     },
     "inputWidgets": {},
     "nuid": "68b5aaa5-8304-4385-931a-78e4fe58f49f",
     "showTitle": false,
     "title": ""
    }
   },
   "outputs": [],
   "source": [
    "parquet_location = f\"/FileStore/parquet/brazilian_ecommerce/{dataset_location}\"\n",
    "target_location = f\"/FilesStore/delta/brazilian_ecommerce/{dataset_location}/bronze\"\n",
    "\n",
    "df = spark.read.parquet(parquet_location)"
   ]
  },
  {
   "cell_type": "markdown",
   "metadata": {
    "application/vnd.databricks.v1+cell": {
     "cellMetadata": {},
     "inputWidgets": {},
     "nuid": "51793f68-6c26-4d8e-bc4e-13a47fa36571",
     "showTitle": false,
     "title": ""
    }
   },
   "source": [
    "\n",
    "## Save dataframe"
   ]
  },
  {
   "cell_type": "code",
   "execution_count": 0,
   "metadata": {
    "application/vnd.databricks.v1+cell": {
     "cellMetadata": {
      "byteLimit": 2048000,
      "rowLimit": 10000
     },
     "inputWidgets": {},
     "nuid": "65f53dac-d863-4c65-bdd2-ebd5a2a56d68",
     "showTitle": false,
     "title": ""
    }
   },
   "outputs": [],
   "source": [
    "updated_timestamp = None\n",
    "try:\n",
    "    save_dataframe(df, format_mode=\"delta\", target_location=target_location)\n",
    "    updated_timestamp = datetime.datetime.now()\n",
    "    \n",
    "except Exception as e:\n",
    "    dbutils.notebook.exit(None)"
   ]
  },
  {
   "cell_type": "markdown",
   "metadata": {
    "application/vnd.databricks.v1+cell": {
     "cellMetadata": {},
     "inputWidgets": {},
     "nuid": "d112e0d5-86ca-4a51-8820-2ab59f424648",
     "showTitle": false,
     "title": ""
    }
   },
   "source": [
    "\n",
    "## Create delta table"
   ]
  },
  {
   "cell_type": "code",
   "execution_count": 0,
   "metadata": {
    "application/vnd.databricks.v1+cell": {
     "cellMetadata": {
      "byteLimit": 2048000,
      "rowLimit": 10000
     },
     "inputWidgets": {},
     "nuid": "bc3def9d-7f94-492a-8780-63b312e6d34a",
     "showTitle": false,
     "title": ""
    }
   },
   "outputs": [],
   "source": [
    "tb_name = f\"olist_bronze.{table_name}\"\n",
    "print(f\"table full name: {tb_name}\")"
   ]
  },
  {
   "cell_type": "code",
   "execution_count": 0,
   "metadata": {
    "application/vnd.databricks.v1+cell": {
     "cellMetadata": {
      "byteLimit": 2048000,
      "rowLimit": 10000
     },
     "inputWidgets": {},
     "nuid": "ebc89c1e-f48c-43f9-b81e-37c2a62335ed",
     "showTitle": false,
     "title": ""
    }
   },
   "outputs": [],
   "source": [
    "create_table(tb_name, target_location)"
   ]
  },
  {
   "cell_type": "code",
   "execution_count": 0,
   "metadata": {
    "application/vnd.databricks.v1+cell": {
     "cellMetadata": {
      "byteLimit": 2048000,
      "rowLimit": 10000
     },
     "inputWidgets": {},
     "nuid": "e926445f-1ec3-4ad5-bc02-5b1f561965d1",
     "showTitle": false,
     "title": ""
    }
   },
   "outputs": [],
   "source": [
    "# para sair do notebook\n",
    "# tudo que rodar após isso será ignorado quando o notebook for executado via workflow\n",
    "\n",
    "# retornar o timestamp de atualização\n",
    "dbutils.notebook.exit(updated_timestamp)"
   ]
  },
  {
   "cell_type": "code",
   "execution_count": 0,
   "metadata": {
    "application/vnd.databricks.v1+cell": {
     "cellMetadata": {
      "byteLimit": 2048000,
      "implicitDf": true,
      "rowLimit": 10000
     },
     "inputWidgets": {},
     "nuid": "efc59834-f2a7-4d34-be7e-360bd44d6f56",
     "showTitle": false,
     "title": ""
    }
   },
   "outputs": [],
   "source": [
    "%sql\n",
    "\n",
    "select count(*) from olist_bronze.customers"
   ]
  },
  {
   "cell_type": "code",
   "execution_count": 0,
   "metadata": {
    "application/vnd.databricks.v1+cell": {
     "cellMetadata": {},
     "inputWidgets": {},
     "nuid": "57b5d0c0-385f-4648-92cb-eb5f4de7a901",
     "showTitle": false,
     "title": ""
    }
   },
   "outputs": [],
   "source": []
  }
 ],
 "metadata": {
  "application/vnd.databricks.v1+notebook": {
   "dashboards": [],
   "language": "python",
   "notebookMetadata": {
    "mostRecentlyExecutedCommandWithImplicitDF": {
     "commandId": 379792965040066,
     "dataframes": [
      "_sqldf"
     ]
    },
    "pythonIndentUnit": 4
   },
   "notebookName": "[ignore] _generic_bronze_olist",
   "widgets": {
    "dataset_location": {
     "currentValue": "olist_customers_dataset",
     "nuid": "e58cc04f-1b1d-4500-9038-f00c1a0e7d04",
     "typedWidgetInfo": null,
     "widgetInfo": {
      "widgetType": "text",
      "defaultValue": "",
      "label": null,
      "name": "dataset_location",
      "options": {
       "widgetType": "text",
       "autoCreated": null,
       "validationRegex": null
      }
     }
    },
    "table_name": {
     "currentValue": "customers",
     "nuid": "1ce45f74-840e-4d78-bb2f-5599c08f4642",
     "typedWidgetInfo": null,
     "widgetInfo": {
      "widgetType": "text",
      "defaultValue": "",
      "label": null,
      "name": "table_name",
      "options": {
       "widgetType": "text",
       "autoCreated": null,
       "validationRegex": null
      }
     }
    }
   }
  }
 },
 "nbformat": 4,
 "nbformat_minor": 0
}
