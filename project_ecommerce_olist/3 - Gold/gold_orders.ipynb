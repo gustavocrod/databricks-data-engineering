{
 "cells": [
  {
   "cell_type": "code",
   "execution_count": 0,
   "metadata": {
    "application/vnd.databricks.v1+cell": {
     "cellMetadata": {
      "byteLimit": 2048000,
      "rowLimit": 10000
     },
     "inputWidgets": {},
     "nuid": "b1710e7f-be45-4d2f-ae8b-3f46af28e5b4",
     "showTitle": false,
     "title": ""
    }
   },
   "outputs": [],
   "source": [
    "%run ../../_utils"
   ]
  },
  {
   "cell_type": "code",
   "execution_count": 0,
   "metadata": {
    "application/vnd.databricks.v1+cell": {
     "cellMetadata": {
      "byteLimit": 2048000,
      "rowLimit": 10000
     },
     "inputWidgets": {},
     "nuid": "e6b5a612-163f-403d-9149-793f110401d7",
     "showTitle": false,
     "title": ""
    }
   },
   "outputs": [],
   "source": [
    "from pyspark.sql.functions import when, to_date, col, dayofweek, max, collect_set, sum\n",
    "from pyspark.sql.types import StringType, BooleanType"
   ]
  },
  {
   "cell_type": "markdown",
   "metadata": {
    "application/vnd.databricks.v1+cell": {
     "cellMetadata": {
      "byteLimit": 2048000,
      "rowLimit": 10000
     },
     "inputWidgets": {},
     "nuid": "5f9235ec-ac0c-4f2c-962e-edc87f6e86a1",
     "showTitle": false,
     "title": ""
    }
   },
   "source": [
    "\n",
    "# Camada GOLD\n",
    "\n",
    "Na camada gold, as limpezas e ajustes já foram feitos, então essa camada é responsável por aplicar regras de negócio, agregações e junções de dados que convirjam para analises."
   ]
  },
  {
   "cell_type": "code",
   "execution_count": 0,
   "metadata": {
    "application/vnd.databricks.v1+cell": {
     "cellMetadata": {
      "byteLimit": 2048000,
      "rowLimit": 10000
     },
     "inputWidgets": {},
     "nuid": "3707d12a-f42c-46de-981f-f50750230449",
     "showTitle": false,
     "title": ""
    }
   },
   "outputs": [],
   "source": [
    "tb_name = \"gold.olist_orders\"\n",
    "dataset_location = \"olist_orders_dataset\"\n",
    "target_location = f\"dbfs:/FileStore/delta/gold/brazilian_ecommerce/{dataset_location}\""
   ]
  },
  {
   "cell_type": "markdown",
   "metadata": {
    "application/vnd.databricks.v1+cell": {
     "cellMetadata": {
      "byteLimit": 2048000,
      "rowLimit": 10000
     },
     "inputWidgets": {},
     "nuid": "5f3d216e-533d-437a-a6d6-9ab063d7c8cb",
     "showTitle": false,
     "title": ""
    }
   },
   "source": [
    "## 1 - Data ingestion\n",
    "\n",
    "Conforme o schema disponibilizado, iremos agregar os dados em uma big table que permitirá ~quase~ todas as analises subsequentes\n",
    "\n",
    "Apenas para fins de teste, iremos agregar apenas reviews e payments à table \"fact\" orders;\n",
    "Portanto, iremos carregar essas tabelas\n"
   ]
  },
  {
   "cell_type": "code",
   "execution_count": 0,
   "metadata": {
    "application/vnd.databricks.v1+cell": {
     "cellMetadata": {
      "byteLimit": 2048000,
      "rowLimit": 10000
     },
     "inputWidgets": {},
     "nuid": "6af57b81-ca1d-4b16-9371-65dbf824d43d",
     "showTitle": false,
     "title": ""
    }
   },
   "outputs": [],
   "source": [
    "df_orders = spark.read.table(\"silver.olist_orders\") # leituira da delta table central, orders\n",
    "df_order_reviews = spark.read.table(\"silver.olist_order_reviews\") # leituira da delta table \"dim\" reviews\n",
    "df_order_payments = spark.read.table(\"silver.olist_order_payments\") # leituira da delta table \"dim\" payments\n",
    "#df_order_items = spark.sql(\"select * from silver.olist_order_items\") # leitura de outra maneira, da delta table \"dim\" items"
   ]
  },
  {
   "cell_type": "markdown",
   "metadata": {
    "application/vnd.databricks.v1+cell": {
     "cellMetadata": {
      "byteLimit": 2048000,
      "rowLimit": 10000
     },
     "inputWidgets": {},
     "nuid": "c956a4c8-f3e5-4915-8e7f-93d65c05bff8",
     "showTitle": false,
     "title": ""
    }
   },
   "source": [
    "\n",
    "## 2 - preparation"
   ]
  },
  {
   "cell_type": "markdown",
   "metadata": {
    "application/vnd.databricks.v1+cell": {
     "cellMetadata": {
      "byteLimit": 2048000,
      "rowLimit": 10000
     },
     "inputWidgets": {},
     "nuid": "98084d9e-2502-499c-b300-3ea4f04d7ea8",
     "showTitle": false,
     "title": ""
    }
   },
   "source": [
    "\n",
    "### 2.1 order_payments\n",
    "\n",
    "uma order_id pode ter várias formas de pagamento (geralmente vouchs).  cada pagamento gera um registro\n",
    "\n",
    "Então iremos agregar, somando em valor de pagamento e pegando o max payment_sequential"
   ]
  },
  {
   "cell_type": "code",
   "execution_count": 0,
   "metadata": {
    "application/vnd.databricks.v1+cell": {
     "cellMetadata": {
      "byteLimit": 2048000,
      "rowLimit": 10000
     },
     "inputWidgets": {},
     "nuid": "6e2e1780-03e2-4dea-8671-082e240807e2",
     "showTitle": false,
     "title": ""
    }
   },
   "outputs": [],
   "source": [
    "df_order_payments = df_order_payments.groupBy(\"order_id\").agg(\n",
    "    max(\"payment_sequential\").alias(\"total_payment_sequential\"),\n",
    "    sum(\"payment_value\").alias(\"total_payment_value\"),\n",
    "    collect_set(\"payment_type\").alias(\"payment_types\"),\n",
    ")"
   ]
  },
  {
   "cell_type": "markdown",
   "metadata": {
    "application/vnd.databricks.v1+cell": {
     "cellMetadata": {
      "byteLimit": 2048000,
      "rowLimit": 10000
     },
     "inputWidgets": {},
     "nuid": "f67c2055-9942-4c9c-b6f1-53130731bacc",
     "showTitle": false,
     "title": ""
    }
   },
   "source": [
    "\n",
    "### 2.2 order_reviews\n",
    "\n",
    "podemos perceber que existem casos onde existe mais de um review para um mesmo order_id"
   ]
  },
  {
   "cell_type": "markdown",
   "metadata": {
    "application/vnd.databricks.v1+cell": {
     "cellMetadata": {
      "byteLimit": 2048000,
      "rowLimit": 10000
     },
     "inputWidgets": {},
     "nuid": "9a17b7c1-8059-49b2-86a2-be2ac70acceb",
     "showTitle": false,
     "title": ""
    }
   },
   "source": [
    "\n",
    "## 2 - Data Join"
   ]
  },
  {
   "cell_type": "code",
   "execution_count": 0,
   "metadata": {
    "application/vnd.databricks.v1+cell": {
     "cellMetadata": {
      "byteLimit": 2048000,
      "rowLimit": 10000
     },
     "inputWidgets": {},
     "nuid": "276a1ca7-3ca0-40e9-8a9a-09cd9c40a75b",
     "showTitle": false,
     "title": ""
    }
   },
   "outputs": [],
   "source": [
    "print(f\"Total de registros ANTES da agregação {df_orders.count()}\")"
   ]
  },
  {
   "cell_type": "code",
   "execution_count": 0,
   "metadata": {
    "application/vnd.databricks.v1+cell": {
     "cellMetadata": {
      "byteLimit": 2048000,
      "rowLimit": 10000
     },
     "inputWidgets": {},
     "nuid": "0f0950b4-035a-4753-8788-72db2dddc56d",
     "showTitle": false,
     "title": ""
    }
   },
   "outputs": [],
   "source": [
    "df = (df_orders\n",
    "      .join(df_order_payments, on=['order_id'], how='left')\n",
    "      .join(df_order_reviews, on=['order_id'], how='left'))"
   ]
  },
  {
   "cell_type": "code",
   "execution_count": 0,
   "metadata": {
    "application/vnd.databricks.v1+cell": {
     "cellMetadata": {
      "byteLimit": 2048000,
      "rowLimit": 10000
     },
     "inputWidgets": {},
     "nuid": "ca423846-d988-435b-a96c-5d044964b990",
     "showTitle": false,
     "title": ""
    }
   },
   "outputs": [],
   "source": [
    "print(f\"Total de registros DEPOIS da agregação {df.count()}\")"
   ]
  },
  {
   "cell_type": "code",
   "execution_count": 0,
   "metadata": {
    "application/vnd.databricks.v1+cell": {
     "cellMetadata": {
      "byteLimit": 2048000,
      "rowLimit": 10000
     },
     "inputWidgets": {},
     "nuid": "29f4ff13-779e-4b5a-9ffc-1417ccb436aa",
     "showTitle": false,
     "title": ""
    }
   },
   "outputs": [],
   "source": [
    "display(df.take(10))"
   ]
  },
  {
   "cell_type": "markdown",
   "metadata": {
    "application/vnd.databricks.v1+cell": {
     "cellMetadata": {
      "byteLimit": 2048000,
      "rowLimit": 10000
     },
     "inputWidgets": {},
     "nuid": "179d0374-6a21-4114-ad59-ee923b817809",
     "showTitle": false,
     "title": ""
    }
   },
   "source": [
    "\n",
    "## Saving data"
   ]
  },
  {
   "cell_type": "code",
   "execution_count": 0,
   "metadata": {
    "application/vnd.databricks.v1+cell": {
     "cellMetadata": {
      "byteLimit": 2048000,
      "rowLimit": 10000
     },
     "inputWidgets": {},
     "nuid": "a82009ed-f82f-4587-b629-fec7876f4760",
     "showTitle": false,
     "title": ""
    }
   },
   "outputs": [],
   "source": [
    "save_dataframe(df, format_mode=\"delta\", table_name=tb_name, target_location=target_location)"
   ]
  },
  {
   "cell_type": "markdown",
   "metadata": {
    "application/vnd.databricks.v1+cell": {
     "cellMetadata": {
      "byteLimit": 2048000,
      "rowLimit": 10000
     },
     "inputWidgets": {},
     "nuid": "6b96b521-aee7-459d-85ae-a32a903a7d3e",
     "showTitle": false,
     "title": ""
    }
   },
   "source": [
    "\n",
    "## create delta table\n",
    "\n",
    "TODO: implementar UPSERT\n",
    "\n",
    "o upsert serve para não precisar reescrever todos os dados, mas aproveitar do Delta para fazer um MERGE, caso um registro antigo tenha uma nova versão e INSERT para os dados que são novos"
   ]
  },
  {
   "cell_type": "code",
   "execution_count": 0,
   "metadata": {
    "application/vnd.databricks.v1+cell": {
     "cellMetadata": {
      "byteLimit": 2048000,
      "rowLimit": 10000
     },
     "inputWidgets": {},
     "nuid": "8b2284f0-ce7b-4840-a390-74419b4f36d7",
     "showTitle": false,
     "title": ""
    }
   },
   "outputs": [],
   "source": [
    "create_table(table_name=tb_name, target_location=target_location)"
   ]
  },
  {
   "cell_type": "code",
   "execution_count": 0,
   "metadata": {
    "application/vnd.databricks.v1+cell": {
     "cellMetadata": {
      "byteLimit": 2048000,
      "rowLimit": 10000
     },
     "inputWidgets": {},
     "nuid": "6d750262-c18d-40f0-b749-4b56b374587a",
     "showTitle": false,
     "title": ""
    }
   },
   "outputs": [],
   "source": [
    "# exit para fechar a execução\n",
    "dbutils.notebook.exit(\"OK\")"
   ]
  },
  {
   "cell_type": "code",
   "execution_count": 0,
   "metadata": {
    "application/vnd.databricks.v1+cell": {
     "cellMetadata": {
      "byteLimit": 2048000,
      "implicitDf": true,
      "rowLimit": 10000
     },
     "inputWidgets": {},
     "nuid": "d3e058eb-d93a-4c2d-874f-f0020f7145ac",
     "showTitle": false,
     "title": ""
    }
   },
   "outputs": [],
   "source": [
    "%sql\n",
    "\n",
    "select * from gold.olist_orders limit 10"
   ]
  },
  {
   "cell_type": "code",
   "execution_count": 0,
   "metadata": {
    "application/vnd.databricks.v1+cell": {
     "cellMetadata": {
      "byteLimit": 2048000,
      "rowLimit": 10000
     },
     "inputWidgets": {},
     "nuid": "f45863da-2a6e-453f-bb3b-27ddf95d994c",
     "showTitle": false,
     "title": ""
    }
   },
   "outputs": [],
   "source": []
  }
 ],
 "metadata": {
  "application/vnd.databricks.v1+notebook": {
   "dashboards": [],
   "language": "python",
   "notebookMetadata": {
    "mostRecentlyExecutedCommandWithImplicitDF": {
     "commandId": 4240245637786510,
     "dataframes": [
      "_sqldf"
     ]
    },
    "pythonIndentUnit": 4
   },
   "notebookName": "gold_orders",
   "widgets": {}
  }
 },
 "nbformat": 4,
 "nbformat_minor": 0
}
