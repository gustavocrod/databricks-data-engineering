{
 "cells": [
  {
   "cell_type": "code",
   "execution_count": 0,
   "metadata": {
    "application/vnd.databricks.v1+cell": {
     "cellMetadata": {
      "byteLimit": 2048000,
      "rowLimit": 10000
     },
     "inputWidgets": {},
     "nuid": "b1710e7f-be45-4d2f-ae8b-3f46af28e5b4",
     "showTitle": false,
     "title": ""
    }
   },
   "outputs": [],
   "source": [
    "%run ../../_utils"
   ]
  },
  {
   "cell_type": "code",
   "execution_count": 0,
   "metadata": {
    "application/vnd.databricks.v1+cell": {
     "cellMetadata": {
      "byteLimit": 2048000,
      "rowLimit": 10000
     },
     "inputWidgets": {},
     "nuid": "e6b5a612-163f-403d-9149-793f110401d7",
     "showTitle": false,
     "title": ""
    }
   },
   "outputs": [],
   "source": [
    "from pyspark.sql.functions import when, to_date, col, dayofweek, date_format, month, year\n",
    "from pyspark.sql.types import StringType, BooleanType"
   ]
  },
  {
   "cell_type": "markdown",
   "metadata": {
    "application/vnd.databricks.v1+cell": {
     "cellMetadata": {
      "byteLimit": 2048000,
      "rowLimit": 10000
     },
     "inputWidgets": {},
     "nuid": "5f9235ec-ac0c-4f2c-962e-edc87f6e86a1",
     "showTitle": false,
     "title": ""
    }
   },
   "source": [
    "\n",
    "# Camada Silver\n",
    "\n",
    "Na camada silver, limpezas e ajustes em dados devem ser aplicados\n",
    "\n",
    "Caso seja possível, enriquecer os dados e extrair dados também deve acontecer nessa camada (minha definição)"
   ]
  },
  {
   "cell_type": "code",
   "execution_count": 0,
   "metadata": {
    "application/vnd.databricks.v1+cell": {
     "cellMetadata": {
      "byteLimit": 2048000,
      "rowLimit": 10000
     },
     "inputWidgets": {},
     "nuid": "3707d12a-f42c-46de-981f-f50750230449",
     "showTitle": false,
     "title": ""
    }
   },
   "outputs": [],
   "source": [
    "tb_name = \"silver.olist_orders\"\n",
    "dataset_location = \"olist_orders_dataset\"\n",
    "target_location = f\"dbfs:/FileStore/delta/silver/brazilian_ecommerce/{dataset_location}\""
   ]
  },
  {
   "cell_type": "markdown",
   "metadata": {
    "application/vnd.databricks.v1+cell": {
     "cellMetadata": {
      "byteLimit": 2048000,
      "rowLimit": 10000
     },
     "inputWidgets": {},
     "nuid": "5f3d216e-533d-437a-a6d6-9ab063d7c8cb",
     "showTitle": false,
     "title": ""
    }
   },
   "source": [
    "## 1 - Data ingestion"
   ]
  },
  {
   "cell_type": "code",
   "execution_count": 0,
   "metadata": {
    "application/vnd.databricks.v1+cell": {
     "cellMetadata": {
      "byteLimit": 2048000,
      "rowLimit": 10000
     },
     "inputWidgets": {},
     "nuid": "6af57b81-ca1d-4b16-9371-65dbf824d43d",
     "showTitle": false,
     "title": ""
    }
   },
   "outputs": [],
   "source": [
    "df = spark.read.table(\"bronze.olist_orders\") # leituira da delta table"
   ]
  },
  {
   "cell_type": "code",
   "execution_count": 0,
   "metadata": {
    "application/vnd.databricks.v1+cell": {
     "cellMetadata": {
      "byteLimit": 2048000,
      "rowLimit": 10000
     },
     "inputWidgets": {},
     "nuid": "68fddec1-e565-461e-a1f9-dcda13b9edbd",
     "showTitle": false,
     "title": ""
    }
   },
   "outputs": [],
   "source": [
    "df.printSchema()"
   ]
  },
  {
   "cell_type": "code",
   "execution_count": 0,
   "metadata": {
    "application/vnd.databricks.v1+cell": {
     "cellMetadata": {
      "byteLimit": 2048000,
      "rowLimit": 10000
     },
     "inputWidgets": {},
     "nuid": "6e2e1780-03e2-4dea-8671-082e240807e2",
     "showTitle": false,
     "title": ""
    }
   },
   "outputs": [],
   "source": [
    "display(df.take(10))"
   ]
  },
  {
   "cell_type": "markdown",
   "metadata": {
    "application/vnd.databricks.v1+cell": {
     "cellMetadata": {
      "byteLimit": 2048000,
      "rowLimit": 10000
     },
     "inputWidgets": {},
     "nuid": "9a17b7c1-8059-49b2-86a2-be2ac70acceb",
     "showTitle": false,
     "title": ""
    }
   },
   "source": [
    "\n",
    "## 2 - Data Munging\n",
    "\n",
    "Processo de limpeza e normalizações necessárias\n",
    "\n",
    "Como esses dados já são bem tratados, vamos apenas atentar para extração ou \"enriquecimento\" de dados.\n",
    "\n",
    "Inicialmente iremos carregar dados para agregações:\n",
    " - Campo mes/ano para calcular vendas mensais, trimestrais e etc\n",
    "\n",
    "Podemos nos focar no tempo decorrido de cada etapa, por exemplo:\n",
    " - tempo até a aprovação (em minutos ou segundos)\n",
    " - tempo de entrega (em dias)\n",
    " - tempo total da compra até a entrega (em dias)\n",
    " - atraso (divergencia entre tempo estimado e o entregue)\n",
    "\n",
    " Além disso, podemos trazer dados que auxiliem na analise do padrão de compra por data\n",
    "  - dia da semana\n",
    "  - é fim de semana?\n",
    "\n",
    "aqui poderia estressar e ir até para coisas do tipo, mas daí nao daria tempo no projeto:\n",
    "pandas_market_calendars\n",
    " - é feriado?\n",
    " - qual feriado\n",
    " - dias até o próximo feriado - para entender padrões de compra próximo a feriados"
   ]
  },
  {
   "cell_type": "markdown",
   "metadata": {
    "application/vnd.databricks.v1+cell": {
     "cellMetadata": {
      "byteLimit": 2048000,
      "rowLimit": 10000
     },
     "inputWidgets": {},
     "nuid": "ced45947-8679-4681-a7b3-54025f7a0f2a",
     "showTitle": false,
     "title": ""
    }
   },
   "source": [
    "### month_year\n",
    "\n",
    "mes/ano da venda\n",
    "\n",
    "Campos desse tipo ajudam em calculos vendas mensais"
   ]
  },
  {
   "cell_type": "code",
   "execution_count": 0,
   "metadata": {
    "application/vnd.databricks.v1+cell": {
     "cellMetadata": {
      "byteLimit": 2048000,
      "rowLimit": 10000
     },
     "inputWidgets": {},
     "nuid": "75ad3513-e4cf-4d54-b1e6-ee958905ddd1",
     "showTitle": false,
     "title": ""
    }
   },
   "outputs": [],
   "source": [
    "df = df.withColumns(\n",
    "    {\n",
    "        \"month_year\": date_format(\"order_purchase_timestamp\", \"MM-yyy\"),\n",
    "        \"order_purchase_month\": month(\"order_purchase_timestamp\"),\n",
    "        \"order_purchase_year\": year(\"order_purchase_timestamp\"),\n",
    "    }\n",
    ")"
   ]
  },
  {
   "cell_type": "markdown",
   "metadata": {
    "application/vnd.databricks.v1+cell": {
     "cellMetadata": {
      "byteLimit": 2048000,
      "rowLimit": 10000
     },
     "inputWidgets": {},
     "nuid": "80fd76ad-4148-4d56-99e5-1a335e7b6c0b",
     "showTitle": false,
     "title": ""
    }
   },
   "source": [
    "\n",
    "### minutes_to_approve\n",
    "\n",
    "Tempo decorrido até a aprovação do pedido\n",
    "\n",
    "time delta entre ``order_purchase_timestamp`` e ``order_approved_at``"
   ]
  },
  {
   "cell_type": "code",
   "execution_count": 0,
   "metadata": {
    "application/vnd.databricks.v1+cell": {
     "cellMetadata": {
      "byteLimit": 2048000,
      "rowLimit": 10000
     },
     "inputWidgets": {},
     "nuid": "ef435ea9-7c23-4a53-b5c5-d5fda0e51028",
     "showTitle": false,
     "title": ""
    }
   },
   "outputs": [],
   "source": [
    "df = get_diff_between_dates(\n",
    "    df,\n",
    "    col_1=\"order_approved_at\",\n",
    "    col_2=\"order_purchase_timestamp\",\n",
    "    delta_type=\"minutes\",\n",
    "    col_name=\"minutes_to_approve\",\n",
    ")"
   ]
  },
  {
   "cell_type": "markdown",
   "metadata": {
    "application/vnd.databricks.v1+cell": {
     "cellMetadata": {
      "byteLimit": 2048000,
      "rowLimit": 10000
     },
     "inputWidgets": {},
     "nuid": "cfcbb95f-b15c-4a11-b77e-d919e7a101ab",
     "showTitle": false,
     "title": ""
    }
   },
   "source": [
    "\n",
    "### days_to_deliver\n",
    "#### hours e days\n",
    "\n",
    "Tempo total da transportadora até chegar ao destinatário\n",
    "\n",
    "time delta entre ``order_delivered_carrier_date`` e ``order_delivered_customer_date``"
   ]
  },
  {
   "cell_type": "code",
   "execution_count": 0,
   "metadata": {
    "application/vnd.databricks.v1+cell": {
     "cellMetadata": {
      "byteLimit": 2048000,
      "rowLimit": 10000
     },
     "inputWidgets": {},
     "nuid": "7cb60db3-e285-4ff0-8677-6e67946a423c",
     "showTitle": false,
     "title": ""
    }
   },
   "outputs": [],
   "source": [
    "df = get_diff_between_dates(\n",
    "    df,\n",
    "    col_1=\"order_delivered_customer_date\",\n",
    "    col_2=\"order_delivered_carrier_date\",\n",
    "    delta_type=\"days\",\n",
    "    col_name=\"days_to_deliver\",\n",
    ")\n",
    "df = get_diff_between_dates(\n",
    "    df,\n",
    "    col_1=\"order_delivered_customer_date\",\n",
    "    col_2=\"order_delivered_carrier_date\",\n",
    "    delta_type=\"hours\",\n",
    "    col_name=\"hours_to_deliver\",\n",
    ")"
   ]
  },
  {
   "cell_type": "markdown",
   "metadata": {
    "application/vnd.databricks.v1+cell": {
     "cellMetadata": {
      "byteLimit": 2048000,
      "rowLimit": 10000
     },
     "inputWidgets": {},
     "nuid": "3ed57d66-a1e7-4e36-a451-847749722079",
     "showTitle": false,
     "title": ""
    }
   },
   "source": [
    "\n",
    "### total_elapsed_time\n",
    "\n",
    "Tempo total decorrido em que o cliente solicitou a compra e recebeu em sua casa"
   ]
  },
  {
   "cell_type": "code",
   "execution_count": 0,
   "metadata": {
    "application/vnd.databricks.v1+cell": {
     "cellMetadata": {
      "byteLimit": 2048000,
      "rowLimit": 10000
     },
     "inputWidgets": {},
     "nuid": "d477d472-bb53-479e-89e3-3958ada93c3b",
     "showTitle": false,
     "title": ""
    }
   },
   "outputs": [],
   "source": [
    "# extrair o tempo até a entrega (em dias)\n",
    "df = get_diff_between_dates(\n",
    "    df,\n",
    "    col_1=\"order_delivered_customer_date\",\n",
    "    col_2=\"order_purchase_timestamp\",\n",
    "    delta_type=\"days\",\n",
    "    col_name=\"total_elapsed_days\",\n",
    ")\n",
    "# extrair o tempo até a entrega (em horas)\n",
    "df = get_diff_between_dates(\n",
    "    df,\n",
    "    col_1=\"order_delivered_customer_date\",\n",
    "    col_2=\"order_purchase_timestamp\",\n",
    "    delta_type=\"hours\",\n",
    "    col_name=\"total_elapsed_hours\",\n",
    ")"
   ]
  },
  {
   "cell_type": "markdown",
   "metadata": {
    "application/vnd.databricks.v1+cell": {
     "cellMetadata": {
      "byteLimit": 2048000,
      "rowLimit": 10000
     },
     "inputWidgets": {},
     "nuid": "dcaaaefc-e2fa-4747-8b93-9f6fbed3cd45",
     "showTitle": false,
     "title": ""
    }
   },
   "source": [
    "\n",
    "### delay_time and overdue?\n",
    "\n",
    "``overdue``>: True or false - quando o tempo estimado for MENOR q o tempo da entrega, significa q é overdue (atraso)\n",
    "\n",
    "aqui como é uma base estática, não faz sentido adicionar o atrasado com sentido de \"entrega está atrasada?\", apenas para o sentido de se a \"entrega ocorreu com atraso\". \n",
    "E por isso talvez fizesse sentido adicionar teste no \"order_status\" para garantir comportamento ideal.[]\n",
    "\n",
    "\n",
    "``delay_time``>: estimado x real\n",
    "\n"
   ]
  },
  {
   "cell_type": "code",
   "execution_count": 0,
   "metadata": {
    "application/vnd.databricks.v1+cell": {
     "cellMetadata": {
      "byteLimit": 2048000,
      "rowLimit": 10000
     },
     "inputWidgets": {},
     "nuid": "dcf03445-4140-41ad-9a42-e6a4d7c90dbe",
     "showTitle": false,
     "title": ""
    }
   },
   "outputs": [],
   "source": [
    "df = df.withColumn(\n",
    "    \"overdue\",\n",
    "    when(\n",
    "        col(\"order_estimated_delivery_date\") < col(\"order_delivered_customer_date\"),\n",
    "        True,\n",
    "    ).otherwise(False),\n",
    ")\n",
    "\n",
    "# pegar os atrasados e informar o tempo de atraso (real - previsto)\n",
    "df = df.withColumn(\n",
    "    \"delay_time\",\n",
    "    when(\n",
    "        col(\"overdue\"),\n",
    "        col(\"order_delivered_customer_date\").cast(\"long\")\n",
    "        - col(\"order_estimated_delivery_date\").cast(\"long\"),\n",
    "    ).otherwise(0),\n",
    ")\n",
    "\n",
    "# converter para dias e para horas\n",
    "df = df.withColumn(\"delay_hours\", round(col(\"delay_time\") / 3600, 2))\n",
    "df = df.withColumn(\"delay_days\", round(col(\"delay_time\") / (24 * 3600), 2)).drop(\n",
    "    \"delay_time\"\n",
    ")"
   ]
  },
  {
   "cell_type": "markdown",
   "metadata": {
    "application/vnd.databricks.v1+cell": {
     "cellMetadata": {
      "byteLimit": 2048000,
      "rowLimit": 10000
     },
     "inputWidgets": {},
     "nuid": "9d4b7049-843e-44c3-a1ce-6d09f562c1c5",
     "showTitle": false,
     "title": ""
    }
   },
   "source": [
    "### day_of_week"
   ]
  },
  {
   "cell_type": "code",
   "execution_count": 0,
   "metadata": {
    "application/vnd.databricks.v1+cell": {
     "cellMetadata": {
      "byteLimit": 2048000,
      "rowLimit": 10000
     },
     "inputWidgets": {},
     "nuid": "1609f9fa-defc-4da9-ad93-d7b9024f059f",
     "showTitle": false,
     "title": ""
    }
   },
   "outputs": [],
   "source": [
    "df = df.withColumn(\"number_day_of_week\", dayofweek(to_date(col(\"order_purchase_timestamp\"))))\n",
    "\n",
    "# Traduzir os números do dia da semana para o português\n",
    "df = df.withColumn(\n",
    "    \"day_of_week\",\n",
    "    when(df[\"number_day_of_week\"] == 1, \"Domingo\")\n",
    "    .when(df[\"number_day_of_week\"] == 2, \"Segunda-feira\")\n",
    "    .when(df[\"number_day_of_week\"] == 3, \"Terça-feira\")\n",
    "    .when(df[\"number_day_of_week\"] == 4, \"Quarta-feira\")\n",
    "    .when(df[\"number_day_of_week\"] == 5, \"Quinta-feira\")\n",
    "    .when(df[\"number_day_of_week\"] == 6, \"Sexta-feira\")\n",
    "    .when(df[\"number_day_of_week\"] == 7, \"Sábado\"),\n",
    ")"
   ]
  },
  {
   "cell_type": "markdown",
   "metadata": {
    "application/vnd.databricks.v1+cell": {
     "cellMetadata": {
      "byteLimit": 2048000,
      "rowLimit": 10000
     },
     "inputWidgets": {},
     "nuid": "89d35159-7bcd-43a1-b280-f2a5d8a6dafd",
     "showTitle": false,
     "title": ""
    }
   },
   "source": [
    "\n",
    "### weekend?\n",
    "\n",
    "criar um campo para informar se a data de compra é em um fim de semana (ajuda também para verificar a logística)"
   ]
  },
  {
   "cell_type": "code",
   "execution_count": 0,
   "metadata": {
    "application/vnd.databricks.v1+cell": {
     "cellMetadata": {
      "byteLimit": 2048000,
      "rowLimit": 10000
     },
     "inputWidgets": {},
     "nuid": "3b59fa95-d05e-41f6-87d2-9672761809cc",
     "showTitle": false,
     "title": ""
    }
   },
   "outputs": [],
   "source": [
    "df = df.withColumn(\n",
    "    \"weekend\",\n",
    "    when(col(\"day_of_week\").isin([\"Sábado\", \"Domingo\"]), True).otherwise(False),\n",
    ")"
   ]
  },
  {
   "cell_type": "code",
   "execution_count": 0,
   "metadata": {
    "application/vnd.databricks.v1+cell": {
     "cellMetadata": {
      "byteLimit": 2048000,
      "rowLimit": 10000
     },
     "inputWidgets": {},
     "nuid": "5b3ccdf3-5227-41ca-91bc-01c5051e2e42",
     "showTitle": false,
     "title": ""
    }
   },
   "outputs": [],
   "source": [
    "display(df.take(10))"
   ]
  },
  {
   "cell_type": "markdown",
   "metadata": {
    "application/vnd.databricks.v1+cell": {
     "cellMetadata": {
      "byteLimit": 2048000,
      "rowLimit": 10000
     },
     "inputWidgets": {},
     "nuid": "893ea2f0-fa97-469a-9bb5-a7f7ee204b6f",
     "showTitle": false,
     "title": ""
    }
   },
   "source": [
    "\n",
    "belezura!\n",
    "\n",
    "Limpamos um cadim (nada), enriquecemos e transformamos algumas coisas e temos nosso dataset preparado para analises (até preditiva e prescritiva -> mas aí tem que fazer um pouco mais de cleanings e etc)"
   ]
  },
  {
   "cell_type": "markdown",
   "metadata": {
    "application/vnd.databricks.v1+cell": {
     "cellMetadata": {
      "byteLimit": 2048000,
      "rowLimit": 10000
     },
     "inputWidgets": {},
     "nuid": "179d0374-6a21-4114-ad59-ee923b817809",
     "showTitle": false,
     "title": ""
    }
   },
   "source": [
    "\n",
    "## Saving data"
   ]
  },
  {
   "cell_type": "code",
   "execution_count": 0,
   "metadata": {
    "application/vnd.databricks.v1+cell": {
     "cellMetadata": {
      "byteLimit": 2048000,
      "rowLimit": 10000
     },
     "inputWidgets": {},
     "nuid": "a82009ed-f82f-4587-b629-fec7876f4760",
     "showTitle": false,
     "title": ""
    }
   },
   "outputs": [],
   "source": [
    "save_dataframe(df, format_mode=\"delta\", table_name=tb_name, target_location=target_location)"
   ]
  },
  {
   "cell_type": "markdown",
   "metadata": {
    "application/vnd.databricks.v1+cell": {
     "cellMetadata": {
      "byteLimit": 2048000,
      "rowLimit": 10000
     },
     "inputWidgets": {},
     "nuid": "6b96b521-aee7-459d-85ae-a32a903a7d3e",
     "showTitle": false,
     "title": ""
    }
   },
   "source": [
    "\n",
    "## create delta table\n",
    "\n",
    "TODO: implementar UPSERT\n",
    "\n",
    "o upsert serve para não precisar reescrever todos os dados, mas aproveitar do Delta para fazer um MERGE, caso um registro antigo tenha uma nova versão e INSERT para os dados que são novos"
   ]
  },
  {
   "cell_type": "code",
   "execution_count": 0,
   "metadata": {
    "application/vnd.databricks.v1+cell": {
     "cellMetadata": {
      "byteLimit": 2048000,
      "rowLimit": 10000
     },
     "inputWidgets": {},
     "nuid": "8b2284f0-ce7b-4840-a390-74419b4f36d7",
     "showTitle": false,
     "title": ""
    }
   },
   "outputs": [],
   "source": [
    "create_table(table_name=tb_name, target_location=target_location)"
   ]
  },
  {
   "cell_type": "code",
   "execution_count": 0,
   "metadata": {
    "application/vnd.databricks.v1+cell": {
     "cellMetadata": {
      "byteLimit": 2048000,
      "rowLimit": 10000
     },
     "inputWidgets": {},
     "nuid": "6d750262-c18d-40f0-b749-4b56b374587a",
     "showTitle": false,
     "title": ""
    }
   },
   "outputs": [],
   "source": [
    "# exit para fechar a execução\n",
    "dbutils.notebook.exit(\"OK\")"
   ]
  },
  {
   "cell_type": "code",
   "execution_count": 0,
   "metadata": {
    "application/vnd.databricks.v1+cell": {
     "cellMetadata": {
      "byteLimit": 2048000,
      "implicitDf": true,
      "rowLimit": 10000
     },
     "inputWidgets": {},
     "nuid": "d3e058eb-d93a-4c2d-874f-f0020f7145ac",
     "showTitle": false,
     "title": ""
    }
   },
   "outputs": [],
   "source": [
    "%sql\n",
    "\n",
    "select * from silver.olist_orders limit 10"
   ]
  },
  {
   "cell_type": "code",
   "execution_count": 0,
   "metadata": {
    "application/vnd.databricks.v1+cell": {
     "cellMetadata": {
      "byteLimit": 2048000,
      "rowLimit": 10000
     },
     "inputWidgets": {},
     "nuid": "f45863da-2a6e-453f-bb3b-27ddf95d994c",
     "showTitle": false,
     "title": ""
    }
   },
   "outputs": [],
   "source": []
  }
 ],
 "metadata": {
  "application/vnd.databricks.v1+notebook": {
   "dashboards": [],
   "language": "python",
   "notebookMetadata": {
    "mostRecentlyExecutedCommandWithImplicitDF": {
     "commandId": 4240245637786454,
     "dataframes": [
      "_sqldf"
     ]
    },
    "pythonIndentUnit": 4
   },
   "notebookName": "silver_orders",
   "widgets": {}
  }
 },
 "nbformat": 4,
 "nbformat_minor": 0
}
